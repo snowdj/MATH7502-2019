{
 "cells": [
  {
   "cell_type": "markdown",
   "metadata": {},
   "source": [
    "# Week 8"
   ]
  },
  {
   "cell_type": "markdown",
   "metadata": {},
   "source": [
    "$$\n",
    "a_k = \\sum_{i=1}^k e_i\n",
    "$$"
   ]
  },
  {
   "cell_type": "code",
   "execution_count": 72,
   "metadata": {},
   "outputs": [
    {
     "data": {
      "text/plain": [
       "20"
      ]
     },
     "execution_count": 72,
     "metadata": {},
     "output_type": "execute_result"
    }
   ],
   "source": [
    "n = 20"
   ]
  },
  {
   "cell_type": "code",
   "execution_count": 73,
   "metadata": {},
   "outputs": [
    {
     "data": {
      "text/plain": [
       "20-element Array{Int64,1}:\n",
       " 1\n",
       " 1\n",
       " 1\n",
       " 1\n",
       " 1\n",
       " 1\n",
       " 1\n",
       " 1\n",
       " 0\n",
       " 0\n",
       " 0\n",
       " 0\n",
       " 0\n",
       " 0\n",
       " 0\n",
       " 0\n",
       " 0\n",
       " 0\n",
       " 0\n",
       " 0"
      ]
     },
     "execution_count": 73,
     "metadata": {},
     "output_type": "execute_result"
    }
   ],
   "source": [
    "a(k) = [i <=k ? 1 : 0 for i in 1:n]\n",
    "#vcat(ones(k),zeros(n-k))\n",
    "a(8)"
   ]
  },
  {
   "cell_type": "code",
   "execution_count": 1,
   "metadata": {},
   "outputs": [
    {
     "data": {
      "text/plain": [
       "Plots.PyPlotBackend()"
      ]
     },
     "execution_count": 1,
     "metadata": {},
     "output_type": "execute_result"
    }
   ],
   "source": [
    "using Flux.Data.MNIST #using Flux would be fine\n",
    "using Statistics\n",
    "using LinearAlgebra\n",
    "using Plots\n",
    "pyplot()"
   ]
  },
  {
   "cell_type": "code",
   "execution_count": 4,
   "metadata": {},
   "outputs": [
    {
     "data": {
      "text/plain": [
       "3×3 Array{Int64,2}:\n",
       " 2  1  2\n",
       " 3  2  2\n",
       " 1  1  3"
      ]
     },
     "execution_count": 4,
     "metadata": {},
     "output_type": "execute_result"
    }
   ],
   "source": [
    "A = rand([1,2,3],3,3)"
   ]
  },
  {
   "cell_type": "code",
   "execution_count": 5,
   "metadata": {},
   "outputs": [
    {
     "data": {
      "text/plain": [
       "3-element Array{Float64,1}:\n",
       " 5.449489742783179 \n",
       " 0.5505102572168223\n",
       " 0.9999999999999998"
      ]
     },
     "execution_count": 5,
     "metadata": {},
     "output_type": "execute_result"
    }
   ],
   "source": [
    "eigvals(A)"
   ]
  },
  {
   "cell_type": "code",
   "execution_count": 6,
   "metadata": {},
   "outputs": [
    {
     "data": {
      "text/plain": [
       "3-element Array{Float64,1}:\n",
       " 29.696938456699073  \n",
       "  0.30306154330093243\n",
       "  1.0000000000000022 "
      ]
     },
     "execution_count": 6,
     "metadata": {},
     "output_type": "execute_result"
    }
   ],
   "source": [
    "eigvals(A^2)"
   ]
  },
  {
   "cell_type": "code",
   "execution_count": 7,
   "metadata": {},
   "outputs": [
    {
     "data": {
      "text/plain": [
       "29.696938456699076"
      ]
     },
     "execution_count": 7,
     "metadata": {},
     "output_type": "execute_result"
    }
   ],
   "source": [
    "5.449489742783179^2"
   ]
  },
  {
   "cell_type": "code",
   "execution_count": 8,
   "metadata": {},
   "outputs": [
    {
     "data": {
      "text/plain": [
       "3.0"
      ]
     },
     "execution_count": 8,
     "metadata": {},
     "output_type": "execute_result"
    }
   ],
   "source": [
    "det(A)"
   ]
  },
  {
   "cell_type": "code",
   "execution_count": 9,
   "metadata": {},
   "outputs": [
    {
     "data": {
      "text/plain": [
       "3-element Array{Float64,1}:\n",
       " 1.8164965809277258 \n",
       " 0.18350341907227388\n",
       " 0.9999999999999997 "
      ]
     },
     "execution_count": 9,
     "metadata": {},
     "output_type": "execute_result"
    }
   ],
   "source": [
    "eigvals(inv(A))"
   ]
  },
  {
   "cell_type": "code",
   "execution_count": 10,
   "metadata": {},
   "outputs": [
    {
     "data": {
      "text/plain": [
       "0.18350341907227394"
      ]
     },
     "execution_count": 10,
     "metadata": {},
     "output_type": "execute_result"
    }
   ],
   "source": [
    "1/5.449489742783179"
   ]
  },
  {
   "cell_type": "markdown",
   "metadata": {},
   "source": [
    "Identity matrix does NOT have distinct eigenvalues"
   ]
  },
  {
   "cell_type": "code",
   "execution_count": 11,
   "metadata": {},
   "outputs": [
    {
     "data": {
      "text/plain": [
       "2-element Array{Float64,1}:\n",
       " 1.0\n",
       " 1.0"
      ]
     },
     "execution_count": 11,
     "metadata": {},
     "output_type": "execute_result"
    }
   ],
   "source": [
    "eigvals([1 0; 0 1])"
   ]
  },
  {
   "cell_type": "code",
   "execution_count": 12,
   "metadata": {},
   "outputs": [],
   "source": [
    "A = [1 1; 1 0];"
   ]
  },
  {
   "cell_type": "code",
   "execution_count": 13,
   "metadata": {},
   "outputs": [
    {
     "data": {
      "text/plain": [
       "2-element Array{Float64,1}:\n",
       " -0.6180339887498948\n",
       "  1.618033988749895 "
      ]
     },
     "execution_count": 13,
     "metadata": {},
     "output_type": "execute_result"
    }
   ],
   "source": [
    "eigvals(A)"
   ]
  },
  {
   "cell_type": "code",
   "execution_count": 14,
   "metadata": {},
   "outputs": [
    {
     "data": {
      "text/plain": [
       "2×2 Array{Float64,2}:\n",
       " 0.3  0.2\n",
       " 0.7  0.1"
      ]
     },
     "execution_count": 14,
     "metadata": {},
     "output_type": "execute_result"
    }
   ],
   "source": [
    "A = [0.3 0.2; 0.7 0.1]"
   ]
  },
  {
   "cell_type": "code",
   "execution_count": 15,
   "metadata": {},
   "outputs": [
    {
     "data": {
      "text/plain": [
       "2-element Array{Float64,1}:\n",
       "  0.5872983346207417 \n",
       " -0.18729833462074172"
      ]
     },
     "execution_count": 15,
     "metadata": {},
     "output_type": "execute_result"
    }
   ],
   "source": [
    "eigvals(A)"
   ]
  },
  {
   "cell_type": "code",
   "execution_count": 18,
   "metadata": {},
   "outputs": [
    {
     "data": {
      "text/plain": [
       "2-element Array{Int64,1}:\n",
       " 2\n",
       " 3"
      ]
     },
     "execution_count": 18,
     "metadata": {},
     "output_type": "execute_result"
    }
   ],
   "source": [
    "x0 = [2,3]"
   ]
  },
  {
   "cell_type": "code",
   "execution_count": 19,
   "metadata": {},
   "outputs": [
    {
     "data": {
      "text/plain": [
       "2-element Array{Float64,1}:\n",
       " 1.2000000000000002\n",
       " 1.7               "
      ]
     },
     "execution_count": 19,
     "metadata": {},
     "output_type": "execute_result"
    }
   ],
   "source": [
    "A*x0"
   ]
  },
  {
   "cell_type": "code",
   "execution_count": 20,
   "metadata": {},
   "outputs": [
    {
     "data": {
      "text/plain": [
       "2-element Array{Float64,1}:\n",
       " 0.7               \n",
       " 1.0099999999999998"
      ]
     },
     "execution_count": 20,
     "metadata": {},
     "output_type": "execute_result"
    }
   ],
   "source": [
    "A^2*x0"
   ]
  },
  {
   "cell_type": "code",
   "execution_count": 21,
   "metadata": {},
   "outputs": [
    {
     "data": {
      "text/plain": [
       "2-element Array{Float64,1}:\n",
       " 0.009923875799999997\n",
       " 0.014255571699999997"
      ]
     },
     "execution_count": 21,
     "metadata": {},
     "output_type": "execute_result"
    }
   ],
   "source": [
    "A^10*x0"
   ]
  },
  {
   "cell_type": "code",
   "execution_count": 22,
   "metadata": {},
   "outputs": [
    {
     "data": {
      "text/plain": [
       "2×2 Array{Int64,2}:\n",
       " 2   4\n",
       " 7  14"
      ]
     },
     "execution_count": 22,
     "metadata": {},
     "output_type": "execute_result"
    }
   ],
   "source": [
    "A = [ 2 4; 7 14]"
   ]
  },
  {
   "cell_type": "code",
   "execution_count": 23,
   "metadata": {},
   "outputs": [
    {
     "data": {
      "text/plain": [
       "1"
      ]
     },
     "execution_count": 23,
     "metadata": {},
     "output_type": "execute_result"
    }
   ],
   "source": [
    "rank(A)"
   ]
  },
  {
   "cell_type": "code",
   "execution_count": 24,
   "metadata": {},
   "outputs": [
    {
     "data": {
      "text/plain": [
       "2-element Array{Float64,1}:\n",
       "  0.0\n",
       " 16.0"
      ]
     },
     "execution_count": 24,
     "metadata": {},
     "output_type": "execute_result"
    }
   ],
   "source": [
    "eigvals(A)"
   ]
  },
  {
   "cell_type": "code",
   "execution_count": 26,
   "metadata": {},
   "outputs": [
    {
     "data": {
      "text/plain": [
       "100"
      ]
     },
     "execution_count": 26,
     "metadata": {},
     "output_type": "execute_result"
    }
   ],
   "source": [
    "A = rand(1:5,100,100);\n",
    "rank(A)"
   ]
  },
  {
   "cell_type": "code",
   "execution_count": 28,
   "metadata": {},
   "outputs": [
    {
     "data": {
      "text/plain": [
       "100-element Array{Complex{Float64},1}:\n",
       "   301.4623770476811 + 0.0im               \n",
       " -13.557228222093805 + 4.18227876699383im  \n",
       " -13.557228222093805 - 4.18227876699383im  \n",
       " -13.329597463370366 + 2.236501630521267im \n",
       " -13.329597463370366 - 2.236501630521267im \n",
       "  10.985224592071757 + 8.282369458884974im \n",
       "  10.985224592071757 - 8.282369458884974im \n",
       "   4.363949013137866 + 13.004364997566666im\n",
       "   4.363949013137866 - 13.004364997566666im\n",
       "  -6.757611510023943 + 11.41206605836295im \n",
       "  -6.757611510023943 - 11.41206605836295im \n",
       " -12.371921944554412 + 0.0im               \n",
       " -10.136074965197102 + 8.029821467737145im \n",
       "                     ⋮                     \n",
       "  3.1188733294817643 + 2.0384209238593707im\n",
       "  3.1188733294817643 - 2.0384209238593707im\n",
       "  0.5599053629633332 + 3.4891886863581147im\n",
       "  0.5599053629633332 - 3.4891886863581147im\n",
       " -1.5569633205093079 + 3.8849170800442443im\n",
       " -1.5569633205093079 - 3.8849170800442443im\n",
       "    5.63082011959256 + 0.0im               \n",
       " -2.7635371874853885 + 0.0im               \n",
       "   4.930522721761934 + 0.0im               \n",
       " 0.34951735844163706 + 0.0im               \n",
       " -0.5584034896447719 + 0.0im               \n",
       "  2.3410291315261853 + 0.0im               "
      ]
     },
     "execution_count": 28,
     "metadata": {},
     "output_type": "execute_result"
    }
   ],
   "source": [
    "ev = eigvals(A)"
   ]
  },
  {
   "cell_type": "code",
   "execution_count": 30,
   "metadata": {},
   "outputs": [
    {
     "data": {
      "text/plain": [
       "Complex{Float64}"
      ]
     },
     "execution_count": 30,
     "metadata": {},
     "output_type": "execute_result"
    }
   ],
   "source": [
    "typeof(ev[1])"
   ]
  },
  {
   "cell_type": "code",
   "execution_count": 33,
   "metadata": {},
   "outputs": [
    {
     "data": {
      "text/plain": [
       "0.0"
      ]
     },
     "execution_count": 33,
     "metadata": {},
     "output_type": "execute_result"
    }
   ],
   "source": [
    "imag(ev[1])"
   ]
  },
  {
   "cell_type": "code",
   "execution_count": 35,
   "metadata": {},
   "outputs": [
    {
     "data": {
      "text/plain": [
       "301.4623770476811"
      ]
     },
     "execution_count": 35,
     "metadata": {},
     "output_type": "execute_result"
    }
   ],
   "source": [
    "real(ev[1])"
   ]
  },
  {
   "cell_type": "code",
   "execution_count": 36,
   "metadata": {},
   "outputs": [
    {
     "data": {
      "text/plain": [
       "4.18227876699383"
      ]
     },
     "execution_count": 36,
     "metadata": {},
     "output_type": "execute_result"
    }
   ],
   "source": [
    "imag(ev[2])"
   ]
  },
  {
   "cell_type": "code",
   "execution_count": 37,
   "metadata": {},
   "outputs": [
    {
     "data": {
      "text/plain": [
       "-13.557228222093805"
      ]
     },
     "execution_count": 37,
     "metadata": {},
     "output_type": "execute_result"
    }
   ],
   "source": [
    "real(ev[2])"
   ]
  },
  {
   "cell_type": "code",
   "execution_count": 38,
   "metadata": {},
   "outputs": [
    {
     "data": {
      "text/plain": [
       "14.187666924155787"
      ]
     },
     "execution_count": 38,
     "metadata": {},
     "output_type": "execute_result"
    }
   ],
   "source": [
    "abs(ev[2])"
   ]
  },
  {
   "cell_type": "code",
   "execution_count": 39,
   "metadata": {},
   "outputs": [
    {
     "data": {
      "text/plain": [
       "14.187666924155788"
      ]
     },
     "execution_count": 39,
     "metadata": {},
     "output_type": "execute_result"
    }
   ],
   "source": [
    "sqrt(real(ev[2])^2 + imag(ev[2])^2)"
   ]
  },
  {
   "cell_type": "code",
   "execution_count": 40,
   "metadata": {},
   "outputs": [
    {
     "data": {
      "image/png": "[encoded data removed]"
     },
     "execution_count": 40,
     "metadata": {},
     "output_type": "execute_result"
    }
   ],
   "source": [
    "scatter(real.(ev),imag.(ev),legend=false)"
   ]
  },
  {
   "cell_type": "code",
   "execution_count": 43,
   "metadata": {},
   "outputs": [
    {
     "data": {
      "image/png": "[encoded data removed]"
     },
     "execution_count": 43,
     "metadata": {},
     "output_type": "execute_result"
    }
   ],
   "source": [
    "histogram(abs.(ev[2:100]),bins=10)"
   ]
  },
  {
   "cell_type": "markdown",
   "metadata": {},
   "source": [
    "## MNIST example"
   ]
  },
  {
   "cell_type": "code",
   "execution_count": 185,
   "metadata": {},
   "outputs": [
    {
     "data": {
      "image/svg+xml": [
       "<?xml version=\"1.0\" encoding=\"UTF-8\"?>\n",
       "<!DOCTYPE svg PUBLIC \"-//W3C//DTD SVG 1.1//EN\"\n",
       " \"http://www.w3.org/Graphics/SVG/1.1/DTD/svg11.dtd\">\n",
       "<svg xmlns=\"http://www.w3.org/2000/svg\" version=\"1.1\"\n",
       "     width=\"150.0mm\" height=\"150.0mm\"\n",
       "     shape-rendering=\"crispEdges\">\n",
       "<rect x=\"0.0mm\" y=\"0.0mm\"\n",
       "      width=\"4.357142857142857mm\" height=\"4.357142857142857mm\"\n",
       "      fill=\"#000000\" stroke=\"none\" />\n",
       "<rect x=\"5.357142857142857mm\" y=\"0.0mm\"\n",
       "      width=\"4.357142857142857mm\" height=\"4.357142857142857mm\"\n",
       "      fill=\"#000000\" stroke=\"none\" />\n",
       "<rect x=\"10.714285714285714mm\" y=\"0.0mm\"\n",
       "      width=\"4.357142857142857mm\" height=\"4.357142857142857mm\"\n",
       "      fill=\"#000000\" stroke=\"none\" />\n",
       "<rect x=\"16.07142857142857mm\" y=\"0.0mm\"\n",
       "      width=\"4.357142857142857mm\" height=\"4.357142857142857mm\"\n",
       "      fill=\"#000000\" stroke=\"none\" />\n",
       "<rect x=\"21.428571428571427mm\" y=\"0.0mm\"\n",
       "      width=\"4.357142857142857mm\" height=\"4.357142857142857mm\"\n",
       "      fill=\"#000000\" stroke=\"none\" />\n",
       "<rect x=\"26.785714285714285mm\" y=\"0.0mm\"\n",
       "      width=\"4.357142857142857mm\" height=\"4.357142857142857mm\"\n",
       "      fill=\"#000000\" stroke=\"none\" />\n",
       "<rect x=\"32.14285714285714mm\" y=\"0.0mm\"\n",
       "      width=\"4.357142857142857mm\" height=\"4.357142857142857mm\"\n",
       "      fill=\"#000000\" stroke=\"none\" />\n",
       "<rect x=\"37.5mm\" y=\"0.0mm\"\n",
       "      width=\"4.357142857142857mm\" height=\"4.357142857142857mm\"\n",
       "      fill=\"#000000\" stroke=\"none\" />\n",
       "<rect x=\"42.857142857142854mm\" y=\"0.0mm\"\n",
       "      width=\"4.357142857142857mm\" height=\"4.357142857142857mm\"\n",
       "      fill=\"#000000\" stroke=\"none\" />\n",
       "<rect x=\"48.21428571428571mm\" y=\"0.0mm\"\n",
       "      width=\"4.357142857142857mm\" height=\"4.357142857142857mm\"\n",
       "      fill=\"#000000\" stroke=\"none\" />\n",
       "<rect x=\"53.57142857142857mm\" y=\"0.0mm\"\n",
       "      width=\"4.357142857142857mm\" height=\"4.357142857142857mm\"\n",
       "      fill=\"#000000\" stroke=\"none\" />\n",
       "<rect x=\"58.92857142857142mm\" y=\"0.0mm\"\n",
       "      width=\"4.357142857142857mm\" height=\"4.357142857142857mm\"\n",
       "      fill=\"#000000\" stroke=\"none\" />\n",
       "<rect x=\"64.28571428571428mm\" y=\"0.0mm\"\n",
       "      width=\"4.357142857142857mm\" height=\"4.357142857142857mm\"\n",
       "      fill=\"#000000\" stroke=\"none\" />\n",
       "<rect x=\"69.64285714285714mm\" y=\"0.0mm\"\n",
       "      width=\"4.357142857142857mm\" height=\"4.357142857142857mm\"\n",
       "      fill=\"#000000\" stroke=\"none\" />\n",
       "<rect x=\"75.0mm\" y=\"0.0mm\"\n",
       "      width=\"4.357142857142857mm\" height=\"4.357142857142857mm\"\n",
       "      fill=\"#000000\" stroke=\"none\" />\n",
       "<rect x=\"80.35714285714285mm\" y=\"0.0mm\"\n",
       "      width=\"4.357142857142857mm\" height=\"4.357142857142857mm\"\n",
       "      fill=\"#000000\" stroke=\"none\" />\n",
       "<rect x=\"85.71428571428571mm\" y=\"0.0mm\"\n",
       "      width=\"4.357142857142857mm\" height=\"4.357142857142857mm\"\n",
       "      fill=\"#000000\" stroke=\"none\" />\n",
       "<rect x=\"91.07142857142857mm\" y=\"0.0mm\"\n",
       "      width=\"4.357142857142857mm\" height=\"4.357142857142857mm\"\n",
       "      fill=\"#000000\" stroke=\"none\" />\n",
       "<rect x=\"96.42857142857142mm\" y=\"0.0mm\"\n",
       "      width=\"4.357142857142857mm\" height=\"4.357142857142857mm\"\n",
       "      fill=\"#000000\" stroke=\"none\" />\n",
       "<rect x=\"101.78571428571428mm\" y=\"0.0mm\"\n",
       "      width=\"4.357142857142857mm\" height=\"4.357142857142857mm\"\n",
       "      fill=\"#000000\" stroke=\"none\" />\n",
       "<rect x=\"107.14285714285714mm\" y=\"0.0mm\"\n",
       "      width=\"4.357142857142857mm\" height=\"4.357142857142857mm\"\n",
       "      fill=\"#000000\" stroke=\"none\" />\n",
       "<rect x=\"112.49999999999999mm\" y=\"0.0mm\"\n",
       "      width=\"4.357142857142857mm\" height=\"4.357142857142857mm\"\n",
       "      fill=\"#000000\" stroke=\"none\" />\n",
       "<rect x=\"117.85714285714285mm\" y=\"0.0mm\"\n",
       "      width=\"4.357142857142857mm\" height=\"4.357142857142857mm\"\n",
       "      fill=\"#000000\" stroke=\"none\" />\n",
       "<rect x=\"123.21428571428571mm\" y=\"0.0mm\"\n",
       "      width=\"4.357142857142857mm\" height=\"4.357142857142857mm\"\n",
       "      fill=\"#000000\" stroke=\"none\" />\n",
       "<rect x=\"128.57142857142856mm\" y=\"0.0mm\"\n",
       "      width=\"4.357142857142857mm\" height=\"4.357142857142857mm\"\n",
       "      fill=\"#000000\" stroke=\"none\" />\n",
       "<rect x=\"133.92857142857142mm\" y=\"0.0mm\"\n",
       "      width=\"4.357142857142857mm\" height=\"4.357142857142857mm\"\n",
       "      fill=\"#000000\" stroke=\"none\" />\n",
       "<rect x=\"139.28571428571428mm\" y=\"0.0mm\"\n",
       "      width=\"4.357142857142857mm\" height=\"4.357142857142857mm\"\n",
       "      fill=\"#000000\" stroke=\"none\" />\n",
       "<rect x=\"144.64285714285714mm\" y=\"0.0mm\"\n",
       "      width=\"4.357142857142857mm\" height=\"4.357142857142857mm\"\n",
       "      fill=\"#000000\" stroke=\"none\" />\n",
       "<rect x=\"0.0mm\" y=\"5.357142857142857mm\"\n",
       "      width=\"4.357142857142857mm\" height=\"4.357142857142857mm\"\n",
       "      fill=\"#000000\" stroke=\"none\" />\n",
       "<rect x=\"5.357142857142857mm\" y=\"5.357142857142857mm\"\n",
       "      width=\"4.357142857142857mm\" height=\"4.357142857142857mm\"\n",
       "      fill=\"#000000\" stroke=\"none\" />\n",
       "<rect x=\"10.714285714285714mm\" y=\"5.357142857142857mm\"\n",
       "      width=\"4.357142857142857mm\" height=\"4.357142857142857mm\"\n",
       "      fill=\"#000000\" stroke=\"none\" />\n",
       "<rect x=\"16.07142857142857mm\" y=\"5.357142857142857mm\"\n",
       "      width=\"4.357142857142857mm\" height=\"4.357142857142857mm\"\n",
       "      fill=\"#000000\" stroke=\"none\" />\n",
       "<rect x=\"21.428571428571427mm\" y=\"5.357142857142857mm\"\n",
       "      width=\"4.357142857142857mm\" height=\"4.357142857142857mm\"\n",
       "      fill=\"#000000\" stroke=\"none\" />\n",
       "<rect x=\"26.785714285714285mm\" y=\"5.357142857142857mm\"\n",
       "      width=\"4.357142857142857mm\" height=\"4.357142857142857mm\"\n",
       "      fill=\"#000000\" stroke=\"none\" />\n",
       "<rect x=\"32.14285714285714mm\" y=\"5.357142857142857mm\"\n",
       "      width=\"4.357142857142857mm\" height=\"4.357142857142857mm\"\n",
       "      fill=\"#000000\" stroke=\"none\" />\n",
       "<rect x=\"37.5mm\" y=\"5.357142857142857mm\"\n",
       "      width=\"4.357142857142857mm\" height=\"4.357142857142857mm\"\n",
       "      fill=\"#000000\" stroke=\"none\" />\n",
       "<rect x=\"42.857142857142854mm\" y=\"5.357142857142857mm\"\n",
       "      width=\"4.357142857142857mm\" height=\"4.357142857142857mm\"\n",
       "      fill=\"#000000\" stroke=\"none\" />\n",
       "<rect x=\"48.21428571428571mm\" y=\"5.357142857142857mm\"\n",
       "      width=\"4.357142857142857mm\" height=\"4.357142857142857mm\"\n",
       "      fill=\"#000000\" stroke=\"none\" />\n",
       "<rect x=\"53.57142857142857mm\" y=\"5.357142857142857mm\"\n",
       "      width=\"4.357142857142857mm\" height=\"4.357142857142857mm\"\n",
       "      fill=\"#000000\" stroke=\"none\" />\n",
       "<rect x=\"58.92857142857142mm\" y=\"5.357142857142857mm\"\n",
       "      width=\"4.357142857142857mm\" height=\"4.357142857142857mm\"\n",
       "      fill=\"#000000\" stroke=\"none\" />\n",
       "<rect x=\"64.28571428571428mm\" y=\"5.357142857142857mm\"\n",
       "      width=\"4.357142857142857mm\" height=\"4.357142857142857mm\"\n",
       "      fill=\"#000000\" stroke=\"none\" />\n",
       "<rect x=\"69.64285714285714mm\" y=\"5.357142857142857mm\"\n",
       "      width=\"4.357142857142857mm\" height=\"4.357142857142857mm\"\n",
       "      fill=\"#000000\" stroke=\"none\" />\n",
       "<rect x=\"75.0mm\" y=\"5.357142857142857mm\"\n",
       "      width=\"4.357142857142857mm\" height=\"4.357142857142857mm\"\n",
       "      fill=\"#000000\" stroke=\"none\" />\n",
       "<rect x=\"80.35714285714285mm\" y=\"5.357142857142857mm\"\n",
       "      width=\"4.357142857142857mm\" height=\"4.357142857142857mm\"\n",
       "      fill=\"#000000\" stroke=\"none\" />\n",
       "<rect x=\"85.71428571428571mm\" y=\"5.357142857142857mm\"\n",
       "      width=\"4.357142857142857mm\" height=\"4.357142857142857mm\"\n",
       "      fill=\"#000000\" stroke=\"none\" />\n",
       "<rect x=\"91.07142857142857mm\" y=\"5.357142857142857mm\"\n",
       "      width=\"4.357142857142857mm\" height=\"4.357142857142857mm\"\n",
       "      fill=\"#000000\" stroke=\"none\" />\n",
       "<rect x=\"96.42857142857142mm\" y=\"5.357142857142857mm\"\n",
       "      width=\"4.357142857142857mm\" height=\"4.357142857142857mm\"\n",
       "      fill=\"#000000\" stroke=\"none\" />\n",
       "<rect x=\"101.78571428571428mm\" y=\"5.357142857142857mm\"\n",
       "      width=\"4.357142857142857mm\" height=\"4.357142857142857mm\"\n",
       "      fill=\"#000000\" stroke=\"none\" />\n",
       "<rect x=\"107.14285714285714mm\" y=\"5.357142857142857mm\"\n",
       "      width=\"4.357142857142857mm\" height=\"4.357142857142857mm\"\n",
       "      fill=\"#000000\" stroke=\"none\" />\n",
       "<rect x=\"112.49999999999999mm\" y=\"5.357142857142857mm\"\n",
       "      width=\"4.357142857142857mm\" height=\"4.357142857142857mm\"\n",
       "      fill=\"#000000\" stroke=\"none\" />\n",
       "<rect x=\"117.85714285714285mm\" y=\"5.357142857142857mm\"\n",
       "      width=\"4.357142857142857mm\" height=\"4.357142857142857mm\"\n",
       "      fill=\"#000000\" stroke=\"none\" />\n",
       "<rect x=\"123.21428571428571mm\" y=\"5.357142857142857mm\"\n",
       "      width=\"4.357142857142857mm\" height=\"4.357142857142857mm\"\n",
       "      fill=\"#000000\" stroke=\"none\" />\n",
       "<rect x=\"128.57142857142856mm\" y=\"5.357142857142857mm\"\n",
       "      width=\"4.357142857142857mm\" height=\"4.357142857142857mm\"\n",
       "      fill=\"#000000\" stroke=\"none\" />\n",
       "<rect x=\"133.92857142857142mm\" y=\"5.357142857142857mm\"\n",
       "      width=\"4.357142857142857mm\" height=\"4.357142857142857mm\"\n",
       "      fill=\"#000000\" stroke=\"none\" />\n",
       "<rect x=\"139.28571428571428mm\" y=\"5.357142857142857mm\"\n",
       "      width=\"4.357142857142857mm\" height=\"4.357142857142857mm\"\n",
       "      fill=\"#000000\" stroke=\"none\" />\n",
       "<rect x=\"144.64285714285714mm\" y=\"5.357142857142857mm\"\n",
       "      width=\"4.357142857142857mm\" height=\"4.357142857142857mm\"\n",
       "      fill=\"#000000\" stroke=\"none\" />\n",
       "<rect x=\"0.0mm\" y=\"10.714285714285714mm\"\n",
       "      width=\"4.357142857142857mm\" height=\"4.357142857142857mm\"\n",
       "      fill=\"#000000\" stroke=\"none\" />\n",
       "<rect x=\"5.357142857142857mm\" y=\"10.714285714285714mm\"\n",
       "      width=\"4.357142857142857mm\" height=\"4.357142857142857mm\"\n",
       "      fill=\"#000000\" stroke=\"none\" />\n",
       "<rect x=\"10.714285714285714mm\" y=\"10.714285714285714mm\"\n",
       "      width=\"4.357142857142857mm\" height=\"4.357142857142857mm\"\n",
       "      fill=\"#000000\" stroke=\"none\" />\n",
       "<rect x=\"16.07142857142857mm\" y=\"10.714285714285714mm\"\n",
       "      width=\"4.357142857142857mm\" height=\"4.357142857142857mm\"\n",
       "      fill=\"#000000\" stroke=\"none\" />\n",
       "<rect x=\"21.428571428571427mm\" y=\"10.714285714285714mm\"\n",
       "      width=\"4.357142857142857mm\" height=\"4.357142857142857mm\"\n",
       "      fill=\"#000000\" stroke=\"none\" />\n",
       "<rect x=\"26.785714285714285mm\" y=\"10.714285714285714mm\"\n",
       "      width=\"4.357142857142857mm\" height=\"4.357142857142857mm\"\n",
       "      fill=\"#000000\" stroke=\"none\" />\n",
       "<rect x=\"32.14285714285714mm\" y=\"10.714285714285714mm\"\n",
       "      width=\"4.357142857142857mm\" height=\"4.357142857142857mm\"\n",
       "      fill=\"#000000\" stroke=\"none\" />\n",
       "<rect x=\"37.5mm\" y=\"10.714285714285714mm\"\n",
       "      width=\"4.357142857142857mm\" height=\"4.357142857142857mm\"\n",
       "      fill=\"#000000\" stroke=\"none\" />\n",
       "<rect x=\"42.857142857142854mm\" y=\"10.714285714285714mm\"\n",
       "      width=\"4.357142857142857mm\" height=\"4.357142857142857mm\"\n",
       "      fill=\"#000000\" stroke=\"none\" />\n",
       "<rect x=\"48.21428571428571mm\" y=\"10.714285714285714mm\"\n",
       "      width=\"4.357142857142857mm\" height=\"4.357142857142857mm\"\n",
       "      fill=\"#000000\" stroke=\"none\" />\n",
       "<rect x=\"53.57142857142857mm\" y=\"10.714285714285714mm\"\n",
       "      width=\"4.357142857142857mm\" height=\"4.357142857142857mm\"\n",
       "      fill=\"#000000\" stroke=\"none\" />\n",
       "<rect x=\"58.92857142857142mm\" y=\"10.714285714285714mm\"\n",
       "      width=\"4.357142857142857mm\" height=\"4.357142857142857mm\"\n",
       "      fill=\"#000000\" stroke=\"none\" />\n",
       "<rect x=\"64.28571428571428mm\" y=\"10.714285714285714mm\"\n",
       "      width=\"4.357142857142857mm\" height=\"4.357142857142857mm\"\n",
       "      fill=\"#000000\" stroke=\"none\" />\n",
       "<rect x=\"69.64285714285714mm\" y=\"10.714285714285714mm\"\n",
       "      width=\"4.357142857142857mm\" height=\"4.357142857142857mm\"\n",
       "      fill=\"#000000\" stroke=\"none\" />\n",
       "<rect x=\"75.0mm\" y=\"10.714285714285714mm\"\n",
       "      width=\"4.357142857142857mm\" height=\"4.357142857142857mm\"\n",
       "      fill=\"#000000\" stroke=\"none\" />\n",
       "<rect x=\"80.35714285714285mm\" y=\"10.714285714285714mm\"\n",
       "      width=\"4.357142857142857mm\" height=\"4.357142857142857mm\"\n",
       "      fill=\"#000000\" stroke=\"none\" />\n",
       "<rect x=\"85.71428571428571mm\" y=\"10.714285714285714mm\"\n",
       "      width=\"4.357142857142857mm\" height=\"4.357142857142857mm\"\n",
       "      fill=\"#000000\" stroke=\"none\" />\n",
       "<rect x=\"91.07142857142857mm\" y=\"10.714285714285714mm\"\n",
       "      width=\"4.357142857142857mm\" height=\"4.357142857142857mm\"\n",
       "      fill=\"#000000\" stroke=\"none\" />\n",
       "<rect x=\"96.42857142857142mm\" y=\"10.714285714285714mm\"\n",
       "      width=\"4.357142857142857mm\" height=\"4.357142857142857mm\"\n",
       "      fill=\"#000000\" stroke=\"none\" />\n",
       "<rect x=\"101.78571428571428mm\" y=\"10.714285714285714mm\"\n",
       "      width=\"4.357142857142857mm\" height=\"4.357142857142857mm\"\n",
       "      fill=\"#000000\" stroke=\"none\" />\n",
       "<rect x=\"107.14285714285714mm\" y=\"10.714285714285714mm\"\n",
       "      width=\"4.357142857142857mm\" height=\"4.357142857142857mm\"\n",
       "      fill=\"#000000\" stroke=\"none\" />\n",
       "<rect x=\"112.49999999999999mm\" y=\"10.714285714285714mm\"\n",
       "      width=\"4.357142857142857mm\" height=\"4.357142857142857mm\"\n",
       "      fill=\"#000000\" stroke=\"none\" />\n",
       "<rect x=\"117.85714285714285mm\" y=\"10.714285714285714mm\"\n",
       "      width=\"4.357142857142857mm\" height=\"4.357142857142857mm\"\n",
       "      fill=\"#000000\" stroke=\"none\" />\n",
       "<rect x=\"123.21428571428571mm\" y=\"10.714285714285714mm\"\n",
       "      width=\"4.357142857142857mm\" height=\"4.357142857142857mm\"\n",
       "      fill=\"#000000\" stroke=\"none\" />\n",
       "<rect x=\"128.57142857142856mm\" y=\"10.714285714285714mm\"\n",
       "      width=\"4.357142857142857mm\" height=\"4.357142857142857mm\"\n",
       "      fill=\"#000000\" stroke=\"none\" />\n",
       "<rect x=\"133.92857142857142mm\" y=\"10.714285714285714mm\"\n",
       "      width=\"4.357142857142857mm\" height=\"4.357142857142857mm\"\n",
       "      fill=\"#000000\" stroke=\"none\" />\n",
       "<rect x=\"139.28571428571428mm\" y=\"10.714285714285714mm\"\n",
       "      width=\"4.357142857142857mm\" height=\"4.357142857142857mm\"\n",
       "      fill=\"#000000\" stroke=\"none\" />\n",
       "<rect x=\"144.64285714285714mm\" y=\"10.714285714285714mm\"\n",
       "      width=\"4.357142857142857mm\" height=\"4.357142857142857mm\"\n",
       "      fill=\"#000000\" stroke=\"none\" />\n",
       "<rect x=\"0.0mm\" y=\"16.07142857142857mm\"\n",
       "      width=\"4.357142857142857mm\" height=\"4.357142857142857mm\"\n",
       "      fill=\"#000000\" stroke=\"none\" />\n",
       "<rect x=\"5.357142857142857mm\" y=\"16.07142857142857mm\"\n",
       "      width=\"4.357142857142857mm\" height=\"4.357142857142857mm\"\n",
       "      fill=\"#000000\" stroke=\"none\" />\n",
       "<rect x=\"10.714285714285714mm\" y=\"16.07142857142857mm\"\n",
       "      width=\"4.357142857142857mm\" height=\"4.357142857142857mm\"\n",
       "      fill=\"#000000\" stroke=\"none\" />\n",
       "<rect x=\"16.07142857142857mm\" y=\"16.07142857142857mm\"\n",
       "      width=\"4.357142857142857mm\" height=\"4.357142857142857mm\"\n",
       "      fill=\"#000000\" stroke=\"none\" />\n",
       "<rect x=\"21.428571428571427mm\" y=\"16.07142857142857mm\"\n",
       "      width=\"4.357142857142857mm\" height=\"4.357142857142857mm\"\n",
       "      fill=\"#000000\" stroke=\"none\" />\n",
       "<rect x=\"26.785714285714285mm\" y=\"16.07142857142857mm\"\n",
       "      width=\"4.357142857142857mm\" height=\"4.357142857142857mm\"\n",
       "      fill=\"#000000\" stroke=\"none\" />\n",
       "<rect x=\"32.14285714285714mm\" y=\"16.07142857142857mm\"\n",
       "      width=\"4.357142857142857mm\" height=\"4.357142857142857mm\"\n",
       "      fill=\"#000000\" stroke=\"none\" />\n",
       "<rect x=\"37.5mm\" y=\"16.07142857142857mm\"\n",
       "      width=\"4.357142857142857mm\" height=\"4.357142857142857mm\"\n",
       "      fill=\"#000000\" stroke=\"none\" />\n",
       "<rect x=\"42.857142857142854mm\" y=\"16.07142857142857mm\"\n",
       "      width=\"4.357142857142857mm\" height=\"4.357142857142857mm\"\n",
       "      fill=\"#000000\" stroke=\"none\" />\n",
       "<rect x=\"48.21428571428571mm\" y=\"16.07142857142857mm\"\n",
       "      width=\"4.357142857142857mm\" height=\"4.357142857142857mm\"\n",
       "      fill=\"#000000\" stroke=\"none\" />\n",
       "<rect x=\"53.57142857142857mm\" y=\"16.07142857142857mm\"\n",
       "      width=\"4.357142857142857mm\" height=\"4.357142857142857mm\"\n",
       "      fill=\"#000000\" stroke=\"none\" />\n",
       "<rect x=\"58.92857142857142mm\" y=\"16.07142857142857mm\"\n",
       "      width=\"4.357142857142857mm\" height=\"4.357142857142857mm\"\n",
       "      fill=\"#000000\" stroke=\"none\" />\n",
       "<rect x=\"64.28571428571428mm\" y=\"16.07142857142857mm\"\n",
       "      width=\"4.357142857142857mm\" height=\"4.357142857142857mm\"\n",
       "      fill=\"#000000\" stroke=\"none\" />\n",
       "<rect x=\"69.64285714285714mm\" y=\"16.07142857142857mm\"\n",
       "      width=\"4.357142857142857mm\" height=\"4.357142857142857mm\"\n",
       "      fill=\"#000000\" stroke=\"none\" />\n",
       "<rect x=\"75.0mm\" y=\"16.07142857142857mm\"\n",
       "      width=\"4.357142857142857mm\" height=\"4.357142857142857mm\"\n",
       "      fill=\"#000000\" stroke=\"none\" />\n",
       "<rect x=\"80.35714285714285mm\" y=\"16.07142857142857mm\"\n",
       "      width=\"4.357142857142857mm\" height=\"4.357142857142857mm\"\n",
       "      fill=\"#000000\" stroke=\"none\" />\n",
       "<rect x=\"85.71428571428571mm\" y=\"16.07142857142857mm\"\n",
       "      width=\"4.357142857142857mm\" height=\"4.357142857142857mm\"\n",
       "      fill=\"#000000\" stroke=\"none\" />\n",
       "<rect x=\"91.07142857142857mm\" y=\"16.07142857142857mm\"\n",
       "      width=\"4.357142857142857mm\" height=\"4.357142857142857mm\"\n",
       "      fill=\"#000000\" stroke=\"none\" />\n",
       "<rect x=\"96.42857142857142mm\" y=\"16.07142857142857mm\"\n",
       "      width=\"4.357142857142857mm\" height=\"4.357142857142857mm\"\n",
       "      fill=\"#000000\" stroke=\"none\" />\n",
       "<rect x=\"101.78571428571428mm\" y=\"16.07142857142857mm\"\n",
       "      width=\"4.357142857142857mm\" height=\"4.357142857142857mm\"\n",
       "      fill=\"#000000\" stroke=\"none\" />\n",
       "<rect x=\"107.14285714285714mm\" y=\"16.07142857142857mm\"\n",
       "      width=\"4.357142857142857mm\" height=\"4.357142857142857mm\"\n",
       "      fill=\"#000000\" stroke=\"none\" />\n",
       "<rect x=\"112.49999999999999mm\" y=\"16.07142857142857mm\"\n",
       "      width=\"4.357142857142857mm\" height=\"4.357142857142857mm\"\n",
       "      fill=\"#000000\" stroke=\"none\" />\n",
       "<rect x=\"117.85714285714285mm\" y=\"16.07142857142857mm\"\n",
       "      width=\"4.357142857142857mm\" height=\"4.357142857142857mm\"\n",
       "      fill=\"#000000\" stroke=\"none\" />\n",
       "<rect x=\"123.21428571428571mm\" y=\"16.07142857142857mm\"\n",
       "      width=\"4.357142857142857mm\" height=\"4.357142857142857mm\"\n",
       "      fill=\"#000000\" stroke=\"none\" />\n",
       "<rect x=\"128.57142857142856mm\" y=\"16.07142857142857mm\"\n",
       "      width=\"4.357142857142857mm\" height=\"4.357142857142857mm\"\n",
       "      fill=\"#000000\" stroke=\"none\" />\n",
       "<rect x=\"133.92857142857142mm\" y=\"16.07142857142857mm\"\n",
       "      width=\"4.357142857142857mm\" height=\"4.357142857142857mm\"\n",
       "      fill=\"#000000\" stroke=\"none\" />\n",
       "<rect x=\"139.28571428571428mm\" y=\"16.07142857142857mm\"\n",
       "      width=\"4.357142857142857mm\" height=\"4.357142857142857mm\"\n",
       "      fill=\"#000000\" stroke=\"none\" />\n",
       "<rect x=\"144.64285714285714mm\" y=\"16.07142857142857mm\"\n",
       "      width=\"4.357142857142857mm\" height=\"4.357142857142857mm\"\n",
       "      fill=\"#000000\" stroke=\"none\" />\n",
       "<rect x=\"0.0mm\" y=\"21.428571428571427mm\"\n",
       "      width=\"4.357142857142857mm\" height=\"4.357142857142857mm\"\n",
       "      fill=\"#000000\" stroke=\"none\" />\n",
       "<rect x=\"5.357142857142857mm\" y=\"21.428571428571427mm\"\n",
       "      width=\"4.357142857142857mm\" height=\"4.357142857142857mm\"\n",
       "      fill=\"#000000\" stroke=\"none\" />\n",
       "<rect x=\"10.714285714285714mm\" y=\"21.428571428571427mm\"\n",
       "      width=\"4.357142857142857mm\" height=\"4.357142857142857mm\"\n",
       "      fill=\"#000000\" stroke=\"none\" />\n",
       "<rect x=\"16.07142857142857mm\" y=\"21.428571428571427mm\"\n",
       "      width=\"4.357142857142857mm\" height=\"4.357142857142857mm\"\n",
       "      fill=\"#000000\" stroke=\"none\" />\n",
       "<rect x=\"21.428571428571427mm\" y=\"21.428571428571427mm\"\n",
       "      width=\"4.357142857142857mm\" height=\"4.357142857142857mm\"\n",
       "      fill=\"#000000\" stroke=\"none\" />\n",
       "<rect x=\"26.785714285714285mm\" y=\"21.428571428571427mm\"\n",
       "      width=\"4.357142857142857mm\" height=\"4.357142857142857mm\"\n",
       "      fill=\"#000000\" stroke=\"none\" />\n",
       "<rect x=\"32.14285714285714mm\" y=\"21.428571428571427mm\"\n",
       "      width=\"4.357142857142857mm\" height=\"4.357142857142857mm\"\n",
       "      fill=\"#000000\" stroke=\"none\" />\n",
       "<rect x=\"37.5mm\" y=\"21.428571428571427mm\"\n",
       "      width=\"4.357142857142857mm\" height=\"4.357142857142857mm\"\n",
       "      fill=\"#000000\" stroke=\"none\" />\n",
       "<rect x=\"42.857142857142854mm\" y=\"21.428571428571427mm\"\n",
       "      width=\"4.357142857142857mm\" height=\"4.357142857142857mm\"\n",
       "      fill=\"#000000\" stroke=\"none\" />\n",
       "<rect x=\"48.21428571428571mm\" y=\"21.428571428571427mm\"\n",
       "      width=\"4.357142857142857mm\" height=\"4.357142857142857mm\"\n",
       "      fill=\"#000000\" stroke=\"none\" />\n",
       "<rect x=\"53.57142857142857mm\" y=\"21.428571428571427mm\"\n",
       "      width=\"4.357142857142857mm\" height=\"4.357142857142857mm\"\n",
       "      fill=\"#000000\" stroke=\"none\" />\n",
       "<rect x=\"58.92857142857142mm\" y=\"21.428571428571427mm\"\n",
       "      width=\"4.357142857142857mm\" height=\"4.357142857142857mm\"\n",
       "      fill=\"#000000\" stroke=\"none\" />\n",
       "<rect x=\"64.28571428571428mm\" y=\"21.428571428571427mm\"\n",
       "      width=\"4.357142857142857mm\" height=\"4.357142857142857mm\"\n",
       "      fill=\"#000000\" stroke=\"none\" />\n",
       "<rect x=\"69.64285714285714mm\" y=\"21.428571428571427mm\"\n",
       "      width=\"4.357142857142857mm\" height=\"4.357142857142857mm\"\n",
       "      fill=\"#000000\" stroke=\"none\" />\n",
       "<rect x=\"75.0mm\" y=\"21.428571428571427mm\"\n",
       "      width=\"4.357142857142857mm\" height=\"4.357142857142857mm\"\n",
       "      fill=\"#000000\" stroke=\"none\" />\n",
       "<rect x=\"80.35714285714285mm\" y=\"21.428571428571427mm\"\n",
       "      width=\"4.357142857142857mm\" height=\"4.357142857142857mm\"\n",
       "      fill=\"#000000\" stroke=\"none\" />\n",
       "<rect x=\"85.71428571428571mm\" y=\"21.428571428571427mm\"\n",
       "      width=\"4.357142857142857mm\" height=\"4.357142857142857mm\"\n",
       "      fill=\"#000000\" stroke=\"none\" />\n",
       "<rect x=\"91.07142857142857mm\" y=\"21.428571428571427mm\"\n",
       "      width=\"4.357142857142857mm\" height=\"4.357142857142857mm\"\n",
       "      fill=\"#000000\" stroke=\"none\" />\n",
       "<rect x=\"96.42857142857142mm\" y=\"21.428571428571427mm\"\n",
       "      width=\"4.357142857142857mm\" height=\"4.357142857142857mm\"\n",
       "      fill=\"#000000\" stroke=\"none\" />\n",
       "<rect x=\"101.78571428571428mm\" y=\"21.428571428571427mm\"\n",
       "      width=\"4.357142857142857mm\" height=\"4.357142857142857mm\"\n",
       "      fill=\"#000000\" stroke=\"none\" />\n",
       "<rect x=\"107.14285714285714mm\" y=\"21.428571428571427mm\"\n",
       "      width=\"4.357142857142857mm\" height=\"4.357142857142857mm\"\n",
       "      fill=\"#000000\" stroke=\"none\" />\n",
       "<rect x=\"112.49999999999999mm\" y=\"21.428571428571427mm\"\n",
       "      width=\"4.357142857142857mm\" height=\"4.357142857142857mm\"\n",
       "      fill=\"#000000\" stroke=\"none\" />\n",
       "<rect x=\"117.85714285714285mm\" y=\"21.428571428571427mm\"\n",
       "      width=\"4.357142857142857mm\" height=\"4.357142857142857mm\"\n",
       "      fill=\"#000000\" stroke=\"none\" />\n",
       "<rect x=\"123.21428571428571mm\" y=\"21.428571428571427mm\"\n",
       "      width=\"4.357142857142857mm\" height=\"4.357142857142857mm\"\n",
       "      fill=\"#000000\" stroke=\"none\" />\n",
       "<rect x=\"128.57142857142856mm\" y=\"21.428571428571427mm\"\n",
       "      width=\"4.357142857142857mm\" height=\"4.357142857142857mm\"\n",
       "      fill=\"#000000\" stroke=\"none\" />\n",
       "<rect x=\"133.92857142857142mm\" y=\"21.428571428571427mm\"\n",
       "      width=\"4.357142857142857mm\" height=\"4.357142857142857mm\"\n",
       "      fill=\"#000000\" stroke=\"none\" />\n",
       "<rect x=\"139.28571428571428mm\" y=\"21.428571428571427mm\"\n",
       "      width=\"4.357142857142857mm\" height=\"4.357142857142857mm\"\n",
       "      fill=\"#000000\" stroke=\"none\" />\n",
       "<rect x=\"144.64285714285714mm\" y=\"21.428571428571427mm\"\n",
       "      width=\"4.357142857142857mm\" height=\"4.357142857142857mm\"\n",
       "      fill=\"#000000\" stroke=\"none\" />\n",
       "<rect x=\"0.0mm\" y=\"26.785714285714285mm\"\n",
       "      width=\"4.357142857142857mm\" height=\"4.357142857142857mm\"\n",
       "      fill=\"#000000\" stroke=\"none\" />\n",
       "<rect x=\"5.357142857142857mm\" y=\"26.785714285714285mm\"\n",
       "      width=\"4.357142857142857mm\" height=\"4.357142857142857mm\"\n",
       "      fill=\"#000000\" stroke=\"none\" />\n",
       "<rect x=\"10.714285714285714mm\" y=\"26.785714285714285mm\"\n",
       "      width=\"4.357142857142857mm\" height=\"4.357142857142857mm\"\n",
       "      fill=\"#000000\" stroke=\"none\" />\n",
       "<rect x=\"16.07142857142857mm\" y=\"26.785714285714285mm\"\n",
       "      width=\"4.357142857142857mm\" height=\"4.357142857142857mm\"\n",
       "      fill=\"#000000\" stroke=\"none\" />\n",
       "<rect x=\"21.428571428571427mm\" y=\"26.785714285714285mm\"\n",
       "      width=\"4.357142857142857mm\" height=\"4.357142857142857mm\"\n",
       "      fill=\"#000000\" stroke=\"none\" />\n",
       "<rect x=\"26.785714285714285mm\" y=\"26.785714285714285mm\"\n",
       "      width=\"4.357142857142857mm\" height=\"4.357142857142857mm\"\n",
       "      fill=\"#000000\" stroke=\"none\" />\n",
       "<rect x=\"32.14285714285714mm\" y=\"26.785714285714285mm\"\n",
       "      width=\"4.357142857142857mm\" height=\"4.357142857142857mm\"\n",
       "      fill=\"#000000\" stroke=\"none\" />\n",
       "<rect x=\"37.5mm\" y=\"26.785714285714285mm\"\n",
       "      width=\"4.357142857142857mm\" height=\"4.357142857142857mm\"\n",
       "      fill=\"#000000\" stroke=\"none\" />\n",
       "<rect x=\"42.857142857142854mm\" y=\"26.785714285714285mm\"\n",
       "      width=\"4.357142857142857mm\" height=\"4.357142857142857mm\"\n",
       "      fill=\"#000000\" stroke=\"none\" />\n",
       "<rect x=\"48.21428571428571mm\" y=\"26.785714285714285mm\"\n",
       "      width=\"4.357142857142857mm\" height=\"4.357142857142857mm\"\n",
       "      fill=\"#000000\" stroke=\"none\" />\n",
       "<rect x=\"53.57142857142857mm\" y=\"26.785714285714285mm\"\n",
       "      width=\"4.357142857142857mm\" height=\"4.357142857142857mm\"\n",
       "      fill=\"#000000\" stroke=\"none\" />\n",
       "<rect x=\"58.92857142857142mm\" y=\"26.785714285714285mm\"\n",
       "      width=\"4.357142857142857mm\" height=\"4.357142857142857mm\"\n",
       "      fill=\"#000000\" stroke=\"none\" />\n",
       "<rect x=\"64.28571428571428mm\" y=\"26.785714285714285mm\"\n",
       "      width=\"4.357142857142857mm\" height=\"4.357142857142857mm\"\n",
       "      fill=\"#000000\" stroke=\"none\" />\n",
       "<rect x=\"69.64285714285714mm\" y=\"26.785714285714285mm\"\n",
       "      width=\"4.357142857142857mm\" height=\"4.357142857142857mm\"\n",
       "      fill=\"#000000\" stroke=\"none\" />\n",
       "<rect x=\"75.0mm\" y=\"26.785714285714285mm\"\n",
       "      width=\"4.357142857142857mm\" height=\"4.357142857142857mm\"\n",
       "      fill=\"#000000\" stroke=\"none\" />\n",
       "<rect x=\"80.35714285714285mm\" y=\"26.785714285714285mm\"\n",
       "      width=\"4.357142857142857mm\" height=\"4.357142857142857mm\"\n",
       "      fill=\"#000000\" stroke=\"none\" />\n",
       "<rect x=\"85.71428571428571mm\" y=\"26.785714285714285mm\"\n",
       "      width=\"4.357142857142857mm\" height=\"4.357142857142857mm\"\n",
       "      fill=\"#555555\" stroke=\"none\" />\n",
       "<rect x=\"91.07142857142857mm\" y=\"26.785714285714285mm\"\n",
       "      width=\"4.357142857142857mm\" height=\"4.357142857142857mm\"\n",
       "      fill=\"#FFFFFF\" stroke=\"none\" />\n",
       "<rect x=\"96.42857142857142mm\" y=\"26.785714285714285mm\"\n",
       "      width=\"4.357142857142857mm\" height=\"4.357142857142857mm\"\n",
       "      fill=\"#676767\" stroke=\"none\" />\n",
       "<rect x=\"101.78571428571428mm\" y=\"26.785714285714285mm\"\n",
       "      width=\"4.357142857142857mm\" height=\"4.357142857142857mm\"\n",
       "      fill=\"#010101\" stroke=\"none\" />\n",
       "<rect x=\"107.14285714285714mm\" y=\"26.785714285714285mm\"\n",
       "      width=\"4.357142857142857mm\" height=\"4.357142857142857mm\"\n",
       "      fill=\"#000000\" stroke=\"none\" />\n",
       "<rect x=\"112.49999999999999mm\" y=\"26.785714285714285mm\"\n",
       "      width=\"4.357142857142857mm\" height=\"4.357142857142857mm\"\n",
       "      fill=\"#000000\" stroke=\"none\" />\n",
       "<rect x=\"117.85714285714285mm\" y=\"26.785714285714285mm\"\n",
       "      width=\"4.357142857142857mm\" height=\"4.357142857142857mm\"\n",
       "      fill=\"#000000\" stroke=\"none\" />\n",
       "<rect x=\"123.21428571428571mm\" y=\"26.785714285714285mm\"\n",
       "      width=\"4.357142857142857mm\" height=\"4.357142857142857mm\"\n",
       "      fill=\"#000000\" stroke=\"none\" />\n",
       "<rect x=\"128.57142857142856mm\" y=\"26.785714285714285mm\"\n",
       "      width=\"4.357142857142857mm\" height=\"4.357142857142857mm\"\n",
       "      fill=\"#000000\" stroke=\"none\" />\n",
       "<rect x=\"133.92857142857142mm\" y=\"26.785714285714285mm\"\n",
       "      width=\"4.357142857142857mm\" height=\"4.357142857142857mm\"\n",
       "      fill=\"#000000\" stroke=\"none\" />\n",
       "<rect x=\"139.28571428571428mm\" y=\"26.785714285714285mm\"\n",
       "      width=\"4.357142857142857mm\" height=\"4.357142857142857mm\"\n",
       "      fill=\"#000000\" stroke=\"none\" />\n",
       "<rect x=\"144.64285714285714mm\" y=\"26.785714285714285mm\"\n",
       "      width=\"4.357142857142857mm\" height=\"4.357142857142857mm\"\n",
       "      fill=\"#000000\" stroke=\"none\" />\n",
       "<rect x=\"0.0mm\" y=\"32.14285714285714mm\"\n",
       "      width=\"4.357142857142857mm\" height=\"4.357142857142857mm\"\n",
       "      fill=\"#000000\" stroke=\"none\" />\n",
       "<rect x=\"5.357142857142857mm\" y=\"32.14285714285714mm\"\n",
       "      width=\"4.357142857142857mm\" height=\"4.357142857142857mm\"\n",
       "      fill=\"#000000\" stroke=\"none\" />\n",
       "<rect x=\"10.714285714285714mm\" y=\"32.14285714285714mm\"\n",
       "      width=\"4.357142857142857mm\" height=\"4.357142857142857mm\"\n",
       "      fill=\"#000000\" stroke=\"none\" />\n",
       "<rect x=\"16.07142857142857mm\" y=\"32.14285714285714mm\"\n",
       "      width=\"4.357142857142857mm\" height=\"4.357142857142857mm\"\n",
       "      fill=\"#000000\" stroke=\"none\" />\n",
       "<rect x=\"21.428571428571427mm\" y=\"32.14285714285714mm\"\n",
       "      width=\"4.357142857142857mm\" height=\"4.357142857142857mm\"\n",
       "      fill=\"#000000\" stroke=\"none\" />\n",
       "<rect x=\"26.785714285714285mm\" y=\"32.14285714285714mm\"\n",
       "      width=\"4.357142857142857mm\" height=\"4.357142857142857mm\"\n",
       "      fill=\"#000000\" stroke=\"none\" />\n",
       "<rect x=\"32.14285714285714mm\" y=\"32.14285714285714mm\"\n",
       "      width=\"4.357142857142857mm\" height=\"4.357142857142857mm\"\n",
       "      fill=\"#000000\" stroke=\"none\" />\n",
       "<rect x=\"37.5mm\" y=\"32.14285714285714mm\"\n",
       "      width=\"4.357142857142857mm\" height=\"4.357142857142857mm\"\n",
       "      fill=\"#000000\" stroke=\"none\" />\n",
       "<rect x=\"42.857142857142854mm\" y=\"32.14285714285714mm\"\n",
       "      width=\"4.357142857142857mm\" height=\"4.357142857142857mm\"\n",
       "      fill=\"#000000\" stroke=\"none\" />\n",
       "<rect x=\"48.21428571428571mm\" y=\"32.14285714285714mm\"\n",
       "      width=\"4.357142857142857mm\" height=\"4.357142857142857mm\"\n",
       "      fill=\"#000000\" stroke=\"none\" />\n",
       "<rect x=\"53.57142857142857mm\" y=\"32.14285714285714mm\"\n",
       "      width=\"4.357142857142857mm\" height=\"4.357142857142857mm\"\n",
       "      fill=\"#000000\" stroke=\"none\" />\n",
       "<rect x=\"58.92857142857142mm\" y=\"32.14285714285714mm\"\n",
       "      width=\"4.357142857142857mm\" height=\"4.357142857142857mm\"\n",
       "      fill=\"#000000\" stroke=\"none\" />\n",
       "<rect x=\"64.28571428571428mm\" y=\"32.14285714285714mm\"\n",
       "      width=\"4.357142857142857mm\" height=\"4.357142857142857mm\"\n",
       "      fill=\"#000000\" stroke=\"none\" />\n",
       "<rect x=\"69.64285714285714mm\" y=\"32.14285714285714mm\"\n",
       "      width=\"4.357142857142857mm\" height=\"4.357142857142857mm\"\n",
       "      fill=\"#000000\" stroke=\"none\" />\n",
       "<rect x=\"75.0mm\" y=\"32.14285714285714mm\"\n",
       "      width=\"4.357142857142857mm\" height=\"4.357142857142857mm\"\n",
       "      fill=\"#000000\" stroke=\"none\" />\n",
       "<rect x=\"80.35714285714285mm\" y=\"32.14285714285714mm\"\n",
       "      width=\"4.357142857142857mm\" height=\"4.357142857142857mm\"\n",
       "      fill=\"#000000\" stroke=\"none\" />\n",
       "<rect x=\"85.71428571428571mm\" y=\"32.14285714285714mm\"\n",
       "      width=\"4.357142857142857mm\" height=\"4.357142857142857mm\"\n",
       "      fill=\"#CDCDCD\" stroke=\"none\" />\n",
       "<rect x=\"91.07142857142857mm\" y=\"32.14285714285714mm\"\n",
       "      width=\"4.357142857142857mm\" height=\"4.357142857142857mm\"\n",
       "      fill=\"#FDFDFD\" stroke=\"none\" />\n",
       "<rect x=\"96.42857142857142mm\" y=\"32.14285714285714mm\"\n",
       "      width=\"4.357142857142857mm\" height=\"4.357142857142857mm\"\n",
       "      fill=\"#FDFDFD\" stroke=\"none\" />\n",
       "<rect x=\"101.78571428571428mm\" y=\"32.14285714285714mm\"\n",
       "      width=\"4.357142857142857mm\" height=\"4.357142857142857mm\"\n",
       "      fill=\"#1E1E1E\" stroke=\"none\" />\n",
       "<rect x=\"107.14285714285714mm\" y=\"32.14285714285714mm\"\n",
       "      width=\"4.357142857142857mm\" height=\"4.357142857142857mm\"\n",
       "      fill=\"#000000\" stroke=\"none\" />\n",
       "<rect x=\"112.49999999999999mm\" y=\"32.14285714285714mm\"\n",
       "      width=\"4.357142857142857mm\" height=\"4.357142857142857mm\"\n",
       "      fill=\"#000000\" stroke=\"none\" />\n",
       "<rect x=\"117.85714285714285mm\" y=\"32.14285714285714mm\"\n",
       "      width=\"4.357142857142857mm\" height=\"4.357142857142857mm\"\n",
       "      fill=\"#000000\" stroke=\"none\" />\n",
       "<rect x=\"123.21428571428571mm\" y=\"32.14285714285714mm\"\n",
       "      width=\"4.357142857142857mm\" height=\"4.357142857142857mm\"\n",
       "      fill=\"#000000\" stroke=\"none\" />\n",
       "<rect x=\"128.57142857142856mm\" y=\"32.14285714285714mm\"\n",
       "      width=\"4.357142857142857mm\" height=\"4.357142857142857mm\"\n",
       "      fill=\"#000000\" stroke=\"none\" />\n",
       "<rect x=\"133.92857142857142mm\" y=\"32.14285714285714mm\"\n",
       "      width=\"4.357142857142857mm\" height=\"4.357142857142857mm\"\n",
       "      fill=\"#000000\" stroke=\"none\" />\n",
       "<rect x=\"139.28571428571428mm\" y=\"32.14285714285714mm\"\n",
       "      width=\"4.357142857142857mm\" height=\"4.357142857142857mm\"\n",
       "      fill=\"#000000\" stroke=\"none\" />\n",
       "<rect x=\"144.64285714285714mm\" y=\"32.14285714285714mm\"\n",
       "      width=\"4.357142857142857mm\" height=\"4.357142857142857mm\"\n",
       "      fill=\"#000000\" stroke=\"none\" />\n",
       "<rect x=\"0.0mm\" y=\"37.5mm\"\n",
       "      width=\"4.357142857142857mm\" height=\"4.357142857142857mm\"\n",
       "      fill=\"#000000\" stroke=\"none\" />\n",
       "<rect x=\"5.357142857142857mm\" y=\"37.5mm\"\n",
       "      width=\"4.357142857142857mm\" height=\"4.357142857142857mm\"\n",
       "      fill=\"#000000\" stroke=\"none\" />\n",
       "<rect x=\"10.714285714285714mm\" y=\"37.5mm\"\n",
       "      width=\"4.357142857142857mm\" height=\"4.357142857142857mm\"\n",
       "      fill=\"#000000\" stroke=\"none\" />\n",
       "<rect x=\"16.07142857142857mm\" y=\"37.5mm\"\n",
       "      width=\"4.357142857142857mm\" height=\"4.357142857142857mm\"\n",
       "      fill=\"#000000\" stroke=\"none\" />\n",
       "<rect x=\"21.428571428571427mm\" y=\"37.5mm\"\n",
       "      width=\"4.357142857142857mm\" height=\"4.357142857142857mm\"\n",
       "      fill=\"#000000\" stroke=\"none\" />\n",
       "<rect x=\"26.785714285714285mm\" y=\"37.5mm\"\n",
       "      width=\"4.357142857142857mm\" height=\"4.357142857142857mm\"\n",
       "      fill=\"#000000\" stroke=\"none\" />\n",
       "<rect x=\"32.14285714285714mm\" y=\"37.5mm\"\n",
       "      width=\"4.357142857142857mm\" height=\"4.357142857142857mm\"\n",
       "      fill=\"#000000\" stroke=\"none\" />\n",
       "<rect x=\"37.5mm\" y=\"37.5mm\"\n",
       "      width=\"4.357142857142857mm\" height=\"4.357142857142857mm\"\n",
       "      fill=\"#000000\" stroke=\"none\" />\n",
       "<rect x=\"42.857142857142854mm\" y=\"37.5mm\"\n",
       "      width=\"4.357142857142857mm\" height=\"4.357142857142857mm\"\n",
       "      fill=\"#000000\" stroke=\"none\" />\n",
       "<rect x=\"48.21428571428571mm\" y=\"37.5mm\"\n",
       "      width=\"4.357142857142857mm\" height=\"4.357142857142857mm\"\n",
       "      fill=\"#000000\" stroke=\"none\" />\n",
       "<rect x=\"53.57142857142857mm\" y=\"37.5mm\"\n",
       "      width=\"4.357142857142857mm\" height=\"4.357142857142857mm\"\n",
       "      fill=\"#000000\" stroke=\"none\" />\n",
       "<rect x=\"58.92857142857142mm\" y=\"37.5mm\"\n",
       "      width=\"4.357142857142857mm\" height=\"4.357142857142857mm\"\n",
       "      fill=\"#000000\" stroke=\"none\" />\n",
       "<rect x=\"64.28571428571428mm\" y=\"37.5mm\"\n",
       "      width=\"4.357142857142857mm\" height=\"4.357142857142857mm\"\n",
       "      fill=\"#000000\" stroke=\"none\" />\n",
       "<rect x=\"69.64285714285714mm\" y=\"37.5mm\"\n",
       "      width=\"4.357142857142857mm\" height=\"4.357142857142857mm\"\n",
       "      fill=\"#000000\" stroke=\"none\" />\n",
       "<rect x=\"75.0mm\" y=\"37.5mm\"\n",
       "      width=\"4.357142857142857mm\" height=\"4.357142857142857mm\"\n",
       "      fill=\"#000000\" stroke=\"none\" />\n",
       "<rect x=\"80.35714285714285mm\" y=\"37.5mm\"\n",
       "      width=\"4.357142857142857mm\" height=\"4.357142857142857mm\"\n",
       "      fill=\"#000000\" stroke=\"none\" />\n",
       "<rect x=\"85.71428571428571mm\" y=\"37.5mm\"\n",
       "      width=\"4.357142857142857mm\" height=\"4.357142857142857mm\"\n",
       "      fill=\"#CDCDCD\" stroke=\"none\" />\n",
       "<rect x=\"91.07142857142857mm\" y=\"37.5mm\"\n",
       "      width=\"4.357142857142857mm\" height=\"4.357142857142857mm\"\n",
       "      fill=\"#FDFDFD\" stroke=\"none\" />\n",
       "<rect x=\"96.42857142857142mm\" y=\"37.5mm\"\n",
       "      width=\"4.357142857142857mm\" height=\"4.357142857142857mm\"\n",
       "      fill=\"#FDFDFD\" stroke=\"none\" />\n",
       "<rect x=\"101.78571428571428mm\" y=\"37.5mm\"\n",
       "      width=\"4.357142857142857mm\" height=\"4.357142857142857mm\"\n",
       "      fill=\"#1E1E1E\" stroke=\"none\" />\n",
       "<rect x=\"107.14285714285714mm\" y=\"37.5mm\"\n",
       "      width=\"4.357142857142857mm\" height=\"4.357142857142857mm\"\n",
       "      fill=\"#000000\" stroke=\"none\" />\n",
       "<rect x=\"112.49999999999999mm\" y=\"37.5mm\"\n",
       "      width=\"4.357142857142857mm\" height=\"4.357142857142857mm\"\n",
       "      fill=\"#000000\" stroke=\"none\" />\n",
       "<rect x=\"117.85714285714285mm\" y=\"37.5mm\"\n",
       "      width=\"4.357142857142857mm\" height=\"4.357142857142857mm\"\n",
       "      fill=\"#000000\" stroke=\"none\" />\n",
       "<rect x=\"123.21428571428571mm\" y=\"37.5mm\"\n",
       "      width=\"4.357142857142857mm\" height=\"4.357142857142857mm\"\n",
       "      fill=\"#000000\" stroke=\"none\" />\n",
       "<rect x=\"128.57142857142856mm\" y=\"37.5mm\"\n",
       "      width=\"4.357142857142857mm\" height=\"4.357142857142857mm\"\n",
       "      fill=\"#000000\" stroke=\"none\" />\n",
       "<rect x=\"133.92857142857142mm\" y=\"37.5mm\"\n",
       "      width=\"4.357142857142857mm\" height=\"4.357142857142857mm\"\n",
       "      fill=\"#000000\" stroke=\"none\" />\n",
       "<rect x=\"139.28571428571428mm\" y=\"37.5mm\"\n",
       "      width=\"4.357142857142857mm\" height=\"4.357142857142857mm\"\n",
       "      fill=\"#000000\" stroke=\"none\" />\n",
       "<rect x=\"144.64285714285714mm\" y=\"37.5mm\"\n",
       "      width=\"4.357142857142857mm\" height=\"4.357142857142857mm\"\n",
       "      fill=\"#000000\" stroke=\"none\" />\n",
       "<rect x=\"0.0mm\" y=\"42.857142857142854mm\"\n",
       "      width=\"4.357142857142857mm\" height=\"4.357142857142857mm\"\n",
       "      fill=\"#000000\" stroke=\"none\" />\n",
       "<rect x=\"5.357142857142857mm\" y=\"42.857142857142854mm\"\n",
       "      width=\"4.357142857142857mm\" height=\"4.357142857142857mm\"\n",
       "      fill=\"#000000\" stroke=\"none\" />\n",
       "<rect x=\"10.714285714285714mm\" y=\"42.857142857142854mm\"\n",
       "      width=\"4.357142857142857mm\" height=\"4.357142857142857mm\"\n",
       "      fill=\"#000000\" stroke=\"none\" />\n",
       "<rect x=\"16.07142857142857mm\" y=\"42.857142857142854mm\"\n",
       "      width=\"4.357142857142857mm\" height=\"4.357142857142857mm\"\n",
       "      fill=\"#000000\" stroke=\"none\" />\n",
       "<rect x=\"21.428571428571427mm\" y=\"42.857142857142854mm\"\n",
       "      width=\"4.357142857142857mm\" height=\"4.357142857142857mm\"\n",
       "      fill=\"#000000\" stroke=\"none\" />\n",
       "<rect x=\"26.785714285714285mm\" y=\"42.857142857142854mm\"\n",
       "      width=\"4.357142857142857mm\" height=\"4.357142857142857mm\"\n",
       "      fill=\"#000000\" stroke=\"none\" />\n",
       "<rect x=\"32.14285714285714mm\" y=\"42.857142857142854mm\"\n",
       "      width=\"4.357142857142857mm\" height=\"4.357142857142857mm\"\n",
       "      fill=\"#000000\" stroke=\"none\" />\n",
       "<rect x=\"37.5mm\" y=\"42.857142857142854mm\"\n",
       "      width=\"4.357142857142857mm\" height=\"4.357142857142857mm\"\n",
       "      fill=\"#000000\" stroke=\"none\" />\n",
       "<rect x=\"42.857142857142854mm\" y=\"42.857142857142854mm\"\n",
       "      width=\"4.357142857142857mm\" height=\"4.357142857142857mm\"\n",
       "      fill=\"#000000\" stroke=\"none\" />\n",
       "<rect x=\"48.21428571428571mm\" y=\"42.857142857142854mm\"\n",
       "      width=\"4.357142857142857mm\" height=\"4.357142857142857mm\"\n",
       "      fill=\"#000000\" stroke=\"none\" />\n",
       "<rect x=\"53.57142857142857mm\" y=\"42.857142857142854mm\"\n",
       "      width=\"4.357142857142857mm\" height=\"4.357142857142857mm\"\n",
       "      fill=\"#000000\" stroke=\"none\" />\n",
       "<rect x=\"58.92857142857142mm\" y=\"42.857142857142854mm\"\n",
       "      width=\"4.357142857142857mm\" height=\"4.357142857142857mm\"\n",
       "      fill=\"#000000\" stroke=\"none\" />\n",
       "<rect x=\"64.28571428571428mm\" y=\"42.857142857142854mm\"\n",
       "      width=\"4.357142857142857mm\" height=\"4.357142857142857mm\"\n",
       "      fill=\"#000000\" stroke=\"none\" />\n",
       "<rect x=\"69.64285714285714mm\" y=\"42.857142857142854mm\"\n",
       "      width=\"4.357142857142857mm\" height=\"4.357142857142857mm\"\n",
       "      fill=\"#000000\" stroke=\"none\" />\n",
       "<rect x=\"75.0mm\" y=\"42.857142857142854mm\"\n",
       "      width=\"4.357142857142857mm\" height=\"4.357142857142857mm\"\n",
       "      fill=\"#000000\" stroke=\"none\" />\n",
       "<rect x=\"80.35714285714285mm\" y=\"42.857142857142854mm\"\n",
       "      width=\"4.357142857142857mm\" height=\"4.357142857142857mm\"\n",
       "      fill=\"#2C2C2C\" stroke=\"none\" />\n",
       "<rect x=\"85.71428571428571mm\" y=\"42.857142857142854mm\"\n",
       "      width=\"4.357142857142857mm\" height=\"4.357142857142857mm\"\n",
       "      fill=\"#E9E9E9\" stroke=\"none\" />\n",
       "<rect x=\"91.07142857142857mm\" y=\"42.857142857142854mm\"\n",
       "      width=\"4.357142857142857mm\" height=\"4.357142857142857mm\"\n",
       "      fill=\"#FDFDFD\" stroke=\"none\" />\n",
       "<rect x=\"96.42857142857142mm\" y=\"42.857142857142854mm\"\n",
       "      width=\"4.357142857142857mm\" height=\"4.357142857142857mm\"\n",
       "      fill=\"#F4F4F4\" stroke=\"none\" />\n",
       "<rect x=\"101.78571428571428mm\" y=\"42.857142857142854mm\"\n",
       "      width=\"4.357142857142857mm\" height=\"4.357142857142857mm\"\n",
       "      fill=\"#1B1B1B\" stroke=\"none\" />\n",
       "<rect x=\"107.14285714285714mm\" y=\"42.857142857142854mm\"\n",
       "      width=\"4.357142857142857mm\" height=\"4.357142857142857mm\"\n",
       "      fill=\"#000000\" stroke=\"none\" />\n",
       "<rect x=\"112.49999999999999mm\" y=\"42.857142857142854mm\"\n",
       "      width=\"4.357142857142857mm\" height=\"4.357142857142857mm\"\n",
       "      fill=\"#000000\" stroke=\"none\" />\n",
       "<rect x=\"117.85714285714285mm\" y=\"42.857142857142854mm\"\n",
       "      width=\"4.357142857142857mm\" height=\"4.357142857142857mm\"\n",
       "      fill=\"#000000\" stroke=\"none\" />\n",
       "<rect x=\"123.21428571428571mm\" y=\"42.857142857142854mm\"\n",
       "      width=\"4.357142857142857mm\" height=\"4.357142857142857mm\"\n",
       "      fill=\"#000000\" stroke=\"none\" />\n",
       "<rect x=\"128.57142857142856mm\" y=\"42.857142857142854mm\"\n",
       "      width=\"4.357142857142857mm\" height=\"4.357142857142857mm\"\n",
       "      fill=\"#000000\" stroke=\"none\" />\n",
       "<rect x=\"133.92857142857142mm\" y=\"42.857142857142854mm\"\n",
       "      width=\"4.357142857142857mm\" height=\"4.357142857142857mm\"\n",
       "      fill=\"#000000\" stroke=\"none\" />\n",
       "<rect x=\"139.28571428571428mm\" y=\"42.857142857142854mm\"\n",
       "      width=\"4.357142857142857mm\" height=\"4.357142857142857mm\"\n",
       "      fill=\"#000000\" stroke=\"none\" />\n",
       "<rect x=\"144.64285714285714mm\" y=\"42.857142857142854mm\"\n",
       "      width=\"4.357142857142857mm\" height=\"4.357142857142857mm\"\n",
       "      fill=\"#000000\" stroke=\"none\" />\n",
       "<rect x=\"0.0mm\" y=\"48.21428571428571mm\"\n",
       "      width=\"4.357142857142857mm\" height=\"4.357142857142857mm\"\n",
       "      fill=\"#000000\" stroke=\"none\" />\n",
       "<rect x=\"5.357142857142857mm\" y=\"48.21428571428571mm\"\n",
       "      width=\"4.357142857142857mm\" height=\"4.357142857142857mm\"\n",
       "      fill=\"#000000\" stroke=\"none\" />\n",
       "<rect x=\"10.714285714285714mm\" y=\"48.21428571428571mm\"\n",
       "      width=\"4.357142857142857mm\" height=\"4.357142857142857mm\"\n",
       "      fill=\"#000000\" stroke=\"none\" />\n",
       "<rect x=\"16.07142857142857mm\" y=\"48.21428571428571mm\"\n",
       "      width=\"4.357142857142857mm\" height=\"4.357142857142857mm\"\n",
       "      fill=\"#000000\" stroke=\"none\" />\n",
       "<rect x=\"21.428571428571427mm\" y=\"48.21428571428571mm\"\n",
       "      width=\"4.357142857142857mm\" height=\"4.357142857142857mm\"\n",
       "      fill=\"#000000\" stroke=\"none\" />\n",
       "<rect x=\"26.785714285714285mm\" y=\"48.21428571428571mm\"\n",
       "      width=\"4.357142857142857mm\" height=\"4.357142857142857mm\"\n",
       "      fill=\"#000000\" stroke=\"none\" />\n",
       "<rect x=\"32.14285714285714mm\" y=\"48.21428571428571mm\"\n",
       "      width=\"4.357142857142857mm\" height=\"4.357142857142857mm\"\n",
       "      fill=\"#000000\" stroke=\"none\" />\n",
       "<rect x=\"37.5mm\" y=\"48.21428571428571mm\"\n",
       "      width=\"4.357142857142857mm\" height=\"4.357142857142857mm\"\n",
       "      fill=\"#000000\" stroke=\"none\" />\n",
       "<rect x=\"42.857142857142854mm\" y=\"48.21428571428571mm\"\n",
       "      width=\"4.357142857142857mm\" height=\"4.357142857142857mm\"\n",
       "      fill=\"#000000\" stroke=\"none\" />\n",
       "<rect x=\"48.21428571428571mm\" y=\"48.21428571428571mm\"\n",
       "      width=\"4.357142857142857mm\" height=\"4.357142857142857mm\"\n",
       "      fill=\"#000000\" stroke=\"none\" />\n",
       "<rect x=\"53.57142857142857mm\" y=\"48.21428571428571mm\"\n",
       "      width=\"4.357142857142857mm\" height=\"4.357142857142857mm\"\n",
       "      fill=\"#000000\" stroke=\"none\" />\n",
       "<rect x=\"58.92857142857142mm\" y=\"48.21428571428571mm\"\n",
       "      width=\"4.357142857142857mm\" height=\"4.357142857142857mm\"\n",
       "      fill=\"#000000\" stroke=\"none\" />\n",
       "<rect x=\"64.28571428571428mm\" y=\"48.21428571428571mm\"\n",
       "      width=\"4.357142857142857mm\" height=\"4.357142857142857mm\"\n",
       "      fill=\"#000000\" stroke=\"none\" />\n",
       "<rect x=\"69.64285714285714mm\" y=\"48.21428571428571mm\"\n",
       "      width=\"4.357142857142857mm\" height=\"4.357142857142857mm\"\n",
       "      fill=\"#000000\" stroke=\"none\" />\n",
       "<rect x=\"75.0mm\" y=\"48.21428571428571mm\"\n",
       "      width=\"4.357142857142857mm\" height=\"4.357142857142857mm\"\n",
       "      fill=\"#000000\" stroke=\"none\" />\n",
       "<rect x=\"80.35714285714285mm\" y=\"48.21428571428571mm\"\n",
       "      width=\"4.357142857142857mm\" height=\"4.357142857142857mm\"\n",
       "      fill=\"#878787\" stroke=\"none\" />\n",
       "<rect x=\"85.71428571428571mm\" y=\"48.21428571428571mm\"\n",
       "      width=\"4.357142857142857mm\" height=\"4.357142857142857mm\"\n",
       "      fill=\"#FDFDFD\" stroke=\"none\" />\n",
       "<rect x=\"91.07142857142857mm\" y=\"48.21428571428571mm\"\n",
       "      width=\"4.357142857142857mm\" height=\"4.357142857142857mm\"\n",
       "      fill=\"#FDFDFD\" stroke=\"none\" />\n",
       "<rect x=\"96.42857142857142mm\" y=\"48.21428571428571mm\"\n",
       "      width=\"4.357142857142857mm\" height=\"4.357142857142857mm\"\n",
       "      fill=\"#646464\" stroke=\"none\" />\n",
       "<rect x=\"101.78571428571428mm\" y=\"48.21428571428571mm\"\n",
       "      width=\"4.357142857142857mm\" height=\"4.357142857142857mm\"\n",
       "      fill=\"#000000\" stroke=\"none\" />\n",
       "<rect x=\"107.14285714285714mm\" y=\"48.21428571428571mm\"\n",
       "      width=\"4.357142857142857mm\" height=\"4.357142857142857mm\"\n",
       "      fill=\"#000000\" stroke=\"none\" />\n",
       "<rect x=\"112.49999999999999mm\" y=\"48.21428571428571mm\"\n",
       "      width=\"4.357142857142857mm\" height=\"4.357142857142857mm\"\n",
       "      fill=\"#000000\" stroke=\"none\" />\n",
       "<rect x=\"117.85714285714285mm\" y=\"48.21428571428571mm\"\n",
       "      width=\"4.357142857142857mm\" height=\"4.357142857142857mm\"\n",
       "      fill=\"#000000\" stroke=\"none\" />\n",
       "<rect x=\"123.21428571428571mm\" y=\"48.21428571428571mm\"\n",
       "      width=\"4.357142857142857mm\" height=\"4.357142857142857mm\"\n",
       "      fill=\"#000000\" stroke=\"none\" />\n",
       "<rect x=\"128.57142857142856mm\" y=\"48.21428571428571mm\"\n",
       "      width=\"4.357142857142857mm\" height=\"4.357142857142857mm\"\n",
       "      fill=\"#000000\" stroke=\"none\" />\n",
       "<rect x=\"133.92857142857142mm\" y=\"48.21428571428571mm\"\n",
       "      width=\"4.357142857142857mm\" height=\"4.357142857142857mm\"\n",
       "      fill=\"#000000\" stroke=\"none\" />\n",
       "<rect x=\"139.28571428571428mm\" y=\"48.21428571428571mm\"\n",
       "      width=\"4.357142857142857mm\" height=\"4.357142857142857mm\"\n",
       "      fill=\"#000000\" stroke=\"none\" />\n",
       "<rect x=\"144.64285714285714mm\" y=\"48.21428571428571mm\"\n",
       "      width=\"4.357142857142857mm\" height=\"4.357142857142857mm\"\n",
       "      fill=\"#000000\" stroke=\"none\" />\n",
       "<rect x=\"0.0mm\" y=\"53.57142857142857mm\"\n",
       "      width=\"4.357142857142857mm\" height=\"4.357142857142857mm\"\n",
       "      fill=\"#000000\" stroke=\"none\" />\n",
       "<rect x=\"5.357142857142857mm\" y=\"53.57142857142857mm\"\n",
       "      width=\"4.357142857142857mm\" height=\"4.357142857142857mm\"\n",
       "      fill=\"#000000\" stroke=\"none\" />\n",
       "<rect x=\"10.714285714285714mm\" y=\"53.57142857142857mm\"\n",
       "      width=\"4.357142857142857mm\" height=\"4.357142857142857mm\"\n",
       "      fill=\"#000000\" stroke=\"none\" />\n",
       "<rect x=\"16.07142857142857mm\" y=\"53.57142857142857mm\"\n",
       "      width=\"4.357142857142857mm\" height=\"4.357142857142857mm\"\n",
       "      fill=\"#000000\" stroke=\"none\" />\n",
       "<rect x=\"21.428571428571427mm\" y=\"53.57142857142857mm\"\n",
       "      width=\"4.357142857142857mm\" height=\"4.357142857142857mm\"\n",
       "      fill=\"#000000\" stroke=\"none\" />\n",
       "<rect x=\"26.785714285714285mm\" y=\"53.57142857142857mm\"\n",
       "      width=\"4.357142857142857mm\" height=\"4.357142857142857mm\"\n",
       "      fill=\"#000000\" stroke=\"none\" />\n",
       "<rect x=\"32.14285714285714mm\" y=\"53.57142857142857mm\"\n",
       "      width=\"4.357142857142857mm\" height=\"4.357142857142857mm\"\n",
       "      fill=\"#000000\" stroke=\"none\" />\n",
       "<rect x=\"37.5mm\" y=\"53.57142857142857mm\"\n",
       "      width=\"4.357142857142857mm\" height=\"4.357142857142857mm\"\n",
       "      fill=\"#000000\" stroke=\"none\" />\n",
       "<rect x=\"42.857142857142854mm\" y=\"53.57142857142857mm\"\n",
       "      width=\"4.357142857142857mm\" height=\"4.357142857142857mm\"\n",
       "      fill=\"#000000\" stroke=\"none\" />\n",
       "<rect x=\"48.21428571428571mm\" y=\"53.57142857142857mm\"\n",
       "      width=\"4.357142857142857mm\" height=\"4.357142857142857mm\"\n",
       "      fill=\"#000000\" stroke=\"none\" />\n",
       "<rect x=\"53.57142857142857mm\" y=\"53.57142857142857mm\"\n",
       "      width=\"4.357142857142857mm\" height=\"4.357142857142857mm\"\n",
       "      fill=\"#000000\" stroke=\"none\" />\n",
       "<rect x=\"58.92857142857142mm\" y=\"53.57142857142857mm\"\n",
       "      width=\"4.357142857142857mm\" height=\"4.357142857142857mm\"\n",
       "      fill=\"#000000\" stroke=\"none\" />\n",
       "<rect x=\"64.28571428571428mm\" y=\"53.57142857142857mm\"\n",
       "      width=\"4.357142857142857mm\" height=\"4.357142857142857mm\"\n",
       "      fill=\"#000000\" stroke=\"none\" />\n",
       "<rect x=\"69.64285714285714mm\" y=\"53.57142857142857mm\"\n",
       "      width=\"4.357142857142857mm\" height=\"4.357142857142857mm\"\n",
       "      fill=\"#000000\" stroke=\"none\" />\n",
       "<rect x=\"75.0mm\" y=\"53.57142857142857mm\"\n",
       "      width=\"4.357142857142857mm\" height=\"4.357142857142857mm\"\n",
       "      fill=\"#000000\" stroke=\"none\" />\n",
       "<rect x=\"80.35714285714285mm\" y=\"53.57142857142857mm\"\n",
       "      width=\"4.357142857142857mm\" height=\"4.357142857142857mm\"\n",
       "      fill=\"#999999\" stroke=\"none\" />\n",
       "<rect x=\"85.71428571428571mm\" y=\"53.57142857142857mm\"\n",
       "      width=\"4.357142857142857mm\" height=\"4.357142857142857mm\"\n",
       "      fill=\"#FDFDFD\" stroke=\"none\" />\n",
       "<rect x=\"91.07142857142857mm\" y=\"53.57142857142857mm\"\n",
       "      width=\"4.357142857142857mm\" height=\"4.357142857142857mm\"\n",
       "      fill=\"#F0F0F0\" stroke=\"none\" />\n",
       "<rect x=\"96.42857142857142mm\" y=\"53.57142857142857mm\"\n",
       "      width=\"4.357142857142857mm\" height=\"4.357142857142857mm\"\n",
       "      fill=\"#4C4C4C\" stroke=\"none\" />\n",
       "<rect x=\"101.78571428571428mm\" y=\"53.57142857142857mm\"\n",
       "      width=\"4.357142857142857mm\" height=\"4.357142857142857mm\"\n",
       "      fill=\"#000000\" stroke=\"none\" />\n",
       "<rect x=\"107.14285714285714mm\" y=\"53.57142857142857mm\"\n",
       "      width=\"4.357142857142857mm\" height=\"4.357142857142857mm\"\n",
       "      fill=\"#000000\" stroke=\"none\" />\n",
       "<rect x=\"112.49999999999999mm\" y=\"53.57142857142857mm\"\n",
       "      width=\"4.357142857142857mm\" height=\"4.357142857142857mm\"\n",
       "      fill=\"#000000\" stroke=\"none\" />\n",
       "<rect x=\"117.85714285714285mm\" y=\"53.57142857142857mm\"\n",
       "      width=\"4.357142857142857mm\" height=\"4.357142857142857mm\"\n",
       "      fill=\"#000000\" stroke=\"none\" />\n",
       "<rect x=\"123.21428571428571mm\" y=\"53.57142857142857mm\"\n",
       "      width=\"4.357142857142857mm\" height=\"4.357142857142857mm\"\n",
       "      fill=\"#000000\" stroke=\"none\" />\n",
       "<rect x=\"128.57142857142856mm\" y=\"53.57142857142857mm\"\n",
       "      width=\"4.357142857142857mm\" height=\"4.357142857142857mm\"\n",
       "      fill=\"#000000\" stroke=\"none\" />\n",
       "<rect x=\"133.92857142857142mm\" y=\"53.57142857142857mm\"\n",
       "      width=\"4.357142857142857mm\" height=\"4.357142857142857mm\"\n",
       "      fill=\"#000000\" stroke=\"none\" />\n",
       "<rect x=\"139.28571428571428mm\" y=\"53.57142857142857mm\"\n",
       "      width=\"4.357142857142857mm\" height=\"4.357142857142857mm\"\n",
       "      fill=\"#000000\" stroke=\"none\" />\n",
       "<rect x=\"144.64285714285714mm\" y=\"53.57142857142857mm\"\n",
       "      width=\"4.357142857142857mm\" height=\"4.357142857142857mm\"\n",
       "      fill=\"#000000\" stroke=\"none\" />\n",
       "<rect x=\"0.0mm\" y=\"58.92857142857142mm\"\n",
       "      width=\"4.357142857142857mm\" height=\"4.357142857142857mm\"\n",
       "      fill=\"#000000\" stroke=\"none\" />\n",
       "<rect x=\"5.357142857142857mm\" y=\"58.92857142857142mm\"\n",
       "      width=\"4.357142857142857mm\" height=\"4.357142857142857mm\"\n",
       "      fill=\"#000000\" stroke=\"none\" />\n",
       "<rect x=\"10.714285714285714mm\" y=\"58.92857142857142mm\"\n",
       "      width=\"4.357142857142857mm\" height=\"4.357142857142857mm\"\n",
       "      fill=\"#000000\" stroke=\"none\" />\n",
       "<rect x=\"16.07142857142857mm\" y=\"58.92857142857142mm\"\n",
       "      width=\"4.357142857142857mm\" height=\"4.357142857142857mm\"\n",
       "      fill=\"#000000\" stroke=\"none\" />\n",
       "<rect x=\"21.428571428571427mm\" y=\"58.92857142857142mm\"\n",
       "      width=\"4.357142857142857mm\" height=\"4.357142857142857mm\"\n",
       "      fill=\"#000000\" stroke=\"none\" />\n",
       "<rect x=\"26.785714285714285mm\" y=\"58.92857142857142mm\"\n",
       "      width=\"4.357142857142857mm\" height=\"4.357142857142857mm\"\n",
       "      fill=\"#000000\" stroke=\"none\" />\n",
       "<rect x=\"32.14285714285714mm\" y=\"58.92857142857142mm\"\n",
       "      width=\"4.357142857142857mm\" height=\"4.357142857142857mm\"\n",
       "      fill=\"#000000\" stroke=\"none\" />\n",
       "<rect x=\"37.5mm\" y=\"58.92857142857142mm\"\n",
       "      width=\"4.357142857142857mm\" height=\"4.357142857142857mm\"\n",
       "      fill=\"#000000\" stroke=\"none\" />\n",
       "<rect x=\"42.857142857142854mm\" y=\"58.92857142857142mm\"\n",
       "      width=\"4.357142857142857mm\" height=\"4.357142857142857mm\"\n",
       "      fill=\"#000000\" stroke=\"none\" />\n",
       "<rect x=\"48.21428571428571mm\" y=\"58.92857142857142mm\"\n",
       "      width=\"4.357142857142857mm\" height=\"4.357142857142857mm\"\n",
       "      fill=\"#000000\" stroke=\"none\" />\n",
       "<rect x=\"53.57142857142857mm\" y=\"58.92857142857142mm\"\n",
       "      width=\"4.357142857142857mm\" height=\"4.357142857142857mm\"\n",
       "      fill=\"#000000\" stroke=\"none\" />\n",
       "<rect x=\"58.92857142857142mm\" y=\"58.92857142857142mm\"\n",
       "      width=\"4.357142857142857mm\" height=\"4.357142857142857mm\"\n",
       "      fill=\"#000000\" stroke=\"none\" />\n",
       "<rect x=\"64.28571428571428mm\" y=\"58.92857142857142mm\"\n",
       "      width=\"4.357142857142857mm\" height=\"4.357142857142857mm\"\n",
       "      fill=\"#000000\" stroke=\"none\" />\n",
       "<rect x=\"69.64285714285714mm\" y=\"58.92857142857142mm\"\n",
       "      width=\"4.357142857142857mm\" height=\"4.357142857142857mm\"\n",
       "      fill=\"#000000\" stroke=\"none\" />\n",
       "<rect x=\"75.0mm\" y=\"58.92857142857142mm\"\n",
       "      width=\"4.357142857142857mm\" height=\"4.357142857142857mm\"\n",
       "      fill=\"#0C0C0C\" stroke=\"none\" />\n",
       "<rect x=\"80.35714285714285mm\" y=\"58.92857142857142mm\"\n",
       "      width=\"4.357142857142857mm\" height=\"4.357142857142857mm\"\n",
       "      fill=\"#D0D0D0\" stroke=\"none\" />\n",
       "<rect x=\"85.71428571428571mm\" y=\"58.92857142857142mm\"\n",
       "      width=\"4.357142857142857mm\" height=\"4.357142857142857mm\"\n",
       "      fill=\"#FDFDFD\" stroke=\"none\" />\n",
       "<rect x=\"91.07142857142857mm\" y=\"58.92857142857142mm\"\n",
       "      width=\"4.357142857142857mm\" height=\"4.357142857142857mm\"\n",
       "      fill=\"#A6A6A6\" stroke=\"none\" />\n",
       "<rect x=\"96.42857142857142mm\" y=\"58.92857142857142mm\"\n",
       "      width=\"4.357142857142857mm\" height=\"4.357142857142857mm\"\n",
       "      fill=\"#000000\" stroke=\"none\" />\n",
       "<rect x=\"101.78571428571428mm\" y=\"58.92857142857142mm\"\n",
       "      width=\"4.357142857142857mm\" height=\"4.357142857142857mm\"\n",
       "      fill=\"#000000\" stroke=\"none\" />\n",
       "<rect x=\"107.14285714285714mm\" y=\"58.92857142857142mm\"\n",
       "      width=\"4.357142857142857mm\" height=\"4.357142857142857mm\"\n",
       "      fill=\"#000000\" stroke=\"none\" />\n",
       "<rect x=\"112.49999999999999mm\" y=\"58.92857142857142mm\"\n",
       "      width=\"4.357142857142857mm\" height=\"4.357142857142857mm\"\n",
       "      fill=\"#000000\" stroke=\"none\" />\n",
       "<rect x=\"117.85714285714285mm\" y=\"58.92857142857142mm\"\n",
       "      width=\"4.357142857142857mm\" height=\"4.357142857142857mm\"\n",
       "      fill=\"#000000\" stroke=\"none\" />\n",
       "<rect x=\"123.21428571428571mm\" y=\"58.92857142857142mm\"\n",
       "      width=\"4.357142857142857mm\" height=\"4.357142857142857mm\"\n",
       "      fill=\"#000000\" stroke=\"none\" />\n",
       "<rect x=\"128.57142857142856mm\" y=\"58.92857142857142mm\"\n",
       "      width=\"4.357142857142857mm\" height=\"4.357142857142857mm\"\n",
       "      fill=\"#000000\" stroke=\"none\" />\n",
       "<rect x=\"133.92857142857142mm\" y=\"58.92857142857142mm\"\n",
       "      width=\"4.357142857142857mm\" height=\"4.357142857142857mm\"\n",
       "      fill=\"#000000\" stroke=\"none\" />\n",
       "<rect x=\"139.28571428571428mm\" y=\"58.92857142857142mm\"\n",
       "      width=\"4.357142857142857mm\" height=\"4.357142857142857mm\"\n",
       "      fill=\"#000000\" stroke=\"none\" />\n",
       "<rect x=\"144.64285714285714mm\" y=\"58.92857142857142mm\"\n",
       "      width=\"4.357142857142857mm\" height=\"4.357142857142857mm\"\n",
       "      fill=\"#000000\" stroke=\"none\" />\n",
       "<rect x=\"0.0mm\" y=\"64.28571428571428mm\"\n",
       "      width=\"4.357142857142857mm\" height=\"4.357142857142857mm\"\n",
       "      fill=\"#000000\" stroke=\"none\" />\n",
       "<rect x=\"5.357142857142857mm\" y=\"64.28571428571428mm\"\n",
       "      width=\"4.357142857142857mm\" height=\"4.357142857142857mm\"\n",
       "      fill=\"#000000\" stroke=\"none\" />\n",
       "<rect x=\"10.714285714285714mm\" y=\"64.28571428571428mm\"\n",
       "      width=\"4.357142857142857mm\" height=\"4.357142857142857mm\"\n",
       "      fill=\"#000000\" stroke=\"none\" />\n",
       "<rect x=\"16.07142857142857mm\" y=\"64.28571428571428mm\"\n",
       "      width=\"4.357142857142857mm\" height=\"4.357142857142857mm\"\n",
       "      fill=\"#000000\" stroke=\"none\" />\n",
       "<rect x=\"21.428571428571427mm\" y=\"64.28571428571428mm\"\n",
       "      width=\"4.357142857142857mm\" height=\"4.357142857142857mm\"\n",
       "      fill=\"#000000\" stroke=\"none\" />\n",
       "<rect x=\"26.785714285714285mm\" y=\"64.28571428571428mm\"\n",
       "      width=\"4.357142857142857mm\" height=\"4.357142857142857mm\"\n",
       "      fill=\"#000000\" stroke=\"none\" />\n",
       "<rect x=\"32.14285714285714mm\" y=\"64.28571428571428mm\"\n",
       "      width=\"4.357142857142857mm\" height=\"4.357142857142857mm\"\n",
       "      fill=\"#000000\" stroke=\"none\" />\n",
       "<rect x=\"37.5mm\" y=\"64.28571428571428mm\"\n",
       "      width=\"4.357142857142857mm\" height=\"4.357142857142857mm\"\n",
       "      fill=\"#000000\" stroke=\"none\" />\n",
       "<rect x=\"42.857142857142854mm\" y=\"64.28571428571428mm\"\n",
       "      width=\"4.357142857142857mm\" height=\"4.357142857142857mm\"\n",
       "      fill=\"#000000\" stroke=\"none\" />\n",
       "<rect x=\"48.21428571428571mm\" y=\"64.28571428571428mm\"\n",
       "      width=\"4.357142857142857mm\" height=\"4.357142857142857mm\"\n",
       "      fill=\"#000000\" stroke=\"none\" />\n",
       "<rect x=\"53.57142857142857mm\" y=\"64.28571428571428mm\"\n",
       "      width=\"4.357142857142857mm\" height=\"4.357142857142857mm\"\n",
       "      fill=\"#000000\" stroke=\"none\" />\n",
       "<rect x=\"58.92857142857142mm\" y=\"64.28571428571428mm\"\n",
       "      width=\"4.357142857142857mm\" height=\"4.357142857142857mm\"\n",
       "      fill=\"#000000\" stroke=\"none\" />\n",
       "<rect x=\"64.28571428571428mm\" y=\"64.28571428571428mm\"\n",
       "      width=\"4.357142857142857mm\" height=\"4.357142857142857mm\"\n",
       "      fill=\"#000000\" stroke=\"none\" />\n",
       "<rect x=\"69.64285714285714mm\" y=\"64.28571428571428mm\"\n",
       "      width=\"4.357142857142857mm\" height=\"4.357142857142857mm\"\n",
       "      fill=\"#000000\" stroke=\"none\" />\n",
       "<rect x=\"75.0mm\" y=\"64.28571428571428mm\"\n",
       "      width=\"4.357142857142857mm\" height=\"4.357142857142857mm\"\n",
       "      fill=\"#454545\" stroke=\"none\" />\n",
       "<rect x=\"80.35714285714285mm\" y=\"64.28571428571428mm\"\n",
       "      width=\"4.357142857142857mm\" height=\"4.357142857142857mm\"\n",
       "      fill=\"#FDFDFD\" stroke=\"none\" />\n",
       "<rect x=\"85.71428571428571mm\" y=\"64.28571428571428mm\"\n",
       "      width=\"4.357142857142857mm\" height=\"4.357142857142857mm\"\n",
       "      fill=\"#FDFDFD\" stroke=\"none\" />\n",
       "<rect x=\"91.07142857142857mm\" y=\"64.28571428571428mm\"\n",
       "      width=\"4.357142857142857mm\" height=\"4.357142857142857mm\"\n",
       "      fill=\"#8E8E8E\" stroke=\"none\" />\n",
       "<rect x=\"96.42857142857142mm\" y=\"64.28571428571428mm\"\n",
       "      width=\"4.357142857142857mm\" height=\"4.357142857142857mm\"\n",
       "      fill=\"#000000\" stroke=\"none\" />\n",
       "<rect x=\"101.78571428571428mm\" y=\"64.28571428571428mm\"\n",
       "      width=\"4.357142857142857mm\" height=\"4.357142857142857mm\"\n",
       "      fill=\"#000000\" stroke=\"none\" />\n",
       "<rect x=\"107.14285714285714mm\" y=\"64.28571428571428mm\"\n",
       "      width=\"4.357142857142857mm\" height=\"4.357142857142857mm\"\n",
       "      fill=\"#000000\" stroke=\"none\" />\n",
       "<rect x=\"112.49999999999999mm\" y=\"64.28571428571428mm\"\n",
       "      width=\"4.357142857142857mm\" height=\"4.357142857142857mm\"\n",
       "      fill=\"#000000\" stroke=\"none\" />\n",
       "<rect x=\"117.85714285714285mm\" y=\"64.28571428571428mm\"\n",
       "      width=\"4.357142857142857mm\" height=\"4.357142857142857mm\"\n",
       "      fill=\"#000000\" stroke=\"none\" />\n",
       "<rect x=\"123.21428571428571mm\" y=\"64.28571428571428mm\"\n",
       "      width=\"4.357142857142857mm\" height=\"4.357142857142857mm\"\n",
       "      fill=\"#000000\" stroke=\"none\" />\n",
       "<rect x=\"128.57142857142856mm\" y=\"64.28571428571428mm\"\n",
       "      width=\"4.357142857142857mm\" height=\"4.357142857142857mm\"\n",
       "      fill=\"#000000\" stroke=\"none\" />\n",
       "<rect x=\"133.92857142857142mm\" y=\"64.28571428571428mm\"\n",
       "      width=\"4.357142857142857mm\" height=\"4.357142857142857mm\"\n",
       "      fill=\"#000000\" stroke=\"none\" />\n",
       "<rect x=\"139.28571428571428mm\" y=\"64.28571428571428mm\"\n",
       "      width=\"4.357142857142857mm\" height=\"4.357142857142857mm\"\n",
       "      fill=\"#000000\" stroke=\"none\" />\n",
       "<rect x=\"144.64285714285714mm\" y=\"64.28571428571428mm\"\n",
       "      width=\"4.357142857142857mm\" height=\"4.357142857142857mm\"\n",
       "      fill=\"#000000\" stroke=\"none\" />\n",
       "<rect x=\"0.0mm\" y=\"69.64285714285714mm\"\n",
       "      width=\"4.357142857142857mm\" height=\"4.357142857142857mm\"\n",
       "      fill=\"#000000\" stroke=\"none\" />\n",
       "<rect x=\"5.357142857142857mm\" y=\"69.64285714285714mm\"\n",
       "      width=\"4.357142857142857mm\" height=\"4.357142857142857mm\"\n",
       "      fill=\"#000000\" stroke=\"none\" />\n",
       "<rect x=\"10.714285714285714mm\" y=\"69.64285714285714mm\"\n",
       "      width=\"4.357142857142857mm\" height=\"4.357142857142857mm\"\n",
       "      fill=\"#000000\" stroke=\"none\" />\n",
       "<rect x=\"16.07142857142857mm\" y=\"69.64285714285714mm\"\n",
       "      width=\"4.357142857142857mm\" height=\"4.357142857142857mm\"\n",
       "      fill=\"#000000\" stroke=\"none\" />\n",
       "<rect x=\"21.428571428571427mm\" y=\"69.64285714285714mm\"\n",
       "      width=\"4.357142857142857mm\" height=\"4.357142857142857mm\"\n",
       "      fill=\"#000000\" stroke=\"none\" />\n",
       "<rect x=\"26.785714285714285mm\" y=\"69.64285714285714mm\"\n",
       "      width=\"4.357142857142857mm\" height=\"4.357142857142857mm\"\n",
       "      fill=\"#000000\" stroke=\"none\" />\n",
       "<rect x=\"32.14285714285714mm\" y=\"69.64285714285714mm\"\n",
       "      width=\"4.357142857142857mm\" height=\"4.357142857142857mm\"\n",
       "      fill=\"#000000\" stroke=\"none\" />\n",
       "<rect x=\"37.5mm\" y=\"69.64285714285714mm\"\n",
       "      width=\"4.357142857142857mm\" height=\"4.357142857142857mm\"\n",
       "      fill=\"#000000\" stroke=\"none\" />\n",
       "<rect x=\"42.857142857142854mm\" y=\"69.64285714285714mm\"\n",
       "      width=\"4.357142857142857mm\" height=\"4.357142857142857mm\"\n",
       "      fill=\"#000000\" stroke=\"none\" />\n",
       "<rect x=\"48.21428571428571mm\" y=\"69.64285714285714mm\"\n",
       "      width=\"4.357142857142857mm\" height=\"4.357142857142857mm\"\n",
       "      fill=\"#000000\" stroke=\"none\" />\n",
       "<rect x=\"53.57142857142857mm\" y=\"69.64285714285714mm\"\n",
       "      width=\"4.357142857142857mm\" height=\"4.357142857142857mm\"\n",
       "      fill=\"#000000\" stroke=\"none\" />\n",
       "<rect x=\"58.92857142857142mm\" y=\"69.64285714285714mm\"\n",
       "      width=\"4.357142857142857mm\" height=\"4.357142857142857mm\"\n",
       "      fill=\"#000000\" stroke=\"none\" />\n",
       "<rect x=\"64.28571428571428mm\" y=\"69.64285714285714mm\"\n",
       "      width=\"4.357142857142857mm\" height=\"4.357142857142857mm\"\n",
       "      fill=\"#000000\" stroke=\"none\" />\n",
       "<rect x=\"69.64285714285714mm\" y=\"69.64285714285714mm\"\n",
       "      width=\"4.357142857142857mm\" height=\"4.357142857142857mm\"\n",
       "      fill=\"#0E0E0E\" stroke=\"none\" />\n",
       "<rect x=\"75.0mm\" y=\"69.64285714285714mm\"\n",
       "      width=\"4.357142857142857mm\" height=\"4.357142857142857mm\"\n",
       "      fill=\"#6E6E6E\" stroke=\"none\" />\n",
       "<rect x=\"80.35714285714285mm\" y=\"69.64285714285714mm\"\n",
       "      width=\"4.357142857142857mm\" height=\"4.357142857142857mm\"\n",
       "      fill=\"#FDFDFD\" stroke=\"none\" />\n",
       "<rect x=\"85.71428571428571mm\" y=\"69.64285714285714mm\"\n",
       "      width=\"4.357142857142857mm\" height=\"4.357142857142857mm\"\n",
       "      fill=\"#EBEBEB\" stroke=\"none\" />\n",
       "<rect x=\"91.07142857142857mm\" y=\"69.64285714285714mm\"\n",
       "      width=\"4.357142857142857mm\" height=\"4.357142857142857mm\"\n",
       "      fill=\"#212121\" stroke=\"none\" />\n",
       "<rect x=\"96.42857142857142mm\" y=\"69.64285714285714mm\"\n",
       "      width=\"4.357142857142857mm\" height=\"4.357142857142857mm\"\n",
       "      fill=\"#000000\" stroke=\"none\" />\n",
       "<rect x=\"101.78571428571428mm\" y=\"69.64285714285714mm\"\n",
       "      width=\"4.357142857142857mm\" height=\"4.357142857142857mm\"\n",
       "      fill=\"#000000\" stroke=\"none\" />\n",
       "<rect x=\"107.14285714285714mm\" y=\"69.64285714285714mm\"\n",
       "      width=\"4.357142857142857mm\" height=\"4.357142857142857mm\"\n",
       "      fill=\"#000000\" stroke=\"none\" />\n",
       "<rect x=\"112.49999999999999mm\" y=\"69.64285714285714mm\"\n",
       "      width=\"4.357142857142857mm\" height=\"4.357142857142857mm\"\n",
       "      fill=\"#000000\" stroke=\"none\" />\n",
       "<rect x=\"117.85714285714285mm\" y=\"69.64285714285714mm\"\n",
       "      width=\"4.357142857142857mm\" height=\"4.357142857142857mm\"\n",
       "      fill=\"#000000\" stroke=\"none\" />\n",
       "<rect x=\"123.21428571428571mm\" y=\"69.64285714285714mm\"\n",
       "      width=\"4.357142857142857mm\" height=\"4.357142857142857mm\"\n",
       "      fill=\"#000000\" stroke=\"none\" />\n",
       "<rect x=\"128.57142857142856mm\" y=\"69.64285714285714mm\"\n",
       "      width=\"4.357142857142857mm\" height=\"4.357142857142857mm\"\n",
       "      fill=\"#000000\" stroke=\"none\" />\n",
       "<rect x=\"133.92857142857142mm\" y=\"69.64285714285714mm\"\n",
       "      width=\"4.357142857142857mm\" height=\"4.357142857142857mm\"\n",
       "      fill=\"#000000\" stroke=\"none\" />\n",
       "<rect x=\"139.28571428571428mm\" y=\"69.64285714285714mm\"\n",
       "      width=\"4.357142857142857mm\" height=\"4.357142857142857mm\"\n",
       "      fill=\"#000000\" stroke=\"none\" />\n",
       "<rect x=\"144.64285714285714mm\" y=\"69.64285714285714mm\"\n",
       "      width=\"4.357142857142857mm\" height=\"4.357142857142857mm\"\n",
       "      fill=\"#000000\" stroke=\"none\" />\n",
       "<rect x=\"0.0mm\" y=\"75.0mm\"\n",
       "      width=\"4.357142857142857mm\" height=\"4.357142857142857mm\"\n",
       "      fill=\"#000000\" stroke=\"none\" />\n",
       "<rect x=\"5.357142857142857mm\" y=\"75.0mm\"\n",
       "      width=\"4.357142857142857mm\" height=\"4.357142857142857mm\"\n",
       "      fill=\"#000000\" stroke=\"none\" />\n",
       "<rect x=\"10.714285714285714mm\" y=\"75.0mm\"\n",
       "      width=\"4.357142857142857mm\" height=\"4.357142857142857mm\"\n",
       "      fill=\"#000000\" stroke=\"none\" />\n",
       "<rect x=\"16.07142857142857mm\" y=\"75.0mm\"\n",
       "      width=\"4.357142857142857mm\" height=\"4.357142857142857mm\"\n",
       "      fill=\"#000000\" stroke=\"none\" />\n",
       "<rect x=\"21.428571428571427mm\" y=\"75.0mm\"\n",
       "      width=\"4.357142857142857mm\" height=\"4.357142857142857mm\"\n",
       "      fill=\"#000000\" stroke=\"none\" />\n",
       "<rect x=\"26.785714285714285mm\" y=\"75.0mm\"\n",
       "      width=\"4.357142857142857mm\" height=\"4.357142857142857mm\"\n",
       "      fill=\"#000000\" stroke=\"none\" />\n",
       "<rect x=\"32.14285714285714mm\" y=\"75.0mm\"\n",
       "      width=\"4.357142857142857mm\" height=\"4.357142857142857mm\"\n",
       "      fill=\"#000000\" stroke=\"none\" />\n",
       "<rect x=\"37.5mm\" y=\"75.0mm\"\n",
       "      width=\"4.357142857142857mm\" height=\"4.357142857142857mm\"\n",
       "      fill=\"#000000\" stroke=\"none\" />\n",
       "<rect x=\"42.857142857142854mm\" y=\"75.0mm\"\n",
       "      width=\"4.357142857142857mm\" height=\"4.357142857142857mm\"\n",
       "      fill=\"#000000\" stroke=\"none\" />\n",
       "<rect x=\"48.21428571428571mm\" y=\"75.0mm\"\n",
       "      width=\"4.357142857142857mm\" height=\"4.357142857142857mm\"\n",
       "      fill=\"#000000\" stroke=\"none\" />\n",
       "<rect x=\"53.57142857142857mm\" y=\"75.0mm\"\n",
       "      width=\"4.357142857142857mm\" height=\"4.357142857142857mm\"\n",
       "      fill=\"#000000\" stroke=\"none\" />\n",
       "<rect x=\"58.92857142857142mm\" y=\"75.0mm\"\n",
       "      width=\"4.357142857142857mm\" height=\"4.357142857142857mm\"\n",
       "      fill=\"#000000\" stroke=\"none\" />\n",
       "<rect x=\"64.28571428571428mm\" y=\"75.0mm\"\n",
       "      width=\"4.357142857142857mm\" height=\"4.357142857142857mm\"\n",
       "      fill=\"#000000\" stroke=\"none\" />\n",
       "<rect x=\"69.64285714285714mm\" y=\"75.0mm\"\n",
       "      width=\"4.357142857142857mm\" height=\"4.357142857142857mm\"\n",
       "      fill=\"#3F3F3F\" stroke=\"none\" />\n",
       "<rect x=\"75.0mm\" y=\"75.0mm\"\n",
       "      width=\"4.357142857142857mm\" height=\"4.357142857142857mm\"\n",
       "      fill=\"#DFDFDF\" stroke=\"none\" />\n",
       "<rect x=\"80.35714285714285mm\" y=\"75.0mm\"\n",
       "      width=\"4.357142857142857mm\" height=\"4.357142857142857mm\"\n",
       "      fill=\"#EBEBEB\" stroke=\"none\" />\n",
       "<rect x=\"85.71428571428571mm\" y=\"75.0mm\"\n",
       "      width=\"4.357142857142857mm\" height=\"4.357142857142857mm\"\n",
       "      fill=\"#828282\" stroke=\"none\" />\n",
       "<rect x=\"91.07142857142857mm\" y=\"75.0mm\"\n",
       "      width=\"4.357142857142857mm\" height=\"4.357142857142857mm\"\n",
       "      fill=\"#000000\" stroke=\"none\" />\n",
       "<rect x=\"96.42857142857142mm\" y=\"75.0mm\"\n",
       "      width=\"4.357142857142857mm\" height=\"4.357142857142857mm\"\n",
       "      fill=\"#000000\" stroke=\"none\" />\n",
       "<rect x=\"101.78571428571428mm\" y=\"75.0mm\"\n",
       "      width=\"4.357142857142857mm\" height=\"4.357142857142857mm\"\n",
       "      fill=\"#000000\" stroke=\"none\" />\n",
       "<rect x=\"107.14285714285714mm\" y=\"75.0mm\"\n",
       "      width=\"4.357142857142857mm\" height=\"4.357142857142857mm\"\n",
       "      fill=\"#000000\" stroke=\"none\" />\n",
       "<rect x=\"112.49999999999999mm\" y=\"75.0mm\"\n",
       "      width=\"4.357142857142857mm\" height=\"4.357142857142857mm\"\n",
       "      fill=\"#000000\" stroke=\"none\" />\n",
       "<rect x=\"117.85714285714285mm\" y=\"75.0mm\"\n",
       "      width=\"4.357142857142857mm\" height=\"4.357142857142857mm\"\n",
       "      fill=\"#000000\" stroke=\"none\" />\n",
       "<rect x=\"123.21428571428571mm\" y=\"75.0mm\"\n",
       "      width=\"4.357142857142857mm\" height=\"4.357142857142857mm\"\n",
       "      fill=\"#000000\" stroke=\"none\" />\n",
       "<rect x=\"128.57142857142856mm\" y=\"75.0mm\"\n",
       "      width=\"4.357142857142857mm\" height=\"4.357142857142857mm\"\n",
       "      fill=\"#000000\" stroke=\"none\" />\n",
       "<rect x=\"133.92857142857142mm\" y=\"75.0mm\"\n",
       "      width=\"4.357142857142857mm\" height=\"4.357142857142857mm\"\n",
       "      fill=\"#000000\" stroke=\"none\" />\n",
       "<rect x=\"139.28571428571428mm\" y=\"75.0mm\"\n",
       "      width=\"4.357142857142857mm\" height=\"4.357142857142857mm\"\n",
       "      fill=\"#000000\" stroke=\"none\" />\n",
       "<rect x=\"144.64285714285714mm\" y=\"75.0mm\"\n",
       "      width=\"4.357142857142857mm\" height=\"4.357142857142857mm\"\n",
       "      fill=\"#000000\" stroke=\"none\" />\n",
       "<rect x=\"0.0mm\" y=\"80.35714285714285mm\"\n",
       "      width=\"4.357142857142857mm\" height=\"4.357142857142857mm\"\n",
       "      fill=\"#000000\" stroke=\"none\" />\n",
       "<rect x=\"5.357142857142857mm\" y=\"80.35714285714285mm\"\n",
       "      width=\"4.357142857142857mm\" height=\"4.357142857142857mm\"\n",
       "      fill=\"#000000\" stroke=\"none\" />\n",
       "<rect x=\"10.714285714285714mm\" y=\"80.35714285714285mm\"\n",
       "      width=\"4.357142857142857mm\" height=\"4.357142857142857mm\"\n",
       "      fill=\"#000000\" stroke=\"none\" />\n",
       "<rect x=\"16.07142857142857mm\" y=\"80.35714285714285mm\"\n",
       "      width=\"4.357142857142857mm\" height=\"4.357142857142857mm\"\n",
       "      fill=\"#000000\" stroke=\"none\" />\n",
       "<rect x=\"21.428571428571427mm\" y=\"80.35714285714285mm\"\n",
       "      width=\"4.357142857142857mm\" height=\"4.357142857142857mm\"\n",
       "      fill=\"#000000\" stroke=\"none\" />\n",
       "<rect x=\"26.785714285714285mm\" y=\"80.35714285714285mm\"\n",
       "      width=\"4.357142857142857mm\" height=\"4.357142857142857mm\"\n",
       "      fill=\"#000000\" stroke=\"none\" />\n",
       "<rect x=\"32.14285714285714mm\" y=\"80.35714285714285mm\"\n",
       "      width=\"4.357142857142857mm\" height=\"4.357142857142857mm\"\n",
       "      fill=\"#000000\" stroke=\"none\" />\n",
       "<rect x=\"37.5mm\" y=\"80.35714285714285mm\"\n",
       "      width=\"4.357142857142857mm\" height=\"4.357142857142857mm\"\n",
       "      fill=\"#000000\" stroke=\"none\" />\n",
       "<rect x=\"42.857142857142854mm\" y=\"80.35714285714285mm\"\n",
       "      width=\"4.357142857142857mm\" height=\"4.357142857142857mm\"\n",
       "      fill=\"#000000\" stroke=\"none\" />\n",
       "<rect x=\"48.21428571428571mm\" y=\"80.35714285714285mm\"\n",
       "      width=\"4.357142857142857mm\" height=\"4.357142857142857mm\"\n",
       "      fill=\"#000000\" stroke=\"none\" />\n",
       "<rect x=\"53.57142857142857mm\" y=\"80.35714285714285mm\"\n",
       "      width=\"4.357142857142857mm\" height=\"4.357142857142857mm\"\n",
       "      fill=\"#000000\" stroke=\"none\" />\n",
       "<rect x=\"58.92857142857142mm\" y=\"80.35714285714285mm\"\n",
       "      width=\"4.357142857142857mm\" height=\"4.357142857142857mm\"\n",
       "      fill=\"#000000\" stroke=\"none\" />\n",
       "<rect x=\"64.28571428571428mm\" y=\"80.35714285714285mm\"\n",
       "      width=\"4.357142857142857mm\" height=\"4.357142857142857mm\"\n",
       "      fill=\"#000000\" stroke=\"none\" />\n",
       "<rect x=\"69.64285714285714mm\" y=\"80.35714285714285mm\"\n",
       "      width=\"4.357142857142857mm\" height=\"4.357142857142857mm\"\n",
       "      fill=\"#BABABA\" stroke=\"none\" />\n",
       "<rect x=\"75.0mm\" y=\"80.35714285714285mm\"\n",
       "      width=\"4.357142857142857mm\" height=\"4.357142857142857mm\"\n",
       "      fill=\"#FDFDFD\" stroke=\"none\" />\n",
       "<rect x=\"80.35714285714285mm\" y=\"80.35714285714285mm\"\n",
       "      width=\"4.357142857142857mm\" height=\"4.357142857142857mm\"\n",
       "      fill=\"#EBEBEB\" stroke=\"none\" />\n",
       "<rect x=\"85.71428571428571mm\" y=\"80.35714285714285mm\"\n",
       "      width=\"4.357142857142857mm\" height=\"4.357142857142857mm\"\n",
       "      fill=\"#252525\" stroke=\"none\" />\n",
       "<rect x=\"91.07142857142857mm\" y=\"80.35714285714285mm\"\n",
       "      width=\"4.357142857142857mm\" height=\"4.357142857142857mm\"\n",
       "      fill=\"#000000\" stroke=\"none\" />\n",
       "<rect x=\"96.42857142857142mm\" y=\"80.35714285714285mm\"\n",
       "      width=\"4.357142857142857mm\" height=\"4.357142857142857mm\"\n",
       "      fill=\"#000000\" stroke=\"none\" />\n",
       "<rect x=\"101.78571428571428mm\" y=\"80.35714285714285mm\"\n",
       "      width=\"4.357142857142857mm\" height=\"4.357142857142857mm\"\n",
       "      fill=\"#000000\" stroke=\"none\" />\n",
       "<rect x=\"107.14285714285714mm\" y=\"80.35714285714285mm\"\n",
       "      width=\"4.357142857142857mm\" height=\"4.357142857142857mm\"\n",
       "      fill=\"#000000\" stroke=\"none\" />\n",
       "<rect x=\"112.49999999999999mm\" y=\"80.35714285714285mm\"\n",
       "      width=\"4.357142857142857mm\" height=\"4.357142857142857mm\"\n",
       "      fill=\"#000000\" stroke=\"none\" />\n",
       "<rect x=\"117.85714285714285mm\" y=\"80.35714285714285mm\"\n",
       "      width=\"4.357142857142857mm\" height=\"4.357142857142857mm\"\n",
       "      fill=\"#000000\" stroke=\"none\" />\n",
       "<rect x=\"123.21428571428571mm\" y=\"80.35714285714285mm\"\n",
       "      width=\"4.357142857142857mm\" height=\"4.357142857142857mm\"\n",
       "      fill=\"#000000\" stroke=\"none\" />\n",
       "<rect x=\"128.57142857142856mm\" y=\"80.35714285714285mm\"\n",
       "      width=\"4.357142857142857mm\" height=\"4.357142857142857mm\"\n",
       "      fill=\"#000000\" stroke=\"none\" />\n",
       "<rect x=\"133.92857142857142mm\" y=\"80.35714285714285mm\"\n",
       "      width=\"4.357142857142857mm\" height=\"4.357142857142857mm\"\n",
       "      fill=\"#000000\" stroke=\"none\" />\n",
       "<rect x=\"139.28571428571428mm\" y=\"80.35714285714285mm\"\n",
       "      width=\"4.357142857142857mm\" height=\"4.357142857142857mm\"\n",
       "      fill=\"#000000\" stroke=\"none\" />\n",
       "<rect x=\"144.64285714285714mm\" y=\"80.35714285714285mm\"\n",
       "      width=\"4.357142857142857mm\" height=\"4.357142857142857mm\"\n",
       "      fill=\"#000000\" stroke=\"none\" />\n",
       "<rect x=\"0.0mm\" y=\"85.71428571428571mm\"\n",
       "      width=\"4.357142857142857mm\" height=\"4.357142857142857mm\"\n",
       "      fill=\"#000000\" stroke=\"none\" />\n",
       "<rect x=\"5.357142857142857mm\" y=\"85.71428571428571mm\"\n",
       "      width=\"4.357142857142857mm\" height=\"4.357142857142857mm\"\n",
       "      fill=\"#000000\" stroke=\"none\" />\n",
       "<rect x=\"10.714285714285714mm\" y=\"85.71428571428571mm\"\n",
       "      width=\"4.357142857142857mm\" height=\"4.357142857142857mm\"\n",
       "      fill=\"#000000\" stroke=\"none\" />\n",
       "<rect x=\"16.07142857142857mm\" y=\"85.71428571428571mm\"\n",
       "      width=\"4.357142857142857mm\" height=\"4.357142857142857mm\"\n",
       "      fill=\"#000000\" stroke=\"none\" />\n",
       "<rect x=\"21.428571428571427mm\" y=\"85.71428571428571mm\"\n",
       "      width=\"4.357142857142857mm\" height=\"4.357142857142857mm\"\n",
       "      fill=\"#000000\" stroke=\"none\" />\n",
       "<rect x=\"26.785714285714285mm\" y=\"85.71428571428571mm\"\n",
       "      width=\"4.357142857142857mm\" height=\"4.357142857142857mm\"\n",
       "      fill=\"#000000\" stroke=\"none\" />\n",
       "<rect x=\"32.14285714285714mm\" y=\"85.71428571428571mm\"\n",
       "      width=\"4.357142857142857mm\" height=\"4.357142857142857mm\"\n",
       "      fill=\"#000000\" stroke=\"none\" />\n",
       "<rect x=\"37.5mm\" y=\"85.71428571428571mm\"\n",
       "      width=\"4.357142857142857mm\" height=\"4.357142857142857mm\"\n",
       "      fill=\"#000000\" stroke=\"none\" />\n",
       "<rect x=\"42.857142857142854mm\" y=\"85.71428571428571mm\"\n",
       "      width=\"4.357142857142857mm\" height=\"4.357142857142857mm\"\n",
       "      fill=\"#000000\" stroke=\"none\" />\n",
       "<rect x=\"48.21428571428571mm\" y=\"85.71428571428571mm\"\n",
       "      width=\"4.357142857142857mm\" height=\"4.357142857142857mm\"\n",
       "      fill=\"#000000\" stroke=\"none\" />\n",
       "<rect x=\"53.57142857142857mm\" y=\"85.71428571428571mm\"\n",
       "      width=\"4.357142857142857mm\" height=\"4.357142857142857mm\"\n",
       "      fill=\"#000000\" stroke=\"none\" />\n",
       "<rect x=\"58.92857142857142mm\" y=\"85.71428571428571mm\"\n",
       "      width=\"4.357142857142857mm\" height=\"4.357142857142857mm\"\n",
       "      fill=\"#000000\" stroke=\"none\" />\n",
       "<rect x=\"64.28571428571428mm\" y=\"85.71428571428571mm\"\n",
       "      width=\"4.357142857142857mm\" height=\"4.357142857142857mm\"\n",
       "      fill=\"#111111\" stroke=\"none\" />\n",
       "<rect x=\"69.64285714285714mm\" y=\"85.71428571428571mm\"\n",
       "      width=\"4.357142857142857mm\" height=\"4.357142857142857mm\"\n",
       "      fill=\"#919191\" stroke=\"none\" />\n",
       "<rect x=\"75.0mm\" y=\"85.71428571428571mm\"\n",
       "      width=\"4.357142857142857mm\" height=\"4.357142857142857mm\"\n",
       "      fill=\"#FDFDFD\" stroke=\"none\" />\n",
       "<rect x=\"80.35714285714285mm\" y=\"85.71428571428571mm\"\n",
       "      width=\"4.357142857142857mm\" height=\"4.357142857142857mm\"\n",
       "      fill=\"#E7E7E7\" stroke=\"none\" />\n",
       "<rect x=\"85.71428571428571mm\" y=\"85.71428571428571mm\"\n",
       "      width=\"4.357142857142857mm\" height=\"4.357142857142857mm\"\n",
       "      fill=\"#232323\" stroke=\"none\" />\n",
       "<rect x=\"91.07142857142857mm\" y=\"85.71428571428571mm\"\n",
       "      width=\"4.357142857142857mm\" height=\"4.357142857142857mm\"\n",
       "      fill=\"#000000\" stroke=\"none\" />\n",
       "<rect x=\"96.42857142857142mm\" y=\"85.71428571428571mm\"\n",
       "      width=\"4.357142857142857mm\" height=\"4.357142857142857mm\"\n",
       "      fill=\"#000000\" stroke=\"none\" />\n",
       "<rect x=\"101.78571428571428mm\" y=\"85.71428571428571mm\"\n",
       "      width=\"4.357142857142857mm\" height=\"4.357142857142857mm\"\n",
       "      fill=\"#000000\" stroke=\"none\" />\n",
       "<rect x=\"107.14285714285714mm\" y=\"85.71428571428571mm\"\n",
       "      width=\"4.357142857142857mm\" height=\"4.357142857142857mm\"\n",
       "      fill=\"#000000\" stroke=\"none\" />\n",
       "<rect x=\"112.49999999999999mm\" y=\"85.71428571428571mm\"\n",
       "      width=\"4.357142857142857mm\" height=\"4.357142857142857mm\"\n",
       "      fill=\"#000000\" stroke=\"none\" />\n",
       "<rect x=\"117.85714285714285mm\" y=\"85.71428571428571mm\"\n",
       "      width=\"4.357142857142857mm\" height=\"4.357142857142857mm\"\n",
       "      fill=\"#000000\" stroke=\"none\" />\n",
       "<rect x=\"123.21428571428571mm\" y=\"85.71428571428571mm\"\n",
       "      width=\"4.357142857142857mm\" height=\"4.357142857142857mm\"\n",
       "      fill=\"#000000\" stroke=\"none\" />\n",
       "<rect x=\"128.57142857142856mm\" y=\"85.71428571428571mm\"\n",
       "      width=\"4.357142857142857mm\" height=\"4.357142857142857mm\"\n",
       "      fill=\"#000000\" stroke=\"none\" />\n",
       "<rect x=\"133.92857142857142mm\" y=\"85.71428571428571mm\"\n",
       "      width=\"4.357142857142857mm\" height=\"4.357142857142857mm\"\n",
       "      fill=\"#000000\" stroke=\"none\" />\n",
       "<rect x=\"139.28571428571428mm\" y=\"85.71428571428571mm\"\n",
       "      width=\"4.357142857142857mm\" height=\"4.357142857142857mm\"\n",
       "      fill=\"#000000\" stroke=\"none\" />\n",
       "<rect x=\"144.64285714285714mm\" y=\"85.71428571428571mm\"\n",
       "      width=\"4.357142857142857mm\" height=\"4.357142857142857mm\"\n",
       "      fill=\"#000000\" stroke=\"none\" />\n",
       "<rect x=\"0.0mm\" y=\"91.07142857142857mm\"\n",
       "      width=\"4.357142857142857mm\" height=\"4.357142857142857mm\"\n",
       "      fill=\"#000000\" stroke=\"none\" />\n",
       "<rect x=\"5.357142857142857mm\" y=\"91.07142857142857mm\"\n",
       "      width=\"4.357142857142857mm\" height=\"4.357142857142857mm\"\n",
       "      fill=\"#000000\" stroke=\"none\" />\n",
       "<rect x=\"10.714285714285714mm\" y=\"91.07142857142857mm\"\n",
       "      width=\"4.357142857142857mm\" height=\"4.357142857142857mm\"\n",
       "      fill=\"#000000\" stroke=\"none\" />\n",
       "<rect x=\"16.07142857142857mm\" y=\"91.07142857142857mm\"\n",
       "      width=\"4.357142857142857mm\" height=\"4.357142857142857mm\"\n",
       "      fill=\"#000000\" stroke=\"none\" />\n",
       "<rect x=\"21.428571428571427mm\" y=\"91.07142857142857mm\"\n",
       "      width=\"4.357142857142857mm\" height=\"4.357142857142857mm\"\n",
       "      fill=\"#000000\" stroke=\"none\" />\n",
       "<rect x=\"26.785714285714285mm\" y=\"91.07142857142857mm\"\n",
       "      width=\"4.357142857142857mm\" height=\"4.357142857142857mm\"\n",
       "      fill=\"#000000\" stroke=\"none\" />\n",
       "<rect x=\"32.14285714285714mm\" y=\"91.07142857142857mm\"\n",
       "      width=\"4.357142857142857mm\" height=\"4.357142857142857mm\"\n",
       "      fill=\"#000000\" stroke=\"none\" />\n",
       "<rect x=\"37.5mm\" y=\"91.07142857142857mm\"\n",
       "      width=\"4.357142857142857mm\" height=\"4.357142857142857mm\"\n",
       "      fill=\"#000000\" stroke=\"none\" />\n",
       "<rect x=\"42.857142857142854mm\" y=\"91.07142857142857mm\"\n",
       "      width=\"4.357142857142857mm\" height=\"4.357142857142857mm\"\n",
       "      fill=\"#000000\" stroke=\"none\" />\n",
       "<rect x=\"48.21428571428571mm\" y=\"91.07142857142857mm\"\n",
       "      width=\"4.357142857142857mm\" height=\"4.357142857142857mm\"\n",
       "      fill=\"#000000\" stroke=\"none\" />\n",
       "<rect x=\"53.57142857142857mm\" y=\"91.07142857142857mm\"\n",
       "      width=\"4.357142857142857mm\" height=\"4.357142857142857mm\"\n",
       "      fill=\"#000000\" stroke=\"none\" />\n",
       "<rect x=\"58.92857142857142mm\" y=\"91.07142857142857mm\"\n",
       "      width=\"4.357142857142857mm\" height=\"4.357142857142857mm\"\n",
       "      fill=\"#000000\" stroke=\"none\" />\n",
       "<rect x=\"64.28571428571428mm\" y=\"91.07142857142857mm\"\n",
       "      width=\"4.357142857142857mm\" height=\"4.357142857142857mm\"\n",
       "      fill=\"#454545\" stroke=\"none\" />\n",
       "<rect x=\"69.64285714285714mm\" y=\"91.07142857142857mm\"\n",
       "      width=\"4.357142857142857mm\" height=\"4.357142857142857mm\"\n",
       "      fill=\"#DCDCDC\" stroke=\"none\" />\n",
       "<rect x=\"75.0mm\" y=\"91.07142857142857mm\"\n",
       "      width=\"4.357142857142857mm\" height=\"4.357142857142857mm\"\n",
       "      fill=\"#E7E7E7\" stroke=\"none\" />\n",
       "<rect x=\"80.35714285714285mm\" y=\"91.07142857142857mm\"\n",
       "      width=\"4.357142857142857mm\" height=\"4.357142857142857mm\"\n",
       "      fill=\"#7B7B7B\" stroke=\"none\" />\n",
       "<rect x=\"85.71428571428571mm\" y=\"91.07142857142857mm\"\n",
       "      width=\"4.357142857142857mm\" height=\"4.357142857142857mm\"\n",
       "      fill=\"#000000\" stroke=\"none\" />\n",
       "<rect x=\"91.07142857142857mm\" y=\"91.07142857142857mm\"\n",
       "      width=\"4.357142857142857mm\" height=\"4.357142857142857mm\"\n",
       "      fill=\"#000000\" stroke=\"none\" />\n",
       "<rect x=\"96.42857142857142mm\" y=\"91.07142857142857mm\"\n",
       "      width=\"4.357142857142857mm\" height=\"4.357142857142857mm\"\n",
       "      fill=\"#000000\" stroke=\"none\" />\n",
       "<rect x=\"101.78571428571428mm\" y=\"91.07142857142857mm\"\n",
       "      width=\"4.357142857142857mm\" height=\"4.357142857142857mm\"\n",
       "      fill=\"#000000\" stroke=\"none\" />\n",
       "<rect x=\"107.14285714285714mm\" y=\"91.07142857142857mm\"\n",
       "      width=\"4.357142857142857mm\" height=\"4.357142857142857mm\"\n",
       "      fill=\"#000000\" stroke=\"none\" />\n",
       "<rect x=\"112.49999999999999mm\" y=\"91.07142857142857mm\"\n",
       "      width=\"4.357142857142857mm\" height=\"4.357142857142857mm\"\n",
       "      fill=\"#000000\" stroke=\"none\" />\n",
       "<rect x=\"117.85714285714285mm\" y=\"91.07142857142857mm\"\n",
       "      width=\"4.357142857142857mm\" height=\"4.357142857142857mm\"\n",
       "      fill=\"#000000\" stroke=\"none\" />\n",
       "<rect x=\"123.21428571428571mm\" y=\"91.07142857142857mm\"\n",
       "      width=\"4.357142857142857mm\" height=\"4.357142857142857mm\"\n",
       "      fill=\"#000000\" stroke=\"none\" />\n",
       "<rect x=\"128.57142857142856mm\" y=\"91.07142857142857mm\"\n",
       "      width=\"4.357142857142857mm\" height=\"4.357142857142857mm\"\n",
       "      fill=\"#000000\" stroke=\"none\" />\n",
       "<rect x=\"133.92857142857142mm\" y=\"91.07142857142857mm\"\n",
       "      width=\"4.357142857142857mm\" height=\"4.357142857142857mm\"\n",
       "      fill=\"#000000\" stroke=\"none\" />\n",
       "<rect x=\"139.28571428571428mm\" y=\"91.07142857142857mm\"\n",
       "      width=\"4.357142857142857mm\" height=\"4.357142857142857mm\"\n",
       "      fill=\"#000000\" stroke=\"none\" />\n",
       "<rect x=\"144.64285714285714mm\" y=\"91.07142857142857mm\"\n",
       "      width=\"4.357142857142857mm\" height=\"4.357142857142857mm\"\n",
       "      fill=\"#000000\" stroke=\"none\" />\n",
       "<rect x=\"0.0mm\" y=\"96.42857142857142mm\"\n",
       "      width=\"4.357142857142857mm\" height=\"4.357142857142857mm\"\n",
       "      fill=\"#000000\" stroke=\"none\" />\n",
       "<rect x=\"5.357142857142857mm\" y=\"96.42857142857142mm\"\n",
       "      width=\"4.357142857142857mm\" height=\"4.357142857142857mm\"\n",
       "      fill=\"#000000\" stroke=\"none\" />\n",
       "<rect x=\"10.714285714285714mm\" y=\"96.42857142857142mm\"\n",
       "      width=\"4.357142857142857mm\" height=\"4.357142857142857mm\"\n",
       "      fill=\"#000000\" stroke=\"none\" />\n",
       "<rect x=\"16.07142857142857mm\" y=\"96.42857142857142mm\"\n",
       "      width=\"4.357142857142857mm\" height=\"4.357142857142857mm\"\n",
       "      fill=\"#000000\" stroke=\"none\" />\n",
       "<rect x=\"21.428571428571427mm\" y=\"96.42857142857142mm\"\n",
       "      width=\"4.357142857142857mm\" height=\"4.357142857142857mm\"\n",
       "      fill=\"#000000\" stroke=\"none\" />\n",
       "<rect x=\"26.785714285714285mm\" y=\"96.42857142857142mm\"\n",
       "      width=\"4.357142857142857mm\" height=\"4.357142857142857mm\"\n",
       "      fill=\"#000000\" stroke=\"none\" />\n",
       "<rect x=\"32.14285714285714mm\" y=\"96.42857142857142mm\"\n",
       "      width=\"4.357142857142857mm\" height=\"4.357142857142857mm\"\n",
       "      fill=\"#000000\" stroke=\"none\" />\n",
       "<rect x=\"37.5mm\" y=\"96.42857142857142mm\"\n",
       "      width=\"4.357142857142857mm\" height=\"4.357142857142857mm\"\n",
       "      fill=\"#000000\" stroke=\"none\" />\n",
       "<rect x=\"42.857142857142854mm\" y=\"96.42857142857142mm\"\n",
       "      width=\"4.357142857142857mm\" height=\"4.357142857142857mm\"\n",
       "      fill=\"#000000\" stroke=\"none\" />\n",
       "<rect x=\"48.21428571428571mm\" y=\"96.42857142857142mm\"\n",
       "      width=\"4.357142857142857mm\" height=\"4.357142857142857mm\"\n",
       "      fill=\"#000000\" stroke=\"none\" />\n",
       "<rect x=\"53.57142857142857mm\" y=\"96.42857142857142mm\"\n",
       "      width=\"4.357142857142857mm\" height=\"4.357142857142857mm\"\n",
       "      fill=\"#000000\" stroke=\"none\" />\n",
       "<rect x=\"58.92857142857142mm\" y=\"96.42857142857142mm\"\n",
       "      width=\"4.357142857142857mm\" height=\"4.357142857142857mm\"\n",
       "      fill=\"#121212\" stroke=\"none\" />\n",
       "<rect x=\"64.28571428571428mm\" y=\"96.42857142857142mm\"\n",
       "      width=\"4.357142857142857mm\" height=\"4.357142857142857mm\"\n",
       "      fill=\"#CDCDCD\" stroke=\"none\" />\n",
       "<rect x=\"69.64285714285714mm\" y=\"96.42857142857142mm\"\n",
       "      width=\"4.357142857142857mm\" height=\"4.357142857142857mm\"\n",
       "      fill=\"#FDFDFD\" stroke=\"none\" />\n",
       "<rect x=\"75.0mm\" y=\"96.42857142857142mm\"\n",
       "      width=\"4.357142857142857mm\" height=\"4.357142857142857mm\"\n",
       "      fill=\"#B0B0B0\" stroke=\"none\" />\n",
       "<rect x=\"80.35714285714285mm\" y=\"96.42857142857142mm\"\n",
       "      width=\"4.357142857142857mm\" height=\"4.357142857142857mm\"\n",
       "      fill=\"#1B1B1B\" stroke=\"none\" />\n",
       "<rect x=\"85.71428571428571mm\" y=\"96.42857142857142mm\"\n",
       "      width=\"4.357142857142857mm\" height=\"4.357142857142857mm\"\n",
       "      fill=\"#000000\" stroke=\"none\" />\n",
       "<rect x=\"91.07142857142857mm\" y=\"96.42857142857142mm\"\n",
       "      width=\"4.357142857142857mm\" height=\"4.357142857142857mm\"\n",
       "      fill=\"#000000\" stroke=\"none\" />\n",
       "<rect x=\"96.42857142857142mm\" y=\"96.42857142857142mm\"\n",
       "      width=\"4.357142857142857mm\" height=\"4.357142857142857mm\"\n",
       "      fill=\"#000000\" stroke=\"none\" />\n",
       "<rect x=\"101.78571428571428mm\" y=\"96.42857142857142mm\"\n",
       "      width=\"4.357142857142857mm\" height=\"4.357142857142857mm\"\n",
       "      fill=\"#000000\" stroke=\"none\" />\n",
       "<rect x=\"107.14285714285714mm\" y=\"96.42857142857142mm\"\n",
       "      width=\"4.357142857142857mm\" height=\"4.357142857142857mm\"\n",
       "      fill=\"#000000\" stroke=\"none\" />\n",
       "<rect x=\"112.49999999999999mm\" y=\"96.42857142857142mm\"\n",
       "      width=\"4.357142857142857mm\" height=\"4.357142857142857mm\"\n",
       "      fill=\"#000000\" stroke=\"none\" />\n",
       "<rect x=\"117.85714285714285mm\" y=\"96.42857142857142mm\"\n",
       "      width=\"4.357142857142857mm\" height=\"4.357142857142857mm\"\n",
       "      fill=\"#000000\" stroke=\"none\" />\n",
       "<rect x=\"123.21428571428571mm\" y=\"96.42857142857142mm\"\n",
       "      width=\"4.357142857142857mm\" height=\"4.357142857142857mm\"\n",
       "      fill=\"#000000\" stroke=\"none\" />\n",
       "<rect x=\"128.57142857142856mm\" y=\"96.42857142857142mm\"\n",
       "      width=\"4.357142857142857mm\" height=\"4.357142857142857mm\"\n",
       "      fill=\"#000000\" stroke=\"none\" />\n",
       "<rect x=\"133.92857142857142mm\" y=\"96.42857142857142mm\"\n",
       "      width=\"4.357142857142857mm\" height=\"4.357142857142857mm\"\n",
       "      fill=\"#000000\" stroke=\"none\" />\n",
       "<rect x=\"139.28571428571428mm\" y=\"96.42857142857142mm\"\n",
       "      width=\"4.357142857142857mm\" height=\"4.357142857142857mm\"\n",
       "      fill=\"#000000\" stroke=\"none\" />\n",
       "<rect x=\"144.64285714285714mm\" y=\"96.42857142857142mm\"\n",
       "      width=\"4.357142857142857mm\" height=\"4.357142857142857mm\"\n",
       "      fill=\"#000000\" stroke=\"none\" />\n",
       "<rect x=\"0.0mm\" y=\"101.78571428571428mm\"\n",
       "      width=\"4.357142857142857mm\" height=\"4.357142857142857mm\"\n",
       "      fill=\"#000000\" stroke=\"none\" />\n",
       "<rect x=\"5.357142857142857mm\" y=\"101.78571428571428mm\"\n",
       "      width=\"4.357142857142857mm\" height=\"4.357142857142857mm\"\n",
       "      fill=\"#000000\" stroke=\"none\" />\n",
       "<rect x=\"10.714285714285714mm\" y=\"101.78571428571428mm\"\n",
       "      width=\"4.357142857142857mm\" height=\"4.357142857142857mm\"\n",
       "      fill=\"#000000\" stroke=\"none\" />\n",
       "<rect x=\"16.07142857142857mm\" y=\"101.78571428571428mm\"\n",
       "      width=\"4.357142857142857mm\" height=\"4.357142857142857mm\"\n",
       "      fill=\"#000000\" stroke=\"none\" />\n",
       "<rect x=\"21.428571428571427mm\" y=\"101.78571428571428mm\"\n",
       "      width=\"4.357142857142857mm\" height=\"4.357142857142857mm\"\n",
       "      fill=\"#000000\" stroke=\"none\" />\n",
       "<rect x=\"26.785714285714285mm\" y=\"101.78571428571428mm\"\n",
       "      width=\"4.357142857142857mm\" height=\"4.357142857142857mm\"\n",
       "      fill=\"#000000\" stroke=\"none\" />\n",
       "<rect x=\"32.14285714285714mm\" y=\"101.78571428571428mm\"\n",
       "      width=\"4.357142857142857mm\" height=\"4.357142857142857mm\"\n",
       "      fill=\"#000000\" stroke=\"none\" />\n",
       "<rect x=\"37.5mm\" y=\"101.78571428571428mm\"\n",
       "      width=\"4.357142857142857mm\" height=\"4.357142857142857mm\"\n",
       "      fill=\"#000000\" stroke=\"none\" />\n",
       "<rect x=\"42.857142857142854mm\" y=\"101.78571428571428mm\"\n",
       "      width=\"4.357142857142857mm\" height=\"4.357142857142857mm\"\n",
       "      fill=\"#000000\" stroke=\"none\" />\n",
       "<rect x=\"48.21428571428571mm\" y=\"101.78571428571428mm\"\n",
       "      width=\"4.357142857142857mm\" height=\"4.357142857142857mm\"\n",
       "      fill=\"#000000\" stroke=\"none\" />\n",
       "<rect x=\"53.57142857142857mm\" y=\"101.78571428571428mm\"\n",
       "      width=\"4.357142857142857mm\" height=\"4.357142857142857mm\"\n",
       "      fill=\"#111111\" stroke=\"none\" />\n",
       "<rect x=\"58.92857142857142mm\" y=\"101.78571428571428mm\"\n",
       "      width=\"4.357142857142857mm\" height=\"4.357142857142857mm\"\n",
       "      fill=\"#7D7D7D\" stroke=\"none\" />\n",
       "<rect x=\"64.28571428571428mm\" y=\"101.78571428571428mm\"\n",
       "      width=\"4.357142857142857mm\" height=\"4.357142857142857mm\"\n",
       "      fill=\"#FDFDFD\" stroke=\"none\" />\n",
       "<rect x=\"69.64285714285714mm\" y=\"101.78571428571428mm\"\n",
       "      width=\"4.357142857142857mm\" height=\"4.357142857142857mm\"\n",
       "      fill=\"#B9B9B9\" stroke=\"none\" />\n",
       "<rect x=\"75.0mm\" y=\"101.78571428571428mm\"\n",
       "      width=\"4.357142857142857mm\" height=\"4.357142857142857mm\"\n",
       "      fill=\"#272727\" stroke=\"none\" />\n",
       "<rect x=\"80.35714285714285mm\" y=\"101.78571428571428mm\"\n",
       "      width=\"4.357142857142857mm\" height=\"4.357142857142857mm\"\n",
       "      fill=\"#000000\" stroke=\"none\" />\n",
       "<rect x=\"85.71428571428571mm\" y=\"101.78571428571428mm\"\n",
       "      width=\"4.357142857142857mm\" height=\"4.357142857142857mm\"\n",
       "      fill=\"#000000\" stroke=\"none\" />\n",
       "<rect x=\"91.07142857142857mm\" y=\"101.78571428571428mm\"\n",
       "      width=\"4.357142857142857mm\" height=\"4.357142857142857mm\"\n",
       "      fill=\"#000000\" stroke=\"none\" />\n",
       "<rect x=\"96.42857142857142mm\" y=\"101.78571428571428mm\"\n",
       "      width=\"4.357142857142857mm\" height=\"4.357142857142857mm\"\n",
       "      fill=\"#000000\" stroke=\"none\" />\n",
       "<rect x=\"101.78571428571428mm\" y=\"101.78571428571428mm\"\n",
       "      width=\"4.357142857142857mm\" height=\"4.357142857142857mm\"\n",
       "      fill=\"#000000\" stroke=\"none\" />\n",
       "<rect x=\"107.14285714285714mm\" y=\"101.78571428571428mm\"\n",
       "      width=\"4.357142857142857mm\" height=\"4.357142857142857mm\"\n",
       "      fill=\"#000000\" stroke=\"none\" />\n",
       "<rect x=\"112.49999999999999mm\" y=\"101.78571428571428mm\"\n",
       "      width=\"4.357142857142857mm\" height=\"4.357142857142857mm\"\n",
       "      fill=\"#000000\" stroke=\"none\" />\n",
       "<rect x=\"117.85714285714285mm\" y=\"101.78571428571428mm\"\n",
       "      width=\"4.357142857142857mm\" height=\"4.357142857142857mm\"\n",
       "      fill=\"#000000\" stroke=\"none\" />\n",
       "<rect x=\"123.21428571428571mm\" y=\"101.78571428571428mm\"\n",
       "      width=\"4.357142857142857mm\" height=\"4.357142857142857mm\"\n",
       "      fill=\"#000000\" stroke=\"none\" />\n",
       "<rect x=\"128.57142857142856mm\" y=\"101.78571428571428mm\"\n",
       "      width=\"4.357142857142857mm\" height=\"4.357142857142857mm\"\n",
       "      fill=\"#000000\" stroke=\"none\" />\n",
       "<rect x=\"133.92857142857142mm\" y=\"101.78571428571428mm\"\n",
       "      width=\"4.357142857142857mm\" height=\"4.357142857142857mm\"\n",
       "      fill=\"#000000\" stroke=\"none\" />\n",
       "<rect x=\"139.28571428571428mm\" y=\"101.78571428571428mm\"\n",
       "      width=\"4.357142857142857mm\" height=\"4.357142857142857mm\"\n",
       "      fill=\"#000000\" stroke=\"none\" />\n",
       "<rect x=\"144.64285714285714mm\" y=\"101.78571428571428mm\"\n",
       "      width=\"4.357142857142857mm\" height=\"4.357142857142857mm\"\n",
       "      fill=\"#000000\" stroke=\"none\" />\n",
       "<rect x=\"0.0mm\" y=\"107.14285714285714mm\"\n",
       "      width=\"4.357142857142857mm\" height=\"4.357142857142857mm\"\n",
       "      fill=\"#000000\" stroke=\"none\" />\n",
       "<rect x=\"5.357142857142857mm\" y=\"107.14285714285714mm\"\n",
       "      width=\"4.357142857142857mm\" height=\"4.357142857142857mm\"\n",
       "      fill=\"#000000\" stroke=\"none\" />\n",
       "<rect x=\"10.714285714285714mm\" y=\"107.14285714285714mm\"\n",
       "      width=\"4.357142857142857mm\" height=\"4.357142857142857mm\"\n",
       "      fill=\"#000000\" stroke=\"none\" />\n",
       "<rect x=\"16.07142857142857mm\" y=\"107.14285714285714mm\"\n",
       "      width=\"4.357142857142857mm\" height=\"4.357142857142857mm\"\n",
       "      fill=\"#000000\" stroke=\"none\" />\n",
       "<rect x=\"21.428571428571427mm\" y=\"107.14285714285714mm\"\n",
       "      width=\"4.357142857142857mm\" height=\"4.357142857142857mm\"\n",
       "      fill=\"#000000\" stroke=\"none\" />\n",
       "<rect x=\"26.785714285714285mm\" y=\"107.14285714285714mm\"\n",
       "      width=\"4.357142857142857mm\" height=\"4.357142857142857mm\"\n",
       "      fill=\"#000000\" stroke=\"none\" />\n",
       "<rect x=\"32.14285714285714mm\" y=\"107.14285714285714mm\"\n",
       "      width=\"4.357142857142857mm\" height=\"4.357142857142857mm\"\n",
       "      fill=\"#000000\" stroke=\"none\" />\n",
       "<rect x=\"37.5mm\" y=\"107.14285714285714mm\"\n",
       "      width=\"4.357142857142857mm\" height=\"4.357142857142857mm\"\n",
       "      fill=\"#000000\" stroke=\"none\" />\n",
       "<rect x=\"42.857142857142854mm\" y=\"107.14285714285714mm\"\n",
       "      width=\"4.357142857142857mm\" height=\"4.357142857142857mm\"\n",
       "      fill=\"#000000\" stroke=\"none\" />\n",
       "<rect x=\"48.21428571428571mm\" y=\"107.14285714285714mm\"\n",
       "      width=\"4.357142857142857mm\" height=\"4.357142857142857mm\"\n",
       "      fill=\"#000000\" stroke=\"none\" />\n",
       "<rect x=\"53.57142857142857mm\" y=\"107.14285714285714mm\"\n",
       "      width=\"4.357142857142857mm\" height=\"4.357142857142857mm\"\n",
       "      fill=\"#474747\" stroke=\"none\" />\n",
       "<rect x=\"58.92857142857142mm\" y=\"107.14285714285714mm\"\n",
       "      width=\"4.357142857142857mm\" height=\"4.357142857142857mm\"\n",
       "      fill=\"#D6D6D6\" stroke=\"none\" />\n",
       "<rect x=\"64.28571428571428mm\" y=\"107.14285714285714mm\"\n",
       "      width=\"4.357142857142857mm\" height=\"4.357142857142857mm\"\n",
       "      fill=\"#E7E7E7\" stroke=\"none\" />\n",
       "<rect x=\"69.64285714285714mm\" y=\"107.14285714285714mm\"\n",
       "      width=\"4.357142857142857mm\" height=\"4.357142857142857mm\"\n",
       "      fill=\"#292929\" stroke=\"none\" />\n",
       "<rect x=\"75.0mm\" y=\"107.14285714285714mm\"\n",
       "      width=\"4.357142857142857mm\" height=\"4.357142857142857mm\"\n",
       "      fill=\"#000000\" stroke=\"none\" />\n",
       "<rect x=\"80.35714285714285mm\" y=\"107.14285714285714mm\"\n",
       "      width=\"4.357142857142857mm\" height=\"4.357142857142857mm\"\n",
       "      fill=\"#000000\" stroke=\"none\" />\n",
       "<rect x=\"85.71428571428571mm\" y=\"107.14285714285714mm\"\n",
       "      width=\"4.357142857142857mm\" height=\"4.357142857142857mm\"\n",
       "      fill=\"#000000\" stroke=\"none\" />\n",
       "<rect x=\"91.07142857142857mm\" y=\"107.14285714285714mm\"\n",
       "      width=\"4.357142857142857mm\" height=\"4.357142857142857mm\"\n",
       "      fill=\"#000000\" stroke=\"none\" />\n",
       "<rect x=\"96.42857142857142mm\" y=\"107.14285714285714mm\"\n",
       "      width=\"4.357142857142857mm\" height=\"4.357142857142857mm\"\n",
       "      fill=\"#000000\" stroke=\"none\" />\n",
       "<rect x=\"101.78571428571428mm\" y=\"107.14285714285714mm\"\n",
       "      width=\"4.357142857142857mm\" height=\"4.357142857142857mm\"\n",
       "      fill=\"#000000\" stroke=\"none\" />\n",
       "<rect x=\"107.14285714285714mm\" y=\"107.14285714285714mm\"\n",
       "      width=\"4.357142857142857mm\" height=\"4.357142857142857mm\"\n",
       "      fill=\"#000000\" stroke=\"none\" />\n",
       "<rect x=\"112.49999999999999mm\" y=\"107.14285714285714mm\"\n",
       "      width=\"4.357142857142857mm\" height=\"4.357142857142857mm\"\n",
       "      fill=\"#000000\" stroke=\"none\" />\n",
       "<rect x=\"117.85714285714285mm\" y=\"107.14285714285714mm\"\n",
       "      width=\"4.357142857142857mm\" height=\"4.357142857142857mm\"\n",
       "      fill=\"#000000\" stroke=\"none\" />\n",
       "<rect x=\"123.21428571428571mm\" y=\"107.14285714285714mm\"\n",
       "      width=\"4.357142857142857mm\" height=\"4.357142857142857mm\"\n",
       "      fill=\"#000000\" stroke=\"none\" />\n",
       "<rect x=\"128.57142857142856mm\" y=\"107.14285714285714mm\"\n",
       "      width=\"4.357142857142857mm\" height=\"4.357142857142857mm\"\n",
       "      fill=\"#000000\" stroke=\"none\" />\n",
       "<rect x=\"133.92857142857142mm\" y=\"107.14285714285714mm\"\n",
       "      width=\"4.357142857142857mm\" height=\"4.357142857142857mm\"\n",
       "      fill=\"#000000\" stroke=\"none\" />\n",
       "<rect x=\"139.28571428571428mm\" y=\"107.14285714285714mm\"\n",
       "      width=\"4.357142857142857mm\" height=\"4.357142857142857mm\"\n",
       "      fill=\"#000000\" stroke=\"none\" />\n",
       "<rect x=\"144.64285714285714mm\" y=\"107.14285714285714mm\"\n",
       "      width=\"4.357142857142857mm\" height=\"4.357142857142857mm\"\n",
       "      fill=\"#000000\" stroke=\"none\" />\n",
       "<rect x=\"0.0mm\" y=\"112.49999999999999mm\"\n",
       "      width=\"4.357142857142857mm\" height=\"4.357142857142857mm\"\n",
       "      fill=\"#000000\" stroke=\"none\" />\n",
       "<rect x=\"5.357142857142857mm\" y=\"112.49999999999999mm\"\n",
       "      width=\"4.357142857142857mm\" height=\"4.357142857142857mm\"\n",
       "      fill=\"#000000\" stroke=\"none\" />\n",
       "<rect x=\"10.714285714285714mm\" y=\"112.49999999999999mm\"\n",
       "      width=\"4.357142857142857mm\" height=\"4.357142857142857mm\"\n",
       "      fill=\"#000000\" stroke=\"none\" />\n",
       "<rect x=\"16.07142857142857mm\" y=\"112.49999999999999mm\"\n",
       "      width=\"4.357142857142857mm\" height=\"4.357142857142857mm\"\n",
       "      fill=\"#000000\" stroke=\"none\" />\n",
       "<rect x=\"21.428571428571427mm\" y=\"112.49999999999999mm\"\n",
       "      width=\"4.357142857142857mm\" height=\"4.357142857142857mm\"\n",
       "      fill=\"#000000\" stroke=\"none\" />\n",
       "<rect x=\"26.785714285714285mm\" y=\"112.49999999999999mm\"\n",
       "      width=\"4.357142857142857mm\" height=\"4.357142857142857mm\"\n",
       "      fill=\"#000000\" stroke=\"none\" />\n",
       "<rect x=\"32.14285714285714mm\" y=\"112.49999999999999mm\"\n",
       "      width=\"4.357142857142857mm\" height=\"4.357142857142857mm\"\n",
       "      fill=\"#000000\" stroke=\"none\" />\n",
       "<rect x=\"37.5mm\" y=\"112.49999999999999mm\"\n",
       "      width=\"4.357142857142857mm\" height=\"4.357142857142857mm\"\n",
       "      fill=\"#000000\" stroke=\"none\" />\n",
       "<rect x=\"42.857142857142854mm\" y=\"112.49999999999999mm\"\n",
       "      width=\"4.357142857142857mm\" height=\"4.357142857142857mm\"\n",
       "      fill=\"#000000\" stroke=\"none\" />\n",
       "<rect x=\"48.21428571428571mm\" y=\"112.49999999999999mm\"\n",
       "      width=\"4.357142857142857mm\" height=\"4.357142857142857mm\"\n",
       "      fill=\"#000000\" stroke=\"none\" />\n",
       "<rect x=\"53.57142857142857mm\" y=\"112.49999999999999mm\"\n",
       "      width=\"4.357142857142857mm\" height=\"4.357142857142857mm\"\n",
       "      fill=\"#A7A7A7\" stroke=\"none\" />\n",
       "<rect x=\"58.92857142857142mm\" y=\"112.49999999999999mm\"\n",
       "      width=\"4.357142857142857mm\" height=\"4.357142857142857mm\"\n",
       "      fill=\"#FDFDFD\" stroke=\"none\" />\n",
       "<rect x=\"64.28571428571428mm\" y=\"112.49999999999999mm\"\n",
       "      width=\"4.357142857142857mm\" height=\"4.357142857142857mm\"\n",
       "      fill=\"#E1E1E1\" stroke=\"none\" />\n",
       "<rect x=\"69.64285714285714mm\" y=\"112.49999999999999mm\"\n",
       "      width=\"4.357142857142857mm\" height=\"4.357142857142857mm\"\n",
       "      fill=\"#212121\" stroke=\"none\" />\n",
       "<rect x=\"75.0mm\" y=\"112.49999999999999mm\"\n",
       "      width=\"4.357142857142857mm\" height=\"4.357142857142857mm\"\n",
       "      fill=\"#000000\" stroke=\"none\" />\n",
       "<rect x=\"80.35714285714285mm\" y=\"112.49999999999999mm\"\n",
       "      width=\"4.357142857142857mm\" height=\"4.357142857142857mm\"\n",
       "      fill=\"#000000\" stroke=\"none\" />\n",
       "<rect x=\"85.71428571428571mm\" y=\"112.49999999999999mm\"\n",
       "      width=\"4.357142857142857mm\" height=\"4.357142857142857mm\"\n",
       "      fill=\"#000000\" stroke=\"none\" />\n",
       "<rect x=\"91.07142857142857mm\" y=\"112.49999999999999mm\"\n",
       "      width=\"4.357142857142857mm\" height=\"4.357142857142857mm\"\n",
       "      fill=\"#000000\" stroke=\"none\" />\n",
       "<rect x=\"96.42857142857142mm\" y=\"112.49999999999999mm\"\n",
       "      width=\"4.357142857142857mm\" height=\"4.357142857142857mm\"\n",
       "      fill=\"#000000\" stroke=\"none\" />\n",
       "<rect x=\"101.78571428571428mm\" y=\"112.49999999999999mm\"\n",
       "      width=\"4.357142857142857mm\" height=\"4.357142857142857mm\"\n",
       "      fill=\"#000000\" stroke=\"none\" />\n",
       "<rect x=\"107.14285714285714mm\" y=\"112.49999999999999mm\"\n",
       "      width=\"4.357142857142857mm\" height=\"4.357142857142857mm\"\n",
       "      fill=\"#000000\" stroke=\"none\" />\n",
       "<rect x=\"112.49999999999999mm\" y=\"112.49999999999999mm\"\n",
       "      width=\"4.357142857142857mm\" height=\"4.357142857142857mm\"\n",
       "      fill=\"#000000\" stroke=\"none\" />\n",
       "<rect x=\"117.85714285714285mm\" y=\"112.49999999999999mm\"\n",
       "      width=\"4.357142857142857mm\" height=\"4.357142857142857mm\"\n",
       "      fill=\"#000000\" stroke=\"none\" />\n",
       "<rect x=\"123.21428571428571mm\" y=\"112.49999999999999mm\"\n",
       "      width=\"4.357142857142857mm\" height=\"4.357142857142857mm\"\n",
       "      fill=\"#000000\" stroke=\"none\" />\n",
       "<rect x=\"128.57142857142856mm\" y=\"112.49999999999999mm\"\n",
       "      width=\"4.357142857142857mm\" height=\"4.357142857142857mm\"\n",
       "      fill=\"#000000\" stroke=\"none\" />\n",
       "<rect x=\"133.92857142857142mm\" y=\"112.49999999999999mm\"\n",
       "      width=\"4.357142857142857mm\" height=\"4.357142857142857mm\"\n",
       "      fill=\"#000000\" stroke=\"none\" />\n",
       "<rect x=\"139.28571428571428mm\" y=\"112.49999999999999mm\"\n",
       "      width=\"4.357142857142857mm\" height=\"4.357142857142857mm\"\n",
       "      fill=\"#000000\" stroke=\"none\" />\n",
       "<rect x=\"144.64285714285714mm\" y=\"112.49999999999999mm\"\n",
       "      width=\"4.357142857142857mm\" height=\"4.357142857142857mm\"\n",
       "      fill=\"#000000\" stroke=\"none\" />\n",
       "<rect x=\"0.0mm\" y=\"117.85714285714285mm\"\n",
       "      width=\"4.357142857142857mm\" height=\"4.357142857142857mm\"\n",
       "      fill=\"#000000\" stroke=\"none\" />\n",
       "<rect x=\"5.357142857142857mm\" y=\"117.85714285714285mm\"\n",
       "      width=\"4.357142857142857mm\" height=\"4.357142857142857mm\"\n",
       "      fill=\"#000000\" stroke=\"none\" />\n",
       "<rect x=\"10.714285714285714mm\" y=\"117.85714285714285mm\"\n",
       "      width=\"4.357142857142857mm\" height=\"4.357142857142857mm\"\n",
       "      fill=\"#000000\" stroke=\"none\" />\n",
       "<rect x=\"16.07142857142857mm\" y=\"117.85714285714285mm\"\n",
       "      width=\"4.357142857142857mm\" height=\"4.357142857142857mm\"\n",
       "      fill=\"#000000\" stroke=\"none\" />\n",
       "<rect x=\"21.428571428571427mm\" y=\"117.85714285714285mm\"\n",
       "      width=\"4.357142857142857mm\" height=\"4.357142857142857mm\"\n",
       "      fill=\"#000000\" stroke=\"none\" />\n",
       "<rect x=\"26.785714285714285mm\" y=\"117.85714285714285mm\"\n",
       "      width=\"4.357142857142857mm\" height=\"4.357142857142857mm\"\n",
       "      fill=\"#000000\" stroke=\"none\" />\n",
       "<rect x=\"32.14285714285714mm\" y=\"117.85714285714285mm\"\n",
       "      width=\"4.357142857142857mm\" height=\"4.357142857142857mm\"\n",
       "      fill=\"#000000\" stroke=\"none\" />\n",
       "<rect x=\"37.5mm\" y=\"117.85714285714285mm\"\n",
       "      width=\"4.357142857142857mm\" height=\"4.357142857142857mm\"\n",
       "      fill=\"#000000\" stroke=\"none\" />\n",
       "<rect x=\"42.857142857142854mm\" y=\"117.85714285714285mm\"\n",
       "      width=\"4.357142857142857mm\" height=\"4.357142857142857mm\"\n",
       "      fill=\"#000000\" stroke=\"none\" />\n",
       "<rect x=\"48.21428571428571mm\" y=\"117.85714285714285mm\"\n",
       "      width=\"4.357142857142857mm\" height=\"4.357142857142857mm\"\n",
       "      fill=\"#484848\" stroke=\"none\" />\n",
       "<rect x=\"53.57142857142857mm\" y=\"117.85714285714285mm\"\n",
       "      width=\"4.357142857142857mm\" height=\"4.357142857142857mm\"\n",
       "      fill=\"#CDCDCD\" stroke=\"none\" />\n",
       "<rect x=\"58.92857142857142mm\" y=\"117.85714285714285mm\"\n",
       "      width=\"4.357142857142857mm\" height=\"4.357142857142857mm\"\n",
       "      fill=\"#CFCFCF\" stroke=\"none\" />\n",
       "<rect x=\"64.28571428571428mm\" y=\"117.85714285714285mm\"\n",
       "      width=\"4.357142857142857mm\" height=\"4.357142857142857mm\"\n",
       "      fill=\"#0E0E0E\" stroke=\"none\" />\n",
       "<rect x=\"69.64285714285714mm\" y=\"117.85714285714285mm\"\n",
       "      width=\"4.357142857142857mm\" height=\"4.357142857142857mm\"\n",
       "      fill=\"#000000\" stroke=\"none\" />\n",
       "<rect x=\"75.0mm\" y=\"117.85714285714285mm\"\n",
       "      width=\"4.357142857142857mm\" height=\"4.357142857142857mm\"\n",
       "      fill=\"#000000\" stroke=\"none\" />\n",
       "<rect x=\"80.35714285714285mm\" y=\"117.85714285714285mm\"\n",
       "      width=\"4.357142857142857mm\" height=\"4.357142857142857mm\"\n",
       "      fill=\"#000000\" stroke=\"none\" />\n",
       "<rect x=\"85.71428571428571mm\" y=\"117.85714285714285mm\"\n",
       "      width=\"4.357142857142857mm\" height=\"4.357142857142857mm\"\n",
       "      fill=\"#000000\" stroke=\"none\" />\n",
       "<rect x=\"91.07142857142857mm\" y=\"117.85714285714285mm\"\n",
       "      width=\"4.357142857142857mm\" height=\"4.357142857142857mm\"\n",
       "      fill=\"#000000\" stroke=\"none\" />\n",
       "<rect x=\"96.42857142857142mm\" y=\"117.85714285714285mm\"\n",
       "      width=\"4.357142857142857mm\" height=\"4.357142857142857mm\"\n",
       "      fill=\"#000000\" stroke=\"none\" />\n",
       "<rect x=\"101.78571428571428mm\" y=\"117.85714285714285mm\"\n",
       "      width=\"4.357142857142857mm\" height=\"4.357142857142857mm\"\n",
       "      fill=\"#000000\" stroke=\"none\" />\n",
       "<rect x=\"107.14285714285714mm\" y=\"117.85714285714285mm\"\n",
       "      width=\"4.357142857142857mm\" height=\"4.357142857142857mm\"\n",
       "      fill=\"#000000\" stroke=\"none\" />\n",
       "<rect x=\"112.49999999999999mm\" y=\"117.85714285714285mm\"\n",
       "      width=\"4.357142857142857mm\" height=\"4.357142857142857mm\"\n",
       "      fill=\"#000000\" stroke=\"none\" />\n",
       "<rect x=\"117.85714285714285mm\" y=\"117.85714285714285mm\"\n",
       "      width=\"4.357142857142857mm\" height=\"4.357142857142857mm\"\n",
       "      fill=\"#000000\" stroke=\"none\" />\n",
       "<rect x=\"123.21428571428571mm\" y=\"117.85714285714285mm\"\n",
       "      width=\"4.357142857142857mm\" height=\"4.357142857142857mm\"\n",
       "      fill=\"#000000\" stroke=\"none\" />\n",
       "<rect x=\"128.57142857142856mm\" y=\"117.85714285714285mm\"\n",
       "      width=\"4.357142857142857mm\" height=\"4.357142857142857mm\"\n",
       "      fill=\"#000000\" stroke=\"none\" />\n",
       "<rect x=\"133.92857142857142mm\" y=\"117.85714285714285mm\"\n",
       "      width=\"4.357142857142857mm\" height=\"4.357142857142857mm\"\n",
       "      fill=\"#000000\" stroke=\"none\" />\n",
       "<rect x=\"139.28571428571428mm\" y=\"117.85714285714285mm\"\n",
       "      width=\"4.357142857142857mm\" height=\"4.357142857142857mm\"\n",
       "      fill=\"#000000\" stroke=\"none\" />\n",
       "<rect x=\"144.64285714285714mm\" y=\"117.85714285714285mm\"\n",
       "      width=\"4.357142857142857mm\" height=\"4.357142857142857mm\"\n",
       "      fill=\"#000000\" stroke=\"none\" />\n",
       "<rect x=\"0.0mm\" y=\"123.21428571428571mm\"\n",
       "      width=\"4.357142857142857mm\" height=\"4.357142857142857mm\"\n",
       "      fill=\"#000000\" stroke=\"none\" />\n",
       "<rect x=\"5.357142857142857mm\" y=\"123.21428571428571mm\"\n",
       "      width=\"4.357142857142857mm\" height=\"4.357142857142857mm\"\n",
       "      fill=\"#000000\" stroke=\"none\" />\n",
       "<rect x=\"10.714285714285714mm\" y=\"123.21428571428571mm\"\n",
       "      width=\"4.357142857142857mm\" height=\"4.357142857142857mm\"\n",
       "      fill=\"#000000\" stroke=\"none\" />\n",
       "<rect x=\"16.07142857142857mm\" y=\"123.21428571428571mm\"\n",
       "      width=\"4.357142857142857mm\" height=\"4.357142857142857mm\"\n",
       "      fill=\"#000000\" stroke=\"none\" />\n",
       "<rect x=\"21.428571428571427mm\" y=\"123.21428571428571mm\"\n",
       "      width=\"4.357142857142857mm\" height=\"4.357142857142857mm\"\n",
       "      fill=\"#000000\" stroke=\"none\" />\n",
       "<rect x=\"26.785714285714285mm\" y=\"123.21428571428571mm\"\n",
       "      width=\"4.357142857142857mm\" height=\"4.357142857142857mm\"\n",
       "      fill=\"#000000\" stroke=\"none\" />\n",
       "<rect x=\"32.14285714285714mm\" y=\"123.21428571428571mm\"\n",
       "      width=\"4.357142857142857mm\" height=\"4.357142857142857mm\"\n",
       "      fill=\"#000000\" stroke=\"none\" />\n",
       "<rect x=\"37.5mm\" y=\"123.21428571428571mm\"\n",
       "      width=\"4.357142857142857mm\" height=\"4.357142857142857mm\"\n",
       "      fill=\"#000000\" stroke=\"none\" />\n",
       "<rect x=\"42.857142857142854mm\" y=\"123.21428571428571mm\"\n",
       "      width=\"4.357142857142857mm\" height=\"4.357142857142857mm\"\n",
       "      fill=\"#1E1E1E\" stroke=\"none\" />\n",
       "<rect x=\"48.21428571428571mm\" y=\"123.21428571428571mm\"\n",
       "      width=\"4.357142857142857mm\" height=\"4.357142857142857mm\"\n",
       "      fill=\"#F9F9F9\" stroke=\"none\" />\n",
       "<rect x=\"53.57142857142857mm\" y=\"123.21428571428571mm\"\n",
       "      width=\"4.357142857142857mm\" height=\"4.357142857142857mm\"\n",
       "      fill=\"#E9E9E9\" stroke=\"none\" />\n",
       "<rect x=\"58.92857142857142mm\" y=\"123.21428571428571mm\"\n",
       "      width=\"4.357142857142857mm\" height=\"4.357142857142857mm\"\n",
       "      fill=\"#313131\" stroke=\"none\" />\n",
       "<rect x=\"64.28571428571428mm\" y=\"123.21428571428571mm\"\n",
       "      width=\"4.357142857142857mm\" height=\"4.357142857142857mm\"\n",
       "      fill=\"#000000\" stroke=\"none\" />\n",
       "<rect x=\"69.64285714285714mm\" y=\"123.21428571428571mm\"\n",
       "      width=\"4.357142857142857mm\" height=\"4.357142857142857mm\"\n",
       "      fill=\"#000000\" stroke=\"none\" />\n",
       "<rect x=\"75.0mm\" y=\"123.21428571428571mm\"\n",
       "      width=\"4.357142857142857mm\" height=\"4.357142857142857mm\"\n",
       "      fill=\"#000000\" stroke=\"none\" />\n",
       "<rect x=\"80.35714285714285mm\" y=\"123.21428571428571mm\"\n",
       "      width=\"4.357142857142857mm\" height=\"4.357142857142857mm\"\n",
       "      fill=\"#000000\" stroke=\"none\" />\n",
       "<rect x=\"85.71428571428571mm\" y=\"123.21428571428571mm\"\n",
       "      width=\"4.357142857142857mm\" height=\"4.357142857142857mm\"\n",
       "      fill=\"#000000\" stroke=\"none\" />\n",
       "<rect x=\"91.07142857142857mm\" y=\"123.21428571428571mm\"\n",
       "      width=\"4.357142857142857mm\" height=\"4.357142857142857mm\"\n",
       "      fill=\"#000000\" stroke=\"none\" />\n",
       "<rect x=\"96.42857142857142mm\" y=\"123.21428571428571mm\"\n",
       "      width=\"4.357142857142857mm\" height=\"4.357142857142857mm\"\n",
       "      fill=\"#000000\" stroke=\"none\" />\n",
       "<rect x=\"101.78571428571428mm\" y=\"123.21428571428571mm\"\n",
       "      width=\"4.357142857142857mm\" height=\"4.357142857142857mm\"\n",
       "      fill=\"#000000\" stroke=\"none\" />\n",
       "<rect x=\"107.14285714285714mm\" y=\"123.21428571428571mm\"\n",
       "      width=\"4.357142857142857mm\" height=\"4.357142857142857mm\"\n",
       "      fill=\"#000000\" stroke=\"none\" />\n",
       "<rect x=\"112.49999999999999mm\" y=\"123.21428571428571mm\"\n",
       "      width=\"4.357142857142857mm\" height=\"4.357142857142857mm\"\n",
       "      fill=\"#000000\" stroke=\"none\" />\n",
       "<rect x=\"117.85714285714285mm\" y=\"123.21428571428571mm\"\n",
       "      width=\"4.357142857142857mm\" height=\"4.357142857142857mm\"\n",
       "      fill=\"#000000\" stroke=\"none\" />\n",
       "<rect x=\"123.21428571428571mm\" y=\"123.21428571428571mm\"\n",
       "      width=\"4.357142857142857mm\" height=\"4.357142857142857mm\"\n",
       "      fill=\"#000000\" stroke=\"none\" />\n",
       "<rect x=\"128.57142857142856mm\" y=\"123.21428571428571mm\"\n",
       "      width=\"4.357142857142857mm\" height=\"4.357142857142857mm\"\n",
       "      fill=\"#000000\" stroke=\"none\" />\n",
       "<rect x=\"133.92857142857142mm\" y=\"123.21428571428571mm\"\n",
       "      width=\"4.357142857142857mm\" height=\"4.357142857142857mm\"\n",
       "      fill=\"#000000\" stroke=\"none\" />\n",
       "<rect x=\"139.28571428571428mm\" y=\"123.21428571428571mm\"\n",
       "      width=\"4.357142857142857mm\" height=\"4.357142857142857mm\"\n",
       "      fill=\"#000000\" stroke=\"none\" />\n",
       "<rect x=\"144.64285714285714mm\" y=\"123.21428571428571mm\"\n",
       "      width=\"4.357142857142857mm\" height=\"4.357142857142857mm\"\n",
       "      fill=\"#000000\" stroke=\"none\" />\n",
       "<rect x=\"0.0mm\" y=\"128.57142857142856mm\"\n",
       "      width=\"4.357142857142857mm\" height=\"4.357142857142857mm\"\n",
       "      fill=\"#000000\" stroke=\"none\" />\n",
       "<rect x=\"5.357142857142857mm\" y=\"128.57142857142856mm\"\n",
       "      width=\"4.357142857142857mm\" height=\"4.357142857142857mm\"\n",
       "      fill=\"#000000\" stroke=\"none\" />\n",
       "<rect x=\"10.714285714285714mm\" y=\"128.57142857142856mm\"\n",
       "      width=\"4.357142857142857mm\" height=\"4.357142857142857mm\"\n",
       "      fill=\"#000000\" stroke=\"none\" />\n",
       "<rect x=\"16.07142857142857mm\" y=\"128.57142857142856mm\"\n",
       "      width=\"4.357142857142857mm\" height=\"4.357142857142857mm\"\n",
       "      fill=\"#000000\" stroke=\"none\" />\n",
       "<rect x=\"21.428571428571427mm\" y=\"128.57142857142856mm\"\n",
       "      width=\"4.357142857142857mm\" height=\"4.357142857142857mm\"\n",
       "      fill=\"#000000\" stroke=\"none\" />\n",
       "<rect x=\"26.785714285714285mm\" y=\"128.57142857142856mm\"\n",
       "      width=\"4.357142857142857mm\" height=\"4.357142857142857mm\"\n",
       "      fill=\"#000000\" stroke=\"none\" />\n",
       "<rect x=\"32.14285714285714mm\" y=\"128.57142857142856mm\"\n",
       "      width=\"4.357142857142857mm\" height=\"4.357142857142857mm\"\n",
       "      fill=\"#000000\" stroke=\"none\" />\n",
       "<rect x=\"37.5mm\" y=\"128.57142857142856mm\"\n",
       "      width=\"4.357142857142857mm\" height=\"4.357142857142857mm\"\n",
       "      fill=\"#000000\" stroke=\"none\" />\n",
       "<rect x=\"42.857142857142854mm\" y=\"128.57142857142856mm\"\n",
       "      width=\"4.357142857142857mm\" height=\"4.357142857142857mm\"\n",
       "      fill=\"#202020\" stroke=\"none\" />\n",
       "<rect x=\"48.21428571428571mm\" y=\"128.57142857142856mm\"\n",
       "      width=\"4.357142857142857mm\" height=\"4.357142857142857mm\"\n",
       "      fill=\"#FDFDFD\" stroke=\"none\" />\n",
       "<rect x=\"53.57142857142857mm\" y=\"128.57142857142856mm\"\n",
       "      width=\"4.357142857142857mm\" height=\"4.357142857142857mm\"\n",
       "      fill=\"#595959\" stroke=\"none\" />\n",
       "<rect x=\"58.92857142857142mm\" y=\"128.57142857142856mm\"\n",
       "      width=\"4.357142857142857mm\" height=\"4.357142857142857mm\"\n",
       "      fill=\"#000000\" stroke=\"none\" />\n",
       "<rect x=\"64.28571428571428mm\" y=\"128.57142857142856mm\"\n",
       "      width=\"4.357142857142857mm\" height=\"4.357142857142857mm\"\n",
       "      fill=\"#000000\" stroke=\"none\" />\n",
       "<rect x=\"69.64285714285714mm\" y=\"128.57142857142856mm\"\n",
       "      width=\"4.357142857142857mm\" height=\"4.357142857142857mm\"\n",
       "      fill=\"#000000\" stroke=\"none\" />\n",
       "<rect x=\"75.0mm\" y=\"128.57142857142856mm\"\n",
       "      width=\"4.357142857142857mm\" height=\"4.357142857142857mm\"\n",
       "      fill=\"#000000\" stroke=\"none\" />\n",
       "<rect x=\"80.35714285714285mm\" y=\"128.57142857142856mm\"\n",
       "      width=\"4.357142857142857mm\" height=\"4.357142857142857mm\"\n",
       "      fill=\"#000000\" stroke=\"none\" />\n",
       "<rect x=\"85.71428571428571mm\" y=\"128.57142857142856mm\"\n",
       "      width=\"4.357142857142857mm\" height=\"4.357142857142857mm\"\n",
       "      fill=\"#000000\" stroke=\"none\" />\n",
       "<rect x=\"91.07142857142857mm\" y=\"128.57142857142856mm\"\n",
       "      width=\"4.357142857142857mm\" height=\"4.357142857142857mm\"\n",
       "      fill=\"#000000\" stroke=\"none\" />\n",
       "<rect x=\"96.42857142857142mm\" y=\"128.57142857142856mm\"\n",
       "      width=\"4.357142857142857mm\" height=\"4.357142857142857mm\"\n",
       "      fill=\"#000000\" stroke=\"none\" />\n",
       "<rect x=\"101.78571428571428mm\" y=\"128.57142857142856mm\"\n",
       "      width=\"4.357142857142857mm\" height=\"4.357142857142857mm\"\n",
       "      fill=\"#000000\" stroke=\"none\" />\n",
       "<rect x=\"107.14285714285714mm\" y=\"128.57142857142856mm\"\n",
       "      width=\"4.357142857142857mm\" height=\"4.357142857142857mm\"\n",
       "      fill=\"#000000\" stroke=\"none\" />\n",
       "<rect x=\"112.49999999999999mm\" y=\"128.57142857142856mm\"\n",
       "      width=\"4.357142857142857mm\" height=\"4.357142857142857mm\"\n",
       "      fill=\"#000000\" stroke=\"none\" />\n",
       "<rect x=\"117.85714285714285mm\" y=\"128.57142857142856mm\"\n",
       "      width=\"4.357142857142857mm\" height=\"4.357142857142857mm\"\n",
       "      fill=\"#000000\" stroke=\"none\" />\n",
       "<rect x=\"123.21428571428571mm\" y=\"128.57142857142856mm\"\n",
       "      width=\"4.357142857142857mm\" height=\"4.357142857142857mm\"\n",
       "      fill=\"#000000\" stroke=\"none\" />\n",
       "<rect x=\"128.57142857142856mm\" y=\"128.57142857142856mm\"\n",
       "      width=\"4.357142857142857mm\" height=\"4.357142857142857mm\"\n",
       "      fill=\"#000000\" stroke=\"none\" />\n",
       "<rect x=\"133.92857142857142mm\" y=\"128.57142857142856mm\"\n",
       "      width=\"4.357142857142857mm\" height=\"4.357142857142857mm\"\n",
       "      fill=\"#000000\" stroke=\"none\" />\n",
       "<rect x=\"139.28571428571428mm\" y=\"128.57142857142856mm\"\n",
       "      width=\"4.357142857142857mm\" height=\"4.357142857142857mm\"\n",
       "      fill=\"#000000\" stroke=\"none\" />\n",
       "<rect x=\"144.64285714285714mm\" y=\"128.57142857142856mm\"\n",
       "      width=\"4.357142857142857mm\" height=\"4.357142857142857mm\"\n",
       "      fill=\"#000000\" stroke=\"none\" />\n",
       "<rect x=\"0.0mm\" y=\"133.92857142857142mm\"\n",
       "      width=\"4.357142857142857mm\" height=\"4.357142857142857mm\"\n",
       "      fill=\"#000000\" stroke=\"none\" />\n",
       "<rect x=\"5.357142857142857mm\" y=\"133.92857142857142mm\"\n",
       "      width=\"4.357142857142857mm\" height=\"4.357142857142857mm\"\n",
       "      fill=\"#000000\" stroke=\"none\" />\n",
       "<rect x=\"10.714285714285714mm\" y=\"133.92857142857142mm\"\n",
       "      width=\"4.357142857142857mm\" height=\"4.357142857142857mm\"\n",
       "      fill=\"#000000\" stroke=\"none\" />\n",
       "<rect x=\"16.07142857142857mm\" y=\"133.92857142857142mm\"\n",
       "      width=\"4.357142857142857mm\" height=\"4.357142857142857mm\"\n",
       "      fill=\"#000000\" stroke=\"none\" />\n",
       "<rect x=\"21.428571428571427mm\" y=\"133.92857142857142mm\"\n",
       "      width=\"4.357142857142857mm\" height=\"4.357142857142857mm\"\n",
       "      fill=\"#000000\" stroke=\"none\" />\n",
       "<rect x=\"26.785714285714285mm\" y=\"133.92857142857142mm\"\n",
       "      width=\"4.357142857142857mm\" height=\"4.357142857142857mm\"\n",
       "      fill=\"#000000\" stroke=\"none\" />\n",
       "<rect x=\"32.14285714285714mm\" y=\"133.92857142857142mm\"\n",
       "      width=\"4.357142857142857mm\" height=\"4.357142857142857mm\"\n",
       "      fill=\"#000000\" stroke=\"none\" />\n",
       "<rect x=\"37.5mm\" y=\"133.92857142857142mm\"\n",
       "      width=\"4.357142857142857mm\" height=\"4.357142857142857mm\"\n",
       "      fill=\"#000000\" stroke=\"none\" />\n",
       "<rect x=\"42.857142857142854mm\" y=\"133.92857142857142mm\"\n",
       "      width=\"4.357142857142857mm\" height=\"4.357142857142857mm\"\n",
       "      fill=\"#000000\" stroke=\"none\" />\n",
       "<rect x=\"48.21428571428571mm\" y=\"133.92857142857142mm\"\n",
       "      width=\"4.357142857142857mm\" height=\"4.357142857142857mm\"\n",
       "      fill=\"#000000\" stroke=\"none\" />\n",
       "<rect x=\"53.57142857142857mm\" y=\"133.92857142857142mm\"\n",
       "      width=\"4.357142857142857mm\" height=\"4.357142857142857mm\"\n",
       "      fill=\"#000000\" stroke=\"none\" />\n",
       "<rect x=\"58.92857142857142mm\" y=\"133.92857142857142mm\"\n",
       "      width=\"4.357142857142857mm\" height=\"4.357142857142857mm\"\n",
       "      fill=\"#000000\" stroke=\"none\" />\n",
       "<rect x=\"64.28571428571428mm\" y=\"133.92857142857142mm\"\n",
       "      width=\"4.357142857142857mm\" height=\"4.357142857142857mm\"\n",
       "      fill=\"#000000\" stroke=\"none\" />\n",
       "<rect x=\"69.64285714285714mm\" y=\"133.92857142857142mm\"\n",
       "      width=\"4.357142857142857mm\" height=\"4.357142857142857mm\"\n",
       "      fill=\"#000000\" stroke=\"none\" />\n",
       "<rect x=\"75.0mm\" y=\"133.92857142857142mm\"\n",
       "      width=\"4.357142857142857mm\" height=\"4.357142857142857mm\"\n",
       "      fill=\"#000000\" stroke=\"none\" />\n",
       "<rect x=\"80.35714285714285mm\" y=\"133.92857142857142mm\"\n",
       "      width=\"4.357142857142857mm\" height=\"4.357142857142857mm\"\n",
       "      fill=\"#000000\" stroke=\"none\" />\n",
       "<rect x=\"85.71428571428571mm\" y=\"133.92857142857142mm\"\n",
       "      width=\"4.357142857142857mm\" height=\"4.357142857142857mm\"\n",
       "      fill=\"#000000\" stroke=\"none\" />\n",
       "<rect x=\"91.07142857142857mm\" y=\"133.92857142857142mm\"\n",
       "      width=\"4.357142857142857mm\" height=\"4.357142857142857mm\"\n",
       "      fill=\"#000000\" stroke=\"none\" />\n",
       "<rect x=\"96.42857142857142mm\" y=\"133.92857142857142mm\"\n",
       "      width=\"4.357142857142857mm\" height=\"4.357142857142857mm\"\n",
       "      fill=\"#000000\" stroke=\"none\" />\n",
       "<rect x=\"101.78571428571428mm\" y=\"133.92857142857142mm\"\n",
       "      width=\"4.357142857142857mm\" height=\"4.357142857142857mm\"\n",
       "      fill=\"#000000\" stroke=\"none\" />\n",
       "<rect x=\"107.14285714285714mm\" y=\"133.92857142857142mm\"\n",
       "      width=\"4.357142857142857mm\" height=\"4.357142857142857mm\"\n",
       "      fill=\"#000000\" stroke=\"none\" />\n",
       "<rect x=\"112.49999999999999mm\" y=\"133.92857142857142mm\"\n",
       "      width=\"4.357142857142857mm\" height=\"4.357142857142857mm\"\n",
       "      fill=\"#000000\" stroke=\"none\" />\n",
       "<rect x=\"117.85714285714285mm\" y=\"133.92857142857142mm\"\n",
       "      width=\"4.357142857142857mm\" height=\"4.357142857142857mm\"\n",
       "      fill=\"#000000\" stroke=\"none\" />\n",
       "<rect x=\"123.21428571428571mm\" y=\"133.92857142857142mm\"\n",
       "      width=\"4.357142857142857mm\" height=\"4.357142857142857mm\"\n",
       "      fill=\"#000000\" stroke=\"none\" />\n",
       "<rect x=\"128.57142857142856mm\" y=\"133.92857142857142mm\"\n",
       "      width=\"4.357142857142857mm\" height=\"4.357142857142857mm\"\n",
       "      fill=\"#000000\" stroke=\"none\" />\n",
       "<rect x=\"133.92857142857142mm\" y=\"133.92857142857142mm\"\n",
       "      width=\"4.357142857142857mm\" height=\"4.357142857142857mm\"\n",
       "      fill=\"#000000\" stroke=\"none\" />\n",
       "<rect x=\"139.28571428571428mm\" y=\"133.92857142857142mm\"\n",
       "      width=\"4.357142857142857mm\" height=\"4.357142857142857mm\"\n",
       "      fill=\"#000000\" stroke=\"none\" />\n",
       "<rect x=\"144.64285714285714mm\" y=\"133.92857142857142mm\"\n",
       "      width=\"4.357142857142857mm\" height=\"4.357142857142857mm\"\n",
       "      fill=\"#000000\" stroke=\"none\" />\n",
       "<rect x=\"0.0mm\" y=\"139.28571428571428mm\"\n",
       "      width=\"4.357142857142857mm\" height=\"4.357142857142857mm\"\n",
       "      fill=\"#000000\" stroke=\"none\" />\n",
       "<rect x=\"5.357142857142857mm\" y=\"139.28571428571428mm\"\n",
       "      width=\"4.357142857142857mm\" height=\"4.357142857142857mm\"\n",
       "      fill=\"#000000\" stroke=\"none\" />\n",
       "<rect x=\"10.714285714285714mm\" y=\"139.28571428571428mm\"\n",
       "      width=\"4.357142857142857mm\" height=\"4.357142857142857mm\"\n",
       "      fill=\"#000000\" stroke=\"none\" />\n",
       "<rect x=\"16.07142857142857mm\" y=\"139.28571428571428mm\"\n",
       "      width=\"4.357142857142857mm\" height=\"4.357142857142857mm\"\n",
       "      fill=\"#000000\" stroke=\"none\" />\n",
       "<rect x=\"21.428571428571427mm\" y=\"139.28571428571428mm\"\n",
       "      width=\"4.357142857142857mm\" height=\"4.357142857142857mm\"\n",
       "      fill=\"#000000\" stroke=\"none\" />\n",
       "<rect x=\"26.785714285714285mm\" y=\"139.28571428571428mm\"\n",
       "      width=\"4.357142857142857mm\" height=\"4.357142857142857mm\"\n",
       "      fill=\"#000000\" stroke=\"none\" />\n",
       "<rect x=\"32.14285714285714mm\" y=\"139.28571428571428mm\"\n",
       "      width=\"4.357142857142857mm\" height=\"4.357142857142857mm\"\n",
       "      fill=\"#000000\" stroke=\"none\" />\n",
       "<rect x=\"37.5mm\" y=\"139.28571428571428mm\"\n",
       "      width=\"4.357142857142857mm\" height=\"4.357142857142857mm\"\n",
       "      fill=\"#000000\" stroke=\"none\" />\n",
       "<rect x=\"42.857142857142854mm\" y=\"139.28571428571428mm\"\n",
       "      width=\"4.357142857142857mm\" height=\"4.357142857142857mm\"\n",
       "      fill=\"#000000\" stroke=\"none\" />\n",
       "<rect x=\"48.21428571428571mm\" y=\"139.28571428571428mm\"\n",
       "      width=\"4.357142857142857mm\" height=\"4.357142857142857mm\"\n",
       "      fill=\"#000000\" stroke=\"none\" />\n",
       "<rect x=\"53.57142857142857mm\" y=\"139.28571428571428mm\"\n",
       "      width=\"4.357142857142857mm\" height=\"4.357142857142857mm\"\n",
       "      fill=\"#000000\" stroke=\"none\" />\n",
       "<rect x=\"58.92857142857142mm\" y=\"139.28571428571428mm\"\n",
       "      width=\"4.357142857142857mm\" height=\"4.357142857142857mm\"\n",
       "      fill=\"#000000\" stroke=\"none\" />\n",
       "<rect x=\"64.28571428571428mm\" y=\"139.28571428571428mm\"\n",
       "      width=\"4.357142857142857mm\" height=\"4.357142857142857mm\"\n",
       "      fill=\"#000000\" stroke=\"none\" />\n",
       "<rect x=\"69.64285714285714mm\" y=\"139.28571428571428mm\"\n",
       "      width=\"4.357142857142857mm\" height=\"4.357142857142857mm\"\n",
       "      fill=\"#000000\" stroke=\"none\" />\n",
       "<rect x=\"75.0mm\" y=\"139.28571428571428mm\"\n",
       "      width=\"4.357142857142857mm\" height=\"4.357142857142857mm\"\n",
       "      fill=\"#000000\" stroke=\"none\" />\n",
       "<rect x=\"80.35714285714285mm\" y=\"139.28571428571428mm\"\n",
       "      width=\"4.357142857142857mm\" height=\"4.357142857142857mm\"\n",
       "      fill=\"#000000\" stroke=\"none\" />\n",
       "<rect x=\"85.71428571428571mm\" y=\"139.28571428571428mm\"\n",
       "      width=\"4.357142857142857mm\" height=\"4.357142857142857mm\"\n",
       "      fill=\"#000000\" stroke=\"none\" />\n",
       "<rect x=\"91.07142857142857mm\" y=\"139.28571428571428mm\"\n",
       "      width=\"4.357142857142857mm\" height=\"4.357142857142857mm\"\n",
       "      fill=\"#000000\" stroke=\"none\" />\n",
       "<rect x=\"96.42857142857142mm\" y=\"139.28571428571428mm\"\n",
       "      width=\"4.357142857142857mm\" height=\"4.357142857142857mm\"\n",
       "      fill=\"#000000\" stroke=\"none\" />\n",
       "<rect x=\"101.78571428571428mm\" y=\"139.28571428571428mm\"\n",
       "      width=\"4.357142857142857mm\" height=\"4.357142857142857mm\"\n",
       "      fill=\"#000000\" stroke=\"none\" />\n",
       "<rect x=\"107.14285714285714mm\" y=\"139.28571428571428mm\"\n",
       "      width=\"4.357142857142857mm\" height=\"4.357142857142857mm\"\n",
       "      fill=\"#000000\" stroke=\"none\" />\n",
       "<rect x=\"112.49999999999999mm\" y=\"139.28571428571428mm\"\n",
       "      width=\"4.357142857142857mm\" height=\"4.357142857142857mm\"\n",
       "      fill=\"#000000\" stroke=\"none\" />\n",
       "<rect x=\"117.85714285714285mm\" y=\"139.28571428571428mm\"\n",
       "      width=\"4.357142857142857mm\" height=\"4.357142857142857mm\"\n",
       "      fill=\"#000000\" stroke=\"none\" />\n",
       "<rect x=\"123.21428571428571mm\" y=\"139.28571428571428mm\"\n",
       "      width=\"4.357142857142857mm\" height=\"4.357142857142857mm\"\n",
       "      fill=\"#000000\" stroke=\"none\" />\n",
       "<rect x=\"128.57142857142856mm\" y=\"139.28571428571428mm\"\n",
       "      width=\"4.357142857142857mm\" height=\"4.357142857142857mm\"\n",
       "      fill=\"#000000\" stroke=\"none\" />\n",
       "<rect x=\"133.92857142857142mm\" y=\"139.28571428571428mm\"\n",
       "      width=\"4.357142857142857mm\" height=\"4.357142857142857mm\"\n",
       "      fill=\"#000000\" stroke=\"none\" />\n",
       "<rect x=\"139.28571428571428mm\" y=\"139.28571428571428mm\"\n",
       "      width=\"4.357142857142857mm\" height=\"4.357142857142857mm\"\n",
       "      fill=\"#000000\" stroke=\"none\" />\n",
       "<rect x=\"144.64285714285714mm\" y=\"139.28571428571428mm\"\n",
       "      width=\"4.357142857142857mm\" height=\"4.357142857142857mm\"\n",
       "      fill=\"#000000\" stroke=\"none\" />\n",
       "<rect x=\"0.0mm\" y=\"144.64285714285714mm\"\n",
       "      width=\"4.357142857142857mm\" height=\"4.357142857142857mm\"\n",
       "      fill=\"#000000\" stroke=\"none\" />\n",
       "<rect x=\"5.357142857142857mm\" y=\"144.64285714285714mm\"\n",
       "      width=\"4.357142857142857mm\" height=\"4.357142857142857mm\"\n",
       "      fill=\"#000000\" stroke=\"none\" />\n",
       "<rect x=\"10.714285714285714mm\" y=\"144.64285714285714mm\"\n",
       "      width=\"4.357142857142857mm\" height=\"4.357142857142857mm\"\n",
       "      fill=\"#000000\" stroke=\"none\" />\n",
       "<rect x=\"16.07142857142857mm\" y=\"144.64285714285714mm\"\n",
       "      width=\"4.357142857142857mm\" height=\"4.357142857142857mm\"\n",
       "      fill=\"#000000\" stroke=\"none\" />\n",
       "<rect x=\"21.428571428571427mm\" y=\"144.64285714285714mm\"\n",
       "      width=\"4.357142857142857mm\" height=\"4.357142857142857mm\"\n",
       "      fill=\"#000000\" stroke=\"none\" />\n",
       "<rect x=\"26.785714285714285mm\" y=\"144.64285714285714mm\"\n",
       "      width=\"4.357142857142857mm\" height=\"4.357142857142857mm\"\n",
       "      fill=\"#000000\" stroke=\"none\" />\n",
       "<rect x=\"32.14285714285714mm\" y=\"144.64285714285714mm\"\n",
       "      width=\"4.357142857142857mm\" height=\"4.357142857142857mm\"\n",
       "      fill=\"#000000\" stroke=\"none\" />\n",
       "<rect x=\"37.5mm\" y=\"144.64285714285714mm\"\n",
       "      width=\"4.357142857142857mm\" height=\"4.357142857142857mm\"\n",
       "      fill=\"#000000\" stroke=\"none\" />\n",
       "<rect x=\"42.857142857142854mm\" y=\"144.64285714285714mm\"\n",
       "      width=\"4.357142857142857mm\" height=\"4.357142857142857mm\"\n",
       "      fill=\"#000000\" stroke=\"none\" />\n",
       "<rect x=\"48.21428571428571mm\" y=\"144.64285714285714mm\"\n",
       "      width=\"4.357142857142857mm\" height=\"4.357142857142857mm\"\n",
       "      fill=\"#000000\" stroke=\"none\" />\n",
       "<rect x=\"53.57142857142857mm\" y=\"144.64285714285714mm\"\n",
       "      width=\"4.357142857142857mm\" height=\"4.357142857142857mm\"\n",
       "      fill=\"#000000\" stroke=\"none\" />\n",
       "<rect x=\"58.92857142857142mm\" y=\"144.64285714285714mm\"\n",
       "      width=\"4.357142857142857mm\" height=\"4.357142857142857mm\"\n",
       "      fill=\"#000000\" stroke=\"none\" />\n",
       "<rect x=\"64.28571428571428mm\" y=\"144.64285714285714mm\"\n",
       "      width=\"4.357142857142857mm\" height=\"4.357142857142857mm\"\n",
       "      fill=\"#000000\" stroke=\"none\" />\n",
       "<rect x=\"69.64285714285714mm\" y=\"144.64285714285714mm\"\n",
       "      width=\"4.357142857142857mm\" height=\"4.357142857142857mm\"\n",
       "      fill=\"#000000\" stroke=\"none\" />\n",
       "<rect x=\"75.0mm\" y=\"144.64285714285714mm\"\n",
       "      width=\"4.357142857142857mm\" height=\"4.357142857142857mm\"\n",
       "      fill=\"#000000\" stroke=\"none\" />\n",
       "<rect x=\"80.35714285714285mm\" y=\"144.64285714285714mm\"\n",
       "      width=\"4.357142857142857mm\" height=\"4.357142857142857mm\"\n",
       "      fill=\"#000000\" stroke=\"none\" />\n",
       "<rect x=\"85.71428571428571mm\" y=\"144.64285714285714mm\"\n",
       "      width=\"4.357142857142857mm\" height=\"4.357142857142857mm\"\n",
       "      fill=\"#000000\" stroke=\"none\" />\n",
       "<rect x=\"91.07142857142857mm\" y=\"144.64285714285714mm\"\n",
       "      width=\"4.357142857142857mm\" height=\"4.357142857142857mm\"\n",
       "      fill=\"#000000\" stroke=\"none\" />\n",
       "<rect x=\"96.42857142857142mm\" y=\"144.64285714285714mm\"\n",
       "      width=\"4.357142857142857mm\" height=\"4.357142857142857mm\"\n",
       "      fill=\"#000000\" stroke=\"none\" />\n",
       "<rect x=\"101.78571428571428mm\" y=\"144.64285714285714mm\"\n",
       "      width=\"4.357142857142857mm\" height=\"4.357142857142857mm\"\n",
       "      fill=\"#000000\" stroke=\"none\" />\n",
       "<rect x=\"107.14285714285714mm\" y=\"144.64285714285714mm\"\n",
       "      width=\"4.357142857142857mm\" height=\"4.357142857142857mm\"\n",
       "      fill=\"#000000\" stroke=\"none\" />\n",
       "<rect x=\"112.49999999999999mm\" y=\"144.64285714285714mm\"\n",
       "      width=\"4.357142857142857mm\" height=\"4.357142857142857mm\"\n",
       "      fill=\"#000000\" stroke=\"none\" />\n",
       "<rect x=\"117.85714285714285mm\" y=\"144.64285714285714mm\"\n",
       "      width=\"4.357142857142857mm\" height=\"4.357142857142857mm\"\n",
       "      fill=\"#000000\" stroke=\"none\" />\n",
       "<rect x=\"123.21428571428571mm\" y=\"144.64285714285714mm\"\n",
       "      width=\"4.357142857142857mm\" height=\"4.357142857142857mm\"\n",
       "      fill=\"#000000\" stroke=\"none\" />\n",
       "<rect x=\"128.57142857142856mm\" y=\"144.64285714285714mm\"\n",
       "      width=\"4.357142857142857mm\" height=\"4.357142857142857mm\"\n",
       "      fill=\"#000000\" stroke=\"none\" />\n",
       "<rect x=\"133.92857142857142mm\" y=\"144.64285714285714mm\"\n",
       "      width=\"4.357142857142857mm\" height=\"4.357142857142857mm\"\n",
       "      fill=\"#000000\" stroke=\"none\" />\n",
       "<rect x=\"139.28571428571428mm\" y=\"144.64285714285714mm\"\n",
       "      width=\"4.357142857142857mm\" height=\"4.357142857142857mm\"\n",
       "      fill=\"#000000\" stroke=\"none\" />\n",
       "<rect x=\"144.64285714285714mm\" y=\"144.64285714285714mm\"\n",
       "      width=\"4.357142857142857mm\" height=\"4.357142857142857mm\"\n",
       "      fill=\"#000000\" stroke=\"none\" />\n",
       "</svg>"
      ],
      "text/plain": [
       "28×28 Array{Gray{N0f8},2} with eltype Gray{FixedPointNumbers.Normed{UInt8,8}}:\n",
       " Gray{N0f8}(0.0)  Gray{N0f8}(0.0)  …  Gray{N0f8}(0.0)  Gray{N0f8}(0.0)\n",
       " Gray{N0f8}(0.0)  Gray{N0f8}(0.0)     Gray{N0f8}(0.0)  Gray{N0f8}(0.0)\n",
       " Gray{N0f8}(0.0)  Gray{N0f8}(0.0)     Gray{N0f8}(0.0)  Gray{N0f8}(0.0)\n",
       " Gray{N0f8}(0.0)  Gray{N0f8}(0.0)     Gray{N0f8}(0.0)  Gray{N0f8}(0.0)\n",
       " Gray{N0f8}(0.0)  Gray{N0f8}(0.0)     Gray{N0f8}(0.0)  Gray{N0f8}(0.0)\n",
       " Gray{N0f8}(0.0)  Gray{N0f8}(0.0)  …  Gray{N0f8}(0.0)  Gray{N0f8}(0.0)\n",
       " Gray{N0f8}(0.0)  Gray{N0f8}(0.0)     Gray{N0f8}(0.0)  Gray{N0f8}(0.0)\n",
       " Gray{N0f8}(0.0)  Gray{N0f8}(0.0)     Gray{N0f8}(0.0)  Gray{N0f8}(0.0)\n",
       " Gray{N0f8}(0.0)  Gray{N0f8}(0.0)     Gray{N0f8}(0.0)  Gray{N0f8}(0.0)\n",
       " Gray{N0f8}(0.0)  Gray{N0f8}(0.0)     Gray{N0f8}(0.0)  Gray{N0f8}(0.0)\n",
       " Gray{N0f8}(0.0)  Gray{N0f8}(0.0)  …  Gray{N0f8}(0.0)  Gray{N0f8}(0.0)\n",
       " Gray{N0f8}(0.0)  Gray{N0f8}(0.0)     Gray{N0f8}(0.0)  Gray{N0f8}(0.0)\n",
       " Gray{N0f8}(0.0)  Gray{N0f8}(0.0)     Gray{N0f8}(0.0)  Gray{N0f8}(0.0)\n",
       " ⋮                                 ⋱                                  \n",
       " Gray{N0f8}(0.0)  Gray{N0f8}(0.0)     Gray{N0f8}(0.0)  Gray{N0f8}(0.0)\n",
       " Gray{N0f8}(0.0)  Gray{N0f8}(0.0)     Gray{N0f8}(0.0)  Gray{N0f8}(0.0)\n",
       " Gray{N0f8}(0.0)  Gray{N0f8}(0.0)     Gray{N0f8}(0.0)  Gray{N0f8}(0.0)\n",
       " Gray{N0f8}(0.0)  Gray{N0f8}(0.0)     Gray{N0f8}(0.0)  Gray{N0f8}(0.0)\n",
       " Gray{N0f8}(0.0)  Gray{N0f8}(0.0)  …  Gray{N0f8}(0.0)  Gray{N0f8}(0.0)\n",
       " Gray{N0f8}(0.0)  Gray{N0f8}(0.0)     Gray{N0f8}(0.0)  Gray{N0f8}(0.0)\n",
       " Gray{N0f8}(0.0)  Gray{N0f8}(0.0)     Gray{N0f8}(0.0)  Gray{N0f8}(0.0)\n",
       " Gray{N0f8}(0.0)  Gray{N0f8}(0.0)     Gray{N0f8}(0.0)  Gray{N0f8}(0.0)\n",
       " Gray{N0f8}(0.0)  Gray{N0f8}(0.0)     Gray{N0f8}(0.0)  Gray{N0f8}(0.0)\n",
       " Gray{N0f8}(0.0)  Gray{N0f8}(0.0)  …  Gray{N0f8}(0.0)  Gray{N0f8}(0.0)\n",
       " Gray{N0f8}(0.0)  Gray{N0f8}(0.0)     Gray{N0f8}(0.0)  Gray{N0f8}(0.0)\n",
       " Gray{N0f8}(0.0)  Gray{N0f8}(0.0)     Gray{N0f8}(0.0)  Gray{N0f8}(0.0)"
      ]
     },
     "execution_count": 185,
     "metadata": {},
     "output_type": "execute_result"
    }
   ],
   "source": [
    "imgs = MNIST.images()[1:2000]\n",
    "imgs[100]"
   ]
  },
  {
   "cell_type": "code",
   "execution_count": 48,
   "metadata": {},
   "outputs": [
    {
     "data": {
      "text/plain": [
       "Array{Gray{FixedPointNumbers.Normed{UInt8,8}},2}"
      ]
     },
     "execution_count": 48,
     "metadata": {},
     "output_type": "execute_result"
    }
   ],
   "source": [
    "typeof(imgs[57])"
   ]
  },
  {
   "cell_type": "markdown",
   "metadata": {},
   "source": [
    "f([a,b,c]...)  is like  f(a,b,c)"
   ]
  },
  {
   "cell_type": "code",
   "execution_count": 186,
   "metadata": {},
   "outputs": [
    {
     "data": {
      "text/plain": [
       "(2000, 784)"
      ]
     },
     "execution_count": 186,
     "metadata": {},
     "output_type": "execute_result"
    }
   ],
   "source": [
    "A = vcat([hcat(float.(im)...) for im in imgs]...)\n",
    "n, p = size(A)"
   ]
  },
  {
   "cell_type": "code",
   "execution_count": 62,
   "metadata": {},
   "outputs": [
    {
     "data": {
      "image/png": "[encoded data removed]"
     },
     "execution_count": 62,
     "metadata": {},
     "output_type": "execute_result"
    }
   ],
   "source": [
    "heatmap(reshape(A[100,:],28,28),yflip=true)"
   ]
  },
  {
   "cell_type": "code",
   "execution_count": 75,
   "metadata": {},
   "outputs": [
    {
     "data": {
      "text/plain": [
       "2000×784 Array{Float64,2}:\n",
       " 0.0  0.0  0.0  0.0  0.0  0.0  0.0  0.0  …  0.0  0.0  0.0  0.0  0.0  0.0  0.0\n",
       " 0.0  0.0  0.0  0.0  0.0  0.0  0.0  0.0     0.0  0.0  0.0  0.0  0.0  0.0  0.0\n",
       " 0.0  0.0  0.0  0.0  0.0  0.0  0.0  0.0     0.0  0.0  0.0  0.0  0.0  0.0  0.0\n",
       " 0.0  0.0  0.0  0.0  0.0  0.0  0.0  0.0     0.0  0.0  0.0  0.0  0.0  0.0  0.0\n",
       " 0.0  0.0  0.0  0.0  0.0  0.0  0.0  0.0     0.0  0.0  0.0  0.0  0.0  0.0  0.0\n",
       " 0.0  0.0  0.0  0.0  0.0  0.0  0.0  0.0  …  0.0  0.0  0.0  0.0  0.0  0.0  0.0\n",
       " 0.0  0.0  0.0  0.0  0.0  0.0  0.0  0.0     0.0  0.0  0.0  0.0  0.0  0.0  0.0\n",
       " 0.0  0.0  0.0  0.0  0.0  0.0  0.0  0.0     0.0  0.0  0.0  0.0  0.0  0.0  0.0\n",
       " 0.0  0.0  0.0  0.0  0.0  0.0  0.0  0.0     0.0  0.0  0.0  0.0  0.0  0.0  0.0\n",
       " 0.0  0.0  0.0  0.0  0.0  0.0  0.0  0.0     0.0  0.0  0.0  0.0  0.0  0.0  0.0\n",
       " 0.0  0.0  0.0  0.0  0.0  0.0  0.0  0.0  …  0.0  0.0  0.0  0.0  0.0  0.0  0.0\n",
       " 0.0  0.0  0.0  0.0  0.0  0.0  0.0  0.0     0.0  0.0  0.0  0.0  0.0  0.0  0.0\n",
       " 0.0  0.0  0.0  0.0  0.0  0.0  0.0  0.0     0.0  0.0  0.0  0.0  0.0  0.0  0.0\n",
       " ⋮                        ⋮              ⋱                 ⋮                 \n",
       " 0.0  0.0  0.0  0.0  0.0  0.0  0.0  0.0     0.0  0.0  0.0  0.0  0.0  0.0  0.0\n",
       " 0.0  0.0  0.0  0.0  0.0  0.0  0.0  0.0     0.0  0.0  0.0  0.0  0.0  0.0  0.0\n",
       " 0.0  0.0  0.0  0.0  0.0  0.0  0.0  0.0  …  0.0  0.0  0.0  0.0  0.0  0.0  0.0\n",
       " 0.0  0.0  0.0  0.0  0.0  0.0  0.0  0.0     0.0  0.0  0.0  0.0  0.0  0.0  0.0\n",
       " 0.0  0.0  0.0  0.0  0.0  0.0  0.0  0.0     0.0  0.0  0.0  0.0  0.0  0.0  0.0\n",
       " 0.0  0.0  0.0  0.0  0.0  0.0  0.0  0.0     0.0  0.0  0.0  0.0  0.0  0.0  0.0\n",
       " 0.0  0.0  0.0  0.0  0.0  0.0  0.0  0.0     0.0  0.0  0.0  0.0  0.0  0.0  0.0\n",
       " 0.0  0.0  0.0  0.0  0.0  0.0  0.0  0.0  …  0.0  0.0  0.0  0.0  0.0  0.0  0.0\n",
       " 0.0  0.0  0.0  0.0  0.0  0.0  0.0  0.0     0.0  0.0  0.0  0.0  0.0  0.0  0.0\n",
       " 0.0  0.0  0.0  0.0  0.0  0.0  0.0  0.0     0.0  0.0  0.0  0.0  0.0  0.0  0.0\n",
       " 0.0  0.0  0.0  0.0  0.0  0.0  0.0  0.0     0.0  0.0  0.0  0.0  0.0  0.0  0.0\n",
       " 0.0  0.0  0.0  0.0  0.0  0.0  0.0  0.0     0.0  0.0  0.0  0.0  0.0  0.0  0.0"
      ]
     },
     "execution_count": 75,
     "metadata": {},
     "output_type": "execute_result"
    }
   ],
   "source": [
    "A"
   ]
  },
  {
   "cell_type": "code",
   "execution_count": 187,
   "metadata": {},
   "outputs": [
    {
     "data": {
      "image/png": "[encoded data removed]"
     },
     "execution_count": 187,
     "metadata": {},
     "output_type": "execute_result"
    }
   ],
   "source": [
    "xbar = [mean(A[:,i]) for i in 1:p]\n",
    "heatmap(reshape(xbar,28,28),yflip=true)"
   ]
  },
  {
   "cell_type": "markdown",
   "metadata": {},
   "source": [
    "$B$ is our de-meaned data"
   ]
  },
  {
   "cell_type": "code",
   "execution_count": 188,
   "metadata": {},
   "outputs": [
    {
     "data": {
      "text/plain": [
       "(2000, 784)"
      ]
     },
     "execution_count": 188,
     "metadata": {},
     "output_type": "execute_result"
    }
   ],
   "source": [
    "B = A - ones(n)*xbar';\n",
    "size(B)"
   ]
  },
  {
   "cell_type": "code",
   "execution_count": 83,
   "metadata": {},
   "outputs": [
    {
     "data": {
      "image/png": "[encoded data removed]"
     },
     "execution_count": 83,
     "metadata": {},
     "output_type": "execute_result"
    }
   ],
   "source": [
    "heatmap(reshape(B[1,:],28,28),yflip=true)"
   ]
  },
  {
   "cell_type": "code",
   "execution_count": 84,
   "metadata": {},
   "outputs": [
    {
     "data": {
      "text/plain": [
       "(2000, 784)"
      ]
     },
     "execution_count": 84,
     "metadata": {},
     "output_type": "execute_result"
    }
   ],
   "source": [
    "size(B)"
   ]
  },
  {
   "cell_type": "code",
   "execution_count": 86,
   "metadata": {},
   "outputs": [
    {
     "data": {
      "text/plain": [
       "784×784 Array{Float64,2}:\n",
       " 0.0  0.0  0.0  0.0  0.0  0.0  0.0  …  0.0  0.0  0.0  0.0  0.0  0.0  0.0\n",
       " 0.0  0.0  0.0  0.0  0.0  0.0  0.0     0.0  0.0  0.0  0.0  0.0  0.0  0.0\n",
       " 0.0  0.0  0.0  0.0  0.0  0.0  0.0     0.0  0.0  0.0  0.0  0.0  0.0  0.0\n",
       " 0.0  0.0  0.0  0.0  0.0  0.0  0.0     0.0  0.0  0.0  0.0  0.0  0.0  0.0\n",
       " 0.0  0.0  0.0  0.0  0.0  0.0  0.0     0.0  0.0  0.0  0.0  0.0  0.0  0.0\n",
       " 0.0  0.0  0.0  0.0  0.0  0.0  0.0  …  0.0  0.0  0.0  0.0  0.0  0.0  0.0\n",
       " 0.0  0.0  0.0  0.0  0.0  0.0  0.0     0.0  0.0  0.0  0.0  0.0  0.0  0.0\n",
       " 0.0  0.0  0.0  0.0  0.0  0.0  0.0     0.0  0.0  0.0  0.0  0.0  0.0  0.0\n",
       " 0.0  0.0  0.0  0.0  0.0  0.0  0.0     0.0  0.0  0.0  0.0  0.0  0.0  0.0\n",
       " 0.0  0.0  0.0  0.0  0.0  0.0  0.0     0.0  0.0  0.0  0.0  0.0  0.0  0.0\n",
       " 0.0  0.0  0.0  0.0  0.0  0.0  0.0  …  0.0  0.0  0.0  0.0  0.0  0.0  0.0\n",
       " 0.0  0.0  0.0  0.0  0.0  0.0  0.0     0.0  0.0  0.0  0.0  0.0  0.0  0.0\n",
       " 0.0  0.0  0.0  0.0  0.0  0.0  0.0     0.0  0.0  0.0  0.0  0.0  0.0  0.0\n",
       " ⋮                        ⋮         ⋱                 ⋮                 \n",
       " 0.0  0.0  0.0  0.0  0.0  0.0  0.0     0.0  0.0  0.0  0.0  0.0  0.0  0.0\n",
       " 0.0  0.0  0.0  0.0  0.0  0.0  0.0     0.0  0.0  0.0  0.0  0.0  0.0  0.0\n",
       " 0.0  0.0  0.0  0.0  0.0  0.0  0.0     0.0  0.0  0.0  0.0  0.0  0.0  0.0\n",
       " 0.0  0.0  0.0  0.0  0.0  0.0  0.0  …  0.0  0.0  0.0  0.0  0.0  0.0  0.0\n",
       " 0.0  0.0  0.0  0.0  0.0  0.0  0.0     0.0  0.0  0.0  0.0  0.0  0.0  0.0\n",
       " 0.0  0.0  0.0  0.0  0.0  0.0  0.0     0.0  0.0  0.0  0.0  0.0  0.0  0.0\n",
       " 0.0  0.0  0.0  0.0  0.0  0.0  0.0     0.0  0.0  0.0  0.0  0.0  0.0  0.0\n",
       " 0.0  0.0  0.0  0.0  0.0  0.0  0.0     0.0  0.0  0.0  0.0  0.0  0.0  0.0\n",
       " 0.0  0.0  0.0  0.0  0.0  0.0  0.0  …  0.0  0.0  0.0  0.0  0.0  0.0  0.0\n",
       " 0.0  0.0  0.0  0.0  0.0  0.0  0.0     0.0  0.0  0.0  0.0  0.0  0.0  0.0\n",
       " 0.0  0.0  0.0  0.0  0.0  0.0  0.0     0.0  0.0  0.0  0.0  0.0  0.0  0.0\n",
       " 0.0  0.0  0.0  0.0  0.0  0.0  0.0     0.0  0.0  0.0  0.0  0.0  0.0  0.0"
      ]
     },
     "execution_count": 86,
     "metadata": {},
     "output_type": "execute_result"
    }
   ],
   "source": [
    "S = B'*B/(n-1)"
   ]
  },
  {
   "cell_type": "code",
   "execution_count": 89,
   "metadata": {},
   "outputs": [
    {
     "data": {
      "text/plain": [
       "6.106226635438361e-16"
      ]
     },
     "execution_count": 89,
     "metadata": {},
     "output_type": "execute_result"
    }
   ],
   "source": [
    "S2 = cov(A);\n",
    "maximum(abs.(S2-S))"
   ]
  },
  {
   "cell_type": "code",
   "execution_count": 87,
   "metadata": {},
   "outputs": [
    {
     "name": "stdout",
     "output_type": "stream",
     "text": [
      "search: \u001b[0m\u001b[1mc\u001b[22m\u001b[0m\u001b[1mo\u001b[22m\u001b[0m\u001b[1mv\u001b[22m \u001b[0m\u001b[1mc\u001b[22m\u001b[0m\u001b[1mo\u001b[22mn\u001b[0m\u001b[1mv\u001b[22mert Sta\u001b[0m\u001b[1mc\u001b[22mk\u001b[0m\u001b[1mO\u001b[22m\u001b[0m\u001b[1mv\u001b[22merflowError \u001b[0m\u001b[1mc\u001b[22m\u001b[0m\u001b[1mo\u001b[22mde_ll\u001b[0m\u001b[1mv\u001b[22mm @\u001b[0m\u001b[1mc\u001b[22m\u001b[0m\u001b[1mo\u001b[22mde_ll\u001b[0m\u001b[1mv\u001b[22mm \u001b[0m\u001b[1mc\u001b[22m\u001b[0m\u001b[1mo\u001b[22mde_nati\u001b[0m\u001b[1mv\u001b[22me\n",
      "\n"
     ]
    },
    {
     "data": {
      "text/latex": [
       "\\begin{verbatim}\n",
       "cov(x::AbstractVector; corrected::Bool=true)\n",
       "\\end{verbatim}\n",
       "Compute the variance of the vector \\texttt{x}. If \\texttt{corrected} is \\texttt{true} (the default) then the sum is scaled with \\texttt{n-1}, whereas the sum is scaled with \\texttt{n} if \\texttt{corrected} is \\texttt{false} where \\texttt{n = length(x)}.\n",
       "\n",
       "\\rule{\\textwidth}{1pt}\n",
       "\\begin{verbatim}\n",
       "cov(X::AbstractMatrix; dims::Int=1, corrected::Bool=true)\n",
       "\\end{verbatim}\n",
       "Compute the covariance matrix of the matrix \\texttt{X} along the dimension \\texttt{dims}. If \\texttt{corrected} is \\texttt{true} (the default) then the sum is scaled with \\texttt{n-1}, whereas the sum is scaled with \\texttt{n} if \\texttt{corrected} is \\texttt{false} where \\texttt{n = size(X, dims)}.\n",
       "\n",
       "\\rule{\\textwidth}{1pt}\n",
       "\\begin{verbatim}\n",
       "cov(x::AbstractVector, y::AbstractVector; corrected::Bool=true)\n",
       "\\end{verbatim}\n",
       "Compute the covariance between the vectors \\texttt{x} and \\texttt{y}. If \\texttt{corrected} is \\texttt{true} (the default), computes $\\frac{1}{n-1}\\sum_{i=1}^n (x_i-\\bar x) (y_i-\\bar y)^*$ where $*$ denotes the complex conjugate and \\texttt{n = length(x) = length(y)}. If \\texttt{corrected} is \\texttt{false}, computes $\\frac{1}{n}\\sum_{i=1}^n (x_i-\\bar x) (y_i-\\bar y)^*$.\n",
       "\n",
       "\\rule{\\textwidth}{1pt}\n",
       "\\begin{verbatim}\n",
       "cov(X::AbstractVecOrMat, Y::AbstractVecOrMat; dims::Int=1, corrected::Bool=true)\n",
       "\\end{verbatim}\n",
       "Compute the covariance between the vectors or matrices \\texttt{X} and \\texttt{Y} along the dimension \\texttt{dims}. If \\texttt{corrected} is \\texttt{true} (the default) then the sum is scaled with \\texttt{n-1}, whereas the sum is scaled with \\texttt{n} if \\texttt{corrected} is \\texttt{false} where \\texttt{n = size(X, dims) = size(Y, dims)}.\n",
       "\n",
       "\\rule{\\textwidth}{1pt}\n",
       "\\begin{verbatim}\n",
       "cov(X, w::AbstractWeights, vardim=1; mean=nothing,  corrected=false)\n",
       "\\end{verbatim}\n",
       "Compute the weighted covariance matrix. Similar to \\texttt{var} and \\texttt{std} the biased covariance matrix (\\texttt{corrected=false}) is computed by multiplying \\texttt{scattermat(X, w)} by $\\frac{1}{\\sum{w}}$ to normalize. However, the unbiased covariance matrix (\\texttt{corrected=true}) is dependent on the type of weights used:\n",
       "\n",
       "\\begin{itemize}\n",
       "\\item \\texttt{AnalyticWeights}: $\\frac{1}{\\sum w - \\sum {w^2} / \\sum w}$\n",
       "\n",
       "\n",
       "\\item \\texttt{FrequencyWeights}: $\\frac{1}{\\sum{w} - 1}$\n",
       "\n",
       "\n",
       "\\item \\texttt{ProbabilityWeights}: $\\frac{n}{(n - 1) \\sum w}$ where $n$ equals \\texttt{count(!iszero, w)}\n",
       "\n",
       "\n",
       "\\item \\texttt{Weights}: \\texttt{ArgumentError} (bias correction not supported)\n",
       "\n",
       "\\end{itemize}\n",
       "\\rule{\\textwidth}{1pt}\n",
       "\\begin{verbatim}\n",
       "cov(ce::CovarianceEstimator, x::AbstractVector; mean=nothing)\n",
       "\\end{verbatim}\n",
       "Compute a variance estimate from the observation vector \\texttt{x} using the  estimator \\texttt{ce}.\n",
       "\n",
       "\\rule{\\textwidth}{1pt}\n",
       "\\begin{verbatim}\n",
       "cov(ce::CovarianceEstimator, x::AbstractVector, y::AbstractVector)\n",
       "\\end{verbatim}\n",
       "Compute the covariance of the vectors \\texttt{x} and \\texttt{y} using estimator \\texttt{ce}.\n",
       "\n",
       "\\rule{\\textwidth}{1pt}\n",
       "\\begin{verbatim}\n",
       "cov(ce::CovarianceEstimator, X::AbstractMatrix, [w::AbstractWeights]; mean=nothing, dims::Int=1)\n",
       "\\end{verbatim}\n",
       "Compute the covariance matrix of the matrix \\texttt{X} along dimension \\texttt{dims} using estimator \\texttt{ce}. A weighting vector \\texttt{w} can be specified. The keyword argument \\texttt{mean} can be:\n",
       "\n",
       "\\begin{itemize}\n",
       "\\item \\texttt{nothing} (default) in which case the mean is estimated and subtracted from the data \\texttt{X},\n",
       "\n",
       "\n",
       "\\item a precalculated mean in which case it is subtracted from the data \\texttt{X}. Assuming \\texttt{size(X)} is \\texttt{(N,M)}, \\texttt{mean} can either be:\n",
       "\n",
       "\\begin{itemize}\n",
       "\\item when \\texttt{dims=1}, an \\texttt{AbstractMatrix} of size \\texttt{(1,M)},\n",
       "\n",
       "\n",
       "\\item when \\texttt{dims=2}, an \\texttt{AbstractVector} of length \\texttt{N} or an \\texttt{AbstractMatrix} of size \\texttt{(N,1)}.\n",
       "\n",
       "\\end{itemize}\n",
       "\\end{itemize}\n"
      ],
      "text/markdown": [
       "```\n",
       "cov(x::AbstractVector; corrected::Bool=true)\n",
       "```\n",
       "\n",
       "Compute the variance of the vector `x`. If `corrected` is `true` (the default) then the sum is scaled with `n-1`, whereas the sum is scaled with `n` if `corrected` is `false` where `n = length(x)`.\n",
       "\n",
       "---\n",
       "\n",
       "```\n",
       "cov(X::AbstractMatrix; dims::Int=1, corrected::Bool=true)\n",
       "```\n",
       "\n",
       "Compute the covariance matrix of the matrix `X` along the dimension `dims`. If `corrected` is `true` (the default) then the sum is scaled with `n-1`, whereas the sum is scaled with `n` if `corrected` is `false` where `n = size(X, dims)`.\n",
       "\n",
       "---\n",
       "\n",
       "```\n",
       "cov(x::AbstractVector, y::AbstractVector; corrected::Bool=true)\n",
       "```\n",
       "\n",
       "Compute the covariance between the vectors `x` and `y`. If `corrected` is `true` (the default), computes $\\frac{1}{n-1}\\sum_{i=1}^n (x_i-\\bar x) (y_i-\\bar y)^*$ where $*$ denotes the complex conjugate and `n = length(x) = length(y)`. If `corrected` is `false`, computes $\\frac{1}{n}\\sum_{i=1}^n (x_i-\\bar x) (y_i-\\bar y)^*$.\n",
       "\n",
       "---\n",
       "\n",
       "```\n",
       "cov(X::AbstractVecOrMat, Y::AbstractVecOrMat; dims::Int=1, corrected::Bool=true)\n",
       "```\n",
       "\n",
       "Compute the covariance between the vectors or matrices `X` and `Y` along the dimension `dims`. If `corrected` is `true` (the default) then the sum is scaled with `n-1`, whereas the sum is scaled with `n` if `corrected` is `false` where `n = size(X, dims) = size(Y, dims)`.\n",
       "\n",
       "---\n",
       "\n",
       "```\n",
       "cov(X, w::AbstractWeights, vardim=1; mean=nothing,  corrected=false)\n",
       "```\n",
       "\n",
       "Compute the weighted covariance matrix. Similar to `var` and `std` the biased covariance matrix (`corrected=false`) is computed by multiplying `scattermat(X, w)` by $\\frac{1}{\\sum{w}}$ to normalize. However, the unbiased covariance matrix (`corrected=true`) is dependent on the type of weights used:\n",
       "\n",
       "  * `AnalyticWeights`: $\\frac{1}{\\sum w - \\sum {w^2} / \\sum w}$\n",
       "  * `FrequencyWeights`: $\\frac{1}{\\sum{w} - 1}$\n",
       "  * `ProbabilityWeights`: $\\frac{n}{(n - 1) \\sum w}$ where $n$ equals `count(!iszero, w)`\n",
       "  * `Weights`: `ArgumentError` (bias correction not supported)\n",
       "\n",
       "---\n",
       "\n",
       "```\n",
       "cov(ce::CovarianceEstimator, x::AbstractVector; mean=nothing)\n",
       "```\n",
       "\n",
       "Compute a variance estimate from the observation vector `x` using the  estimator `ce`.\n",
       "\n",
       "---\n",
       "\n",
       "```\n",
       "cov(ce::CovarianceEstimator, x::AbstractVector, y::AbstractVector)\n",
       "```\n",
       "\n",
       "Compute the covariance of the vectors `x` and `y` using estimator `ce`.\n",
       "\n",
       "---\n",
       "\n",
       "```\n",
       "cov(ce::CovarianceEstimator, X::AbstractMatrix, [w::AbstractWeights]; mean=nothing, dims::Int=1)\n",
       "```\n",
       "\n",
       "Compute the covariance matrix of the matrix `X` along dimension `dims` using estimator `ce`. A weighting vector `w` can be specified. The keyword argument `mean` can be:\n",
       "\n",
       "  * `nothing` (default) in which case the mean is estimated and subtracted from the data `X`,\n",
       "  * a precalculated mean in which case it is subtracted from the data `X`. Assuming `size(X)` is `(N,M)`, `mean` can either be:\n",
       "\n",
       "      * when `dims=1`, an `AbstractMatrix` of size `(1,M)`,\n",
       "      * when `dims=2`, an `AbstractVector` of length `N` or an `AbstractMatrix` of size `(N,1)`.\n"
      ],
      "text/plain": [
       "\u001b[36m  cov(x::AbstractVector; corrected::Bool=true)\u001b[39m\n",
       "\n",
       "  Compute the variance of the vector \u001b[36mx\u001b[39m. If \u001b[36mcorrected\u001b[39m is \u001b[36mtrue\u001b[39m (the default)\n",
       "  then the sum is scaled with \u001b[36mn-1\u001b[39m, whereas the sum is scaled with \u001b[36mn\u001b[39m if\n",
       "  \u001b[36mcorrected\u001b[39m is \u001b[36mfalse\u001b[39m where \u001b[36mn = length(x)\u001b[39m.\n",
       "\n",
       "  ────────────────────────────────────────────────────────────────────────────\n",
       "\n",
       "\u001b[36m  cov(X::AbstractMatrix; dims::Int=1, corrected::Bool=true)\u001b[39m\n",
       "\n",
       "  Compute the covariance matrix of the matrix \u001b[36mX\u001b[39m along the dimension \u001b[36mdims\u001b[39m. If\n",
       "  \u001b[36mcorrected\u001b[39m is \u001b[36mtrue\u001b[39m (the default) then the sum is scaled with \u001b[36mn-1\u001b[39m, whereas the\n",
       "  sum is scaled with \u001b[36mn\u001b[39m if \u001b[36mcorrected\u001b[39m is \u001b[36mfalse\u001b[39m where \u001b[36mn = size(X, dims)\u001b[39m.\n",
       "\n",
       "  ────────────────────────────────────────────────────────────────────────────\n",
       "\n",
       "\u001b[36m  cov(x::AbstractVector, y::AbstractVector; corrected::Bool=true)\u001b[39m\n",
       "\n",
       "  Compute the covariance between the vectors \u001b[36mx\u001b[39m and \u001b[36my\u001b[39m. If \u001b[36mcorrected\u001b[39m is \u001b[36mtrue\u001b[39m\n",
       "  (the default), computes \u001b[35m\\frac{1}{n-1}\\sum_{i=1}^n (x_i-\\bar x) (y_i-\\bar\n",
       "  y)^*\u001b[39m where \u001b[35m*\u001b[39m denotes the complex conjugate and \u001b[36mn = length(x) = length(y)\u001b[39m. If\n",
       "  \u001b[36mcorrected\u001b[39m is \u001b[36mfalse\u001b[39m, computes \u001b[35m\\frac{1}{n}\\sum_{i=1}^n (x_i-\\bar x) (y_i-\\bar\n",
       "  y)^*\u001b[39m.\n",
       "\n",
       "  ────────────────────────────────────────────────────────────────────────────\n",
       "\n",
       "\u001b[36m  cov(X::AbstractVecOrMat, Y::AbstractVecOrMat; dims::Int=1, corrected::Bool=true)\u001b[39m\n",
       "\n",
       "  Compute the covariance between the vectors or matrices \u001b[36mX\u001b[39m and \u001b[36mY\u001b[39m along the\n",
       "  dimension \u001b[36mdims\u001b[39m. If \u001b[36mcorrected\u001b[39m is \u001b[36mtrue\u001b[39m (the default) then the sum is scaled\n",
       "  with \u001b[36mn-1\u001b[39m, whereas the sum is scaled with \u001b[36mn\u001b[39m if \u001b[36mcorrected\u001b[39m is \u001b[36mfalse\u001b[39m where \u001b[36mn =\n",
       "  size(X, dims) = size(Y, dims)\u001b[39m.\n",
       "\n",
       "  ────────────────────────────────────────────────────────────────────────────\n",
       "\n",
       "\u001b[36m  cov(X, w::AbstractWeights, vardim=1; mean=nothing,  corrected=false)\u001b[39m\n",
       "\n",
       "  Compute the weighted covariance matrix. Similar to \u001b[36mvar\u001b[39m and \u001b[36mstd\u001b[39m the biased\n",
       "  covariance matrix (\u001b[36mcorrected=false\u001b[39m) is computed by multiplying \u001b[36mscattermat(X,\n",
       "  w)\u001b[39m by \u001b[35m\\frac{1}{\\sum{w}}\u001b[39m to normalize. However, the unbiased covariance\n",
       "  matrix (\u001b[36mcorrected=true\u001b[39m) is dependent on the type of weights used:\n",
       "\n",
       "    •    \u001b[36mAnalyticWeights\u001b[39m: \u001b[35m\\frac{1}{\\sum w - \\sum {w^2} / \\sum w}\u001b[39m\n",
       "\n",
       "    •    \u001b[36mFrequencyWeights\u001b[39m: \u001b[35m\\frac{1}{\\sum{w} - 1}\u001b[39m\n",
       "\n",
       "    •    \u001b[36mProbabilityWeights\u001b[39m: \u001b[35m\\frac{n}{(n - 1) \\sum w}\u001b[39m where \u001b[35mn\u001b[39m equals\n",
       "        \u001b[36mcount(!iszero, w)\u001b[39m\n",
       "\n",
       "    •    \u001b[36mWeights\u001b[39m: \u001b[36mArgumentError\u001b[39m (bias correction not supported)\n",
       "\n",
       "  ────────────────────────────────────────────────────────────────────────────\n",
       "\n",
       "\u001b[36m  cov(ce::CovarianceEstimator, x::AbstractVector; mean=nothing)\u001b[39m\n",
       "\n",
       "  Compute a variance estimate from the observation vector \u001b[36mx\u001b[39m using the\n",
       "  estimator \u001b[36mce\u001b[39m.\n",
       "\n",
       "  ────────────────────────────────────────────────────────────────────────────\n",
       "\n",
       "\u001b[36m  cov(ce::CovarianceEstimator, x::AbstractVector, y::AbstractVector)\u001b[39m\n",
       "\n",
       "  Compute the covariance of the vectors \u001b[36mx\u001b[39m and \u001b[36my\u001b[39m using estimator \u001b[36mce\u001b[39m.\n",
       "\n",
       "  ────────────────────────────────────────────────────────────────────────────\n",
       "\n",
       "\u001b[36m  cov(ce::CovarianceEstimator, X::AbstractMatrix, [w::AbstractWeights]; mean=nothing, dims::Int=1)\u001b[39m\n",
       "\n",
       "  Compute the covariance matrix of the matrix \u001b[36mX\u001b[39m along dimension \u001b[36mdims\u001b[39m using\n",
       "  estimator \u001b[36mce\u001b[39m. A weighting vector \u001b[36mw\u001b[39m can be specified. The keyword argument\n",
       "  \u001b[36mmean\u001b[39m can be:\n",
       "\n",
       "    •    \u001b[36mnothing\u001b[39m (default) in which case the mean is estimated and\n",
       "        subtracted from the data \u001b[36mX\u001b[39m,\n",
       "\n",
       "    •    a precalculated mean in which case it is subtracted from the data\n",
       "        \u001b[36mX\u001b[39m. Assuming \u001b[36msize(X)\u001b[39m is \u001b[36m(N,M)\u001b[39m, \u001b[36mmean\u001b[39m can either be:\n",
       "      \n",
       "          •    when \u001b[36mdims=1\u001b[39m, an \u001b[36mAbstractMatrix\u001b[39m of size \u001b[36m(1,M)\u001b[39m,\n",
       "      \n",
       "          •    when \u001b[36mdims=2\u001b[39m, an \u001b[36mAbstractVector\u001b[39m of length \u001b[36mN\u001b[39m or an\n",
       "              \u001b[36mAbstractMatrix\u001b[39m of size \u001b[36m(N,1)\u001b[39m."
      ]
     },
     "execution_count": 87,
     "metadata": {},
     "output_type": "execute_result"
    }
   ],
   "source": [
    "? cov"
   ]
  },
  {
   "cell_type": "code",
   "execution_count": 90,
   "metadata": {},
   "outputs": [
    {
     "data": {
      "image/png": "[encoded data removed]"
     },
     "execution_count": 90,
     "metadata": {},
     "output_type": "execute_result"
    }
   ],
   "source": [
    "heatmap(S,yflip=true)"
   ]
  },
  {
   "cell_type": "code",
   "execution_count": 93,
   "metadata": {},
   "outputs": [
    {
     "data": {
      "text/plain": [
       "784-element Array{Float64,1}:\n",
       " -7.35283366324204e-16  \n",
       " -5.195054955872474e-16 \n",
       " -4.0669296719631706e-16\n",
       " -3.143726189119957e-16 \n",
       " -2.6100734466654673e-16\n",
       " -2.2605953626160523e-16\n",
       " -1.6565473340752057e-16\n",
       " -1.5061367189183801e-16\n",
       " -1.3282856200799368e-16\n",
       " -1.1576046239687362e-16\n",
       " -9.052245824015203e-17 \n",
       " -6.311166735190404e-17 \n",
       " -5.782896116117091e-17 \n",
       "  ⋮                     \n",
       "  1.0197368328354237    \n",
       "  1.0812954974288642    \n",
       "  1.1536720394549866    \n",
       "  1.499840556209008     \n",
       "  1.5224444114208702    \n",
       "  1.7746609848571122    \n",
       "  2.3466998535358696    \n",
       "  2.607661783687185     \n",
       "  2.8739902052477193    \n",
       "  3.368229607737058     \n",
       "  3.8877296562153605    \n",
       "  5.215972856000809     "
      ]
     },
     "execution_count": 93,
     "metadata": {},
     "output_type": "execute_result"
    }
   ],
   "source": [
    "ev = eigvals(S)"
   ]
  },
  {
   "cell_type": "markdown",
   "metadata": {},
   "source": [
    "### Digression"
   ]
  },
  {
   "cell_type": "code",
   "execution_count": 96,
   "metadata": {},
   "outputs": [
    {
     "data": {
      "text/plain": [
       "-7.35283366324204e-16"
      ]
     },
     "execution_count": 96,
     "metadata": {},
     "output_type": "execute_result"
    }
   ],
   "source": [
    "minimum(ev)"
   ]
  },
  {
   "cell_type": "code",
   "execution_count": 99,
   "metadata": {},
   "outputs": [
    {
     "data": {
      "text/plain": [
       "10×10 Array{Float64,2}:\n",
       " 0.0  0.0  0.0  0.0  0.0  0.0  0.0  0.0  0.0  0.0\n",
       " 0.0  0.0  0.0  0.0  0.0  0.0  0.0  0.0  0.0  0.0\n",
       " 0.0  0.0  0.0  0.0  0.0  0.0  0.0  0.0  0.0  0.0\n",
       " 0.0  0.0  0.0  0.0  0.0  0.0  0.0  0.0  0.0  0.0\n",
       " 0.0  0.0  0.0  0.0  0.0  0.0  0.0  0.0  0.0  0.0\n",
       " 0.0  0.0  0.0  0.0  0.0  0.0  0.0  0.0  0.0  0.0\n",
       " 0.0  0.0  0.0  0.0  0.0  0.0  0.0  0.0  0.0  0.0\n",
       " 0.0  0.0  0.0  0.0  0.0  0.0  0.0  0.0  0.0  0.0\n",
       " 0.0  0.0  0.0  0.0  0.0  0.0  0.0  0.0  0.0  0.0\n",
       " 0.0  0.0  0.0  0.0  0.0  0.0  0.0  0.0  0.0  0.0"
      ]
     },
     "execution_count": 99,
     "metadata": {},
     "output_type": "execute_result"
    }
   ],
   "source": [
    "TT = rand([1,2,3],10,10)\n",
    "myS = (TT+TT')/2\n",
    "#myS-myS'"
   ]
  },
  {
   "cell_type": "code",
   "execution_count": 100,
   "metadata": {},
   "outputs": [
    {
     "data": {
      "text/plain": [
       "10-element Array{Float64,1}:\n",
       " -4.168581183275824  \n",
       " -2.0279610229749956 \n",
       " -1.32148403566402   \n",
       " -1.0088919513075338 \n",
       " -0.11678351141280399\n",
       "  0.5031761368371958 \n",
       "  1.2070397238935915 \n",
       "  1.6297290918916818 \n",
       "  2.996423558895914  \n",
       " 20.307333193116797  "
      ]
     },
     "execution_count": 100,
     "metadata": {},
     "output_type": "execute_result"
    }
   ],
   "source": [
    "eigvals(myS)"
   ]
  },
  {
   "cell_type": "code",
   "execution_count": 103,
   "metadata": {},
   "outputs": [
    {
     "data": {
      "text/plain": [
       "10-element Array{Float64,1}:\n",
       "  5.831418816724173\n",
       "  7.972038977025002\n",
       "  8.678515964335986\n",
       "  8.991108048692466\n",
       "  9.883216488587196\n",
       " 10.503176136837192\n",
       " 11.20703972389359 \n",
       " 11.629729091891678\n",
       " 12.996423558895911\n",
       " 30.307333193116783"
      ]
     },
     "execution_count": 103,
     "metadata": {},
     "output_type": "execute_result"
    }
   ],
   "source": [
    "eigvals(myS+10I)"
   ]
  },
  {
   "cell_type": "code",
   "execution_count": 104,
   "metadata": {},
   "outputs": [
    {
     "data": {
      "text/plain": [
       "2×2 Array{Int64,2}:\n",
       " 3  3\n",
       " 2  3"
      ]
     },
     "execution_count": 104,
     "metadata": {},
     "output_type": "execute_result"
    }
   ],
   "source": [
    "A = rand(1:3,2,2)"
   ]
  },
  {
   "cell_type": "code",
   "execution_count": 105,
   "metadata": {},
   "outputs": [
    {
     "data": {
      "text/plain": [
       "2×2 Array{Int64,2}:\n",
       " 1  1\n",
       " 1  2"
      ]
     },
     "execution_count": 105,
     "metadata": {},
     "output_type": "execute_result"
    }
   ],
   "source": [
    "B = rand(1:3,2,2)"
   ]
  },
  {
   "cell_type": "code",
   "execution_count": 107,
   "metadata": {},
   "outputs": [
    {
     "data": {
      "text/plain": [
       "(1.0, 2)"
      ]
     },
     "execution_count": 107,
     "metadata": {},
     "output_type": "execute_result"
    }
   ],
   "source": [
    "det(B),rank(B)"
   ]
  },
  {
   "cell_type": "code",
   "execution_count": 108,
   "metadata": {},
   "outputs": [
    {
     "data": {
      "text/plain": [
       "2×2 Array{Float64,2}:\n",
       " 4.0  1.0\n",
       " 5.0  2.0"
      ]
     },
     "execution_count": 108,
     "metadata": {},
     "output_type": "execute_result"
    }
   ],
   "source": [
    "W = B*A*inv(B)"
   ]
  },
  {
   "cell_type": "code",
   "execution_count": 110,
   "metadata": {},
   "outputs": [
    {
     "data": {
      "text/plain": [
       "2-element Array{Float64,1}:\n",
       " 5.449489742783179 \n",
       " 0.5505102572168221"
      ]
     },
     "execution_count": 110,
     "metadata": {},
     "output_type": "execute_result"
    }
   ],
   "source": [
    "eigvals(A)"
   ]
  },
  {
   "cell_type": "code",
   "execution_count": 111,
   "metadata": {},
   "outputs": [
    {
     "data": {
      "text/plain": [
       "2-element Array{Float64,1}:\n",
       " 5.449489742783179 \n",
       " 0.5505102572168219"
      ]
     },
     "execution_count": 111,
     "metadata": {},
     "output_type": "execute_result"
    }
   ],
   "source": [
    "eigvals(W)"
   ]
  },
  {
   "cell_type": "code",
   "execution_count": 119,
   "metadata": {},
   "outputs": [
    {
     "data": {
      "text/plain": [
       "(0.9999999999999996, 0.9999999999999998)"
      ]
     },
     "execution_count": 119,
     "metadata": {},
     "output_type": "execute_result"
    }
   ],
   "source": [
    "evals = eigvals(S);\n",
    "evecs = eigvecs(S);\n",
    "evec1 = evecs[:,1]\n",
    "evec2 = evecs[:,2]\n",
    "norm(evec1),norm(evec2)"
   ]
  },
  {
   "cell_type": "code",
   "execution_count": 120,
   "metadata": {},
   "outputs": [
    {
     "data": {
      "text/plain": [
       "5.898059818321144e-17"
      ]
     },
     "execution_count": 120,
     "metadata": {},
     "output_type": "execute_result"
    }
   ],
   "source": [
    "evec1'*evec2"
   ]
  },
  {
   "cell_type": "code",
   "execution_count": 124,
   "metadata": {},
   "outputs": [
    {
     "data": {
      "image/png": "[encoded data removed]"
     },
     "execution_count": 124,
     "metadata": {},
     "output_type": "execute_result"
    }
   ],
   "source": [
    "Q = eigvecs(S);\n",
    "heatmap(Q'*Q,yflip=true)"
   ]
  },
  {
   "cell_type": "code",
   "execution_count": 129,
   "metadata": {},
   "outputs": [
    {
     "data": {
      "text/plain": [
       "6.938893903907228e-16"
      ]
     },
     "execution_count": 129,
     "metadata": {},
     "output_type": "execute_result"
    }
   ],
   "source": [
    "Λ = diagm(0=>evals);\n",
    "maximum(abs.(S - Q*Λ*Q'))"
   ]
  },
  {
   "cell_type": "code",
   "execution_count": 135,
   "metadata": {},
   "outputs": [
    {
     "data": {
      "text/plain": [
       "1.0765043370608574e-15"
      ]
     },
     "execution_count": 135,
     "metadata": {},
     "output_type": "execute_result"
    }
   ],
   "source": [
    "maximum(abs.(evals[784]*Q[:,784]-S*Q[:,784]))"
   ]
  },
  {
   "cell_type": "code",
   "execution_count": 138,
   "metadata": {},
   "outputs": [
    {
     "data": {
      "text/plain": [
       "5.551115123125783e-17"
      ]
     },
     "execution_count": 138,
     "metadata": {},
     "output_type": "execute_result"
    }
   ],
   "source": [
    "maximum(abs.(Q*Λ*Q' - sum([evals[i]*Q[:,i]*Q[:,i]' for i in 1:p])))"
   ]
  },
  {
   "cell_type": "code",
   "execution_count": 140,
   "metadata": {},
   "outputs": [
    {
     "data": {
      "text/plain": [
       "784-element Array{Float64,1}:\n",
       " -7.35283366324204e-16  \n",
       " -5.195054955872474e-16 \n",
       " -4.0669296719631706e-16\n",
       " -3.143726189119957e-16 \n",
       " -2.6100734466654673e-16\n",
       " -2.2605953626160523e-16\n",
       " -1.6565473340752057e-16\n",
       " -1.5061367189183801e-16\n",
       " -1.3282856200799368e-16\n",
       " -1.1576046239687362e-16\n",
       " -9.052245824015203e-17 \n",
       " -6.311166735190404e-17 \n",
       " -5.782896116117091e-17 \n",
       "  ⋮                     \n",
       "  1.0197368328354237    \n",
       "  1.0812954974288642    \n",
       "  1.1536720394549866    \n",
       "  1.499840556209008     \n",
       "  1.5224444114208702    \n",
       "  1.7746609848571122    \n",
       "  2.3466998535358696    \n",
       "  2.607661783687185     \n",
       "  2.8739902052477193    \n",
       "  3.368229607737058     \n",
       "  3.8877296562153605    \n",
       "  5.215972856000809     "
      ]
     },
     "execution_count": 140,
     "metadata": {},
     "output_type": "execute_result"
    }
   ],
   "source": [
    "evals"
   ]
  },
  {
   "cell_type": "code",
   "execution_count": 145,
   "metadata": {},
   "outputs": [
    {
     "data": {
      "text/plain": [
       "3-element Array{Int64,1}:\n",
       " 2\n",
       " 1\n",
       " 3"
      ]
     },
     "execution_count": 145,
     "metadata": {},
     "output_type": "execute_result"
    }
   ],
   "source": [
    "sortperm([3,-1,8])"
   ]
  },
  {
   "cell_type": "code",
   "execution_count": 146,
   "metadata": {},
   "outputs": [
    {
     "data": {
      "text/plain": [
       "784-element Array{Int64,1}:\n",
       " 784\n",
       " 783\n",
       " 782\n",
       " 781\n",
       " 780\n",
       " 779\n",
       " 778\n",
       " 777\n",
       " 776\n",
       " 775\n",
       " 774\n",
       " 773\n",
       " 772\n",
       "   ⋮\n",
       "  12\n",
       "  11\n",
       "  10\n",
       "   9\n",
       "   8\n",
       "   7\n",
       "   6\n",
       "   5\n",
       "   4\n",
       "   3\n",
       "   2\n",
       "   1"
      ]
     },
     "execution_count": 146,
     "metadata": {},
     "output_type": "execute_result"
    }
   ],
   "source": [
    "pp = sortperm(evals,rev=true)"
   ]
  },
  {
   "cell_type": "code",
   "execution_count": 148,
   "metadata": {},
   "outputs": [],
   "source": [
    "EVals = evals[pp];"
   ]
  },
  {
   "cell_type": "code",
   "execution_count": 149,
   "metadata": {},
   "outputs": [
    {
     "data": {
      "text/plain": [
       "5.215972856000809"
      ]
     },
     "execution_count": 149,
     "metadata": {},
     "output_type": "execute_result"
    }
   ],
   "source": [
    "EVals[1]"
   ]
  },
  {
   "cell_type": "code",
   "execution_count": 154,
   "metadata": {},
   "outputs": [],
   "source": [
    "EQ = Q[:,pp];"
   ]
  },
  {
   "cell_type": "code",
   "execution_count": 157,
   "metadata": {},
   "outputs": [
    {
     "data": {
      "text/plain": [
       "1.0765043370608574e-15"
      ]
     },
     "execution_count": 157,
     "metadata": {},
     "output_type": "execute_result"
    }
   ],
   "source": [
    "maximum(abs.(S*EQ[:,1] - EVals[1]EQ[:,1]))"
   ]
  },
  {
   "cell_type": "code",
   "execution_count": 161,
   "metadata": {},
   "outputs": [
    {
     "data": {
      "text/plain": [
       "7.216449660063518e-16"
      ]
     },
     "execution_count": 161,
     "metadata": {},
     "output_type": "execute_result"
    }
   ],
   "source": [
    "Λ = diagm(0=>EVals);\n",
    "maximum(abs.(EQ*Λ*EQ' - S))"
   ]
  },
  {
   "cell_type": "code",
   "execution_count": 165,
   "metadata": {},
   "outputs": [
    {
     "data": {
      "text/plain": [
       "aprox (generic function with 1 method)"
      ]
     },
     "execution_count": 165,
     "metadata": {},
     "output_type": "execute_result"
    }
   ],
   "source": [
    "aprox(k) = sum([EVals[i]*EQ[:,i]*EQ[:,i]' for i in 1:k])"
   ]
  },
  {
   "cell_type": "code",
   "execution_count": 170,
   "metadata": {},
   "outputs": [
    {
     "data": {
      "text/plain": [
       "7"
      ]
     },
     "execution_count": 170,
     "metadata": {},
     "output_type": "execute_result"
    }
   ],
   "source": [
    "rank(aprox(7))"
   ]
  },
  {
   "cell_type": "code",
   "execution_count": 173,
   "metadata": {},
   "outputs": [
    {
     "data": {
      "text/plain": [
       "err (generic function with 1 method)"
      ]
     },
     "execution_count": 173,
     "metadata": {},
     "output_type": "execute_result"
    }
   ],
   "source": [
    "err(k) = norm(aprox(k)-S)"
   ]
  },
  {
   "cell_type": "code",
   "execution_count": 179,
   "metadata": {},
   "outputs": [],
   "source": [
    "errs = [err(k) for k in 1:30];"
   ]
  },
  {
   "cell_type": "code",
   "execution_count": 180,
   "metadata": {},
   "outputs": [
    {
     "data": {
      "image/png": "[encoded data removed]"
     },
     "execution_count": 180,
     "metadata": {},
     "output_type": "execute_result"
    }
   ],
   "source": [
    "scatter(1:30,errs,legend=false)"
   ]
  },
  {
   "cell_type": "code",
   "execution_count": 182,
   "metadata": {},
   "outputs": [
    {
     "data": {
      "text/plain": [
       "784×784 Array{Float64,2}:\n",
       " 0.0  0.0  0.0  0.0  0.0  0.0  0.0  …  0.0  0.0  0.0  0.0  0.0  0.0  0.0\n",
       " 0.0  0.0  0.0  0.0  0.0  0.0  0.0     0.0  0.0  0.0  0.0  0.0  0.0  0.0\n",
       " 0.0  0.0  0.0  0.0  0.0  0.0  0.0     0.0  0.0  0.0  0.0  0.0  0.0  0.0\n",
       " 0.0  0.0  0.0  0.0  0.0  0.0  0.0     0.0  0.0  0.0  0.0  0.0  0.0  0.0\n",
       " 0.0  0.0  0.0  0.0  0.0  0.0  0.0     0.0  0.0  0.0  0.0  0.0  0.0  0.0\n",
       " 0.0  0.0  0.0  0.0  0.0  0.0  0.0  …  0.0  0.0  0.0  0.0  0.0  0.0  0.0\n",
       " 0.0  0.0  0.0  0.0  0.0  0.0  0.0     0.0  0.0  0.0  0.0  0.0  0.0  0.0\n",
       " 0.0  0.0  0.0  0.0  0.0  0.0  0.0     0.0  0.0  0.0  0.0  0.0  0.0  0.0\n",
       " 0.0  0.0  0.0  0.0  0.0  0.0  0.0     0.0  0.0  0.0  0.0  0.0  0.0  0.0\n",
       " 0.0  0.0  0.0  0.0  0.0  0.0  0.0     0.0  0.0  0.0  0.0  0.0  0.0  0.0\n",
       " 0.0  0.0  0.0  0.0  0.0  0.0  0.0  …  0.0  0.0  0.0  0.0  0.0  0.0  0.0\n",
       " 0.0  0.0  0.0  0.0  0.0  0.0  0.0     0.0  0.0  0.0  0.0  0.0  0.0  0.0\n",
       " 0.0  0.0  0.0  0.0  0.0  0.0  0.0     0.0  0.0  0.0  0.0  0.0  0.0  0.0\n",
       " ⋮                        ⋮         ⋱                 ⋮                 \n",
       " 0.0  0.0  0.0  0.0  0.0  0.0  0.0     0.0  0.0  0.0  0.0  0.0  0.0  0.0\n",
       " 0.0  0.0  0.0  0.0  0.0  0.0  0.0     0.0  0.0  0.0  0.0  0.0  0.0  0.0\n",
       " 0.0  0.0  0.0  0.0  0.0  0.0  0.0     0.0  0.0  0.0  0.0  0.0  0.0  0.0\n",
       " 0.0  0.0  0.0  0.0  0.0  0.0  0.0  …  0.0  0.0  0.0  0.0  0.0  0.0  0.0\n",
       " 0.0  0.0  0.0  0.0  0.0  0.0  0.0     0.0  0.0  0.0  0.0  0.0  0.0  0.0\n",
       " 0.0  0.0  0.0  0.0  0.0  0.0  0.0     0.0  0.0  0.0  0.0  0.0  0.0  0.0\n",
       " 0.0  0.0  0.0  0.0  0.0  0.0  0.0     0.0  0.0  0.0  0.0  0.0  0.0  0.0\n",
       " 0.0  0.0  0.0  0.0  0.0  0.0  0.0     0.0  0.0  0.0  0.0  0.0  0.0  0.0\n",
       " 0.0  0.0  0.0  0.0  0.0  0.0  0.0  …  0.0  0.0  0.0  0.0  0.0  0.0  0.0\n",
       " 0.0  0.0  0.0  0.0  0.0  0.0  0.0     0.0  0.0  0.0  0.0  0.0  0.0  0.0\n",
       " 0.0  0.0  0.0  0.0  0.0  0.0  0.0     0.0  0.0  0.0  0.0  0.0  0.0  0.0\n",
       " 0.0  0.0  0.0  0.0  0.0  0.0  0.0     0.0  0.0  0.0  0.0  0.0  0.0  0.0"
      ]
     },
     "execution_count": 182,
     "metadata": {},
     "output_type": "execute_result"
    }
   ],
   "source": [
    "aprox(2)"
   ]
  },
  {
   "cell_type": "code",
   "execution_count": 192,
   "metadata": {},
   "outputs": [
    {
     "data": {
      "image/png": "[encoded data removed]"
     },
     "execution_count": 192,
     "metadata": {},
     "output_type": "execute_result"
    }
   ],
   "source": [
    "heatmap(reshape(B[1,:],28,28),yflip=true)"
   ]
  },
  {
   "cell_type": "code",
   "execution_count": 199,
   "metadata": {},
   "outputs": [
    {
     "data": {
      "text/plain": [
       "2-element Array{Float64,1}:\n",
       " 0.531625375210431 \n",
       " 1.8606942487120954"
      ]
     },
     "execution_count": 199,
     "metadata": {},
     "output_type": "execute_result"
    }
   ],
   "source": [
    "M = EQ[:,1:2]\n",
    "M'*B[42,:]"
   ]
  },
  {
   "cell_type": "code",
   "execution_count": 201,
   "metadata": {},
   "outputs": [
    {
     "data": {
      "text/plain": [
       "2000-element Array{Array{Float64,1},1}:\n",
       " [-0.733751, 1.32272]  \n",
       " [-4.25725, 1.72808]   \n",
       " [0.334169, -1.77474]  \n",
       " [3.59308, 2.55246]    \n",
       " [1.2375, -2.70965]    \n",
       " [-0.824927, -0.372307]\n",
       " [2.63501, 0.214756]   \n",
       " [-2.27817, 1.71962]   \n",
       " [3.23462, -0.0959224] \n",
       " [0.797061, -1.49609]  \n",
       " [0.183017, 2.53947]   \n",
       " [2.67286, 0.92131]    \n",
       " [-0.688997, 2.37637]  \n",
       " ⋮                     \n",
       " [3.22606, 0.189928]   \n",
       " [3.33051, 2.29053]    \n",
       " [1.61516, 0.134007]   \n",
       " [-1.09319, 2.00536]   \n",
       " [2.09628, -1.05274]   \n",
       " [-4.33756, 3.49351]   \n",
       " [1.54194, -0.605551]  \n",
       " [-6.2531, 0.567099]   \n",
       " [0.193032, -0.103968] \n",
       " [-4.35296, 2.74752]   \n",
       " [1.72421, 0.348232]   \n",
       " [-7.81653, 1.75729]   "
      ]
     },
     "execution_count": 201,
     "metadata": {},
     "output_type": "execute_result"
    }
   ],
   "source": [
    "projs = [M'*B[i,:] for i in 1:n]"
   ]
  },
  {
   "cell_type": "code",
   "execution_count": 202,
   "metadata": {},
   "outputs": [
    {
     "data": {
      "image/png": "[encoded data removed]"
     },
     "execution_count": 202,
     "metadata": {},
     "output_type": "execute_result"
    }
   ],
   "source": [
    "scatter(first.(projs),last.(projs))"
   ]
  },
  {
   "cell_type": "code",
   "execution_count": 204,
   "metadata": {},
   "outputs": [
    {
     "data": {
      "text/plain": [
       "2000-element BitArray{1}:\n",
       " false\n",
       "  true\n",
       " false\n",
       " false\n",
       " false\n",
       " false\n",
       " false\n",
       " false\n",
       " false\n",
       " false\n",
       " false\n",
       " false\n",
       " false\n",
       "     ⋮\n",
       " false\n",
       " false\n",
       " false\n",
       " false\n",
       " false\n",
       " false\n",
       " false\n",
       "  true\n",
       " false\n",
       " false\n",
       " false\n",
       "  true"
      ]
     },
     "execution_count": 204,
     "metadata": {},
     "output_type": "execute_result"
    }
   ],
   "source": [
    "labels = MNIST.labels()[1:n]\n",
    "labels .== 0\n"
   ]
  },
  {
   "cell_type": "code",
   "execution_count": 205,
   "metadata": {},
   "outputs": [
    {
     "data": {
      "text/plain": [
       "is01 (generic function with 1 method)"
      ]
     },
     "execution_count": 205,
     "metadata": {},
     "output_type": "execute_result"
    }
   ],
   "source": [
    "is01(d) = d==0 || d==1"
   ]
  },
  {
   "cell_type": "code",
   "execution_count": 208,
   "metadata": {},
   "outputs": [
    {
     "data": {
      "text/plain": [
       "true"
      ]
     },
     "execution_count": 208,
     "metadata": {},
     "output_type": "execute_result"
    }
   ],
   "source": [
    "is01(0)"
   ]
  },
  {
   "cell_type": "code",
   "execution_count": 210,
   "metadata": {},
   "outputs": [],
   "source": [
    "B01 = B[is01.(labels),:];"
   ]
  },
  {
   "cell_type": "code",
   "execution_count": 212,
   "metadata": {},
   "outputs": [
    {
     "data": {
      "text/plain": [
       "411"
      ]
     },
     "execution_count": 212,
     "metadata": {},
     "output_type": "execute_result"
    }
   ],
   "source": [
    "nn = size(B01)[1]"
   ]
  },
  {
   "cell_type": "code",
   "execution_count": 213,
   "metadata": {},
   "outputs": [
    {
     "data": {
      "text/plain": [
       "411-element Array{Array{Float64,1},1}:\n",
       " [-4.25725, 1.72808]  \n",
       " [3.59308, 2.55246]   \n",
       " [2.63501, 0.214756]  \n",
       " [3.23462, -0.0959224]\n",
       " [3.28898, 0.383878]  \n",
       " [-4.3168, 2.11275]   \n",
       " [3.64041, 2.24598]   \n",
       " [0.96563, 1.2553]    \n",
       " [-3.0137, 1.6053]    \n",
       " [-4.23287, 1.7184]   \n",
       " [3.6596, 0.904923]   \n",
       " [-6.44765, 0.736365] \n",
       " [-4.71748, -0.181338]\n",
       " ⋮                    \n",
       " [-7.55889, 0.0981293]\n",
       " [-3.80888, 1.25248]  \n",
       " [3.54364, 0.863701]  \n",
       " [3.53177, 0.57443]   \n",
       " [3.68524, 1.0535]    \n",
       " [-4.68899, 0.175984] \n",
       " [-7.9556, 2.70442]   \n",
       " [-6.60273, 0.600271] \n",
       " [3.85602, 1.63431]   \n",
       " [3.33051, 2.29053]   \n",
       " [-6.2531, 0.567099]  \n",
       " [-7.81653, 1.75729]  "
      ]
     },
     "execution_count": 213,
     "metadata": {},
     "output_type": "execute_result"
    }
   ],
   "source": [
    "projs = [M'*B01[i,:] for i in 1:nn];"
   ]
  },
  {
   "cell_type": "code",
   "execution_count": 219,
   "metadata": {},
   "outputs": [
    {
     "data": {
      "text/plain": [
       "411-element Array{Int64,1}:\n",
       " 0\n",
       " 1\n",
       " 1\n",
       " 1\n",
       " 1\n",
       " 0\n",
       " 1\n",
       " 1\n",
       " 0\n",
       " 0\n",
       " 1\n",
       " 0\n",
       " 0\n",
       " ⋮\n",
       " 0\n",
       " 0\n",
       " 1\n",
       " 1\n",
       " 1\n",
       " 0\n",
       " 0\n",
       " 0\n",
       " 1\n",
       " 1\n",
       " 0\n",
       " 0"
      ]
     },
     "execution_count": 219,
     "metadata": {},
     "output_type": "execute_result"
    }
   ],
   "source": [
    "lab01 = labels[is01.(labels)]"
   ]
  },
  {
   "cell_type": "code",
   "execution_count": 223,
   "metadata": {},
   "outputs": [
    {
     "data": {
      "image/png": "[encoded data removed]"
     },
     "execution_count": 223,
     "metadata": {},
     "output_type": "execute_result"
    }
   ],
   "source": [
    "scatter(first.(projs[lab01 .== 0]),last.(projs[lab01 .== 0]),label = \"0\")\n",
    "scatter!(first.(projs[lab01 .== 1]),last.(projs[lab01 .== 1]),label = \"1\")"
   ]
  },
  {
   "cell_type": "code",
   "execution_count": 231,
   "metadata": {},
   "outputs": [
    {
     "data": {
      "text/plain": [
       "411-element Array{Float64,1}:\n",
       " -4.257254417986291 \n",
       "  3.593084745973236 \n",
       "  2.635008962126091 \n",
       "  3.2346226872466968\n",
       "  3.288983821984381 \n",
       " -4.316797222963084 \n",
       "  3.6404085026791617\n",
       "  0.9656299385352792\n",
       " -3.0137037952884027\n",
       " -4.232867825610825 \n",
       "  3.659602720275979 \n",
       " -6.447651956204543 \n",
       " -4.717475169899679 \n",
       "  ⋮                 \n",
       " -7.5588926380295   \n",
       " -3.8088833327314697\n",
       "  3.543643203131137 \n",
       "  3.531769159395829 \n",
       "  3.685237647584561 \n",
       " -4.688988200747767 \n",
       " -7.955600129455027 \n",
       " -6.602729880756747 \n",
       "  3.8560189906827116\n",
       "  3.330511959222576 \n",
       " -6.253095167855516 \n",
       " -7.8165339097427715"
      ]
     },
     "execution_count": 231,
     "metadata": {},
     "output_type": "execute_result"
    }
   ],
   "source": [
    "Ms = EQ[:,1];\n",
    "projs = [Ms'*B01[i,:] for i in 1:nn]"
   ]
  },
  {
   "cell_type": "code",
   "execution_count": 237,
   "metadata": {},
   "outputs": [
    {
     "data": {
      "text/plain": [
       "3.7224184928994086"
      ]
     },
     "execution_count": 237,
     "metadata": {},
     "output_type": "execute_result"
    }
   ],
   "source": [
    "projs[22]"
   ]
  },
  {
   "cell_type": "code",
   "execution_count": 238,
   "metadata": {},
   "outputs": [
    {
     "data": {
      "text/plain": [
       "1"
      ]
     },
     "execution_count": 238,
     "metadata": {},
     "output_type": "execute_result"
    }
   ],
   "source": [
    "lab01[22]"
   ]
  },
  {
   "cell_type": "code",
   "execution_count": null,
   "metadata": {},
   "outputs": [],
   "source": []
  }
 ],
 "metadata": {
  "kernelspec": {
   "display_name": "Julia 1.1.1",
   "language": "julia",
   "name": "julia-1.1"
  },
  "language_info": {
   "file_extension": ".jl",
   "mimetype": "application/julia",
   "name": "julia",
   "version": "1.1.1"
  }
 },
 "nbformat": 4,
 "nbformat_minor": 2
}
