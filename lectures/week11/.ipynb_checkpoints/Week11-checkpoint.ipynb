{
 "cells": [
  {
   "cell_type": "markdown",
   "metadata": {},
   "source": [
    "## Calculations in class"
   ]
  },
  {
   "cell_type": "code",
   "execution_count": 16,
   "metadata": {},
   "outputs": [
    {
     "data": {
      "text/plain": [
       "2×2 Array{Int64,2}:\n",
       "  5  10\n",
       " 10  20"
      ]
     },
     "execution_count": 16,
     "metadata": {},
     "output_type": "execute_result"
    }
   ],
   "source": [
    "G = [5 10; 10 20]"
   ]
  },
  {
   "cell_type": "code",
   "execution_count": 18,
   "metadata": {},
   "outputs": [
    {
     "data": {
      "text/plain": [
       "2×2 Array{Int64,2}:\n",
       " 2  4\n",
       " 1  2"
      ]
     },
     "execution_count": 18,
     "metadata": {},
     "output_type": "execute_result"
    }
   ],
   "source": [
    "A = [2 4 ; 1 2]"
   ]
  },
  {
   "cell_type": "code",
   "execution_count": 19,
   "metadata": {},
   "outputs": [
    {
     "data": {
      "text/plain": [
       "2×2 Array{Int64,2}:\n",
       " 20  10\n",
       " 10   5"
      ]
     },
     "execution_count": 19,
     "metadata": {},
     "output_type": "execute_result"
    }
   ],
   "source": [
    "Gt = A*A'"
   ]
  },
  {
   "cell_type": "code",
   "execution_count": 20,
   "metadata": {},
   "outputs": [],
   "source": [
    "using LinearAlgebra"
   ]
  },
  {
   "cell_type": "code",
   "execution_count": 21,
   "metadata": {},
   "outputs": [
    {
     "data": {
      "text/plain": [
       "2×2 Array{Float64,2}:\n",
       "  0.447214  -0.894427\n",
       " -0.894427  -0.447214"
      ]
     },
     "execution_count": 21,
     "metadata": {},
     "output_type": "execute_result"
    }
   ],
   "source": [
    "eigvecs(Gt)"
   ]
  },
  {
   "cell_type": "code",
   "execution_count": 22,
   "metadata": {},
   "outputs": [
    {
     "data": {
      "text/plain": [
       "2-element Array{Float64,1}:\n",
       "  0.0\n",
       " 25.0"
      ]
     },
     "execution_count": 22,
     "metadata": {},
     "output_type": "execute_result"
    }
   ],
   "source": [
    "eigvals(Gt)"
   ]
  },
  {
   "cell_type": "code",
   "execution_count": 23,
   "metadata": {},
   "outputs": [
    {
     "data": {
      "text/plain": [
       "2-element Array{Float64,1}:\n",
       " 0.8944271909999159\n",
       " 0.4472135954999579"
      ]
     },
     "execution_count": 23,
     "metadata": {},
     "output_type": "execute_result"
    }
   ],
   "source": [
    "ourU = (1/sqrt(5))*[2,1]"
   ]
  },
  {
   "cell_type": "code",
   "execution_count": 24,
   "metadata": {},
   "outputs": [
    {
     "data": {
      "text/plain": [
       "2×2 Array{Int64,2}:\n",
       " 4   3\n",
       " 9  -2"
      ]
     },
     "execution_count": 24,
     "metadata": {},
     "output_type": "execute_result"
    }
   ],
   "source": [
    "C = [4 3; 9 -2]"
   ]
  },
  {
   "cell_type": "code",
   "execution_count": 25,
   "metadata": {},
   "outputs": [
    {
     "data": {
      "text/plain": [
       "2-element Array{Float64,1}:\n",
       " 9.870481592667748 \n",
       " 3.5459262723309903"
      ]
     },
     "execution_count": 25,
     "metadata": {},
     "output_type": "execute_result"
    }
   ],
   "source": [
    "svdvals(C)"
   ]
  },
  {
   "cell_type": "code",
   "execution_count": 26,
   "metadata": {},
   "outputs": [
    {
     "data": {
      "text/plain": [
       "2-element Array{Float64,1}:\n",
       "  7.0\n",
       " -5.0"
      ]
     },
     "execution_count": 26,
     "metadata": {},
     "output_type": "execute_result"
    }
   ],
   "source": [
    "eigvals(C)"
   ]
  },
  {
   "cell_type": "code",
   "execution_count": 27,
   "metadata": {},
   "outputs": [
    {
     "data": {
      "text/plain": [
       "2×2 Array{Int64,2}:\n",
       " 97  -6\n",
       " -6  13"
      ]
     },
     "execution_count": 27,
     "metadata": {},
     "output_type": "execute_result"
    }
   ],
   "source": [
    "G = C'*C"
   ]
  },
  {
   "cell_type": "code",
   "execution_count": 28,
   "metadata": {},
   "outputs": [
    {
     "data": {
      "text/plain": [
       "2-element Array{Float64,1}:\n",
       " 12.573593128807149\n",
       " 97.42640687119285 "
      ]
     },
     "execution_count": 28,
     "metadata": {},
     "output_type": "execute_result"
    }
   ],
   "source": [
    "eigvals(G)"
   ]
  },
  {
   "cell_type": "code",
   "execution_count": 29,
   "metadata": {},
   "outputs": [
    {
     "data": {
      "text/plain": [
       "9.870157040290696"
      ]
     },
     "execution_count": 29,
     "metadata": {},
     "output_type": "execute_result"
    }
   ],
   "source": [
    "sqrt(97.42)"
   ]
  },
  {
   "cell_type": "code",
   "execution_count": 30,
   "metadata": {},
   "outputs": [
    {
     "data": {
      "text/plain": [
       "2-element Array{Float64,1}:\n",
       " 9.870481592667748 \n",
       " 3.5459262723309903"
      ]
     },
     "execution_count": 30,
     "metadata": {},
     "output_type": "execute_result"
    }
   ],
   "source": [
    "svdvals(C)"
   ]
  },
  {
   "cell_type": "code",
   "execution_count": 34,
   "metadata": {},
   "outputs": [
    {
     "data": {
      "text/plain": [
       "10-element Array{Float64,1}:\n",
       " -0.7246832198334164 \n",
       " -0.6625837787315193 \n",
       "  1.0964783065564592 \n",
       " -0.8864484742440114 \n",
       "  1.2886622153509986 \n",
       " -1.703557003928312  \n",
       "  0.23770025400564193\n",
       "  1.0347782039081692 \n",
       "  1.3697860863422413 \n",
       " -1.2042544489339368 "
      ]
     },
     "execution_count": 34,
     "metadata": {},
     "output_type": "execute_result"
    }
   ],
   "source": [
    "randn(10)"
   ]
  },
  {
   "cell_type": "code",
   "execution_count": 35,
   "metadata": {},
   "outputs": [
    {
     "data": {
      "text/plain": [
       "2×2 Array{Int64,2}:\n",
       " 2  4\n",
       " 1  2"
      ]
     },
     "execution_count": 35,
     "metadata": {},
     "output_type": "execute_result"
    }
   ],
   "source": [
    "A"
   ]
  },
  {
   "cell_type": "code",
   "execution_count": 37,
   "metadata": {},
   "outputs": [
    {
     "data": {
      "text/plain": [
       "X (generic function with 1 method)"
      ]
     },
     "execution_count": 37,
     "metadata": {},
     "output_type": "execute_result"
    }
   ],
   "source": [
    "X() = randn(2)"
   ]
  },
  {
   "cell_type": "code",
   "execution_count": 40,
   "metadata": {},
   "outputs": [
    {
     "data": {
      "text/plain": [
       "2-element Array{Float64,1}:\n",
       " 1.054342220775383  \n",
       " 0.21967967395269608"
      ]
     },
     "execution_count": 40,
     "metadata": {},
     "output_type": "execute_result"
    }
   ],
   "source": [
    "X()"
   ]
  },
  {
   "cell_type": "code",
   "execution_count": 41,
   "metadata": {},
   "outputs": [
    {
     "data": {
      "text/plain": [
       "Y (generic function with 1 method)"
      ]
     },
     "execution_count": 41,
     "metadata": {},
     "output_type": "execute_result"
    }
   ],
   "source": [
    "Y() = A*X() .+ [2,3]"
   ]
  },
  {
   "cell_type": "code",
   "execution_count": 44,
   "metadata": {},
   "outputs": [
    {
     "data": {
      "text/plain": [
       "2-element Array{Float64,1}:\n",
       " 6.862939866818629\n",
       " 5.431469933409314"
      ]
     },
     "execution_count": 44,
     "metadata": {},
     "output_type": "execute_result"
    }
   ],
   "source": [
    "Y()"
   ]
  },
  {
   "cell_type": "code",
   "execution_count": 45,
   "metadata": {},
   "outputs": [
    {
     "data": {
      "text/plain": [
       "f (generic function with 1 method)"
      ]
     },
     "execution_count": 45,
     "metadata": {},
     "output_type": "execute_result"
    }
   ],
   "source": [
    "f(x,y) = x^2*y^2"
   ]
  },
  {
   "cell_type": "code",
   "execution_count": 47,
   "metadata": {},
   "outputs": [
    {
     "data": {
      "text/plain": [
       "0.1144807225"
      ]
     },
     "execution_count": 47,
     "metadata": {},
     "output_type": "execute_result"
    }
   ],
   "source": [
    "δ = 0.01\n",
    "sum([f(x,y)*δ*δ for x in 0:δ:1, y in 0:δ:1])"
   ]
  },
  {
   "cell_type": "code",
   "execution_count": 48,
   "metadata": {},
   "outputs": [
    {
     "data": {
      "text/plain": [
       "0.1111111111111111"
      ]
     },
     "execution_count": 48,
     "metadata": {},
     "output_type": "execute_result"
    }
   ],
   "source": [
    "1/9"
   ]
  },
  {
   "cell_type": "code",
   "execution_count": 49,
   "metadata": {},
   "outputs": [],
   "source": [
    "using Distributions"
   ]
  },
  {
   "cell_type": "code",
   "execution_count": 50,
   "metadata": {},
   "outputs": [
    {
     "name": "stdout",
     "output_type": "stream",
     "text": [
      "search: \u001b[0m\u001b[1mM\u001b[22m\u001b[0m\u001b[1mv\u001b[22m\u001b[0m\u001b[1mN\u001b[22m\u001b[0m\u001b[1mo\u001b[22m\u001b[0m\u001b[1mr\u001b[22m\u001b[0m\u001b[1mm\u001b[22m\u001b[0m\u001b[1ma\u001b[22m\u001b[0m\u001b[1ml\u001b[22m \u001b[0m\u001b[1mM\u001b[22m\u001b[0m\u001b[1mv\u001b[22m\u001b[0m\u001b[1mN\u001b[22m\u001b[0m\u001b[1mo\u001b[22m\u001b[0m\u001b[1mr\u001b[22m\u001b[0m\u001b[1mm\u001b[22m\u001b[0m\u001b[1ma\u001b[22m\u001b[0m\u001b[1ml\u001b[22mCanon \u001b[0m\u001b[1mM\u001b[22m\u001b[0m\u001b[1mv\u001b[22m\u001b[0m\u001b[1mN\u001b[22m\u001b[0m\u001b[1mo\u001b[22m\u001b[0m\u001b[1mr\u001b[22m\u001b[0m\u001b[1mm\u001b[22m\u001b[0m\u001b[1ma\u001b[22m\u001b[0m\u001b[1ml\u001b[22mKnownCov \u001b[0m\u001b[1mM\u001b[22m\u001b[0m\u001b[1mv\u001b[22mLog\u001b[0m\u001b[1mN\u001b[22m\u001b[0m\u001b[1mo\u001b[22m\u001b[0m\u001b[1mr\u001b[22m\u001b[0m\u001b[1mm\u001b[22m\u001b[0m\u001b[1ma\u001b[22m\u001b[0m\u001b[1ml\u001b[22m Abstract\u001b[0m\u001b[1mM\u001b[22m\u001b[0m\u001b[1mv\u001b[22m\u001b[0m\u001b[1mN\u001b[22m\u001b[0m\u001b[1mo\u001b[22m\u001b[0m\u001b[1mr\u001b[22m\u001b[0m\u001b[1mm\u001b[22m\u001b[0m\u001b[1ma\u001b[22m\u001b[0m\u001b[1ml\u001b[22m\n",
      "\n"
     ]
    },
    {
     "data": {
      "text/latex": [
       "\\begin{verbatim}\n",
       "MvNormal\n",
       "\\end{verbatim}\n",
       "Generally, users don't have to worry about these internal details. We provide a common constructor \\texttt{MvNormal}, which will construct a distribution of appropriate type depending on the input arguments.\n",
       "\n",
       "\\begin{verbatim}\n",
       "MvNormal(sig)\n",
       "\\end{verbatim}\n",
       "Construct a multivariate normal distribution with zero mean and covariance represented by \\texttt{sig}.\n",
       "\n",
       "\\begin{verbatim}\n",
       "MvNormal(mu, sig)\n",
       "\\end{verbatim}\n",
       "Construct a multivariate normal distribution with mean \\texttt{mu} and covariance represented by \\texttt{sig}.\n",
       "\n",
       "\\begin{verbatim}\n",
       "MvNormal(d, sig)\n",
       "\\end{verbatim}\n",
       "Construct a multivariate normal distribution of dimension \\texttt{d}, with zero mean, and an isotropic covariance as \\texttt{abs2(sig) * eye(d)}.\n",
       "\n",
       "\\section{Arguments}\n",
       "\\begin{itemize}\n",
       "\\item \\texttt{mu::Vector\\{T<:Real\\}}: The mean vector.\n",
       "\n",
       "\n",
       "\\item \\texttt{d::Real}: dimension of distribution.\n",
       "\n",
       "\n",
       "\\item \\texttt{sig}: The covariance, which can in of either of the following forms (with \\texttt{T<:Real}):\n",
       "\n",
       "\\begin{itemize}\n",
       "\\item[1. ] subtype of \\texttt{AbstractPDMat}\n",
       "\n",
       "\n",
       "\\item[2. ] symmetric matrix of type \\texttt{Matrix\\{T\\}}\n",
       "\n",
       "\n",
       "\\item[3. ] vector of type \\texttt{Vector\\{T\\}}: indicating a diagonal covariance as \\texttt{diagm(abs2(sig))}.\n",
       "\n",
       "\n",
       "\\item[4. ] real-valued number: indicating an isotropic covariance as \\texttt{abs2(sig) * eye(d)}.\n",
       "\n",
       "\\end{itemize}\n",
       "\\end{itemize}\n",
       "\\textbf{Note:} The constructor will choose an appropriate covariance form internally, so that special structure of the covariance can be exploited.\n",
       "\n"
      ],
      "text/markdown": [
       "```\n",
       "MvNormal\n",
       "```\n",
       "\n",
       "Generally, users don't have to worry about these internal details. We provide a common constructor `MvNormal`, which will construct a distribution of appropriate type depending on the input arguments.\n",
       "\n",
       "```\n",
       "MvNormal(sig)\n",
       "```\n",
       "\n",
       "Construct a multivariate normal distribution with zero mean and covariance represented by `sig`.\n",
       "\n",
       "```\n",
       "MvNormal(mu, sig)\n",
       "```\n",
       "\n",
       "Construct a multivariate normal distribution with mean `mu` and covariance represented by `sig`.\n",
       "\n",
       "```\n",
       "MvNormal(d, sig)\n",
       "```\n",
       "\n",
       "Construct a multivariate normal distribution of dimension `d`, with zero mean, and an isotropic covariance as `abs2(sig) * eye(d)`.\n",
       "\n",
       "# Arguments\n",
       "\n",
       "  * `mu::Vector{T<:Real}`: The mean vector.\n",
       "  * `d::Real`: dimension of distribution.\n",
       "  * `sig`: The covariance, which can in of either of the following forms (with `T<:Real`):\n",
       "\n",
       "    1. subtype of `AbstractPDMat`\n",
       "    2. symmetric matrix of type `Matrix{T}`\n",
       "    3. vector of type `Vector{T}`: indicating a diagonal covariance as `diagm(abs2(sig))`.\n",
       "    4. real-valued number: indicating an isotropic covariance as `abs2(sig) * eye(d)`.\n",
       "\n",
       "**Note:** The constructor will choose an appropriate covariance form internally, so that special structure of the covariance can be exploited.\n"
      ],
      "text/plain": [
       "\u001b[36m  MvNormal\u001b[39m\n",
       "\n",
       "  Generally, users don't have to worry about these internal details. We\n",
       "  provide a common constructor \u001b[36mMvNormal\u001b[39m, which will construct a distribution\n",
       "  of appropriate type depending on the input arguments.\n",
       "\n",
       "\u001b[36m  MvNormal(sig)\u001b[39m\n",
       "\n",
       "  Construct a multivariate normal distribution with zero mean and covariance\n",
       "  represented by \u001b[36msig\u001b[39m.\n",
       "\n",
       "\u001b[36m  MvNormal(mu, sig)\u001b[39m\n",
       "\n",
       "  Construct a multivariate normal distribution with mean \u001b[36mmu\u001b[39m and covariance\n",
       "  represented by \u001b[36msig\u001b[39m.\n",
       "\n",
       "\u001b[36m  MvNormal(d, sig)\u001b[39m\n",
       "\n",
       "  Construct a multivariate normal distribution of dimension \u001b[36md\u001b[39m, with zero mean,\n",
       "  and an isotropic covariance as \u001b[36mabs2(sig) * eye(d)\u001b[39m.\n",
       "\n",
       "\u001b[1m  Arguments\u001b[22m\n",
       "\u001b[1m  ≡≡≡≡≡≡≡≡≡≡≡\u001b[22m\n",
       "\n",
       "    •    \u001b[36mmu::Vector{T<:Real}\u001b[39m: The mean vector.\n",
       "\n",
       "    •    \u001b[36md::Real\u001b[39m: dimension of distribution.\n",
       "\n",
       "    •    \u001b[36msig\u001b[39m: The covariance, which can in of either of the following forms\n",
       "        (with \u001b[36mT<:Real\u001b[39m):\n",
       "      \n",
       "          1.   subtype of \u001b[36mAbstractPDMat\u001b[39m\n",
       "      \n",
       "          2.   symmetric matrix of type \u001b[36mMatrix{T}\u001b[39m\n",
       "      \n",
       "          3.   vector of type \u001b[36mVector{T}\u001b[39m: indicating a diagonal\n",
       "              covariance as \u001b[36mdiagm(abs2(sig))\u001b[39m.\n",
       "      \n",
       "          4.   real-valued number: indicating an isotropic covariance\n",
       "              as \u001b[36mabs2(sig) * eye(d)\u001b[39m.\n",
       "\n",
       "  \u001b[1mNote:\u001b[22m The constructor will choose an appropriate covariance form internally,\n",
       "  so that special structure of the covariance can be exploited."
      ]
     },
     "execution_count": 50,
     "metadata": {},
     "output_type": "execute_result"
    }
   ],
   "source": [
    "? MvNormal"
   ]
  },
  {
   "cell_type": "code",
   "execution_count": 51,
   "metadata": {},
   "outputs": [
    {
     "data": {
      "text/plain": [
       "2×2 Array{Float64,2}:\n",
       " 1.69   0.728\n",
       " 0.728  0.64 "
      ]
     },
     "execution_count": 51,
     "metadata": {},
     "output_type": "execute_result"
    }
   ],
   "source": [
    "s1 = 1.3;s2 = 0.8; rho =0.7;mu1=1;mu2=1;\n",
    "sig = [s1^2 rho*s1*s2; rho*s1*s2 s2^2]"
   ]
  },
  {
   "cell_type": "code",
   "execution_count": 52,
   "metadata": {},
   "outputs": [
    {
     "data": {
      "text/plain": [
       "2-element Array{Int64,1}:\n",
       " 1\n",
       " 1"
      ]
     },
     "execution_count": 52,
     "metadata": {},
     "output_type": "execute_result"
    }
   ],
   "source": [
    "mu = [mu1,mu2]"
   ]
  },
  {
   "cell_type": "code",
   "execution_count": 59,
   "metadata": {},
   "outputs": [
    {
     "data": {
      "text/plain": [
       "0.075513"
      ]
     },
     "execution_count": 59,
     "metadata": {},
     "output_type": "execute_result"
    }
   ],
   "source": [
    "N = 10^6;\n",
    "length(filter(x->x[1]<0 && x[2] < 0, [rand(MvNormal(mu,sig)) for _ in 1:N]))/N"
   ]
  },
  {
   "cell_type": "code",
   "execution_count": 69,
   "metadata": {},
   "outputs": [
    {
     "data": {
      "text/plain": [
       "7.998183500456859"
      ]
     },
     "execution_count": 69,
     "metadata": {},
     "output_type": "execute_result"
    }
   ],
   "source": [
    "N = 10^4;\n",
    "n = 16\n",
    "mean([maximum(abs.(eigvals(rand(n,n)))) for _ in 1:N])"
   ]
  },
  {
   "cell_type": "code",
   "execution_count": null,
   "metadata": {},
   "outputs": [],
   "source": []
  }
 ],
 "metadata": {
  "kernelspec": {
   "display_name": "Julia 1.1.1",
   "language": "julia",
   "name": "julia-1.1"
  },
  "language_info": {
   "file_extension": ".jl",
   "mimetype": "application/julia",
   "name": "julia",
   "version": "1.1.1"
  }
 },
 "nbformat": 4,
 "nbformat_minor": 2
}
