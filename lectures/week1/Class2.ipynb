{
 "cells": [
  {
   "cell_type": "markdown",
   "metadata": {},
   "source": [
    "# MATH7502, 2019, Class 2"
   ]
  },
  {
   "cell_type": "code",
   "execution_count": 1,
   "metadata": {},
   "outputs": [
    {
     "data": {
      "text/plain": [
       "Int64"
      ]
     },
     "execution_count": 1,
     "metadata": {},
     "output_type": "execute_result"
    }
   ],
   "source": [
    "x = 35;\n",
    "typeof(x)"
   ]
  },
  {
   "cell_type": "code",
   "execution_count": 3,
   "metadata": {},
   "outputs": [
    {
     "data": {
      "text/plain": [
       "Float64"
      ]
     },
     "execution_count": 3,
     "metadata": {},
     "output_type": "execute_result"
    }
   ],
   "source": [
    "y = 35.1;\n",
    "typeof(y)"
   ]
  },
  {
   "cell_type": "code",
   "execution_count": 5,
   "metadata": {},
   "outputs": [
    {
     "data": {
      "text/plain": [
       "7-element Array{Int64,1}:\n",
       "    1\n",
       "    2\n",
       "    3\n",
       "    4\n",
       "    5\n",
       "   20\n",
       " -100"
      ]
     },
     "execution_count": 5,
     "metadata": {},
     "output_type": "execute_result"
    }
   ],
   "source": [
    "b = [1,2,3];\n",
    "c = [4,5];\n",
    "d = [20,-100];\n",
    "a = vcat(b,c,d)"
   ]
  },
  {
   "cell_type": "code",
   "execution_count": 6,
   "metadata": {},
   "outputs": [
    {
     "data": {
      "text/plain": [
       "3-element Array{Int64,1}:\n",
       " 3\n",
       " 4\n",
       " 5"
      ]
     },
     "execution_count": 6,
     "metadata": {},
     "output_type": "execute_result"
    }
   ],
   "source": [
    "a[3:5]"
   ]
  },
  {
   "cell_type": "code",
   "execution_count": 7,
   "metadata": {},
   "outputs": [
    {
     "data": {
      "text/plain": [
       "4-element Array{Float64,1}:\n",
       " 0.0\n",
       " 0.0\n",
       " 0.0\n",
       " 0.0"
      ]
     },
     "execution_count": 7,
     "metadata": {},
     "output_type": "execute_result"
    }
   ],
   "source": [
    "zeros(4)"
   ]
  },
  {
   "cell_type": "code",
   "execution_count": 8,
   "metadata": {},
   "outputs": [
    {
     "data": {
      "text/plain": [
       "2×3 Array{Float64,2}:\n",
       " 0.0  0.0  0.0\n",
       " 0.0  0.0  0.0"
      ]
     },
     "execution_count": 8,
     "metadata": {},
     "output_type": "execute_result"
    }
   ],
   "source": [
    "zeros(2,3)"
   ]
  },
  {
   "cell_type": "code",
   "execution_count": 10,
   "metadata": {},
   "outputs": [
    {
     "data": {
      "text/plain": [
       "4-element Array{Float64,1}:\n",
       " 1.0\n",
       " 0.0\n",
       " 0.0\n",
       " 0.0"
      ]
     },
     "execution_count": 10,
     "metadata": {},
     "output_type": "execute_result"
    }
   ],
   "source": [
    "e1 = zeros(4);\n",
    "e1[1] = 1;\n",
    "e1"
   ]
  },
  {
   "cell_type": "markdown",
   "metadata": {},
   "source": [
    "#### Our function that creates $e_i$ in $R^n$"
   ]
  },
  {
   "cell_type": "code",
   "execution_count": 16,
   "metadata": {},
   "outputs": [
    {
     "data": {
      "text/plain": [
       "ee (generic function with 1 method)"
      ]
     },
     "execution_count": 16,
     "metadata": {},
     "output_type": "execute_result"
    }
   ],
   "source": [
    "ee(i,n) = [Float64(j == i) for j in 1:n];\n",
    "\n",
    "#alternative\n",
    "ee(i,n) = [j == i ? 1.0 : 0.0 for j in 1:n]"
   ]
  },
  {
   "cell_type": "code",
   "execution_count": 17,
   "metadata": {},
   "outputs": [
    {
     "data": {
      "text/plain": [
       "4-element Array{Float64,1}:\n",
       " 0.0\n",
       " 1.0\n",
       " 0.0\n",
       " 0.0"
      ]
     },
     "execution_count": 17,
     "metadata": {},
     "output_type": "execute_result"
    }
   ],
   "source": [
    "ee(2,4)"
   ]
  },
  {
   "cell_type": "code",
   "execution_count": 18,
   "metadata": {},
   "outputs": [
    {
     "data": {
      "text/plain": [
       "7-element Array{Float64,1}:\n",
       " 1.0\n",
       " 1.0\n",
       " 1.0\n",
       " 1.0\n",
       " 1.0\n",
       " 1.0\n",
       " 1.0"
      ]
     },
     "execution_count": 18,
     "metadata": {},
     "output_type": "execute_result"
    }
   ],
   "source": [
    "ones(7)"
   ]
  },
  {
   "cell_type": "code",
   "execution_count": 21,
   "metadata": {},
   "outputs": [
    {
     "data": {
      "text/plain": [
       "nnz (generic function with 1 method)"
      ]
     },
     "execution_count": 21,
     "metadata": {},
     "output_type": "execute_result"
    }
   ],
   "source": [
    "nnz(x) = sum(x .!= 0)"
   ]
  },
  {
   "cell_type": "code",
   "execution_count": 22,
   "metadata": {},
   "outputs": [
    {
     "data": {
      "text/plain": [
       "3"
      ]
     },
     "execution_count": 22,
     "metadata": {},
     "output_type": "execute_result"
    }
   ],
   "source": [
    "nnz([1.3,-3,0.0,5.4])"
   ]
  },
  {
   "cell_type": "code",
   "execution_count": 23,
   "metadata": {},
   "outputs": [
    {
     "data": {
      "text/plain": [
       "1000000"
      ]
     },
     "execution_count": 23,
     "metadata": {},
     "output_type": "execute_result"
    }
   ],
   "source": [
    "nnz(rand(10^6))"
   ]
  },
  {
   "cell_type": "code",
   "execution_count": 34,
   "metadata": {},
   "outputs": [
    {
     "data": {
      "text/plain": [
       "5-element Array{Int64,1}:\n",
       " 0\n",
       " 1\n",
       " 2\n",
       " 0\n",
       " 1"
      ]
     },
     "execution_count": 34,
     "metadata": {},
     "output_type": "execute_result"
    }
   ],
   "source": [
    "rand([0,1,2,3],5)"
   ]
  },
  {
   "cell_type": "code",
   "execution_count": 35,
   "metadata": {},
   "outputs": [
    {
     "data": {
      "text/plain": [
       "750850"
      ]
     },
     "execution_count": 35,
     "metadata": {},
     "output_type": "execute_result"
    }
   ],
   "source": [
    "nnz(rand([0,1,2,3],10^6))"
   ]
  },
  {
   "cell_type": "code",
   "execution_count": 38,
   "metadata": {},
   "outputs": [
    {
     "data": {
      "image/svg+xml": [
       "<?xml version=\"1.0\" encoding=\"utf-8\"?>\n",
       "<svg xmlns=\"http://www.w3.org/2000/svg\" xmlns:xlink=\"http://www.w3.org/1999/xlink\" width=\"600\" height=\"400\" viewBox=\"0 0 2400 1600\">\n",
       "<defs>\n",
       "  <clipPath id=\"clip7000\">\n",
       "    <rect x=\"0\" y=\"0\" width=\"2400\" height=\"1600\"/>\n",
       "  </clipPath>\n",
       "</defs>\n",
       "<polygon clip-path=\"url(#clip7000)\" points=\"\n",
       "0,1600 2400,1600 2400,0 0,0 \n",
       "  \" fill=\"#ffffff\" fill-rule=\"evenodd\" fill-opacity=\"1\"/>\n",
       "<defs>\n",
       "  <clipPath id=\"clip7001\">\n",
       "    <rect x=\"480\" y=\"0\" width=\"1681\" height=\"1600\"/>\n",
       "  </clipPath>\n",
       "</defs>\n",
       "<polygon clip-path=\"url(#clip7000)\" points=\"\n",
       "167.279,1487.47 2352.76,1487.47 2352.76,47.2441 167.279,47.2441 \n",
       "  \" fill=\"#ffffff\" fill-rule=\"evenodd\" fill-opacity=\"1\"/>\n",
       "<defs>\n",
       "  <clipPath id=\"clip7002\">\n",
       "    <rect x=\"167\" y=\"47\" width=\"2186\" height=\"1441\"/>\n",
       "  </clipPath>\n",
       "</defs>\n",
       "<polyline clip-path=\"url(#clip7002)\" style=\"stroke:#000000; stroke-width:2; stroke-opacity:0.1; fill:none\" points=\"\n",
       "  222.649,1487.47 222.649,47.2441 \n",
       "  \"/>\n",
       "<polyline clip-path=\"url(#clip7002)\" style=\"stroke:#000000; stroke-width:2; stroke-opacity:0.1; fill:none\" points=\"\n",
       "  546.826,1487.47 546.826,47.2441 \n",
       "  \"/>\n",
       "<polyline clip-path=\"url(#clip7002)\" style=\"stroke:#000000; stroke-width:2; stroke-opacity:0.1; fill:none\" points=\"\n",
       "  871.004,1487.47 871.004,47.2441 \n",
       "  \"/>\n",
       "<polyline clip-path=\"url(#clip7002)\" style=\"stroke:#000000; stroke-width:2; stroke-opacity:0.1; fill:none\" points=\"\n",
       "  1195.18,1487.47 1195.18,47.2441 \n",
       "  \"/>\n",
       "<polyline clip-path=\"url(#clip7002)\" style=\"stroke:#000000; stroke-width:2; stroke-opacity:0.1; fill:none\" points=\"\n",
       "  1519.36,1487.47 1519.36,47.2441 \n",
       "  \"/>\n",
       "<polyline clip-path=\"url(#clip7002)\" style=\"stroke:#000000; stroke-width:2; stroke-opacity:0.1; fill:none\" points=\"\n",
       "  1843.54,1487.47 1843.54,47.2441 \n",
       "  \"/>\n",
       "<polyline clip-path=\"url(#clip7002)\" style=\"stroke:#000000; stroke-width:2; stroke-opacity:0.1; fill:none\" points=\"\n",
       "  2167.72,1487.47 2167.72,47.2441 \n",
       "  \"/>\n",
       "<polyline clip-path=\"url(#clip7002)\" style=\"stroke:#000000; stroke-width:2; stroke-opacity:0.1; fill:none\" points=\"\n",
       "  167.279,1446.71 2352.76,1446.71 \n",
       "  \"/>\n",
       "<polyline clip-path=\"url(#clip7002)\" style=\"stroke:#000000; stroke-width:2; stroke-opacity:0.1; fill:none\" points=\"\n",
       "  167.279,1058.51 2352.76,1058.51 \n",
       "  \"/>\n",
       "<polyline clip-path=\"url(#clip7002)\" style=\"stroke:#000000; stroke-width:2; stroke-opacity:0.1; fill:none\" points=\"\n",
       "  167.279,670.309 2352.76,670.309 \n",
       "  \"/>\n",
       "<polyline clip-path=\"url(#clip7002)\" style=\"stroke:#000000; stroke-width:2; stroke-opacity:0.1; fill:none\" points=\"\n",
       "  167.279,282.107 2352.76,282.107 \n",
       "  \"/>\n",
       "<polyline clip-path=\"url(#clip7000)\" style=\"stroke:#000000; stroke-width:4; stroke-opacity:1; fill:none\" points=\"\n",
       "  167.279,1487.47 2352.76,1487.47 \n",
       "  \"/>\n",
       "<polyline clip-path=\"url(#clip7000)\" style=\"stroke:#000000; stroke-width:4; stroke-opacity:1; fill:none\" points=\"\n",
       "  167.279,1487.47 167.279,47.2441 \n",
       "  \"/>\n",
       "<polyline clip-path=\"url(#clip7000)\" style=\"stroke:#000000; stroke-width:4; stroke-opacity:1; fill:none\" points=\"\n",
       "  222.649,1487.47 222.649,1465.87 \n",
       "  \"/>\n",
       "<polyline clip-path=\"url(#clip7000)\" style=\"stroke:#000000; stroke-width:4; stroke-opacity:1; fill:none\" points=\"\n",
       "  546.826,1487.47 546.826,1465.87 \n",
       "  \"/>\n",
       "<polyline clip-path=\"url(#clip7000)\" style=\"stroke:#000000; stroke-width:4; stroke-opacity:1; fill:none\" points=\"\n",
       "  871.004,1487.47 871.004,1465.87 \n",
       "  \"/>\n",
       "<polyline clip-path=\"url(#clip7000)\" style=\"stroke:#000000; stroke-width:4; stroke-opacity:1; fill:none\" points=\"\n",
       "  1195.18,1487.47 1195.18,1465.87 \n",
       "  \"/>\n",
       "<polyline clip-path=\"url(#clip7000)\" style=\"stroke:#000000; stroke-width:4; stroke-opacity:1; fill:none\" points=\"\n",
       "  1519.36,1487.47 1519.36,1465.87 \n",
       "  \"/>\n",
       "<polyline clip-path=\"url(#clip7000)\" style=\"stroke:#000000; stroke-width:4; stroke-opacity:1; fill:none\" points=\"\n",
       "  1843.54,1487.47 1843.54,1465.87 \n",
       "  \"/>\n",
       "<polyline clip-path=\"url(#clip7000)\" style=\"stroke:#000000; stroke-width:4; stroke-opacity:1; fill:none\" points=\"\n",
       "  2167.72,1487.47 2167.72,1465.87 \n",
       "  \"/>\n",
       "<polyline clip-path=\"url(#clip7000)\" style=\"stroke:#000000; stroke-width:4; stroke-opacity:1; fill:none\" points=\"\n",
       "  167.279,1446.71 200.061,1446.71 \n",
       "  \"/>\n",
       "<polyline clip-path=\"url(#clip7000)\" style=\"stroke:#000000; stroke-width:4; stroke-opacity:1; fill:none\" points=\"\n",
       "  167.279,1058.51 200.061,1058.51 \n",
       "  \"/>\n",
       "<polyline clip-path=\"url(#clip7000)\" style=\"stroke:#000000; stroke-width:4; stroke-opacity:1; fill:none\" points=\"\n",
       "  167.279,670.309 200.061,670.309 \n",
       "  \"/>\n",
       "<polyline clip-path=\"url(#clip7000)\" style=\"stroke:#000000; stroke-width:4; stroke-opacity:1; fill:none\" points=\"\n",
       "  167.279,282.107 200.061,282.107 \n",
       "  \"/>\n",
       "<g clip-path=\"url(#clip7000)\">\n",
       "<text style=\"fill:#000000; fill-opacity:1; font-family:Arial,Helvetica Neue,Helvetica,sans-serif; font-size:48px; text-anchor:middle;\" transform=\"rotate(0, 222.649, 1541.47)\" x=\"222.649\" y=\"1541.47\">748500</text>\n",
       "</g>\n",
       "<g clip-path=\"url(#clip7000)\">\n",
       "<text style=\"fill:#000000; fill-opacity:1; font-family:Arial,Helvetica Neue,Helvetica,sans-serif; font-size:48px; text-anchor:middle;\" transform=\"rotate(0, 546.826, 1541.47)\" x=\"546.826\" y=\"1541.47\">749000</text>\n",
       "</g>\n",
       "<g clip-path=\"url(#clip7000)\">\n",
       "<text style=\"fill:#000000; fill-opacity:1; font-family:Arial,Helvetica Neue,Helvetica,sans-serif; font-size:48px; text-anchor:middle;\" transform=\"rotate(0, 871.004, 1541.47)\" x=\"871.004\" y=\"1541.47\">749500</text>\n",
       "</g>\n",
       "<g clip-path=\"url(#clip7000)\">\n",
       "<text style=\"fill:#000000; fill-opacity:1; font-family:Arial,Helvetica Neue,Helvetica,sans-serif; font-size:48px; text-anchor:middle;\" transform=\"rotate(0, 1195.18, 1541.47)\" x=\"1195.18\" y=\"1541.47\">750000</text>\n",
       "</g>\n",
       "<g clip-path=\"url(#clip7000)\">\n",
       "<text style=\"fill:#000000; fill-opacity:1; font-family:Arial,Helvetica Neue,Helvetica,sans-serif; font-size:48px; text-anchor:middle;\" transform=\"rotate(0, 1519.36, 1541.47)\" x=\"1519.36\" y=\"1541.47\">750500</text>\n",
       "</g>\n",
       "<g clip-path=\"url(#clip7000)\">\n",
       "<text style=\"fill:#000000; fill-opacity:1; font-family:Arial,Helvetica Neue,Helvetica,sans-serif; font-size:48px; text-anchor:middle;\" transform=\"rotate(0, 1843.54, 1541.47)\" x=\"1843.54\" y=\"1541.47\">751000</text>\n",
       "</g>\n",
       "<g clip-path=\"url(#clip7000)\">\n",
       "<text style=\"fill:#000000; fill-opacity:1; font-family:Arial,Helvetica Neue,Helvetica,sans-serif; font-size:48px; text-anchor:middle;\" transform=\"rotate(0, 2167.72, 1541.47)\" x=\"2167.72\" y=\"1541.47\">751500</text>\n",
       "</g>\n",
       "<g clip-path=\"url(#clip7000)\">\n",
       "<text style=\"fill:#000000; fill-opacity:1; font-family:Arial,Helvetica Neue,Helvetica,sans-serif; font-size:48px; text-anchor:end;\" transform=\"rotate(0, 143.279, 1464.21)\" x=\"143.279\" y=\"1464.21\">0</text>\n",
       "</g>\n",
       "<g clip-path=\"url(#clip7000)\">\n",
       "<text style=\"fill:#000000; fill-opacity:1; font-family:Arial,Helvetica Neue,Helvetica,sans-serif; font-size:48px; text-anchor:end;\" transform=\"rotate(0, 143.279, 1076.01)\" x=\"143.279\" y=\"1076.01\">50</text>\n",
       "</g>\n",
       "<g clip-path=\"url(#clip7000)\">\n",
       "<text style=\"fill:#000000; fill-opacity:1; font-family:Arial,Helvetica Neue,Helvetica,sans-serif; font-size:48px; text-anchor:end;\" transform=\"rotate(0, 143.279, 687.809)\" x=\"143.279\" y=\"687.809\">100</text>\n",
       "</g>\n",
       "<g clip-path=\"url(#clip7000)\">\n",
       "<text style=\"fill:#000000; fill-opacity:1; font-family:Arial,Helvetica Neue,Helvetica,sans-serif; font-size:48px; text-anchor:end;\" transform=\"rotate(0, 143.279, 299.607)\" x=\"143.279\" y=\"299.607\">150</text>\n",
       "</g>\n",
       "<polygon clip-path=\"url(#clip7002)\" points=\"\n",
       "287.484,1431.19 287.484,1446.71 417.155,1446.71 417.155,1431.19 287.484,1431.19 287.484,1431.19 \n",
       "  \" fill=\"#009af9\" fill-rule=\"evenodd\" fill-opacity=\"1\"/>\n",
       "<polyline clip-path=\"url(#clip7002)\" style=\"stroke:#000000; stroke-width:4; stroke-opacity:1; fill:none\" points=\"\n",
       "  287.484,1431.19 287.484,1446.71 417.155,1446.71 417.155,1431.19 287.484,1431.19 \n",
       "  \"/>\n",
       "<polygon clip-path=\"url(#clip7002)\" points=\"\n",
       "417.155,1392.37 417.155,1446.71 546.826,1446.71 546.826,1392.37 417.155,1392.37 417.155,1392.37 \n",
       "  \" fill=\"#009af9\" fill-rule=\"evenodd\" fill-opacity=\"1\"/>\n",
       "<polyline clip-path=\"url(#clip7002)\" style=\"stroke:#000000; stroke-width:4; stroke-opacity:1; fill:none\" points=\"\n",
       "  417.155,1392.37 417.155,1446.71 546.826,1446.71 546.826,1392.37 417.155,1392.37 \n",
       "  \"/>\n",
       "<polygon clip-path=\"url(#clip7002)\" points=\"\n",
       "546.826,1330.25 546.826,1446.71 676.498,1446.71 676.498,1330.25 546.826,1330.25 546.826,1330.25 \n",
       "  \" fill=\"#009af9\" fill-rule=\"evenodd\" fill-opacity=\"1\"/>\n",
       "<polyline clip-path=\"url(#clip7002)\" style=\"stroke:#000000; stroke-width:4; stroke-opacity:1; fill:none\" points=\"\n",
       "  546.826,1330.25 546.826,1446.71 676.498,1446.71 676.498,1330.25 546.826,1330.25 \n",
       "  \"/>\n",
       "<polygon clip-path=\"url(#clip7002)\" points=\"\n",
       "676.498,1004.16 676.498,1446.71 806.169,1446.71 806.169,1004.16 676.498,1004.16 676.498,1004.16 \n",
       "  \" fill=\"#009af9\" fill-rule=\"evenodd\" fill-opacity=\"1\"/>\n",
       "<polyline clip-path=\"url(#clip7002)\" style=\"stroke:#000000; stroke-width:4; stroke-opacity:1; fill:none\" points=\"\n",
       "  676.498,1004.16 676.498,1446.71 806.169,1446.71 806.169,1004.16 676.498,1004.16 \n",
       "  \"/>\n",
       "<polygon clip-path=\"url(#clip7002)\" points=\"\n",
       "806.169,786.77 806.169,1446.71 935.84,1446.71 935.84,786.77 806.169,786.77 806.169,786.77 \n",
       "  \" fill=\"#009af9\" fill-rule=\"evenodd\" fill-opacity=\"1\"/>\n",
       "<polyline clip-path=\"url(#clip7002)\" style=\"stroke:#000000; stroke-width:4; stroke-opacity:1; fill:none\" points=\"\n",
       "  806.169,786.77 806.169,1446.71 935.84,1446.71 935.84,786.77 806.169,786.77 \n",
       "  \"/>\n",
       "<polygon clip-path=\"url(#clip7002)\" points=\"\n",
       "935.84,219.994 935.84,1446.71 1065.51,1446.71 1065.51,219.994 935.84,219.994 935.84,219.994 \n",
       "  \" fill=\"#009af9\" fill-rule=\"evenodd\" fill-opacity=\"1\"/>\n",
       "<polyline clip-path=\"url(#clip7002)\" style=\"stroke:#000000; stroke-width:4; stroke-opacity:1; fill:none\" points=\"\n",
       "  935.84,219.994 935.84,1446.71 1065.51,1446.71 1065.51,219.994 935.84,219.994 \n",
       "  \"/>\n",
       "<polygon clip-path=\"url(#clip7002)\" points=\"\n",
       "1065.51,111.297 1065.51,1446.71 1195.18,1446.71 1195.18,111.297 1065.51,111.297 1065.51,111.297 \n",
       "  \" fill=\"#009af9\" fill-rule=\"evenodd\" fill-opacity=\"1\"/>\n",
       "<polyline clip-path=\"url(#clip7002)\" style=\"stroke:#000000; stroke-width:4; stroke-opacity:1; fill:none\" points=\"\n",
       "  1065.51,111.297 1065.51,1446.71 1195.18,1446.71 1195.18,111.297 1065.51,111.297 \n",
       "  \"/>\n",
       "<polygon clip-path=\"url(#clip7002)\" points=\"\n",
       "1195.18,88.0053 1195.18,1446.71 1324.85,1446.71 1324.85,88.0053 1195.18,88.0053 1195.18,88.0053 \n",
       "  \" fill=\"#009af9\" fill-rule=\"evenodd\" fill-opacity=\"1\"/>\n",
       "<polyline clip-path=\"url(#clip7002)\" style=\"stroke:#000000; stroke-width:4; stroke-opacity:1; fill:none\" points=\"\n",
       "  1195.18,88.0053 1195.18,1446.71 1324.85,1446.71 1324.85,88.0053 1195.18,88.0053 \n",
       "  \"/>\n",
       "<polygon clip-path=\"url(#clip7002)\" points=\"\n",
       "1324.85,390.803 1324.85,1446.71 1454.52,1446.71 1454.52,390.803 1324.85,390.803 1324.85,390.803 \n",
       "  \" fill=\"#009af9\" fill-rule=\"evenodd\" fill-opacity=\"1\"/>\n",
       "<polyline clip-path=\"url(#clip7002)\" style=\"stroke:#000000; stroke-width:4; stroke-opacity:1; fill:none\" points=\"\n",
       "  1324.85,390.803 1324.85,1446.71 1454.52,1446.71 1454.52,390.803 1324.85,390.803 \n",
       "  \"/>\n",
       "<polygon clip-path=\"url(#clip7002)\" points=\"\n",
       "1454.52,530.556 1454.52,1446.71 1584.2,1446.71 1584.2,530.556 1454.52,530.556 1454.52,530.556 \n",
       "  \" fill=\"#009af9\" fill-rule=\"evenodd\" fill-opacity=\"1\"/>\n",
       "<polyline clip-path=\"url(#clip7002)\" style=\"stroke:#000000; stroke-width:4; stroke-opacity:1; fill:none\" points=\"\n",
       "  1454.52,530.556 1454.52,1446.71 1584.2,1446.71 1584.2,530.556 1454.52,530.556 \n",
       "  \"/>\n",
       "<polygon clip-path=\"url(#clip7002)\" points=\"\n",
       "1584.2,1136.15 1584.2,1446.71 1713.87,1446.71 1713.87,1136.15 1584.2,1136.15 1584.2,1136.15 \n",
       "  \" fill=\"#009af9\" fill-rule=\"evenodd\" fill-opacity=\"1\"/>\n",
       "<polyline clip-path=\"url(#clip7002)\" style=\"stroke:#000000; stroke-width:4; stroke-opacity:1; fill:none\" points=\"\n",
       "  1584.2,1136.15 1584.2,1446.71 1713.87,1446.71 1713.87,1136.15 1584.2,1136.15 \n",
       "  \"/>\n",
       "<polygon clip-path=\"url(#clip7002)\" points=\"\n",
       "1713.87,1299.2 1713.87,1446.71 1843.54,1446.71 1843.54,1299.2 1713.87,1299.2 1713.87,1299.2 \n",
       "  \" fill=\"#009af9\" fill-rule=\"evenodd\" fill-opacity=\"1\"/>\n",
       "<polyline clip-path=\"url(#clip7002)\" style=\"stroke:#000000; stroke-width:4; stroke-opacity:1; fill:none\" points=\"\n",
       "  1713.87,1299.2 1713.87,1446.71 1843.54,1446.71 1843.54,1299.2 1713.87,1299.2 \n",
       "  \"/>\n",
       "<polygon clip-path=\"url(#clip7002)\" points=\"\n",
       "1843.54,1369.07 1843.54,1446.71 1973.21,1446.71 1973.21,1369.07 1843.54,1369.07 1843.54,1369.07 \n",
       "  \" fill=\"#009af9\" fill-rule=\"evenodd\" fill-opacity=\"1\"/>\n",
       "<polyline clip-path=\"url(#clip7002)\" style=\"stroke:#000000; stroke-width:4; stroke-opacity:1; fill:none\" points=\"\n",
       "  1843.54,1369.07 1843.54,1446.71 1973.21,1446.71 1973.21,1369.07 1843.54,1369.07 \n",
       "  \"/>\n",
       "<polygon clip-path=\"url(#clip7002)\" points=\"\n",
       "1973.21,1407.89 1973.21,1446.71 2102.88,1446.71 2102.88,1407.89 1973.21,1407.89 1973.21,1407.89 \n",
       "  \" fill=\"#009af9\" fill-rule=\"evenodd\" fill-opacity=\"1\"/>\n",
       "<polyline clip-path=\"url(#clip7002)\" style=\"stroke:#000000; stroke-width:4; stroke-opacity:1; fill:none\" points=\"\n",
       "  1973.21,1407.89 1973.21,1446.71 2102.88,1446.71 2102.88,1407.89 1973.21,1407.89 \n",
       "  \"/>\n",
       "<polygon clip-path=\"url(#clip7002)\" points=\"\n",
       "2102.88,1438.95 2102.88,1446.71 2232.55,1446.71 2232.55,1438.95 2102.88,1438.95 2102.88,1438.95 \n",
       "  \" fill=\"#009af9\" fill-rule=\"evenodd\" fill-opacity=\"1\"/>\n",
       "<polyline clip-path=\"url(#clip7002)\" style=\"stroke:#000000; stroke-width:4; stroke-opacity:1; fill:none\" points=\"\n",
       "  2102.88,1438.95 2102.88,1446.71 2232.55,1446.71 2232.55,1438.95 2102.88,1438.95 \n",
       "  \"/>\n",
       "</svg>\n"
      ]
     },
     "execution_count": 38,
     "metadata": {},
     "output_type": "execute_result"
    }
   ],
   "source": [
    "using Plots\n",
    "histogram([nnz(rand([0,1,2,3],10^6)) for _ in 1:10^3],legend=false)"
   ]
  },
  {
   "cell_type": "code",
   "execution_count": 43,
   "metadata": {},
   "outputs": [
    {
     "data": {
      "image/svg+xml": [
       "<?xml version=\"1.0\" encoding=\"utf-8\"?>\n",
       "<svg xmlns=\"http://www.w3.org/2000/svg\" xmlns:xlink=\"http://www.w3.org/1999/xlink\" width=\"600\" height=\"400\" viewBox=\"0 0 2400 1600\">\n",
       "<defs>\n",
       "  <clipPath id=\"clip7800\">\n",
       "    <rect x=\"0\" y=\"0\" width=\"2400\" height=\"1600\"/>\n",
       "  </clipPath>\n",
       "</defs>\n",
       "<polygon clip-path=\"url(#clip7800)\" points=\"\n",
       "0,1600 2400,1600 2400,0 0,0 \n",
       "  \" fill=\"#ffffff\" fill-rule=\"evenodd\" fill-opacity=\"1\"/>\n",
       "<defs>\n",
       "  <clipPath id=\"clip7801\">\n",
       "    <rect x=\"480\" y=\"0\" width=\"1681\" height=\"1600\"/>\n",
       "  </clipPath>\n",
       "</defs>\n",
       "<polygon clip-path=\"url(#clip7800)\" points=\"\n",
       "140.517,1487.47 2112.76,1487.47 2112.76,47.2441 140.517,47.2441 \n",
       "  \" fill=\"#ffffff\" fill-rule=\"evenodd\" fill-opacity=\"1\"/>\n",
       "<defs>\n",
       "  <clipPath id=\"clip7802\">\n",
       "    <rect x=\"140\" y=\"47\" width=\"1973\" height=\"1441\"/>\n",
       "  </clipPath>\n",
       "</defs>\n",
       "<polyline clip-path=\"url(#clip7802)\" style=\"stroke:#000000; stroke-width:2; stroke-opacity:0.1; fill:none\" points=\"\n",
       "  436.353,1487.47 436.353,47.2441 \n",
       "  \"/>\n",
       "<polyline clip-path=\"url(#clip7802)\" style=\"stroke:#000000; stroke-width:2; stroke-opacity:0.1; fill:none\" points=\"\n",
       "  830.8,1487.47 830.8,47.2441 \n",
       "  \"/>\n",
       "<polyline clip-path=\"url(#clip7802)\" style=\"stroke:#000000; stroke-width:2; stroke-opacity:0.1; fill:none\" points=\"\n",
       "  1225.25,1487.47 1225.25,47.2441 \n",
       "  \"/>\n",
       "<polyline clip-path=\"url(#clip7802)\" style=\"stroke:#000000; stroke-width:2; stroke-opacity:0.1; fill:none\" points=\"\n",
       "  1619.7,1487.47 1619.7,47.2441 \n",
       "  \"/>\n",
       "<polyline clip-path=\"url(#clip7802)\" style=\"stroke:#000000; stroke-width:2; stroke-opacity:0.1; fill:none\" points=\"\n",
       "  2014.14,1487.47 2014.14,47.2441 \n",
       "  \"/>\n",
       "<polyline clip-path=\"url(#clip7802)\" style=\"stroke:#000000; stroke-width:2; stroke-opacity:0.1; fill:none\" points=\"\n",
       "  140.517,1271.44 2112.76,1271.44 \n",
       "  \"/>\n",
       "<polyline clip-path=\"url(#clip7802)\" style=\"stroke:#000000; stroke-width:2; stroke-opacity:0.1; fill:none\" points=\"\n",
       "  140.517,983.394 2112.76,983.394 \n",
       "  \"/>\n",
       "<polyline clip-path=\"url(#clip7802)\" style=\"stroke:#000000; stroke-width:2; stroke-opacity:0.1; fill:none\" points=\"\n",
       "  140.517,695.348 2112.76,695.348 \n",
       "  \"/>\n",
       "<polyline clip-path=\"url(#clip7802)\" style=\"stroke:#000000; stroke-width:2; stroke-opacity:0.1; fill:none\" points=\"\n",
       "  140.517,407.302 2112.76,407.302 \n",
       "  \"/>\n",
       "<polyline clip-path=\"url(#clip7802)\" style=\"stroke:#000000; stroke-width:2; stroke-opacity:0.1; fill:none\" points=\"\n",
       "  140.517,119.256 2112.76,119.256 \n",
       "  \"/>\n",
       "<polyline clip-path=\"url(#clip7800)\" style=\"stroke:#000000; stroke-width:4; stroke-opacity:1; fill:none\" points=\"\n",
       "  140.517,1487.47 2112.76,1487.47 \n",
       "  \"/>\n",
       "<polyline clip-path=\"url(#clip7800)\" style=\"stroke:#000000; stroke-width:4; stroke-opacity:1; fill:none\" points=\"\n",
       "  140.517,1487.47 140.517,47.2441 \n",
       "  \"/>\n",
       "<polyline clip-path=\"url(#clip7800)\" style=\"stroke:#000000; stroke-width:4; stroke-opacity:1; fill:none\" points=\"\n",
       "  436.353,1487.47 436.353,1465.87 \n",
       "  \"/>\n",
       "<polyline clip-path=\"url(#clip7800)\" style=\"stroke:#000000; stroke-width:4; stroke-opacity:1; fill:none\" points=\"\n",
       "  830.8,1487.47 830.8,1465.87 \n",
       "  \"/>\n",
       "<polyline clip-path=\"url(#clip7800)\" style=\"stroke:#000000; stroke-width:4; stroke-opacity:1; fill:none\" points=\"\n",
       "  1225.25,1487.47 1225.25,1465.87 \n",
       "  \"/>\n",
       "<polyline clip-path=\"url(#clip7800)\" style=\"stroke:#000000; stroke-width:4; stroke-opacity:1; fill:none\" points=\"\n",
       "  1619.7,1487.47 1619.7,1465.87 \n",
       "  \"/>\n",
       "<polyline clip-path=\"url(#clip7800)\" style=\"stroke:#000000; stroke-width:4; stroke-opacity:1; fill:none\" points=\"\n",
       "  2014.14,1487.47 2014.14,1465.87 \n",
       "  \"/>\n",
       "<polyline clip-path=\"url(#clip7800)\" style=\"stroke:#000000; stroke-width:4; stroke-opacity:1; fill:none\" points=\"\n",
       "  140.517,1271.44 170.1,1271.44 \n",
       "  \"/>\n",
       "<polyline clip-path=\"url(#clip7800)\" style=\"stroke:#000000; stroke-width:4; stroke-opacity:1; fill:none\" points=\"\n",
       "  140.517,983.394 170.1,983.394 \n",
       "  \"/>\n",
       "<polyline clip-path=\"url(#clip7800)\" style=\"stroke:#000000; stroke-width:4; stroke-opacity:1; fill:none\" points=\"\n",
       "  140.517,695.348 170.1,695.348 \n",
       "  \"/>\n",
       "<polyline clip-path=\"url(#clip7800)\" style=\"stroke:#000000; stroke-width:4; stroke-opacity:1; fill:none\" points=\"\n",
       "  140.517,407.302 170.1,407.302 \n",
       "  \"/>\n",
       "<polyline clip-path=\"url(#clip7800)\" style=\"stroke:#000000; stroke-width:4; stroke-opacity:1; fill:none\" points=\"\n",
       "  140.517,119.256 170.1,119.256 \n",
       "  \"/>\n",
       "<g clip-path=\"url(#clip7800)\">\n",
       "<text style=\"fill:#000000; fill-opacity:1; font-family:Arial,Helvetica Neue,Helvetica,sans-serif; font-size:48px; text-anchor:middle;\" transform=\"rotate(0, 436.353, 1541.47)\" x=\"436.353\" y=\"1541.47\">2</text>\n",
       "</g>\n",
       "<g clip-path=\"url(#clip7800)\">\n",
       "<text style=\"fill:#000000; fill-opacity:1; font-family:Arial,Helvetica Neue,Helvetica,sans-serif; font-size:48px; text-anchor:middle;\" transform=\"rotate(0, 830.8, 1541.47)\" x=\"830.8\" y=\"1541.47\">4</text>\n",
       "</g>\n",
       "<g clip-path=\"url(#clip7800)\">\n",
       "<text style=\"fill:#000000; fill-opacity:1; font-family:Arial,Helvetica Neue,Helvetica,sans-serif; font-size:48px; text-anchor:middle;\" transform=\"rotate(0, 1225.25, 1541.47)\" x=\"1225.25\" y=\"1541.47\">6</text>\n",
       "</g>\n",
       "<g clip-path=\"url(#clip7800)\">\n",
       "<text style=\"fill:#000000; fill-opacity:1; font-family:Arial,Helvetica Neue,Helvetica,sans-serif; font-size:48px; text-anchor:middle;\" transform=\"rotate(0, 1619.7, 1541.47)\" x=\"1619.7\" y=\"1541.47\">8</text>\n",
       "</g>\n",
       "<g clip-path=\"url(#clip7800)\">\n",
       "<text style=\"fill:#000000; fill-opacity:1; font-family:Arial,Helvetica Neue,Helvetica,sans-serif; font-size:48px; text-anchor:middle;\" transform=\"rotate(0, 2014.14, 1541.47)\" x=\"2014.14\" y=\"1541.47\">10</text>\n",
       "</g>\n",
       "<g clip-path=\"url(#clip7800)\">\n",
       "<text style=\"fill:#000000; fill-opacity:1; font-family:Arial,Helvetica Neue,Helvetica,sans-serif; font-size:48px; text-anchor:end;\" transform=\"rotate(0, 116.517, 1288.94)\" x=\"116.517\" y=\"1288.94\">2</text>\n",
       "</g>\n",
       "<g clip-path=\"url(#clip7800)\">\n",
       "<text style=\"fill:#000000; fill-opacity:1; font-family:Arial,Helvetica Neue,Helvetica,sans-serif; font-size:48px; text-anchor:end;\" transform=\"rotate(0, 116.517, 1000.89)\" x=\"116.517\" y=\"1000.89\">4</text>\n",
       "</g>\n",
       "<g clip-path=\"url(#clip7800)\">\n",
       "<text style=\"fill:#000000; fill-opacity:1; font-family:Arial,Helvetica Neue,Helvetica,sans-serif; font-size:48px; text-anchor:end;\" transform=\"rotate(0, 116.517, 712.848)\" x=\"116.517\" y=\"712.848\">6</text>\n",
       "</g>\n",
       "<g clip-path=\"url(#clip7800)\">\n",
       "<text style=\"fill:#000000; fill-opacity:1; font-family:Arial,Helvetica Neue,Helvetica,sans-serif; font-size:48px; text-anchor:end;\" transform=\"rotate(0, 116.517, 424.802)\" x=\"116.517\" y=\"424.802\">8</text>\n",
       "</g>\n",
       "<g clip-path=\"url(#clip7800)\">\n",
       "<text style=\"fill:#000000; fill-opacity:1; font-family:Arial,Helvetica Neue,Helvetica,sans-serif; font-size:48px; text-anchor:end;\" transform=\"rotate(0, 116.517, 136.756)\" x=\"116.517\" y=\"136.756\">10</text>\n",
       "</g>\n",
       "<g clip-path=\"url(#clip7802)\">\n",
       "<image width=\"1972\" height=\"1440\" xlink:href=\"data:image/png;base64,\n",
       "iVBORw0KGgoAAAANSUhEUgAAB7QAAAWgCAYAAADeiXybAAAgAElEQVR4nOzbP4sQBByH8e64q+Ug\n",
       "0RRdtBNPUEgczxdwS4IuV1PhlNAuLiE4ieByY1Or/yahLdBB2lzOaAmViEwU0aWEhDhnof33DJ/P\n",
       "K/juD9+FtZWzOx8A7/nh5PQCaHn5z8r0BEi5/mT39ARIuXTq1+kJkLJ5f9f0BMjZOr48PQFSvvxl\n",
       "e3oCpLz+/vfpCZDyzYXz0xMgZXF6AAAAAAAAAAD8H0EbAAAAAAAAgCRBGwAAAAAAAIAkQRsAAAAA\n",
       "AACAJEEbAAAAAAAAgCRBGwAAAAAAAIAkQRsAAAAAAACAJEEbAAAAAAAAgCRBGwAAAAAAAIAkQRsA\n",
       "AAAAAACAJEEbAAAAAAAAgCRBGwAAAAAAAIAkQRsAAAAAAACAJEEbAAAAAAAAgCRBGwAAAAAAAIAk\n",
       "QRsAAAAAAACAJEEbAAAAAAAAgCRBGwAAAAAAAIAkQRsAAAAAAACAJEEbAAAAAAAAgCRBGwAAAAAA\n",
       "AIAkQRsAAAAAAACAJEEbAAAAAAAAgCRBGwAAAAAAAIAkQRsAAAAAAACAJEEbAAAAAAAAgCRBGwAA\n",
       "AAAAAIAkQRsAAAAAAACAJEEbAAAAAAAAgCRBGwAAAAAAAIAkQRsAAAAAAACAJEEbAAAAAAAAgCRB\n",
       "GwAAAAAAAIAkQRsAAAAAAACAJEEbAAAAAAAAgCRBGwAAAAAAAIAkQRsAAAAAAACAJEEbAAAAAAAA\n",
       "gCRBGwAAAAAAAIAkQRsAAAAAAACAJEEbAAAAAAAAgCRBGwAAAAAAAIAkQRsAAAAAAACAJEEbAAAA\n",
       "AAAAgCRBGwAAAAAAAIAkQRsAAAAAAACAJEEbAAAAAAAAgCRBGwAAAAAAAIAkQRsAAAAAAACAJEEb\n",
       "AAAAAAAAgCRBGwAAAAAAAIAkQRsAAAAAAACAJEEbAAAAAAAAgCRBGwAAAAAAAIAkQRsAAAAAAACA\n",
       "JEEbAAAAAAAAgCRBGwAAAAAAAIAkQRsAAAAAAACAJEEbAAAAAAAAgCRBGwAAAAAAAIAkQRsAAAAA\n",
       "AACAJEEbAAAAAAAAgCRBGwAAAAAAAIAkQRsAAAAAAACAJEEbAAAAAAAAgCRBGwAAAAAAAIAkQRsA\n",
       "AAAAAACAJEEbAAAAAAAAgCRBGwAAAAAAAIAkQRsAAAAAAACAJEEbAAAAAAAAgCRBGwAAAAAAAIAk\n",
       "QRsAAAAAAACAJEEbAAAAAAAAgCRBGwAAAAAAAIAkQRsAAAAAAACAJEEbAAAAAAAAgCRBGwAAAAAA\n",
       "AIAkQRsAAAAAAACAJEEbAAAAAAAAgCRBGwAAAAAAAIAkQRsAAAAAAACAJEEbAAAAAAAAgCRBGwAA\n",
       "AAAAAIAkQRsAAAAAAACAJEEbAAAAAAAAgCRBGwAAAAAAAIAkQRsAAAAAAACAJEEbAAAAAAAAgCRB\n",
       "GwAAAAAAAIAkQRsAAAAAAACAJEEbAAAAAAAAgCRBGwAAAAAAAIAkQRsAAAAAAACAJEEbAAAAAAAA\n",
       "gCRBGwAAAAAAAIAkQRsAAAAAAACAJEEbAAAAAAAAgCRBGwAAAAAAAIAkQRsAAAAAAACAJEEbAAAA\n",
       "AAAAgCRBGwAAAAAAAIAkQRsAAAAAAACAJEEbAAAAAAAAgCRBGwAAAAAAAIAkQRsAAAAAAACAJEEb\n",
       "AAAAAAAAgCRBGwAAAAAAAIAkQRsAAAAAAACAJEEbAAAAAAAAgCRBGwAAAAAAAIAkQRsAAAAAAACA\n",
       "JEEbAAAAAAAAgCRBGwAAAAAAAIAkQRsAAAAAAACAJEEbAAAAAAAAgCRBGwAAAAAAAIAkQRsAAAAA\n",
       "AACAJEEbAAAAAAAAgCRBGwAAAAAAAIAkQRsAAAAAAACAJEEbAAAAAAAAgCRBGwAAAAAAAIAkQRsA\n",
       "AAAAAACAJEEbAAAAAAAAgCRBGwAAAAAAAIAkQRsAAAAAAACAJEEbAAAAAAAAgCRBGwAAAAAAAIAk\n",
       "QRsAAAAAAACAJEEbAAAAAAAAgCRBGwAAAAAAAIAkQRsAAAAAAACAJEEbAAAAAAAAgCRBGwAAAAAA\n",
       "AIAkQRsAAAAAAACAJEEbAAAAAAAAgCRBGwAAAAAAAIAkQRsAAAAAAACAJEEbAAAAAAAAgCRBGwAA\n",
       "AAAAAIAkQRsAAAAAAACAJEEbAAAAAAAAgKSFwyund6ZHQM2Vw59MT4CUze2N6QmQ8vzra9MTIGXX\n",
       "5UPTEyDl4Imn0xMg59Wbh9MTIOXfe6vTEyBl58Ff0xMg5b+/P5qeACke2gAAAAAAAAAkCdoAAAAA\n",
       "AAAAJAnaAAAAAAAAACQJ2gAAAAAAAAAkCdoAAAAAAAAAJAnaAAAAAAAAACQJ2gAAAAAAAAAkCdoA\n",
       "AAAAAAAAJAnaAAAAAAAAACQJ2gAAAAAAAAAkCdoAAAAAAAAAJAnaAAAAAAAAACQJ2gAAAAAAAAAk\n",
       "CdoAAAAAAAAAJAnaAAAAAAAAACQJ2gAAAAAAAAAkCdoAAAAAAAAAJAnaAAAAAAAAACQJ2gAAAAAA\n",
       "AAAkCdoAAAAAAAAAJAnaAAAAAAAAACQJ2gAAAAAAAAAkCdoAAAAAAAAAJAnaAAAAAAAAACQJ2gAA\n",
       "AAAAAAAkCdoAAAAAAAAAJAnaAAAAAAAAACQJ2gAAAAAAAAAkCdoAAAAAAAAAJAnaAAAAAAAAACQJ\n",
       "2gAAAAAAAAAkCdoAAAAAAAAAJAnaAAAAAAAAACQJ2gAAAAAAAAAkCdoAAAAAAAAAJAnaAAAAAAAA\n",
       "ACQJ2gAAAAAAAAAkCdoAAAAAAAAAJAnaAAAAAAAAACQJ2gAAAAAAAAAkCdoAAAAAAAAAJAnaAAAA\n",
       "AAAAACQJ2gAAAAAAAAAkCdoAAAAAAAAAJAnaAAAAAAAAACQJ2gAAAAAAAAAkCdoAAAAAAAAAJAna\n",
       "AAAAAAAAACQJ2gAAAAAAAAAkCdoAAAAAAAAAJAnaAAAAAAAAACQJ2gAAAAAAAAAkCdoAAAAAAAAA\n",
       "JAnaAAAAAAAAACQJ2gAAAAAAAAAkCdoAAAAAAAAAJAnaAAAAAAAAACQJ2gAAAAAAAAAkCdoAAAAA\n",
       "AAAAJAnaAAAAAAAAACQJ2gAAAAAAAAAkCdoAAAAAAAAAJAnaAAAAAAAAACQJ2gAAAAAAAAAkCdoA\n",
       "AAAAAAAAJAnaAAAAAAAAACQJ2gAAAAAAAAAkCdoAAAAAAAAAJAnaAAAAAAAAACQJ2gAAAAAAAAAk\n",
       "CdoAAAAAAAAAJAnaAAAAAAAAACQJ2gAAAAAAAAAkCdoAAAAAAAAAJAnaAAAAAAAAACQJ2gAAAAAA\n",
       "AAAkCdoAAAAAAAAAJAnaAAAAAAAAACQJ2gAAAAAAAAAkCdoAAAAAAAAAJAnaAAAAAAAAACQJ2gAA\n",
       "AAAAAAAkCdoAAAAAAAAAJAnaAAAAAAAAACQJ2gAAAAAAAAAkCdoAAAAAAAAAJAnaAAAAAAAAACQJ\n",
       "2gAAAAAAAAAkCdoAAAAAAAAAJAnaAAAAAAAAACQJ2gAAAAAAAAAkCdoAAAAAAAAAJAnaAAAAAAAA\n",
       "ACQJ2gAAAAAAAAAkCdoAAAAAAAAAJAnaAAAAAAAAACQJ2gAAAAAAAAAkCdoAAAAAAAAAJAnaAAAA\n",
       "AAAAACQJ2gAAAAAAAAAkCdoAAAAAAAAAJAnaAAAAAAAAACQJ2gAAAAAAAAAkCdoAAAAAAAAAJAna\n",
       "AAAAAAAAACQJ2gAAAAAAAAAkCdoAAAAAAAAAJAnaAAAAAAAAACQJ2gAAAAAAAAAkCdoAAAAAAAAA\n",
       "JAnaAAAAAAAAACQJ2gAAAAAAAAAkCdoAAAAAAAAAJAnaAAAAAAAAACQJ2gAAAAAAAAAkCdoAAAAA\n",
       "AAAAJAnaAAAAAAAAACQJ2gAAAAAAAAAkCdoAAAAAAAAAJAnaAAAAAAAAACQJ2gAAAAAAAAAkCdoA\n",
       "AAAAAAAAJAnaAAAAAAAAACQJ2gAAAAAAAAAkCdoAAAAAAAAAJAnaAAAAAAAAACQJ2gAAAAAAAAAk\n",
       "CdoAAAAAAAAAJAnaAAAAAAAAACQJ2gAAAAAAAAAkCdoAAAAAAAAAJAnaAAAAAAAAACQJ2gAAAAAA\n",
       "AAAkCdoAAAAAAAAAJAnaAAAAAAAAACQJ2gAAAAAAAAAkCdoAAAAAAAAAJAnaAAAAAAAAACQJ2gAA\n",
       "AAAAAAAkCdoAAAAAAAAAJAnaAAAAAAAAACQJ2gAAAAAAAAAkCdoAAAAAAAAAJC1tHf14egPknP/t\n",
       "0fQESNm8fWd6AqT8+OCL6QmQcuSrV9MTIGV9cX16AuTc/O7P6QmQsvfzD6cnQMrF/eemJ0DK1Wd3\n",
       "pydAioc2AAAAAAAAAEmCNgAAAAAAAABJgjYAAAAAAAAASYI2AAAAAAAAAEmCNgAAAAAAAABJgjYA\n",
       "AAAAAAAASYI2AAAAAAAAAEmCNgAAAAAAAABJgjYAAAAAAAAASYI2AAAAAAAAAEmCNgAAAAAAAABJ\n",
       "gjYAAAAAAAAASYI2AAAAAAAAAEmCNgAAAAAAAABJgjYAAAAAAAAASYI2AAAAAAAAAEmCNgAAAAAA\n",
       "AABJgjYAAAAAAAAASYI2AAAAAAAAAEmCNgAAAAAAAABJgjYAAAAAAAAASYI2AAAAAAAAAEmCNgAA\n",
       "AAAAAABJgjYAAAAAAAAASYI2AAAAAAAAAEmCNgAAAAAAAABJgjYAAAAAAAAASYI2AAAAAAAAAEmC\n",
       "NgAAAAAAAABJgjYAAAAAAAAASYI2AAAAAAAAAEmCNgAAAAAAAABJgjYAAAAAAAAASYI2AAAAAAAA\n",
       "AEmCNgAAAAAAAABJgjYAAAAAAAAASYI2AAAAAAAAAEmCNgAAAAAAAABJgjYAAAAAAAAASYI2AAAA\n",
       "AAAAAEmCNgAAAAAAAABJgjYAAAAAAAAASYI2AAAAAAAAAEmCNgAAAAAAAABJgjYAAAAAAAAASYI2\n",
       "AAAAAAAAAEmCNgAAAAAAAABJgjYAAAAAAAAASYI2AAAAAAAAAEmCNgAAAAAAAABJgjYAAAAAAAAA\n",
       "SYI2AAAAAAAAAEmCNgAAAAAAAABJgjYAAAAAAAAASYI2AAAAAAAAAEmCNgAAAAAAAABJgjYAAAAA\n",
       "AAAASYI2AAAAAAAAAEmCNgAAAAAAAABJgjYAAAAAAAAASYI2AAAAAAAAAEmCNgAAAAAAAABJgjYA\n",
       "AAAAAAAASYI2AAAAAAAAAEmCNgAAAAAAAABJgjYAAAAAAAAASYI2AAAAAAAAAEmCNgAAAAAAAABJ\n",
       "gjYAAAAAAAAASYI2AAAAAAAAAEmCNgAAAAAAAABJgjYAAAAAAAAASYI2AAAAAAAAAEmCNgAAAAAA\n",
       "AABJgjYAAAAAAAAASYI2AAAAAAAAAEmCNgAAAAAAAABJgjYAAAAAAAAASYI2AAAAAAAAAEmCNgAA\n",
       "AAAAAABJgjYAAAAAAAAASYI2AAAAAAAAAEmCNgAAAAAAAABJgjYAAAAAAAAASYI2AAAAAAAAAEmC\n",
       "NgAAAAAAAABJgjYAAAAAAAAASYI2AAAAAAAAAEmCNgAAAAAAAABJgjYAAAAAAAAASYI2AAAAAAAA\n",
       "AEmCNgAAAAAAAABJgjYAAAAAAAAASYI2AAAAAAAAAEmCNgAAAAAAAABJgjYAAAAAAAAASYI2AAAA\n",
       "AAAAAEmCNgAAAAAAAABJgjYAAAAAAAAASYI2AAAAAAAAAEmCNgAAAAAAAABJgjYAAAAAAAAASYI2\n",
       "AAAAAAAAAEmCNgAAAAAAAABJgjYAAAAAAAAASYI2AAAAAAAAAEmCNgAAAAAAAABJgjYAAAAAAAAA\n",
       "SYI2AAAAAAAAAEmCNgAAAAAAAABJgjYAAAAAAAAASYI2AAAAAAAAAEmCNgAAAAAAAABJgjYAAAAA\n",
       "AAAASYI2AAAAAAAAAEmCNgAAAAAAAABJgjYAAAAAAAAASYI2AAAAAAAAAEmCNgAAAAAAAABJgjYA\n",
       "AAAAAAAASYI2AAAAAAAAAEmCNgAAAAAAAABJgjYAAAAAAAAASYI2AAAAAAAAAEmCNgAAAAAAAABJ\n",
       "gjYAAAAAAAAASYI2AAAAAAAAAEmCNgAAAAAAAABJgjYAAAAAAAAASYI2AAAAAAAAAEmCNgAAAAAA\n",
       "AABJgjYAAAAAAAAASYI2AAAAAAAAAEmCNgAAAAAAAABJgjYAAAAAAAAASYI2AAAAAAAAAEmCNgAA\n",
       "AAAAAABJgjYAAAAAAAAASYI2AAAAAAAAAEmCNgAAAAAAAABJgjYAAAAAAAAASYI2AAAAAAAAAEmC\n",
       "NgAAAAAAAABJC8tL+3amR0DNrc82pidAys8v9kxPgJQzn/4xPQFS1tYeT0+AlLUbb6cnQM6BpWPT\n",
       "EyDl8ZufpidAyvbG+vQESPn2/ur0BEjx0AYAAAAAAAAgSdAGAAAAAAAAIEnQBgAAAAAAACBJ0AYA\n",
       "AAAAAAAgSdAGAAAAAAAAIEnQBgAAAAAAACBJ0AYAAAAAAAAgSdAGAAAAAAAAIEnQBgAAAAAAACBJ\n",
       "0AYAAAAAAAAgSdAGAAAAAAAAIEnQBgAAAAAAACBJ0AYAAAAAAAAgSdAGAAAAAAAAIEnQBgAAAAAA\n",
       "ACBJ0AYAAAAAAAAgSdAGAAAAAAAAIEnQBgAAAAAAACBJ0AYAAAAAAAAgSdAGAAAAAAAAIEnQBgAA\n",
       "AAAAACBJ0AYAAAAAAAAgSdAGAAAAAAAAIEnQBgAAAAAAACBJ0AYAAAAAAAAgSdAGAAAAAAAAIEnQ\n",
       "BgAAAAAAACBJ0AYAAAAAAAAgSdAGAAAAAAAAIEnQBgAAAAAAACBJ0AYAAAAAAAAgSdAGAAAAAAAA\n",
       "IEnQBgAAAAAAACBJ0AYAAAAAAAAgSdAGAAAAAAAAIEnQBgAAAAAAACBJ0AYAAAAAAAAgSdAGAAAA\n",
       "AAAAIEnQBgAAAAAAACBJ0AYAAAAAAAAgSdAGAAAAAAAAIEnQBgAAAAAAACBJ0AYAAAAAAAAgSdAG\n",
       "AAAAAAAAIEnQBgAAAAAAACBJ0AYAAAAAAAAgSdAGAAAAAAAAIEnQBgAAAAAAACBJ0AYAAAAAAAAg\n",
       "SdAGAAAAAAAAIEnQBgAAAAAAACBJ0AYAAAAAAAAgSdAGAAAAAAAAIEnQBgAAAAAAACBJ0AYAAAAA\n",
       "AAAgSdAGAAAAAAAAIEnQBgAAAAAAACBJ0AYAAAAAAAAgSdAGAAAAAAAAIEnQBgAAAAAAACBJ0AYA\n",
       "AAAAAAAgSdAGAAAAAAAAIEnQBgAAAAAAACBJ0AYAAAAAAAAgSdAGAAAAAAAAIEnQBgAAAAAAACBJ\n",
       "0AYAAAAAAAAgSdAGAAAAAAAAIEnQBgAAAAAAACBJ0AYAAAAAAAAgSdAGAAAAAAAAIEnQBgAAAAAA\n",
       "ACBJ0AYAAAAAAAAgSdAGAAAAAAAAIEnQBgAAAAAAACBJ0AYAAAAAAAAgSdAGAAAAAAAAIEnQBgAA\n",
       "AAAAACBJ0AYAAAAAAAAgSdAGAAAAAAAAIEnQBgAAAAAAACBJ0AYAAAAAAAAgSdAGAAAAAAAAIEnQ\n",
       "BgAAAAAAACBJ0AYAAAAAAAAgSdAGAAAAAAAAIEnQBgAAAAAAACBJ0AYAAAAAAAAgSdAGAAAAAAAA\n",
       "IEnQBgAAAAAAACBJ0AZ4x779sghhgHEcV9TD4jjkhiiCsMMqODhYmqjFP80qhmHYKQv3BrQYFpa2\n",
       "ZFuZGF2Rpa0MFE4RZCbZUBaUC1NMhvu36jt4vuHzeQW/+vDlAQAAAAAAIEnQBgAAAAAAACBJ0AYA\n",
       "AAAAAAAgSdAGAAAAAAAAIEnQBgAAAAAAACBJ0AYAAAAAAAAgSdAGAAAAAAAAIEnQBgAAAAAAACBJ\n",
       "0AYAAAAAAAAgSdAGAAAAAAAAIEnQBgAAAAAAACBJ0AYAAAAAAAAgSdAGAAAAAAAAIEnQBgAAAAAA\n",
       "ACBJ0AYAAAAAAAAgSdAGAAAAAAAAIEnQBgAAAAAAACBJ0AYAAAAAAAAgSdAGAAAAAAAAIEnQBgAA\n",
       "AAAAACBJ0AYAAAAAAAAgSdAGAAAAAAAAIEnQBgAAAAAAACBJ0AYAAAAAAAAgSdAGAAAAAAAAIEnQ\n",
       "BgAAAAAAACBJ0AYAAAAAAAAgSdAGAAAAAAAAIEnQBgAAAAAAACBJ0AYAAAAAAAAgSdAGAAAAAAAA\n",
       "IEnQBgAAAAAAACBJ0AYAAAAAAAAgSdAGAAAAAAAAIEnQBgAAAAAAACBJ0AYAAAAAAAAgSdAGAAAA\n",
       "AAAAIEnQBgAAAAAAACBJ0AYAAAAAAAAgSdAGAAAAAAAAIEnQBgAAAAAAACBJ0AYAAAAAAAAgSdAG\n",
       "AAAAAAAAIEnQBgAAAAAAACBJ0AYAAAAAAAAgSdAGAAAAAAAAIEnQBgAAAAAAACBJ0AYAAAAAAAAg\n",
       "SdAGAAAAAAAAIEnQBgAAAAAAACBJ0AYAAAAAAAAgSdAGAAAAAAAAIEnQBgAAAAAAACBp/+bWu+kN\n",
       "kLO5s296AqT8+uH19ARIuXPhz+kJkLK5tjY9AVJ+ef5yegLk3Hq5NT0BUr4+eHV6AqSs/PHb9ARI\n",
       "uXvyxPQESPGhDQAAAAAAAECSoA0AAAAAAABAkqANAAAAAAAAQJKgDQAAAAAAAECSoA0AAAAAAABA\n",
       "kqANAAAAAAAAQJKgDQAAAAAAAECSoA0AAAAAAABAkqANAAAAAAAAQJKgDQAAAAAAAECSoA0AAAAA\n",
       "AABAkqANAAAAAAAAQJKgDQAAAAAAAECSoA0AAAAAAABAkqANAAAAAAAAQJKgDQAAAAAAAECSoA0A\n",
       "AAAAAABAkqANAAAAAAAAQJKgDQAAAAAAAECSoA0AAAAAAABAkqANAAAAAAAAQJKgDQAAAAAAAECS\n",
       "oA0AAAAAAABAkqANAAAAAAAAQJKgDQAAAAAAAECSoA0AAAAAAABAkqANAAAAAAAAQJKgDQAAAAAA\n",
       "AECSoA0AAAAAAABAkqANAAAAAAAAQJKgDQAAAAAAAECSoA0AAAAAAABAkqANAAAAAAAAQJKgDQAA\n",
       "AAAAAECSoA0AAAAAAABAkqANAAAAAAAAQJKgDQAAAAAAAECSoA0AAAAAAABAkqANAAAAAAAAQJKg\n",
       "DQAAAAAAAECSoA0AAAAAAABAkqANAAAAAAAAQJKgDQAAAAAAAECSoA0AAAAAAABAkqANAAAAAAAA\n",
       "QJKgDQAAAAAAAECSoA0AAAAAAABAkqANAAAAAAAAQJKgDQAAAAAAAECSoA0AAAAAAABAkqANAAAA\n",
       "AAAAQJKgDQAAAAAAAECSoA0AAAAAAABAkqANAAAAAAAAQJKgDQAAAAAAAECSoA0AAAAAAABAkqAN\n",
       "AAAAAAAAQJKgDQAAAAAAAECSoA0AAAAAAABAkqANAAAAAAAAQJKgDQAAAAAAAECSoA0AAAAAAABA\n",
       "kqANAAAAAAAAQJKgDQAAAAAAAECSoA0AAAAAAABAkqANAAAAAAAAQJKgDQAAAAAAAECSoA0AAAAA\n",
       "AABAkqANAAAAAAAAQJKgDQAAAAAAAECSoA0AAAAAAABAkqANAAAAAAAAQJKgDQAAAAAAAECSoA0A\n",
       "AAAAAABAkqANAAAAAAAAQJKgDQAAAAAAAECSoA0AAAAAAABAkqANAAAAAAAAQJKgDQAAAAAAAECS\n",
       "oA0AAAAAAABAkqANAAAAAAAAQJKgDQAAAAAAAECSoA0AAAAAAABAkqANAAAAAAAAQJKgDQAAAAAA\n",
       "AECSoA0AAAAAAABAkqANAAAAAAAAQJKgDQAAAAAAAECSoA0AAAAAAABAkqANAAAAAAAAQJKgDQAA\n",
       "AAAAAECSoA0AAAAAAABAkqANAAAAAAAAQJKgDQAAAAAAAECSoA0AAAAAAABAkqANAAAAAAAAQJKg\n",
       "DQAAAAAAAECSoA0AAAAAAABAkqANAAAAAAAAQJKgDQAAAAAAAECSoA0AAAAAAABAkqANAAAAAAAA\n",
       "QJKgDQAAAAAAAECSoA0AAAAAAABAkqANAAAAAAAAQJKgDQAAAAAAAECSoA0AAAAAAABAkqANAAAA\n",
       "AAAAQJKgDQAAAAAAAECSoA0AAAAAAABAkqANAAAAAAAAQJKgDQAAAAAAAECSoA0AAAAAAABAkqAN\n",
       "AAAAAAAAQJKgDQAAAAAAAECSoA0AAAAAAABAkqANAAAAAAAAQJKgDQAAAAAAAECSoA0AAAAAAABA\n",
       "kqANAAAAAAAAQJKgDQAAAAAAAECSoA0AAAAAAABAkqANAAAAAAAAQJKgDQAAAAAAAECSoA0AAAAA\n",
       "AABAkqANAAAAAAAAQJKgDQAAAAAAAECSoA0AAAAAAABAkqANAAAAAAAAQJKgDQAAAAAAAECSoA0A\n",
       "AAAAAABAkqANAAAAAAAAQJKgDQAAAAAAAECSoA0AAAAAAABAkqANAAAAAAAAQJKgDQAAAAAAAECS\n",
       "oA0AAAAAAABAkqANAAAAAAAAQJKgDQAAAAAAAECSoA0AAAAAAABAkqANAAAAAAAAQJKgDQAAAAAA\n",
       "AECSoA0AAAAAAABA0t4flm/sTo+AmjcfD0xPgJR7H9anJ0DK9cMr0xMg5dyxt9MTIOWrM4+nJ0DO\n",
       "9/evTE+AlIsn/p2eACmfL76fngAprzaOTk+AFB/aAAAAAAAAACQJ2gAAAAAAAAAkCdoAAAAAAAAA\n",
       "JAnaAAAAAAAAACQJ2gAAAAAAAAAkCdoAAAAAAAAAJAnaAAAAAAAAACQJ2gAAAAAAAAAkCdoAAAAA\n",
       "AAAAJAnaAAAAAAAAACQJ2gAAAAAAAAAkCdoAAAAAAAAAJAnaAAAAAAAAACQJ2gAAAAAAAAAkCdoA\n",
       "AAAAAAAAJAnaAAAAAAAAACQJ2gAAAAAAAAAkCdoAAAAAAAAAJAnaAAAAAAAAACQJ2gAAAAAAAAAk\n",
       "CdoAAAAAAAAAJAnaAAAAAAAAACQJ2gAAAAAAAAAkCdoAAAAAAAAAJAnaAAAAAAAAACQJ2gAAAAAA\n",
       "AAAkCdoAAAAAAAAAJAnaAAAAAAAAACQJ2gAAAAAAAAAkCdoAAAAAAAAAJAnaAAAAAAAAACQJ2gAA\n",
       "AAAAAAAkCdoAAAAAAAAAJAnaAAAAAAAAACQJ2gAAAAAAAAAkCdoAAAAAAAAAJAnaAAAAAAAAACQJ\n",
       "2gAAAAAAAAAkCdoAAAAAAAAAJAnaAAAAAAAAACQJ2gAAAAAAAAAkCdoAAAAAAAAAJAnaAAAAAAAA\n",
       "ACQJ2gAAAAAAAAAkCdoAAAAAAAAAJAnaAIBR0yIAABt/SURBVAAAAAAAACQJ2gAAAAAAAAAkCdoA\n",
       "AAAAAAAAJAnaAAAAAAAAACQJ2gAAAAAAAAAkCdoAAAAAAAAAJAnaAAAAAAAAACQJ2gAAAAAAAAAk\n",
       "CdoAAAAAAAAAJAnaAAAAAAAAACQJ2gAAAAAAAAAkCdoAAAAAAAAAJAnaAAAAAAAAACQJ2gAAAAAA\n",
       "AAAkCdoAAAAAAAAAJAnaAAAAAAAAACQJ2gAAAAAAAAAkCdoAAAAAAAAAJAnaAAAAAAAAACQJ2gAA\n",
       "AAAAAAAkCdoAAAAAAAAAJAnaAAAAAAAAACQJ2gAAAAAAAAAkCdoAAAAAAAAAJAnaAAAAAAAAACQJ\n",
       "2gAAAAAAAAAkCdoAAAAAAAAAJAnaAAAAAAAAACQJ2gAAAAAAAAAkCdoAAAAAAAAAJAnaAAAAAAAA\n",
       "ACQJ2gAAAAAAAAAkCdoAAAAAAAAAJAnaAAAAAAAAACQJ2gAAAAAAAAAkCdoAAAAAAAAAJAnaAAAA\n",
       "AAAAACQJ2gAAAAAAAAAkCdoAAAAAAAAAJAnaAAAAAAAAACQJ2gAAAAAAAAAkCdoAAAAAAAAAJAna\n",
       "AAAAAAAAACQJ2gAAAAAAAAAkCdoAAAAAAAAAJAnaAAAAAAAAACQJ2gAAAAAAAAAkCdoAAAAAAAAA\n",
       "JAnaAAAAAAAAACQJ2gAAAAAAAAAkCdoAAAAAAAAAJAnaAAAAAAAAACQJ2gAAAAAAAAAkCdoAAAAA\n",
       "AAAAJAnaAAAAAAAAACQJ2gAAAAAAAAAkCdoAAAAAAAAAJAnaAAAAAAAAACQJ2gAAAAAAAAAkCdoA\n",
       "AAAAAAAAJAnaAAAAAAAAACQJ2gAAAAAAAAAkCdoAAAAAAAAAJAnaAAAAAAAAACQJ2gAAAAAAAAAk\n",
       "CdoAAAAAAAAAJAnaAAAAAAAAACQJ2gAAAAAAAAAkCdoAAAAAAAAAJAnaAAAAAAAAACQJ2gAAAAAA\n",
       "AAAkCdoAAAAAAAAAJAnaAAAAAAAAACQJ2gAAAAAAAAAkCdoAAAAAAAAAJAnaAAAAAAAAACQJ2gAA\n",
       "AAAAAAAkCdoAAAAAAAAAJAnaAAAAAAAAACQJ2gAAAAAAAAAkCdoAAAAAAAAAJAnaAAAAAAAAACQJ\n",
       "2gAAAAAAAAAkCdoAAAAAAAAAJAnaAAAAAAAAACQJ2gAAAAAAAAAkCdoAAAAAAAAAJAnaAAAAAAAA\n",
       "ACQJ2gAAAAAAAAAkCdoAAAAAAAAAJAnaAAAAAAAAACQJ2gAAAAAAAAAkCdoAAAAAAAAAJAnaAAAA\n",
       "AAAAACQJ2gAAAAAAAAAkCdoAAAAAAAAAJAnaAAAAAAAAACQJ2gAAAAAAAAAk7X1y9uLu9AioubT+\n",
       "bnoCpJzaPT09AVIePvpregKk3L785fQESDlycGt6AuSsvvhiegKkLCwsTU+AlPOHHk1PgJSn279P\n",
       "T4AUH9oAAAAAAAAAJAnaAAAAAAAAACQJ2gAAAAAAAAAkCdoAAAAAAAAAJAnaAAAAAAAAACQJ2gAA\n",
       "AAAAAAAkCdoAAAAAAAAAJAnaAAAAAAAAACQJ2gAAAAAAAAAkCdoAAAAAAAAAJAnaAAAAAAAAACQJ\n",
       "2gAAAAAAAAAkCdoAAAAAAAAAJAnaAAAAAAAAACQJ2gAAAAAAAAAkCdoAAAAAAAAAJAnaAAAAAAAA\n",
       "ACQJ2gAAAAAAAAAkCdoAAAAAAAAAJAnaAAAAAAAAACQJ2gAAAAAAAAAkCdoAAAAAAAAAJAnaAAAA\n",
       "AAAAACQJ2gAAAAAAAAAkCdoAAAAAAAAAJAnaAAAAAAAAACQJ2gAAAAAAAAAkCdoAAAAAAAAAJAna\n",
       "AAAAAAAAACQJ2gAAAAAAAAAkCdoAAAAAAAAAJAnaAAAAAAAAACQJ2gAAAAAAAAAkCdoAAAAAAAAA\n",
       "JAnaAAAAAAAAACQJ2gAAAAAAAAAkCdoAAAAAAAAAJAnaAAAAAAAAACQJ2gAAAAAAAAAkCdoAAAAA\n",
       "AAAAJAnaAAAAAAAAACQJ2gAAAAAAAAAkCdoAAAAAAAAAJAnaAAAAAAAAACQJ2gAAAAAAAAAkCdoA\n",
       "AAAAAAAAJAnaAAAAAAAAACQJ2gAAAAAAAAAkCdoAAAAAAAAAJAnaAAAAAAAAACQJ2gAAAAAAAAAk\n",
       "CdoAAAAAAAAAJAnaAAAAAAAAACQJ2gAAAAAAAAAkCdoAAAAAAAAAJAnaAAAAAAAAACQJ2gAAAAAA\n",
       "AAAkCdoAAAAAAAAAJAnaAAAAAAAAACQJ2gAAAAAAAAAkCdoAAAAAAAAAJAnaAAAAAAAAACQJ2gAA\n",
       "AAAAAAAkCdoAAAAAAAAAJAnaAAAAAAAAACQJ2gAAAAAAAAAkCdoAAAAAAAAAJAnaAAAAAAAAACQJ\n",
       "2gAAAAAAAAAkCdoAAAAAAAAAJAnaAAAAAAAAACQJ2gAAAAAAAAAkCdoAAAAAAAAAJAnaAAAAAAAA\n",
       "ACQJ2gAAAAAAAAAkCdoAAAAAAAAAJAnaAAAAAAAAACQJ2gAAAAAAAAAkCdoAAAAAAAAAJAnaAAAA\n",
       "AAAAACQJ2gAAAAAAAAAkCdoAAAAAAAAAJAnaAAAAAAAAACQJ2gAAAAAAAAAkCdoAAAAAAAAAJAna\n",
       "AAAAAAAAACQJ2gAAAAAAAAAkCdoAAAAAAAAAJAnaAAAAAAAAACQJ2gAAAAAAAAAkCdoAAAAAAAAA\n",
       "JAnaAAAAAAAAACQJ2gAAAAAAAAAkCdoAAAAAAAAAJAnaAAAAAAAAACQJ2gAAAAAAAAAkCdoAAAAA\n",
       "AAAAJAnaAAAAAAAAACQJ2gAAAAAAAAAkCdoAAAAAAAAAJAnaAAAAAAAAACQJ2gAAAAAAAAAkCdoA\n",
       "AAAAAAAAJAnaAAAAAAAAACQJ2gAAAAAAAAAkCdoAAAAAAAAAJAnaAAAAAAAAACQJ2gAAAAAAAAAk\n",
       "CdoAAAAAAAAAJAnaAAAAAAAAACQJ2gAAAAAAAAAkCdoAAAAAAAAAJAnaAAAAAAAAACQJ2gAAAAAA\n",
       "AAAkCdoAAAAAAAAAJAnaAAAAAAAAACQJ2gAAAAAAAAAkCdoAAAAAAAAAJAnaAAAAAAAAACQJ2gAA\n",
       "AAAAAAAkCdoAAAAAAAAAJAnaAAAAAAAAACQJ2gAAAAAAAAAkCdoAAAAAAAAAJAnaAAAAAAAAACQJ\n",
       "2gAAAAAAAAAkCdoAAAAAAAAAJAnaAAAAAAAAACQJ2gAAAAAAAAAkCdoAAAAAAAAAJAnaAAAAAAAA\n",
       "ACQJ2gAAAAAAAAAkCdoAAAAAAAAAJAnaAAAAAAAAACQJ2gAAAAAAAAAkCdoAAAAAAAAAJAnaAAAA\n",
       "AAAAACQJ2gAAAAAAAAAkCdoAAAAAAAAAJAnaAAAAAAAAACQJ2gAAAAAAAAAkCdoAAAAAAAAAJAna\n",
       "AAAAAAAAACTt/2b9s+kNkPPd0vL0BEj5+b+/pydAyoNrJ6cnQMriws70BEj5aeOf6QmQs7rHnQ2f\n",
       "2vnx5vQESHm2fXx6AqS8+XZ3egKk+NAGAAAAAAAAIEnQBgAAAAAAACBJ0AYAAAAAAAAgSdAGAAAA\n",
       "AAAAIEnQBgAAAAAAACBJ0AYAAAAAAAAgSdAGAAAAAAAAIEnQBgAAAAAAACBJ0AYAAAAAAAAgSdAG\n",
       "AAAAAAAAIEnQBgAAAAAAACBJ0AYAAAAAAAAgSdAGAAAAAAAAIEnQBgAAAAAAACBJ0AYAAAAAAAAg\n",
       "SdAGAAAAAAAAIEnQBgAAAAAAACBJ0AYAAAAAAAAgSdAGAAAAAAAAIEnQBgAAAAAAACBJ0AYAAAAA\n",
       "AAAgSdAGAAAAAAAAIEnQBgAAAAAAACBJ0AYAAAAAAAAgSdAGAAAAAAAAIEnQBgAAAAAAACBJ0AYA\n",
       "AAAAAAAgSdAGAAAAAAAAIEnQBgAAAAAAACBJ0AYAAAAAAAAgSdAGAAAAAAAAIEnQBgAAAAAAACBJ\n",
       "0AYAAAAAAAAgSdAGAAAAAAAAIEnQBgAAAAAAACBJ0AYAAAAAAAAgSdAGAAAAAAAAIEnQBgAA4P/2\n",
       "7dikDgCMwijoQ4wbiDa+IgPoqyUOIMRKnCRFupBN4gCKtY2FRDsRIbW1hZIqKSRtNvi/4pwJbv9x\n",
       "AQAAAJIEbQAAAAAAAACSBG0AAAAAAAAAkgRtAAAAAAAAAJIEbQAAAAAAAACSBG0AAAAAAAAAkgRt\n",
       "AAAAAAAAAJIEbQAAAAAAAACSBG0AAAAAAAAAkgRtAAAAAAAAAJIEbQAAAAAAAACSBG0AAAAAAAAA\n",
       "kgRtAAAAAAAAAJIEbQAAAAAAAACSBG0AAAAAAAAAkgRtAAAAAAAAAJIEbQAAAAAAAACSBG0AAAAA\n",
       "AAAAkgRtAAAAAAAAAJIEbQAAAAAAAACSBG0AAAAAAAAAkgRtAAAAAAAAAJIEbQAAAAAAAACSBG0A\n",
       "AAAAAAAAkgRtAAAAAAAAAJIEbQAAAAAAAACSBG0AAAAAAAAAkgRtAAAAAAAAAJIEbQAAAAAAAACS\n",
       "BG0AAAAAAAAAkgRtAAAAAAAAAJIEbQAAAAAAAACSBG0AAAAAAAAAkgRtAAAAAAAAAJIEbQAAAAAA\n",
       "AACSBG0AAAAAAAAAkgRtAAAAAAAAAJIEbQAAAAAAAACSBG0AAAAAAAAAkgRtAAAAAAAAAJIEbQAA\n",
       "AAAAAACSBG0AAAAAAAAAkgRtAAAAAAAAAJIEbQAAAAAAAACSBG0AAAAAAAAAkgRtAAAAAAAAAJIE\n",
       "bQAAAAAAAACSBG0AAAAAAAAAkgRtAAAAAAAAAJIEbQAAAAAAAACSBG0AAAAAAAAAkgRtAAAAAAAA\n",
       "AJIEbQAAAAAAAACSBG0AAAAAAAAAkgRtAAAAAAAAAJIEbQAAAAAAAACSBG0AAAAAAAAAkgRtAAAA\n",
       "AAAAAJIEbQAAAAAAAACSBG0AAAAAAAAAkgRtAAAAAAAAAJIEbQAAAAAAAACSBG0AAAAAAAAAkgRt\n",
       "AAAAAAAAAJIEbQAAAAAAAACSBG0AAAAAAAAAkgRtAAAAAAAAAJIEbQAAAAAAAACSBG0AAAAAAAAA\n",
       "kgRtAAAAAAAAAJIEbQAAAAAAAACSBG0AAAAAAAAAkgRtAAAAAAAAAJIEbQAAAAAAAACSBG0AAAAA\n",
       "AAAAkgRtAAAAAAAAAJIEbQAAAAAAAACSBG0AAAAAAAAAkgRtAAAAAAAAAJIEbQAAAAAAAACSBG0A\n",
       "AAAAAAAAkgRtAAAAAAAAAJIEbQAAAAAAAACSBG0AAAAAAAAAkgRtAAAAAAAAAJIEbQAAAAAAAACS\n",
       "BG0AAAAAAAAAkgRtAAAAAAAAAJIEbQAAAAAAAACSBG0AAAAAAAAAkgRtAAAAAAAAAJIEbQAAAAAA\n",
       "AACSBG0AAAAAAAAAkgRtAAAAAAAAAJIEbQAAAAAAAACSBG0AAAAAAAAAkgRtAAAAAAAAAJIEbQAA\n",
       "AAAAAACSBG0AAAAAAAAAkgRtAAAAAAAAAJIEbQAAAAAAAACSBG0AAAAAAAAAkgRtAAAAAAAAAJIE\n",
       "bQAAAAAAAACSBG0AAAAAAAAAkgRtAAAAAAAAAJIWX5eb0xsg5+Tsx/QESLn5fjY9AVJWy8fpCZDy\n",
       "8/5gegKk/H5/mZ4AOe+vv6YnQMrD1dH0BEjZX9+ZngApWx81CvifhzYAAAAAAAAASYI2AAAAAAAA\n",
       "AEmCNgAAAAAAAABJgjYAAAAAAAAASYI2AAAAAAAAAEmCNgAAAAAAAABJgjYAAAAAAAAASYI2AAAA\n",
       "AAAAAEmCNgAAAAAAAABJgjYAAAAAAAAASYI2AAAAAAAAAEmCNgAAAAAAAABJgjYAAAAAAAAASYI2\n",
       "AAAAAAAAAEmCNgAAAAAAAABJgjYAAAAAAAAASYI2AAAAAAAAAEmCNgAAAAAAAABJgjYAAAAAAAAA\n",
       "SYI2AAAAAAAAAEmCNgAAAAAAAABJgjYAAAAAAAAASYI2AAAAAAAAAEmCNgAAAAAAAABJgjYAAAAA\n",
       "AAAASYI2AAAAAAAAAEmCNgAAAAAAAABJgjYAAAAAAAAASYI2AAAAAAAAAEmCNgAAAAAAAABJgjYA\n",
       "AAAAAAAASYI2AAAAAAAAAEmCNgAAAAAAAABJgjYAAAAAAAAASYI2AAAAAAAAAEmCNgAAAAAAAABJ\n",
       "gjYAAAAAAAAASYI2AAAAAAAAAEmCNgAAAAAAAABJgjYAAAAAAAAASYI2AAAAAAAAAEmCNgAAAAAA\n",
       "AABJgjYAAAAAAAAASYI2AAAAAAAAAEmCNgAAAAAAAABJgjYAAAAAAAAASYI2AAAAAAAAAEmCNgAA\n",
       "AAAAAABJgjYAAAAAAAAASYI2AAAAAAAAAEmCNgAAAAAAAABJgjYAAAAAAAAASYI2AAAAAAAAAEmC\n",
       "NgAAAAAAAABJgjYAAAAAAAAASYI2AAAAAAAAAEmCNgAAAAAAAABJgjYAAAAAAAAASYI2AAAAAAAA\n",
       "AEmCNgAAAAAAAABJgjYAAAAAAAAASYI2AAAAAAAAAEmCNgAAAAAAAABJgjYAAAAAAAAASYI2AAAA\n",
       "AAAAAEmCNgAAAAAAAABJgjYAAAAAAAAASYI2AAAAAAAAAEmCNgAAAAAAAABJgjYAAAAAAAAASYI2\n",
       "AAAAAAAAAEmCNgAAAAAAAABJgjYAAAAAAAAASYI2AAAAAAAAAEmCNgAAAAAAAABJgjYAAAAAAAAA\n",
       "SYI2AAAAAAAAAEmCNgAAAAAAAABJgjYAAAAAAAAASYI2AAAAAAAAAEmCNgAAAAAAAABJgjYAAAAA\n",
       "AAAASYI2AAAAAAAAAEmCNgAAAAAAAABJgjYAAAAAAAAASYI2AAAAAAAAAEmCNgAAAAAAAABJgjYA\n",
       "AAAAAAAASYI2AAAAAAAAAEmCNgAAAAAAAABJgjYAAAAAAAAASYI2AAAAAAAAAEmCNgAAAAAAAABJ\n",
       "gjYAAAAAAAAASYI2AAAAAAAAAEmCNgAAAAAAAABJgjYAAAAAAAAASYI2AAAAAAAAAEmCNgAAAAAA\n",
       "AABJgjYAAAAAAAAASYI2AAAAAAAAAEmCNgAAAAAAAABJgjYAAAAAAAAASYI2AAAAAAAAAEmCNgAA\n",
       "AAAAAABJgjYAAAAAAAAASYI2AAAAAAAAAEmCNgAAAAAAAABJgjYAAAAAAAAASYI2AAAAAAAAAEmC\n",
       "NgAAAAAAAABJgjYAAAAAAAAASYI2AAAAAAAAAEmCNgAAAAAAAABJgjYAAAAAAAAASYI2AAAAAAAA\n",
       "AEmCNgAAAAAAAABJgjYAAAAAAAAASYI2AAAAAAAAAEmCNgAAAAAAAABJgjYAAAAAAAAASYI2AAAA\n",
       "AAAAAEmCNgAAAAAAAABJgjYAAAAAAAAASYI2AAAAAAAAAEmCNgAAAAAAAABJgjYAAAAAAAAASYI2\n",
       "AAAAAAAAAEmCNgAAAAAAAABJgjYAAAAAAAAASYI2AAAAAAAAAEmCNgAAAAAAAABJgjYAAAAAAAAA\n",
       "SYI2AAAAAAAAAEmCNgAAAAAAAABJgjYAAAAAAAAASYI2AAAAAAAAAEmCNgAAAAAAAABJgjYAAAAA\n",
       "AAAASYI2AAAAAAAAAEmCNgAAAAAAAABJgjYAAAAAAAAASYI2AAAAAAAAAEmLz6eX0xsgZ7H7d3oC\n",
       "pGyurU9PgJRP1xvTEyDly/af6QmQ8ny7nJ4AOd9WH6YnQMrT2970BEg5P76bngApTxeH0xMgxUMb\n",
       "AAAAAAAAgCRBGwAAAAAAAIAkQRsAAAAAAACAJEEbAAAAAAAAgCRBGwAAAAAAAIAkQRsAAAAAAACA\n",
       "JEEbAAAAAAAAgCRBGwAAAAAAAIAkQRsAAAAAAACAJEEbAAAAAAAAgCRBGwAAAAAAAIAkQRsAAAAA\n",
       "AACAJEEbAAAAAAAAgCRBGwAAAAAAAIAkQRsAAAAAAACAJEEbAAAAAAAAgCRBGwAAAAAAAIAkQRsA\n",
       "AAAAAACAJEEbAAAAAAAAgCRBGwAAAAAAAIAkQRsAAAAAAACAJEEbAAAAAAAAgCRBGwAAAAAAAIAk\n",
       "QRsAAAAAAACAJEEbAAAAAAAAgCRBGwAAAAAAAIAkQRsAAAAAAACAJEEbAAAAAAAAgCRBGwAAAAAA\n",
       "AIAkQRsAAAAAAACAJEEbAAAAAAAAgCRBGwAAAAAAAIAkQRsAAAAAAACAJEEbAAAAAAAAgCRBGwAA\n",
       "AAAAAIAkQRsAAAAAAACAJEEbAAAAAAAAgCRBGwAAAAAAAIAkQRsAAAAAAACAJEEbAAAAAAAAgCRB\n",
       "GwAAAAAAAIAkQRsAAAAAAACAJEEbAAAAAAAAgCRBGwAAAAAAAIAkQRsAAAAAAACAJEEbAAAAAAAA\n",
       "gCRBGwAAAAAAAIAkQRsAAAAAAACAJEEbAAAAAAAAgCRBGwAAAAAAAIAkQRsAAAAAAACAJEEbAAAA\n",
       "AAAAgCRBGwAAAAAAAIAkQRsAAAAAAACAJEEbAAAAAAAAgCRBGwAAAAAAAIAkQRsAAAAAAACAJEEb\n",
       "AAAAAAAAgCRBGwAAAAAAAIAkQRsAAAAAAACAJEEbAAAAAAAAgCRBGwAAAAAAAIAkQRsAAAAAAACA\n",
       "JEEbAAAAAAAAgCRBGwAAAAAAAIAkQRsAAAAAAACAJEEbAAAAAAAAgCRBGwAAAAAAAIAkQRsAAAAA\n",
       "AACAJEEbAAAAAAAAgCRBGwAAAAAAAIAkQRsAAAAAAACAJEEbAAAAAAAAgCRBGwAAAAAAAIAkQRsA\n",
       "AAAAAACAJEEbAAAAAAAAgCRBGwAAAAAAAIAkQRsAAAAAAACAJEEbAAAAAAAAgCRBGwAAAAAAAIAk\n",
       "QRsAAAAAAACAJEEbAAAAAAAAgCRBGwAAAAAAAIAkQRsAAAAAAACAJEEbAAAAAAAAgCRBGwAAAAAA\n",
       "AIAkQRsAAAAAAACAJEEbAAAAAAAAgCRBGwAAAAAAAIAkQRsAAAAAAACAJEEbAAAAAAAAgCRBGwAA\n",
       "AAAAAIAkQRsAAAAAAACAJEEbAAAAAAAAgCRBGwAAAAAAAIAkQRsAAAAAAACAJEEbAAAAAAAAgCRB\n",
       "GwAAAAAAAIAkQRsAAAAAAACAJEEbAAAAAAAAgCRBGwAAAAAAAIAkQRsAAAAAAACAJEEbAAAAAAAA\n",
       "gCRBGwAAAAAAAIAkQRsAAAAAAACAJEEbAAAAAAAAgCRBGwAAAAAAAIAkQRsAAAAAAACAJEEbAAAA\n",
       "AAAAgCRBGwAAAAAAAIAkQRsAAAAAAACAJEEbAAAAAAAAgCRBGwAAAAAAAIAkQRsAAAAAAACAJEEb\n",
       "AAAAAAAAgCRBGwAAAAAAAIAkQRsAAAAAAACAJEEbAAAAAAAAgCRBGwAAAAAAAIAkQRsAAAAAAACA\n",
       "JEEbAAAAAAAAgCRBGwAAAAAAAIAkQRsAAAAAAACAJEEbAAAAAAAAgCRBGwAAAAAAAIAkQRsAAAAA\n",
       "AACAJEEbAAAAAAAAgCRBGwAAAAAAAIAkQRsAAAAAAACAJEEbAAAAAAAAgCRBGwAAAAAAAIAkQRsA\n",
       "AAAAAACAJEEbAAAAAAAAgCRBGwAAAAAAAIAkQRsAAAAAAACAJEEbAAAAAAAAgCRBGwAAAAAAAIAk\n",
       "QRsAAAAAAACAJEEbAAAAAAAAgCRBGwAAAAAAAIAkQRsAAAAAAACAJEEbAAAAAAAAgCRBGwAAAAAA\n",
       "AICkfw2TosdOyL3+AAAAAElFTkSuQmCC\n",
       "\" transform=\"translate(141, 47)\"/>\n",
       "</g>\n",
       "<defs>\n",
       "  <clipPath id=\"clip7803\">\n",
       "    <rect x=\"2160\" y=\"47\" width=\"73\" height=\"1441\"/>\n",
       "  </clipPath>\n",
       "</defs>\n",
       "<g clip-path=\"url(#clip7803)\">\n",
       "<image width=\"72\" height=\"1440\" xlink:href=\"data:image/png;base64,\n",
       "iVBORw0KGgoAAAANSUhEUgAAAEgAAAWgCAYAAAD9wgUPAAAMT0lEQVR4nO3dwY3sRhAFQY5Q/lsh\n",
       "L6XfLQtUeSQPERYsEg8kmpyZ/f17/r4P/+uvt/+ArxMoCBQECgKFOffft/+GT7OgIFAQKAgUBApz\n",
       "3cVWFhQECgIFgcLc4yK9saAgUBAoCBQECo4awYKCQEGgIFAQKLiLBQsKAgWBgkDBRTpYUBAoCBQE\n",
       "CgIFr32CBQWBgkBBoOCoESwoCBQECgIFgYK7WLCgIFAQKAgUBArzeGC2sqAgUBAoCBRcpIMFBYGC\n",
       "QEGgIFCYxwOzlQUFgYJAQaAgUHAWCxYUBAoCBYGCi3SwoCBQECgIFAQK85x/3v4bPs2CgkBBoCBQ\n",
       "8FYjWFAQKAgUBAoCBQ/MggUFgYJAQaAgUHAXCxYUBAoCBYHC/O6ft/+GT7OgIFAQKAgUBArzHHex\n",
       "jQUFgYJAQaAgUJifu9jKgoJAQaAgUHDUCBYUBAoCBYGCQGEer31WFhQECgIFgYLnQcGCgkBBoCBQ\n",
       "ECh4YBYsKAgUBAoCBYGCs1iwoCBQECgIFBw1ggUFgYJAQaAgUJjfOW//DZ9mQUGgIFAQKAgUnMWC\n",
       "BQWBgkBBoOAiHSwoCBQECgIFgYJ388GCgkBBoCBQmMdbjZUFBYGCQEGgIFBw1AgWFAQKAgWBgkDB\n",
       "a59gQUGgIFAQKLhIBwsKAgWBgkBBoODLLMGCgkBBoCBQECj48EKwoCBQECgIFDwwCxYUBAoCBYGC\n",
       "QMFRI1hQECgIFAQKLtLBgoJAQaAgUBAoeDcfLCgIFAQKAgWBgtc+wYKCQEGgIFDwwCxYUBAoCBQE\n",
       "CgIFd7FgQUGgIFAQKAgU3MWCBQWBgkBBoDDPuW//DZ9mQUGgIFAQKAgU5rmOGhsLCgIFgYJAwfOg\n",
       "YEFBoCBQECgIFDwwCxYUBAoCBYGCQMFZLFhQECgIFAQKLtLBgoJAQaAgUBAoeGAWLCgIFAQKAgWB\n",
       "grNYsKAgUBAoCBTmcY1eWVAQKAgUBAoCBXexYEFBoCBQECiMLxzuLCgIFAQKAgWBgqNGsKAgUBAo\n",
       "CBQECu5iwYKCQEGgIFBwkQ4WFAQKAgWBgkBhHt9lWVlQECgIFAQKAoW55/f23/BpFhQECgIFgYIH\n",
       "ZsGCgkBBoCBQECjM46ixsqAgUBAoCBTmXhfpjQUFgYJAQaAgUHDUCBYUBAoCBYGCQMFdLFhQECgI\n",
       "FAQKHpgFCwoCBYGCQEGg4KgRLCgIFAQKAgWBwjxHo406QaAgUBAoeGAWLCgIFAQKAgWBggdmwYKC\n",
       "QEGgIFDw4ybBgoJAQaAgUBAozHM12qgTBAoCBYGCQMFZLFhQECgIFAQKLtLBgoJAQaAgUBAo+Bhw\n",
       "UCcIFAQKAgWBgs9JBwsKAgWBgkDBx4CDBQWBgkBBoCBQmOuB2UqdIFAQKAgUPA8KFhQECgIFgYJA\n",
       "wQOzYEFBoCBQECgIFDwwC+oEgYJAQaDggVmwoCBQECgIFAQKvpIZLCgIFAQKAgWBwly/YbZSJwgU\n",
       "BAoCBe/mgwUFgYJAQaAgUPDALFhQECgIFAQK3s0HCwoCBYGCQEGg4GPAQZ0gUBAoCBQECs5iwYKC\n",
       "QEGgIFDwViNYUBAoCBQECgIFR41gQUGgIFAQKAgUvPYJ6gSBgkBBoOCoESwoCBQECgIFgYLXPsGC\n",
       "gkBBoCBQcNQIFhQECgIFgYJAwVuNoE4QKAgUBAoCBWexYEFBoCBQECi4SAcLCgIFgYJAQaDgLhYs\n",
       "KAgUBAoCBYGCT5gFCwoCBYGCQGGOf5+1UicIFAQKAgWBggdmwYKCQEGgIFDwPChYUBAoCBQECgIF\n",
       "R41gQUGgIFAQKAgU3MWCBQWBgkBBoOAiHSwoCBQECgIFgYK7WLCgIFAQKAgUBApz3MVWFhQECgIF\n",
       "gYKjRrCgIFAQKAgUBAruYsGCgkBBoCBQcJEOFhQECgIFgYJAwV0sWFAQKAgUBAoCBXexYEFBoCBQ\n",
       "ECj4AFWwoCBQECgIFAQKjhrBgoJAQaAgUBAouIsFCwoCBYGCQMF/ZgnqBIGCQEGgIFBw1AgWFAQK\n",
       "AgWBgnfzwYKCQEGgIFAQKDhqBAsKAgWBgkBBoOAsFiwoCBQECgIFR41gQUGgIFAQKAgU3MWCBQWB\n",
       "gkBBoCBQ8MAsWFAQKAgUBApzHxfpjQUFgYJAQaAgUHDUCBYUBAoCBYGCtxrBgoJAQaAgUBAozLlv\n",
       "/wnfZkFBoCBQECgIFJzFggUFgYJAQaDgrUawoCBQECgIFAQKc3zCbGVBQaAgUBAoCBQ8MAsWFAQK\n",
       "AgWBggdmwYKCQEGgIFAQKDhqBAsKAgWBgkBhztt/wcdZUBAoCBQECgIFR41gQUGgIFAQKAgUvPYJ\n",
       "FhQECgIFgYIfmgwWFAQKAgWBgkDBUSNYUBAoCBQECgIFv2EWLCgIFAQKAgUPzIIFBYGCQEGgIFDw\n",
       "CbNgQUGgIFAQKPgyS7CgIFAQKAgUBAqOGsGCgkBBoCBQECg4iwULCgIFgYJAwVEjWFAQKAgUBAoC\n",
       "BV9mCRYUBAoCBYGCQGF8l2VnQUGgIFAQKDhqBAsKAgWBgkBBoOCoESwoCBQECgIFR41gQUGgIFAQ\n",
       "KAgUHDWCBQWBgkBBoCBQcBYLFhQECgIFgYJfAw4WFAQKAgWBgkDBzyUHCwoCBYGCQEGg4CwWLCgI\n",
       "FAQKAoU5jhorCwoCBYGCQEGgMNdRY2VBQaAgUBAo+ABVsKAgUBAoCBQECr7MEiwoCBQECgIFgYJ3\n",
       "88GCgkBBoCBQ8G4+WFAQKAgUBAoCBe/mgwUFgYJAQaAgUPCvjIMFBYGCQEGg4BNmwYKCQEGgIFAQ\n",
       "KHhgFiwoCBQECgIFz4OCBQWBgkBBoCBQcNQIFhQECgIFgYJAweekgwUFgYJAQaDgG4fBgoJAQaAg\n",
       "UBAo+PWXYEFBoCBQECgIFJzFggUFgYJAQaDgIh0sKAgUBAoCBYGCf2UcLCgIFAQKAgVHjWBBQaAg\n",
       "UBAoCBS8mw8WFAQKAgWBgkDBWSxYUBAoCBQECi7SwYKCQEGgIFAQKHhgFiwoCBQECgIFgYKzWLCg\n",
       "IFAQKAgU/FxysKAgUBAoCBQECn4uOVhQECgIFAQKngcFCwoCBYGCQEGg4N18sKAgUBAoCBQECs5i\n",
       "wYKCQEGgIFCY+7hKbywoCBQECgIFgYKjRrCgIFAQKAgUBApe+wQLCgIFgYJAwVEjWFAQKAgUBAoC\n",
       "BUeNYEFBoCBQECg4agQLCgIFgYJAQaDge/PBgoJAQaAgUBAozPE56ZUFBYGCQEGg4KgRLCgIFAQK\n",
       "AgWBgqNGsKAgUBAoCBQECn70P1hQECgIFAQKcz0xW1lQECgIFAQKAgVHjWBBQaAgUBAo+DJLsKAg\n",
       "UBAoCBQECn4uOVhQECgIFAQKAgVnsWBBQaAgUBAo+BhwsKAgUBAoCBQECh6YBQsKAgWBgkBBoOAs\n",
       "FiwoCBQECgIFF+lgQUGgIFAQKAgU5vhK5sqCgkBBoCBQ8FYjWFAQKAgUBAoCBQ/MggUFgYJAQaAg\n",
       "UHAXCxYUBAoCBYGCi3SwoCBQECgIFAQKcx8/NbmxoCBQECgIFAQKzmLBgoJAQaAgUJjzc9TYWFAQ\n",
       "KAgUBAoChTkemK0sKAgUBAoCBRfpYEFBoCBQECgIFLybDxYUBAoCBYGCQGHOz7v5jQUFgYJAQaDg\n",
       "gVmwoCBQECgIFAQK7mLBgoJAQaAgUBAoeO0TLCgIFAQKAoU5z5+3/4ZPs6AgUBAoCBQECh6YBQsK\n",
       "AgWBgkBhrqPGyoKCQEGgIFAQKDhqBAsKAgWBgkBBoOAuFiwoCBQECgIFD8yCBQWBgkBBoCBQcNQI\n",
       "FhQECgIFgYJAwVksWFAQKAgUBAq+cRgsKAgUBAoCBYHCnOsutrGgIFAQKAgUHDWCBQWBgkBBoCBQ\n",
       "mOuosbKgIFAQKAgUBArOYsGCgkBBoCBQ8AGqYEFBoCBQECgIFLybDxYUBAoCBYGCQMEDs2BBQaAg\n",
       "UBAoeDcfLCgIFAQKAgWBgtc+wYKCQEGgIFBw1AgWFAQKAgWBgkDBW41gQUGgIFAQKAgUnMWCBQWB\n",
       "gkBBoOCtRrCgIFAQKAgUBAqOGsGCgkBBoCBQECh47RMsKAgUBAoChbnXA7ONBQWBgkBBoCBQcNQI\n",
       "FhQECgIFgcI89779N3yaBQWBgkBBoCBQmMdRY2VBQaAgUBAoCBR8wixYUBAoCBQECo4awYKCQEGg\n",
       "IFAQKHg3HywoCBQECgIFgcI8HpitLCgIFAQKAgVHjWBBQaAgUBAoCBS89gkWFAQKAgWBwn8v2/BP\n",
       "X8iooQAAAABJRU5ErkJggg==\n",
       "\" transform=\"translate(2161, 47)\"/>\n",
       "</g>\n",
       "<g clip-path=\"url(#clip7800)\">\n",
       "<text style=\"fill:#000000; fill-opacity:1; font-family:Arial,Helvetica Neue,Helvetica,sans-serif; font-size:48px; text-anchor:start;\" transform=\"rotate(0, 2268.76, 1357.08)\" x=\"2268.76\" y=\"1357.08\">0.1</text>\n",
       "</g>\n",
       "<g clip-path=\"url(#clip7800)\">\n",
       "<text style=\"fill:#000000; fill-opacity:1; font-family:Arial,Helvetica Neue,Helvetica,sans-serif; font-size:48px; text-anchor:start;\" transform=\"rotate(0, 2268.76, 1209.43)\" x=\"2268.76\" y=\"1209.43\">0.2</text>\n",
       "</g>\n",
       "<g clip-path=\"url(#clip7800)\">\n",
       "<text style=\"fill:#000000; fill-opacity:1; font-family:Arial,Helvetica Neue,Helvetica,sans-serif; font-size:48px; text-anchor:start;\" transform=\"rotate(0, 2268.76, 1061.79)\" x=\"2268.76\" y=\"1061.79\">0.3</text>\n",
       "</g>\n",
       "<g clip-path=\"url(#clip7800)\">\n",
       "<text style=\"fill:#000000; fill-opacity:1; font-family:Arial,Helvetica Neue,Helvetica,sans-serif; font-size:48px; text-anchor:start;\" transform=\"rotate(0, 2268.76, 914.146)\" x=\"2268.76\" y=\"914.146\">0.4</text>\n",
       "</g>\n",
       "<g clip-path=\"url(#clip7800)\">\n",
       "<text style=\"fill:#000000; fill-opacity:1; font-family:Arial,Helvetica Neue,Helvetica,sans-serif; font-size:48px; text-anchor:start;\" transform=\"rotate(0, 2268.76, 766.503)\" x=\"2268.76\" y=\"766.503\">0.5</text>\n",
       "</g>\n",
       "<g clip-path=\"url(#clip7800)\">\n",
       "<text style=\"fill:#000000; fill-opacity:1; font-family:Arial,Helvetica Neue,Helvetica,sans-serif; font-size:48px; text-anchor:start;\" transform=\"rotate(0, 2268.76, 618.86)\" x=\"2268.76\" y=\"618.86\">0.6</text>\n",
       "</g>\n",
       "<g clip-path=\"url(#clip7800)\">\n",
       "<text style=\"fill:#000000; fill-opacity:1; font-family:Arial,Helvetica Neue,Helvetica,sans-serif; font-size:48px; text-anchor:start;\" transform=\"rotate(0, 2268.76, 471.216)\" x=\"2268.76\" y=\"471.216\">0.7</text>\n",
       "</g>\n",
       "<g clip-path=\"url(#clip7800)\">\n",
       "<text style=\"fill:#000000; fill-opacity:1; font-family:Arial,Helvetica Neue,Helvetica,sans-serif; font-size:48px; text-anchor:start;\" transform=\"rotate(0, 2268.76, 323.573)\" x=\"2268.76\" y=\"323.573\">0.8</text>\n",
       "</g>\n",
       "<g clip-path=\"url(#clip7800)\">\n",
       "<text style=\"fill:#000000; fill-opacity:1; font-family:Arial,Helvetica Neue,Helvetica,sans-serif; font-size:48px; text-anchor:start;\" transform=\"rotate(0, 2268.76, 175.93)\" x=\"2268.76\" y=\"175.93\">0.9</text>\n",
       "</g>\n",
       "<polyline clip-path=\"url(#clip7800)\" style=\"stroke:#000000; stroke-width:4; stroke-opacity:1; fill:none\" points=\"\n",
       "  2232.76,1487.47 2232.76,1343.42 2256.76,1343.42 2232.76,1343.42 2232.76,1195.78 2256.76,1195.78 2232.76,1195.78 2232.76,1048.14 2256.76,1048.14 2232.76,1048.14 \n",
       "  2232.76,900.495 2256.76,900.495 2232.76,900.495 2232.76,752.852 2256.76,752.852 2232.76,752.852 2232.76,605.208 2256.76,605.208 2232.76,605.208 2232.76,457.565 \n",
       "  2256.76,457.565 2232.76,457.565 2232.76,309.922 2256.76,309.922 2232.76,309.922 2232.76,162.279 2256.76,162.279 2232.76,162.279 2232.76,47.2441 \n",
       "  \"/>\n",
       "<g clip-path=\"url(#clip7800)\">\n",
       "<text style=\"fill:#000000; fill-opacity:1; font-family:Arial,Helvetica Neue,Helvetica,sans-serif; font-size:66px; text-anchor:middle;\" transform=\"rotate(-90, 2410.36, 767.359)\" x=\"2410.36\" y=\"767.359\"></text>\n",
       "</g>\n",
       "</svg>\n"
      ]
     },
     "execution_count": 43,
     "metadata": {},
     "output_type": "execute_result"
    }
   ],
   "source": [
    "image = rand(10,10);\n",
    "heatmap(image)"
   ]
  },
  {
   "cell_type": "code",
   "execution_count": 47,
   "metadata": {},
   "outputs": [
    {
     "data": {
      "text/plain": [
       "10-element Array{Array{Float64,1},1}:\n",
       " [0.715094, 0.441899, 0.149756, 0.532836, 0.372181, 0.00243376, 0.0386126, 0.467159, 0.127157, 0.133742]\n",
       " [0.779366, 0.717888, 0.34749, 0.0942953, 0.311195, 0.448452, 0.461885, 0.102772, 0.443266, 0.512191]   \n",
       " [0.217253, 0.19843, 0.123191, 0.198694, 0.0966978, 0.132946, 0.317899, 0.794308, 0.977914, 0.460914]   \n",
       " [0.111794, 0.584337, 0.440176, 0.86636, 0.329903, 0.711199, 0.508799, 0.404509, 0.621042, 0.242503]    \n",
       " [0.388348, 0.304979, 0.358312, 0.321379, 0.491207, 0.943698, 0.629211, 0.496795, 0.891527, 0.559581]   \n",
       " [0.899118, 0.0856713, 0.120328, 0.375009, 0.682471, 0.463803, 0.0662746, 0.217579, 0.0883411, 0.138599]\n",
       " [0.322852, 0.917132, 0.954385, 0.953399, 0.332276, 0.150862, 0.135028, 0.693056, 0.00490767, 0.48051]  \n",
       " [0.216646, 0.531499, 0.737675, 0.972997, 0.511557, 0.193532, 0.0181174, 0.0748028, 0.835425, 0.0694342]\n",
       " [0.606492, 0.189386, 0.0642715, 0.189017, 0.574422, 0.0500396, 0.557302, 0.356888, 0.729704, 0.775178] \n",
       " [0.544453, 0.751031, 0.665557, 0.058733, 0.47961, 0.422605, 0.184258, 0.0699105, 0.703668, 0.273513]   "
      ]
     },
     "execution_count": 47,
     "metadata": {},
     "output_type": "execute_result"
    }
   ],
   "source": [
    "[image[:,k] for k in 1:10]"
   ]
  },
  {
   "cell_type": "code",
   "execution_count": 50,
   "metadata": {},
   "outputs": [
    {
     "data": {
      "text/plain": [
       "true"
      ]
     },
     "execution_count": 50,
     "metadata": {},
     "output_type": "execute_result"
    }
   ],
   "source": [
    "imageAsVectorCols = vcat([image[:,k] for k in 1:10]...)\n",
    "imageAsVectorRows = vcat([image[k,:] for k in 1:10]...)\n",
    "imageAsVectorCols[100] == imageAsVectorRows[100]"
   ]
  },
  {
   "cell_type": "code",
   "execution_count": 51,
   "metadata": {},
   "outputs": [
    {
     "data": {
      "text/plain": [
       "false"
      ]
     },
     "execution_count": 51,
     "metadata": {},
     "output_type": "execute_result"
    }
   ],
   "source": [
    "imageAsVectorCols[99] == imageAsVectorRows[99]"
   ]
  },
  {
   "cell_type": "code",
   "execution_count": 52,
   "metadata": {},
   "outputs": [
    {
     "data": {
      "text/plain": [
       "true"
      ]
     },
     "execution_count": 52,
     "metadata": {},
     "output_type": "execute_result"
    }
   ],
   "source": [
    "imageAsVectorCols[1] == imageAsVectorRows[1]"
   ]
  },
  {
   "cell_type": "markdown",
   "metadata": {},
   "source": [
    "#### There is a \"covert\" way to do it... (not sure how...)"
   ]
  },
  {
   "cell_type": "code",
   "execution_count": 42,
   "metadata": {},
   "outputs": [
    {
     "ename": "MethodError",
     "evalue": "MethodError: no method matching Array{Float64,1}(::Array{Float64,2})\nClosest candidates are:\n  Array{Float64,1}(::AbstractArray{S,N}) where {T, N, S} at array.jl:482\n  Array{Float64,1}() where T at boot.jl:421\n  Array{Float64,1}(!Matched::UndefInitializer, !Matched::Int64) where T at boot.jl:402\n  ...",
     "output_type": "error",
     "traceback": [
      "MethodError: no method matching Array{Float64,1}(::Array{Float64,2})\nClosest candidates are:\n  Array{Float64,1}(::AbstractArray{S,N}) where {T, N, S} at array.jl:482\n  Array{Float64,1}() where T at boot.jl:421\n  Array{Float64,1}(!Matched::UndefInitializer, !Matched::Int64) where T at boot.jl:402\n  ...",
      "",
      "Stacktrace:",
      " [1] convert(::Type{Array{Float64,1}}, ::Array{Float64,2}) at ./array.jl:474",
      " [2] top-level scope at In[42]:1"
     ]
    }
   ],
   "source": [
    "convert(Array{Float64,1},image)"
   ]
  },
  {
   "cell_type": "code",
   "execution_count": 53,
   "metadata": {},
   "outputs": [
    {
     "name": "stdout",
     "output_type": "stream",
     "text": [
      "search: \u001b[0m\u001b[1mU\u001b[22m\u001b[0m\u001b[1mn\u001b[22m\u001b[0m\u001b[1mi\u001b[22m\u001b[0m\u001b[1mt\u001b[22mRange one\u001b[0m\u001b[1mu\u001b[22m\u001b[0m\u001b[1mn\u001b[22m\u001b[0m\u001b[1mi\u001b[22m\u001b[0m\u001b[1mt\u001b[22m code\u001b[0m\u001b[1mu\u001b[22m\u001b[0m\u001b[1mn\u001b[22m\u001b[0m\u001b[1mi\u001b[22m\u001b[0m\u001b[1mt\u001b[22m code\u001b[0m\u001b[1mu\u001b[22m\u001b[0m\u001b[1mn\u001b[22m\u001b[0m\u001b[1mi\u001b[22m\u001b[0m\u001b[1mt\u001b[22ms ncode\u001b[0m\u001b[1mu\u001b[22m\u001b[0m\u001b[1mn\u001b[22m\u001b[0m\u001b[1mi\u001b[22m\u001b[0m\u001b[1mt\u001b[22ms Abstract\u001b[0m\u001b[1mU\u001b[22m\u001b[0m\u001b[1mn\u001b[22m\u001b[0m\u001b[1mi\u001b[22m\u001b[0m\u001b[1mt\u001b[22mRange\n",
      "\n",
      "Couldn't find \u001b[36munit\u001b[39m\n",
      "Perhaps you meant union, edit, exit, wait, Int, oneunit, union!, unique or Union\n"
     ]
    },
    {
     "data": {
      "text/latex": [
       "No documentation found.\n",
       "\n",
       "Binding \\texttt{unit} does not exist.\n",
       "\n"
      ],
      "text/markdown": [
       "No documentation found.\n",
       "\n",
       "Binding `unit` does not exist.\n"
      ],
      "text/plain": [
       "  No documentation found.\n",
       "\n",
       "  Binding \u001b[36munit\u001b[39m does not exist."
      ]
     },
     "execution_count": 53,
     "metadata": {},
     "output_type": "execute_result"
    }
   ],
   "source": [
    "? unit"
   ]
  },
  {
   "cell_type": "code",
   "execution_count": 57,
   "metadata": {},
   "outputs": [],
   "source": [
    "using LinearAlgebra"
   ]
  },
  {
   "cell_type": "code",
   "execution_count": 62,
   "metadata": {},
   "outputs": [
    {
     "name": "stdout",
     "output_type": "stream",
     "text": [
      "search: \u001b[0m\u001b[1mc\u001b[22m\u001b[0m\u001b[1mo\u001b[22m\u001b[0m\u001b[1mn\u001b[22m\u001b[0m\u001b[1mv\u001b[22m\u001b[0m\u001b[1me\u001b[22m\u001b[0m\u001b[1mr\u001b[22m\u001b[0m\u001b[1mt\u001b[22m \u001b[0m\u001b[1mc\u001b[22m\u001b[0m\u001b[1mo\u001b[22mde_\u001b[0m\u001b[1mn\u001b[22mati\u001b[0m\u001b[1mv\u001b[22m\u001b[0m\u001b[1me\u001b[22m @\u001b[0m\u001b[1mc\u001b[22m\u001b[0m\u001b[1mo\u001b[22mde_\u001b[0m\u001b[1mn\u001b[22mati\u001b[0m\u001b[1mv\u001b[22m\u001b[0m\u001b[1me\u001b[22m\n",
      "\n"
     ]
    },
    {
     "data": {
      "text/latex": [
       "\\begin{verbatim}\n",
       "convert(T, x)\n",
       "\\end{verbatim}\n",
       "Convert \\texttt{x} to a value of type \\texttt{T}.\n",
       "\n",
       "If \\texttt{T} is an \\href{@ref}{\\texttt{Integer}} type, an \\href{@ref}{\\texttt{InexactError}} will be raised if \\texttt{x} is not representable by \\texttt{T}, for example if \\texttt{x} is not integer-valued, or is outside the range supported by \\texttt{T}.\n",
       "\n",
       "\\section{Examples}\n",
       "\\begin{verbatim}\n",
       "julia> convert(Int, 3.0)\n",
       "3\n",
       "\n",
       "julia> convert(Int, 3.5)\n",
       "ERROR: InexactError: Int64(3.5)\n",
       "Stacktrace:\n",
       "[...]\n",
       "\\end{verbatim}\n",
       "If \\texttt{T} is a \\href{@ref}{\\texttt{AbstractFloat}} or \\href{@ref}{\\texttt{Rational}} type, then it will return the closest value to \\texttt{x} representable by \\texttt{T}.\n",
       "\n",
       "\\begin{verbatim}\n",
       "julia> x = 1/3\n",
       "0.3333333333333333\n",
       "\n",
       "julia> convert(Float32, x)\n",
       "0.33333334f0\n",
       "\n",
       "julia> convert(Rational{Int32}, x)\n",
       "1//3\n",
       "\n",
       "julia> convert(Rational{Int64}, x)\n",
       "6004799503160661//18014398509481984\n",
       "\\end{verbatim}\n",
       "If \\texttt{T} is a collection type and \\texttt{x} a collection, the result of \\texttt{convert(T, x)} may alias all or part of \\texttt{x}.\n",
       "\n",
       "\\begin{verbatim}\n",
       "julia> x = Int[1, 2, 3];\n",
       "\n",
       "julia> y = convert(Vector{Int}, x);\n",
       "\n",
       "julia> y === x\n",
       "true\n",
       "\\end{verbatim}\n"
      ],
      "text/markdown": [
       "```\n",
       "convert(T, x)\n",
       "```\n",
       "\n",
       "Convert `x` to a value of type `T`.\n",
       "\n",
       "If `T` is an [`Integer`](@ref) type, an [`InexactError`](@ref) will be raised if `x` is not representable by `T`, for example if `x` is not integer-valued, or is outside the range supported by `T`.\n",
       "\n",
       "# Examples\n",
       "\n",
       "```jldoctest\n",
       "julia> convert(Int, 3.0)\n",
       "3\n",
       "\n",
       "julia> convert(Int, 3.5)\n",
       "ERROR: InexactError: Int64(3.5)\n",
       "Stacktrace:\n",
       "[...]\n",
       "```\n",
       "\n",
       "If `T` is a [`AbstractFloat`](@ref) or [`Rational`](@ref) type, then it will return the closest value to `x` representable by `T`.\n",
       "\n",
       "```jldoctest\n",
       "julia> x = 1/3\n",
       "0.3333333333333333\n",
       "\n",
       "julia> convert(Float32, x)\n",
       "0.33333334f0\n",
       "\n",
       "julia> convert(Rational{Int32}, x)\n",
       "1//3\n",
       "\n",
       "julia> convert(Rational{Int64}, x)\n",
       "6004799503160661//18014398509481984\n",
       "```\n",
       "\n",
       "If `T` is a collection type and `x` a collection, the result of `convert(T, x)` may alias all or part of `x`.\n",
       "\n",
       "```jldoctest\n",
       "julia> x = Int[1, 2, 3];\n",
       "\n",
       "julia> y = convert(Vector{Int}, x);\n",
       "\n",
       "julia> y === x\n",
       "true\n",
       "```\n"
      ],
      "text/plain": [
       "\u001b[36m  convert(T, x)\u001b[39m\n",
       "\n",
       "  Convert \u001b[36mx\u001b[39m to a value of type \u001b[36mT\u001b[39m.\n",
       "\n",
       "  If \u001b[36mT\u001b[39m is an \u001b[36mInteger\u001b[39m type, an \u001b[36mInexactError\u001b[39m will be raised if \u001b[36mx\u001b[39m is not\n",
       "  representable by \u001b[36mT\u001b[39m, for example if \u001b[36mx\u001b[39m is not integer-valued, or is outside\n",
       "  the range supported by \u001b[36mT\u001b[39m.\n",
       "\n",
       "\u001b[1m  Examples\u001b[22m\n",
       "\u001b[1m  ≡≡≡≡≡≡≡≡≡≡\u001b[22m\n",
       "\n",
       "\u001b[36m  julia> convert(Int, 3.0)\u001b[39m\n",
       "\u001b[36m  3\u001b[39m\n",
       "\u001b[36m  \u001b[39m\n",
       "\u001b[36m  julia> convert(Int, 3.5)\u001b[39m\n",
       "\u001b[36m  ERROR: InexactError: Int64(3.5)\u001b[39m\n",
       "\u001b[36m  Stacktrace:\u001b[39m\n",
       "\u001b[36m  [...]\u001b[39m\n",
       "\n",
       "  If \u001b[36mT\u001b[39m is a \u001b[36mAbstractFloat\u001b[39m or \u001b[36mRational\u001b[39m type, then it will return the closest\n",
       "  value to \u001b[36mx\u001b[39m representable by \u001b[36mT\u001b[39m.\n",
       "\n",
       "\u001b[36m  julia> x = 1/3\u001b[39m\n",
       "\u001b[36m  0.3333333333333333\u001b[39m\n",
       "\u001b[36m  \u001b[39m\n",
       "\u001b[36m  julia> convert(Float32, x)\u001b[39m\n",
       "\u001b[36m  0.33333334f0\u001b[39m\n",
       "\u001b[36m  \u001b[39m\n",
       "\u001b[36m  julia> convert(Rational{Int32}, x)\u001b[39m\n",
       "\u001b[36m  1//3\u001b[39m\n",
       "\u001b[36m  \u001b[39m\n",
       "\u001b[36m  julia> convert(Rational{Int64}, x)\u001b[39m\n",
       "\u001b[36m  6004799503160661//18014398509481984\u001b[39m\n",
       "\n",
       "  If \u001b[36mT\u001b[39m is a collection type and \u001b[36mx\u001b[39m a collection, the result of \u001b[36mconvert(T, x)\u001b[39m\n",
       "  may alias all or part of \u001b[36mx\u001b[39m.\n",
       "\n",
       "\u001b[36m  julia> x = Int[1, 2, 3];\u001b[39m\n",
       "\u001b[36m  \u001b[39m\n",
       "\u001b[36m  julia> y = convert(Vector{Int}, x);\u001b[39m\n",
       "\u001b[36m  \u001b[39m\n",
       "\u001b[36m  julia> y === x\u001b[39m\n",
       "\u001b[36m  true\u001b[39m"
      ]
     },
     "execution_count": 62,
     "metadata": {},
     "output_type": "execute_result"
    }
   ],
   "source": [
    "? convert"
   ]
  },
  {
   "cell_type": "markdown",
   "metadata": {},
   "source": [
    "### So here is a \"cleaner\" way to convert a matrix into a vector"
   ]
  },
  {
   "cell_type": "code",
   "execution_count": 67,
   "metadata": {},
   "outputs": [
    {
     "data": {
      "text/plain": [
       "2×2 Array{Float64,2}:\n",
       " 1.0  2.0\n",
       " 3.0  4.0"
      ]
     },
     "execution_count": 67,
     "metadata": {},
     "output_type": "execute_result"
    }
   ],
   "source": [
    "A = [1. 2; 3 4]"
   ]
  },
  {
   "cell_type": "code",
   "execution_count": 65,
   "metadata": {},
   "outputs": [
    {
     "data": {
      "text/plain": [
       "4-element Array{Int64,1}:\n",
       " 1\n",
       " 3\n",
       " 2\n",
       " 4"
      ]
     },
     "execution_count": 65,
     "metadata": {},
     "output_type": "execute_result"
    }
   ],
   "source": [
    "vcat(A...)"
   ]
  },
  {
   "cell_type": "code",
   "execution_count": 66,
   "metadata": {},
   "outputs": [
    {
     "data": {
      "text/plain": [
       "1×4 Array{Int64,2}:\n",
       " 1  3  2  4"
      ]
     },
     "execution_count": 66,
     "metadata": {},
     "output_type": "execute_result"
    }
   ],
   "source": [
    "hcat(A...)"
   ]
  },
  {
   "cell_type": "code",
   "execution_count": null,
   "metadata": {},
   "outputs": [],
   "source": []
  }
 ],
 "metadata": {
  "kernelspec": {
   "display_name": "Julia 1.1.1",
   "language": "julia",
   "name": "julia-1.1"
  },
  "language_info": {
   "file_extension": ".jl",
   "mimetype": "application/julia",
   "name": "julia",
   "version": "1.1.1"
  }
 },
 "nbformat": 4,
 "nbformat_minor": 2
}
