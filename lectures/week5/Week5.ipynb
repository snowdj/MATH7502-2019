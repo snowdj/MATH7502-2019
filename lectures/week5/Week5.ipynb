{
 "cells": [
  {
   "cell_type": "markdown",
   "metadata": {},
   "source": [
    "# Week 5"
   ]
  },
  {
   "cell_type": "code",
   "execution_count": 15,
   "metadata": {},
   "outputs": [],
   "source": [
    "a1=[-1,1,-1,1];\n",
    "a2=[-1,3,-1,3]; # [-2,2,-2,2] -> would yield quitting in second iteration\n",
    "a3=[1,3,5,7];"
   ]
  },
  {
   "cell_type": "code",
   "execution_count": 5,
   "metadata": {},
   "outputs": [],
   "source": [
    "using LinearAlgebra"
   ]
  },
  {
   "cell_type": "markdown",
   "metadata": {},
   "source": [
    "## iteration $i=1$"
   ]
  },
  {
   "cell_type": "code",
   "execution_count": 13,
   "metadata": {},
   "outputs": [
    {
     "data": {
      "text/plain": [
       "1.0"
      ]
     },
     "execution_count": 13,
     "metadata": {},
     "output_type": "execute_result"
    }
   ],
   "source": [
    "qt1=a1;\n",
    "if qt1 == zeros(4)\n",
    "    println(\"quitting\")\n",
    "else\n",
    "    q1 = qt1/norm(qt1);\n",
    "end\n",
    "norm(q1)"
   ]
  },
  {
   "cell_type": "markdown",
   "metadata": {},
   "source": [
    "## iteration $i=2$"
   ]
  },
  {
   "cell_type": "code",
   "execution_count": 16,
   "metadata": {},
   "outputs": [
    {
     "data": {
      "text/plain": [
       "1.0"
      ]
     },
     "execution_count": 16,
     "metadata": {},
     "output_type": "execute_result"
    }
   ],
   "source": [
    "qt2 = a2 - (q1'*a2)*q1;\n",
    "if qt2 == zeros(4)\n",
    "    println(\"quitting\")\n",
    "else\n",
    "    q2 = qt2/norm(qt2);\n",
    "end\n",
    "norm(q2)"
   ]
  },
  {
   "cell_type": "markdown",
   "metadata": {},
   "source": [
    "## iteration $i=3$"
   ]
  },
  {
   "cell_type": "code",
   "execution_count": 17,
   "metadata": {},
   "outputs": [
    {
     "data": {
      "text/plain": [
       "1.0"
      ]
     },
     "execution_count": 17,
     "metadata": {},
     "output_type": "execute_result"
    }
   ],
   "source": [
    "qt3 = a3 - (q1'*a3)*q1 - (q2'*a3)*q2 ;\n",
    "if qt3 == zeros(4) #tempted to write norm(qt3) < 10^-9\n",
    "    println(\"quitting\")\n",
    "else\n",
    "    q3 = qt3/norm(qt3);\n",
    "end\n",
    "norm(q3)"
   ]
  },
  {
   "cell_type": "code",
   "execution_count": 22,
   "metadata": {},
   "outputs": [
    {
     "data": {
      "text/plain": [
       "3-element Array{Array{Float64,1},1}:\n",
       " [-0.5, 0.5, -0.5, 0.5]\n",
       " [0.5, 0.5, 0.5, 0.5]  \n",
       " [-0.5, -0.5, 0.5, 0.5]"
      ]
     },
     "execution_count": 22,
     "metadata": {},
     "output_type": "execute_result"
    }
   ],
   "source": [
    "outputVecs =[q1,q2,q3]"
   ]
  },
  {
   "cell_type": "code",
   "execution_count": 19,
   "metadata": {},
   "outputs": [
    {
     "data": {
      "text/plain": [
       "0.0"
      ]
     },
     "execution_count": 19,
     "metadata": {},
     "output_type": "execute_result"
    }
   ],
   "source": [
    "q1'*q3"
   ]
  },
  {
   "cell_type": "code",
   "execution_count": 20,
   "metadata": {},
   "outputs": [
    {
     "data": {
      "text/plain": [
       "0.0"
      ]
     },
     "execution_count": 20,
     "metadata": {},
     "output_type": "execute_result"
    }
   ],
   "source": [
    "q1'*q2"
   ]
  },
  {
   "cell_type": "code",
   "execution_count": 21,
   "metadata": {},
   "outputs": [
    {
     "data": {
      "text/plain": [
       "0.0"
      ]
     },
     "execution_count": 21,
     "metadata": {},
     "output_type": "execute_result"
    }
   ],
   "source": [
    "q2'*q3"
   ]
  },
  {
   "cell_type": "code",
   "execution_count": 23,
   "metadata": {},
   "outputs": [
    {
     "data": {
      "text/plain": [
       "3-element Array{Float64,1}:\n",
       " 1.0\n",
       " 1.0\n",
       " 1.0"
      ]
     },
     "execution_count": 23,
     "metadata": {},
     "output_type": "execute_result"
    }
   ],
   "source": [
    "norm.(outputVecs)"
   ]
  },
  {
   "cell_type": "code",
   "execution_count": 24,
   "metadata": {},
   "outputs": [
    {
     "name": "stdout",
     "output_type": "stream",
     "text": [
      "search: \u001b[0m\u001b[1mq\u001b[22m\u001b[0m\u001b[1mr\u001b[22m \u001b[0m\u001b[1mq\u001b[22m\u001b[0m\u001b[1mr\u001b[22m! \u001b[0m\u001b[1mQ\u001b[22m\u001b[0m\u001b[1mR\u001b[22m \u001b[0m\u001b[1mQ\u001b[22m\u001b[0m\u001b[1mR\u001b[22mPivoted s\u001b[0m\u001b[1mq\u001b[22m\u001b[0m\u001b[1mr\u001b[22mt is\u001b[0m\u001b[1mq\u001b[22m\u001b[0m\u001b[1mr\u001b[22mt \u001b[0m\u001b[1mQ\u001b[22muickSo\u001b[0m\u001b[1mr\u001b[22mt Partial\u001b[0m\u001b[1mQ\u001b[22muickSo\u001b[0m\u001b[1mr\u001b[22mt\n",
      "\n"
     ]
    },
    {
     "data": {
      "text/latex": [
       "\\begin{verbatim}\n",
       "qr(A, pivot=Val(false)) -> F\n",
       "\\end{verbatim}\n",
       "Compute the QR factorization of the matrix \\texttt{A}: an orthogonal (or unitary if \\texttt{A} is complex-valued) matrix \\texttt{Q}, and an upper triangular matrix \\texttt{R} such that\n",
       "\n",
       "$$A = Q R$$\n",
       "The returned object \\texttt{F} stores the factorization in a packed format:\n",
       "\n",
       "\\begin{itemize}\n",
       "\\item if \\texttt{pivot == Val(true)} then \\texttt{F} is a \\href{@ref}{\\texttt{QRPivoted}} object,\n",
       "\n",
       "\n",
       "\\item otherwise if the element type of \\texttt{A} is a BLAS type (\\href{@ref}{\\texttt{Float32}}, \\href{@ref}{\\texttt{Float64}}, \\texttt{ComplexF32} or \\texttt{ComplexF64}), then \\texttt{F} is a \\href{@ref}{\\texttt{QRCompactWY}} object,\n",
       "\n",
       "\n",
       "\\item otherwise \\texttt{F} is a \\href{@ref}{\\texttt{QR}} object.\n",
       "\n",
       "\\end{itemize}\n",
       "The individual components of the decomposition \\texttt{F} can be retrieved via property accessors:\n",
       "\n",
       "\\begin{itemize}\n",
       "\\item \\texttt{F.Q}: the orthogonal/unitary matrix \\texttt{Q}\n",
       "\n",
       "\n",
       "\\item \\texttt{F.R}: the upper triangular matrix \\texttt{R}\n",
       "\n",
       "\n",
       "\\item \\texttt{F.p}: the permutation vector of the pivot (\\href{@ref}{\\texttt{QRPivoted}} only)\n",
       "\n",
       "\n",
       "\\item \\texttt{F.P}: the permutation matrix of the pivot (\\href{@ref}{\\texttt{QRPivoted}} only)\n",
       "\n",
       "\\end{itemize}\n",
       "Iterating the decomposition produces the components \\texttt{Q}, \\texttt{R}, and if extant \\texttt{p}.\n",
       "\n",
       "The following functions are available for the \\texttt{QR} objects: \\href{@ref}{\\texttt{inv}}, \\href{@ref}{\\texttt{size}}, and \\href{@ref}{\\texttt{{\\textbackslash}}}. When \\texttt{A} is rectangular, \\texttt{{\\textbackslash}} will return a least squares solution and if the solution is not unique, the one with smallest norm is returned. When \\texttt{A} is not full rank, factorization with (column) pivoting is required to obtain a minimum norm solution.\n",
       "\n",
       "Multiplication with respect to either full/square or non-full/square \\texttt{Q} is allowed, i.e. both \\texttt{F.Q*F.R} and \\texttt{F.Q*A} are supported. A \\texttt{Q} matrix can be converted into a regular matrix with \\href{@ref}{\\texttt{Matrix}}.  This operation returns the \"thin\" Q factor, i.e., if \\texttt{A} is \\texttt{m}×\\texttt{n} with \\texttt{m>=n}, then \\texttt{Matrix(F.Q)} yields an \\texttt{m}×\\texttt{n} matrix with orthonormal columns.  To retrieve the \"full\" Q factor, an \\texttt{m}×\\texttt{m} orthogonal matrix, use \\texttt{F.Q*Matrix(I,m,m)}.  If \\texttt{m<=n}, then \\texttt{Matrix(F.Q)} yields an \\texttt{m}×\\texttt{m} orthogonal matrix.\n",
       "\n",
       "\\section{Examples}\n",
       "\\begin{verbatim}\n",
       "julia> A = [3.0 -6.0; 4.0 -8.0; 0.0 1.0]\n",
       "3×2 Array{Float64,2}:\n",
       " 3.0  -6.0\n",
       " 4.0  -8.0\n",
       " 0.0   1.0\n",
       "\n",
       "julia> F = qr(A)\n",
       "LinearAlgebra.QRCompactWY{Float64,Array{Float64,2}}\n",
       "Q factor:\n",
       "3×3 LinearAlgebra.QRCompactWYQ{Float64,Array{Float64,2}}:\n",
       " -0.6   0.0   0.8\n",
       " -0.8   0.0  -0.6\n",
       "  0.0  -1.0   0.0\n",
       "R factor:\n",
       "2×2 Array{Float64,2}:\n",
       " -5.0  10.0\n",
       "  0.0  -1.0\n",
       "\n",
       "julia> F.Q * F.R == A\n",
       "true\n",
       "\\end{verbatim}\n",
       "\\begin{quote}\n",
       "\\textbf{note}\n",
       "\n",
       "Note\n",
       "\n",
       "\\texttt{qr} returns multiple types because LAPACK uses several representations that minimize the memory storage requirements of products of Householder elementary reflectors, so that the \\texttt{Q} and \\texttt{R} matrices can be stored compactly rather as two separate dense matrices.\n",
       "\n",
       "\\end{quote}\n",
       "\\rule{\\textwidth}{1pt}\n",
       "\\begin{verbatim}\n",
       "qr(A) -> QRSparse\n",
       "\\end{verbatim}\n",
       "Compute the \\texttt{QR} factorization of a sparse matrix \\texttt{A}. Fill-reducing row and column permutations are used such that \\texttt{F.R = F.Q'*A[F.prow,F.pcol]}. The main application of this type is to solve least squares or underdetermined problems with \\href{@ref}{\\texttt{{\\textbackslash}}}. The function calls the C library SPQR.\n",
       "\n",
       "\\section{Examples}\n",
       "\\begin{verbatim}\n",
       "julia> A = sparse([1,2,3,4], [1,1,2,2], [1.0,1.0,1.0,1.0])\n",
       "4×2 SparseMatrixCSC{Float64,Int64} with 4 stored entries:\n",
       "  [1, 1]  =  1.0\n",
       "  [2, 1]  =  1.0\n",
       "  [3, 2]  =  1.0\n",
       "  [4, 2]  =  1.0\n",
       "\n",
       "julia> qr(A)\n",
       "Base.SparseArrays.SPQR.QRSparse{Float64,Int64}\n",
       "Q factor:\n",
       "4×4 Base.SparseArrays.SPQR.QRSparseQ{Float64,Int64}:\n",
       " -0.707107   0.0        0.0       -0.707107\n",
       "  0.0       -0.707107  -0.707107   0.0\n",
       "  0.0       -0.707107   0.707107   0.0\n",
       " -0.707107   0.0        0.0        0.707107\n",
       "R factor:\n",
       "2×2 SparseMatrixCSC{Float64,Int64} with 2 stored entries:\n",
       "  [1, 1]  =  -1.41421\n",
       "  [2, 2]  =  -1.41421\n",
       "Row permutation:\n",
       "4-element Array{Int64,1}:\n",
       " 1\n",
       " 3\n",
       " 4\n",
       " 2\n",
       "Column permutation:\n",
       "2-element Array{Int64,1}:\n",
       " 1\n",
       " 2\n",
       "\\end{verbatim}\n"
      ],
      "text/markdown": [
       "```\n",
       "qr(A, pivot=Val(false)) -> F\n",
       "```\n",
       "\n",
       "Compute the QR factorization of the matrix `A`: an orthogonal (or unitary if `A` is complex-valued) matrix `Q`, and an upper triangular matrix `R` such that\n",
       "\n",
       "$$\n",
       "A = Q R\n",
       "$$\n",
       "\n",
       "The returned object `F` stores the factorization in a packed format:\n",
       "\n",
       "  * if `pivot == Val(true)` then `F` is a [`QRPivoted`](@ref) object,\n",
       "  * otherwise if the element type of `A` is a BLAS type ([`Float32`](@ref), [`Float64`](@ref), `ComplexF32` or `ComplexF64`), then `F` is a [`QRCompactWY`](@ref) object,\n",
       "  * otherwise `F` is a [`QR`](@ref) object.\n",
       "\n",
       "The individual components of the decomposition `F` can be retrieved via property accessors:\n",
       "\n",
       "  * `F.Q`: the orthogonal/unitary matrix `Q`\n",
       "  * `F.R`: the upper triangular matrix `R`\n",
       "  * `F.p`: the permutation vector of the pivot ([`QRPivoted`](@ref) only)\n",
       "  * `F.P`: the permutation matrix of the pivot ([`QRPivoted`](@ref) only)\n",
       "\n",
       "Iterating the decomposition produces the components `Q`, `R`, and if extant `p`.\n",
       "\n",
       "The following functions are available for the `QR` objects: [`inv`](@ref), [`size`](@ref), and [`\\`](@ref). When `A` is rectangular, `\\` will return a least squares solution and if the solution is not unique, the one with smallest norm is returned. When `A` is not full rank, factorization with (column) pivoting is required to obtain a minimum norm solution.\n",
       "\n",
       "Multiplication with respect to either full/square or non-full/square `Q` is allowed, i.e. both `F.Q*F.R` and `F.Q*A` are supported. A `Q` matrix can be converted into a regular matrix with [`Matrix`](@ref).  This operation returns the \"thin\" Q factor, i.e., if `A` is `m`×`n` with `m>=n`, then `Matrix(F.Q)` yields an `m`×`n` matrix with orthonormal columns.  To retrieve the \"full\" Q factor, an `m`×`m` orthogonal matrix, use `F.Q*Matrix(I,m,m)`.  If `m<=n`, then `Matrix(F.Q)` yields an `m`×`m` orthogonal matrix.\n",
       "\n",
       "# Examples\n",
       "\n",
       "```jldoctest\n",
       "julia> A = [3.0 -6.0; 4.0 -8.0; 0.0 1.0]\n",
       "3×2 Array{Float64,2}:\n",
       " 3.0  -6.0\n",
       " 4.0  -8.0\n",
       " 0.0   1.0\n",
       "\n",
       "julia> F = qr(A)\n",
       "LinearAlgebra.QRCompactWY{Float64,Array{Float64,2}}\n",
       "Q factor:\n",
       "3×3 LinearAlgebra.QRCompactWYQ{Float64,Array{Float64,2}}:\n",
       " -0.6   0.0   0.8\n",
       " -0.8   0.0  -0.6\n",
       "  0.0  -1.0   0.0\n",
       "R factor:\n",
       "2×2 Array{Float64,2}:\n",
       " -5.0  10.0\n",
       "  0.0  -1.0\n",
       "\n",
       "julia> F.Q * F.R == A\n",
       "true\n",
       "```\n",
       "\n",
       "!!! note\n",
       "    `qr` returns multiple types because LAPACK uses several representations that minimize the memory storage requirements of products of Householder elementary reflectors, so that the `Q` and `R` matrices can be stored compactly rather as two separate dense matrices.\n",
       "\n",
       "\n",
       "---\n",
       "\n",
       "```\n",
       "qr(A) -> QRSparse\n",
       "```\n",
       "\n",
       "Compute the `QR` factorization of a sparse matrix `A`. Fill-reducing row and column permutations are used such that `F.R = F.Q'*A[F.prow,F.pcol]`. The main application of this type is to solve least squares or underdetermined problems with [`\\`](@ref). The function calls the C library SPQR.\n",
       "\n",
       "# Examples\n",
       "\n",
       "```jldoctest\n",
       "julia> A = sparse([1,2,3,4], [1,1,2,2], [1.0,1.0,1.0,1.0])\n",
       "4×2 SparseMatrixCSC{Float64,Int64} with 4 stored entries:\n",
       "  [1, 1]  =  1.0\n",
       "  [2, 1]  =  1.0\n",
       "  [3, 2]  =  1.0\n",
       "  [4, 2]  =  1.0\n",
       "\n",
       "julia> qr(A)\n",
       "Base.SparseArrays.SPQR.QRSparse{Float64,Int64}\n",
       "Q factor:\n",
       "4×4 Base.SparseArrays.SPQR.QRSparseQ{Float64,Int64}:\n",
       " -0.707107   0.0        0.0       -0.707107\n",
       "  0.0       -0.707107  -0.707107   0.0\n",
       "  0.0       -0.707107   0.707107   0.0\n",
       " -0.707107   0.0        0.0        0.707107\n",
       "R factor:\n",
       "2×2 SparseMatrixCSC{Float64,Int64} with 2 stored entries:\n",
       "  [1, 1]  =  -1.41421\n",
       "  [2, 2]  =  -1.41421\n",
       "Row permutation:\n",
       "4-element Array{Int64,1}:\n",
       " 1\n",
       " 3\n",
       " 4\n",
       " 2\n",
       "Column permutation:\n",
       "2-element Array{Int64,1}:\n",
       " 1\n",
       " 2\n",
       "```\n"
      ],
      "text/plain": [
       "\u001b[36m  qr(A, pivot=Val(false)) -> F\u001b[39m\n",
       "\n",
       "  Compute the QR factorization of the matrix \u001b[36mA\u001b[39m: an orthogonal (or unitary if \u001b[36mA\u001b[39m\n",
       "  is complex-valued) matrix \u001b[36mQ\u001b[39m, and an upper triangular matrix \u001b[36mR\u001b[39m such that\n",
       "\n",
       "\u001b[35mA = Q R\u001b[39m\n",
       "\n",
       "  The returned object \u001b[36mF\u001b[39m stores the factorization in a packed format:\n",
       "\n",
       "    •    if \u001b[36mpivot == Val(true)\u001b[39m then \u001b[36mF\u001b[39m is a \u001b[36mQRPivoted\u001b[39m object,\n",
       "\n",
       "    •    otherwise if the element type of \u001b[36mA\u001b[39m is a BLAS type (\u001b[36mFloat32\u001b[39m,\n",
       "        \u001b[36mFloat64\u001b[39m, \u001b[36mComplexF32\u001b[39m or \u001b[36mComplexF64\u001b[39m), then \u001b[36mF\u001b[39m is a \u001b[36mQRCompactWY\u001b[39m\n",
       "        object,\n",
       "\n",
       "    •    otherwise \u001b[36mF\u001b[39m is a \u001b[36mQR\u001b[39m object.\n",
       "\n",
       "  The individual components of the decomposition \u001b[36mF\u001b[39m can be retrieved via\n",
       "  property accessors:\n",
       "\n",
       "    •    \u001b[36mF.Q\u001b[39m: the orthogonal/unitary matrix \u001b[36mQ\u001b[39m\n",
       "\n",
       "    •    \u001b[36mF.R\u001b[39m: the upper triangular matrix \u001b[36mR\u001b[39m\n",
       "\n",
       "    •    \u001b[36mF.p\u001b[39m: the permutation vector of the pivot (\u001b[36mQRPivoted\u001b[39m only)\n",
       "\n",
       "    •    \u001b[36mF.P\u001b[39m: the permutation matrix of the pivot (\u001b[36mQRPivoted\u001b[39m only)\n",
       "\n",
       "  Iterating the decomposition produces the components \u001b[36mQ\u001b[39m, \u001b[36mR\u001b[39m, and if extant \u001b[36mp\u001b[39m.\n",
       "\n",
       "  The following functions are available for the \u001b[36mQR\u001b[39m objects: \u001b[36minv\u001b[39m, \u001b[36msize\u001b[39m, and \u001b[36m\\\u001b[39m.\n",
       "  When \u001b[36mA\u001b[39m is rectangular, \u001b[36m\\\u001b[39m will return a least squares solution and if the\n",
       "  solution is not unique, the one with smallest norm is returned. When \u001b[36mA\u001b[39m is\n",
       "  not full rank, factorization with (column) pivoting is required to obtain a\n",
       "  minimum norm solution.\n",
       "\n",
       "  Multiplication with respect to either full/square or non-full/square \u001b[36mQ\u001b[39m is\n",
       "  allowed, i.e. both \u001b[36mF.Q*F.R\u001b[39m and \u001b[36mF.Q*A\u001b[39m are supported. A \u001b[36mQ\u001b[39m matrix can be\n",
       "  converted into a regular matrix with \u001b[36mMatrix\u001b[39m. This operation returns the\n",
       "  \"thin\" Q factor, i.e., if \u001b[36mA\u001b[39m is \u001b[36mm\u001b[39m×\u001b[36mn\u001b[39m with \u001b[36mm>=n\u001b[39m, then \u001b[36mMatrix(F.Q)\u001b[39m yields an \u001b[36mm\u001b[39m×\u001b[36mn\u001b[39m\n",
       "  matrix with orthonormal columns. To retrieve the \"full\" Q factor, an \u001b[36mm\u001b[39m×\u001b[36mm\u001b[39m\n",
       "  orthogonal matrix, use \u001b[36mF.Q*Matrix(I,m,m)\u001b[39m. If \u001b[36mm<=n\u001b[39m, then \u001b[36mMatrix(F.Q)\u001b[39m yields\n",
       "  an \u001b[36mm\u001b[39m×\u001b[36mm\u001b[39m orthogonal matrix.\n",
       "\n",
       "\u001b[1m  Examples\u001b[22m\n",
       "\u001b[1m  ≡≡≡≡≡≡≡≡≡≡\u001b[22m\n",
       "\n",
       "\u001b[36m  julia> A = [3.0 -6.0; 4.0 -8.0; 0.0 1.0]\u001b[39m\n",
       "\u001b[36m  3×2 Array{Float64,2}:\u001b[39m\n",
       "\u001b[36m   3.0  -6.0\u001b[39m\n",
       "\u001b[36m   4.0  -8.0\u001b[39m\n",
       "\u001b[36m   0.0   1.0\u001b[39m\n",
       "\u001b[36m  \u001b[39m\n",
       "\u001b[36m  julia> F = qr(A)\u001b[39m\n",
       "\u001b[36m  LinearAlgebra.QRCompactWY{Float64,Array{Float64,2}}\u001b[39m\n",
       "\u001b[36m  Q factor:\u001b[39m\n",
       "\u001b[36m  3×3 LinearAlgebra.QRCompactWYQ{Float64,Array{Float64,2}}:\u001b[39m\n",
       "\u001b[36m   -0.6   0.0   0.8\u001b[39m\n",
       "\u001b[36m   -0.8   0.0  -0.6\u001b[39m\n",
       "\u001b[36m    0.0  -1.0   0.0\u001b[39m\n",
       "\u001b[36m  R factor:\u001b[39m\n",
       "\u001b[36m  2×2 Array{Float64,2}:\u001b[39m\n",
       "\u001b[36m   -5.0  10.0\u001b[39m\n",
       "\u001b[36m    0.0  -1.0\u001b[39m\n",
       "\u001b[36m  \u001b[39m\n",
       "\u001b[36m  julia> F.Q * F.R == A\u001b[39m\n",
       "\u001b[36m  true\u001b[39m\n",
       "\n",
       "\u001b[36m\u001b[1m  │ \u001b[22m\u001b[39m\u001b[36m\u001b[1mNote\u001b[22m\u001b[39m\n",
       "\u001b[36m\u001b[1m  │\u001b[22m\u001b[39m\n",
       "\u001b[36m\u001b[1m  │\u001b[22m\u001b[39m  \u001b[36mqr\u001b[39m returns multiple types because LAPACK uses several\n",
       "\u001b[36m\u001b[1m  │\u001b[22m\u001b[39m  representations that minimize the memory storage requirements of\n",
       "\u001b[36m\u001b[1m  │\u001b[22m\u001b[39m  products of Householder elementary reflectors, so that the \u001b[36mQ\u001b[39m and \u001b[36mR\u001b[39m\n",
       "\u001b[36m\u001b[1m  │\u001b[22m\u001b[39m  matrices can be stored compactly rather as two separate dense\n",
       "\u001b[36m\u001b[1m  │\u001b[22m\u001b[39m  matrices.\n",
       "\n",
       "  ────────────────────────────────────────────────────────────────────────────\n",
       "\n",
       "\u001b[36m  qr(A) -> QRSparse\u001b[39m\n",
       "\n",
       "  Compute the \u001b[36mQR\u001b[39m factorization of a sparse matrix \u001b[36mA\u001b[39m. Fill-reducing row and\n",
       "  column permutations are used such that \u001b[36mF.R = F.Q'*A[F.prow,F.pcol]\u001b[39m. The main\n",
       "  application of this type is to solve least squares or underdetermined\n",
       "  problems with \u001b[36m\\\u001b[39m. The function calls the C library SPQR.\n",
       "\n",
       "\u001b[1m  Examples\u001b[22m\n",
       "\u001b[1m  ≡≡≡≡≡≡≡≡≡≡\u001b[22m\n",
       "\n",
       "\u001b[36m  julia> A = sparse([1,2,3,4], [1,1,2,2], [1.0,1.0,1.0,1.0])\u001b[39m\n",
       "\u001b[36m  4×2 SparseMatrixCSC{Float64,Int64} with 4 stored entries:\u001b[39m\n",
       "\u001b[36m    [1, 1]  =  1.0\u001b[39m\n",
       "\u001b[36m    [2, 1]  =  1.0\u001b[39m\n",
       "\u001b[36m    [3, 2]  =  1.0\u001b[39m\n",
       "\u001b[36m    [4, 2]  =  1.0\u001b[39m\n",
       "\u001b[36m  \u001b[39m\n",
       "\u001b[36m  julia> qr(A)\u001b[39m\n",
       "\u001b[36m  Base.SparseArrays.SPQR.QRSparse{Float64,Int64}\u001b[39m\n",
       "\u001b[36m  Q factor:\u001b[39m\n",
       "\u001b[36m  4×4 Base.SparseArrays.SPQR.QRSparseQ{Float64,Int64}:\u001b[39m\n",
       "\u001b[36m   -0.707107   0.0        0.0       -0.707107\u001b[39m\n",
       "\u001b[36m    0.0       -0.707107  -0.707107   0.0\u001b[39m\n",
       "\u001b[36m    0.0       -0.707107   0.707107   0.0\u001b[39m\n",
       "\u001b[36m   -0.707107   0.0        0.0        0.707107\u001b[39m\n",
       "\u001b[36m  R factor:\u001b[39m\n",
       "\u001b[36m  2×2 SparseMatrixCSC{Float64,Int64} with 2 stored entries:\u001b[39m\n",
       "\u001b[36m    [1, 1]  =  -1.41421\u001b[39m\n",
       "\u001b[36m    [2, 2]  =  -1.41421\u001b[39m\n",
       "\u001b[36m  Row permutation:\u001b[39m\n",
       "\u001b[36m  4-element Array{Int64,1}:\u001b[39m\n",
       "\u001b[36m   1\u001b[39m\n",
       "\u001b[36m   3\u001b[39m\n",
       "\u001b[36m   4\u001b[39m\n",
       "\u001b[36m   2\u001b[39m\n",
       "\u001b[36m  Column permutation:\u001b[39m\n",
       "\u001b[36m  2-element Array{Int64,1}:\u001b[39m\n",
       "\u001b[36m   1\u001b[39m\n",
       "\u001b[36m   2\u001b[39m"
      ]
     },
     "execution_count": 24,
     "metadata": {},
     "output_type": "execute_result"
    }
   ],
   "source": [
    "? qr"
   ]
  },
  {
   "cell_type": "code",
   "execution_count": 25,
   "metadata": {},
   "outputs": [
    {
     "data": {
      "text/plain": [
       "11×3 Array{Float64,2}:\n",
       " 0.00800283  0.515493    0.704693 \n",
       " 0.979179    0.670974    0.656131 \n",
       " 0.439274    0.923024    0.909621 \n",
       " 0.662374    0.351206    0.117884 \n",
       " 0.574122    0.687957    0.637417 \n",
       " 0.952484    0.777679    0.451652 \n",
       " 0.883576    0.347535    0.363736 \n",
       " 0.531774    0.00666912  0.0795057\n",
       " 0.144952    0.588495    0.125178 \n",
       " 0.124838    0.265854    0.691758 \n",
       " 0.282884    0.112721    0.368291 "
      ]
     },
     "execution_count": 25,
     "metadata": {},
     "output_type": "execute_result"
    }
   ],
   "source": [
    "A = rand(100,100);\n",
    "A[20:30,57:59]"
   ]
  },
  {
   "cell_type": "code",
   "execution_count": 58,
   "metadata": {},
   "outputs": [
    {
     "data": {
      "image/png": "[encoded data removed]"
     },
     "execution_count": 58,
     "metadata": {},
     "output_type": "execute_result"
    }
   ],
   "source": [
    "using Plots\n",
    "pyplot()\n",
    "heatmap(0.2*rand(10,10) +I,flip=true)"
   ]
  },
  {
   "cell_type": "code",
   "execution_count": 38,
   "metadata": {},
   "outputs": [
    {
     "data": {
      "text/plain": [
       "100×100 Array{Float64,2}:\n",
       " 1.4451    0.450245   1.04462    2.35864   …  1.82197    0.531689   0.774033 \n",
       " 0.075748  3.47707    0.655738   2.39293      2.5825     1.34163    0.0951183\n",
       " 2.68111   2.66512    1.6107     2.1033       0.418553   2.72548    1.43921  \n",
       " 1.52792   0.207849   2.5715     2.61369      1.70904    2.93514    0.306541 \n",
       " 1.06758   1.34929    1.17592    0.613227     2.93976    0.425936   1.08029  \n",
       " 2.87142   1.41549    1.05218    1.91097   …  0.161132   0.2399     1.25634  \n",
       " 1.2825    2.09777    1.22595    1.39392      1.18245    1.3394     2.47982  \n",
       " 2.77639   2.99343    1.90564    2.72076      1.03428    1.7002     2.13402  \n",
       " 0.921018  2.42009    0.343931   0.736996     0.0818679  1.16698    1.70898  \n",
       " 1.88166   2.44284    0.722186   2.36846      1.22919    1.81069    2.20635  \n",
       " 1.14673   2.05183    2.06666    0.346422  …  2.11489    1.55503    2.0055   \n",
       " 1.2658    1.13002    1.54586    1.46075      0.603891   0.648169   2.12329  \n",
       " 2.30082   2.96504    0.022763   2.84039      0.296824   2.5228     0.732585 \n",
       " ⋮                                         ⋱                                 \n",
       " 0.707541  1.33776    0.0778151  0.745117     2.76341    0.440175   0.510572 \n",
       " 2.93339   0.870875   2.0821     2.77029      1.24872    2.80857    2.57622  \n",
       " 0.82381   1.66311    2.58952    1.6265    …  2.02925    2.95614    0.0434266\n",
       " 1.50149   2.10802    0.736949   0.706642     0.95647    1.56608    1.60112  \n",
       " 0.677464  0.0968389  2.65236    2.23118      0.716778   1.77929    1.86947  \n",
       " 1.43553   0.585535   2.55933    1.57532      2.707      1.29321    2.98943  \n",
       " 1.57249   0.571753   1.75365    1.20296      2.71815    1.12035    1.49216  \n",
       " 0.130127  2.33132    2.28418    2.02418   …  1.14951    1.5557     0.374956 \n",
       " 0.736017  2.63845    1.05478    0.139887     0.848885   1.43141    1.17784  \n",
       " 1.88035   2.12074    0.432354   2.54619      3.09142    2.26871    1.17138  \n",
       " 0.475391  2.52446    0.943832   2.94387      0.843055   2.35895    2.94223  \n",
       " 2.19809   2.71588    2.69421    0.739479     2.90879    0.0858708  1.13766  "
      ]
     },
     "execution_count": 38,
     "metadata": {},
     "output_type": "execute_result"
    }
   ],
   "source": [
    "(A+A)+(I+A)"
   ]
  },
  {
   "cell_type": "code",
   "execution_count": 41,
   "metadata": {},
   "outputs": [
    {
     "data": {
      "image/png": "[encoded data removed]"
     },
     "execution_count": 41,
     "metadata": {},
     "output_type": "execute_result"
    }
   ],
   "source": [
    "histogram(A*ones(100))"
   ]
  },
  {
   "cell_type": "code",
   "execution_count": 48,
   "metadata": {},
   "outputs": [],
   "source": [
    "maximum(A)\n",
    "A[2,3] = 150;"
   ]
  },
  {
   "cell_type": "code",
   "execution_count": 49,
   "metadata": {},
   "outputs": [
    {
     "data": {
      "text/plain": [
       "100-element Array{Float64,1}:\n",
       "   108.07231307659697 \n",
       " 36324.79234206062    \n",
       "    73.58825231268395 \n",
       "   227.8858571762353  \n",
       "   118.88951379973757 \n",
       "   107.5289190055551  \n",
       "   124.04968285989185 \n",
       "   178.4760257072387  \n",
       "    50.770633222524815\n",
       "    83.20443093062607 \n",
       "   189.6747583910869  \n",
       "   149.20355481314746 \n",
       "    24.590390028574745\n",
       "     ⋮                \n",
       "    32.28306408723849 \n",
       "   192.1132904405009  \n",
       "   232.81205099133066 \n",
       "    86.67924005947502 \n",
       "   238.16770293657478 \n",
       "   232.17031073145455 \n",
       "   167.79164721504603 \n",
       "   208.3703045021664  \n",
       "   111.20445382146872 \n",
       "    62.87832640737124 \n",
       "   102.66146453707483 \n",
       "   242.50779979635115 "
      ]
     },
     "execution_count": 49,
     "metadata": {},
     "output_type": "execute_result"
    }
   ],
   "source": [
    "x = rand(100);\n",
    "x[3] =242;\n",
    "A*x"
   ]
  },
  {
   "cell_type": "code",
   "execution_count": 59,
   "metadata": {},
   "outputs": [
    {
     "data": {
      "text/plain": [
       "5-element Array{Int64,1}:\n",
       "  1\n",
       "  3\n",
       "  6\n",
       " 10\n",
       " 15"
      ]
     },
     "execution_count": 59,
     "metadata": {},
     "output_type": "execute_result"
    }
   ],
   "source": [
    "data = [1,2,3,4,5];\n",
    "accumulate(+,data)"
   ]
  },
  {
   "cell_type": "code",
   "execution_count": 62,
   "metadata": {},
   "outputs": [
    {
     "data": {
      "text/plain": [
       "5×5 Array{Int64,2}:\n",
       " 1  0  0  0  0\n",
       " 1  1  0  0  0\n",
       " 1  1  1  0  0\n",
       " 1  1  1  1  0\n",
       " 1  1  1  1  1"
      ]
     },
     "execution_count": 62,
     "metadata": {},
     "output_type": "execute_result"
    }
   ],
   "source": [
    "A = [i>=j ? 1 : 0 for i in 1:5, j in 1:5]"
   ]
  },
  {
   "cell_type": "code",
   "execution_count": 63,
   "metadata": {},
   "outputs": [
    {
     "data": {
      "text/plain": [
       "5-element Array{Int64,1}:\n",
       "  1\n",
       "  3\n",
       "  6\n",
       " 10\n",
       " 15"
      ]
     },
     "execution_count": 63,
     "metadata": {},
     "output_type": "execute_result"
    }
   ],
   "source": [
    "A*data"
   ]
  },
  {
   "cell_type": "code",
   "execution_count": 64,
   "metadata": {},
   "outputs": [
    {
     "data": {
      "text/plain": [
       "5-element Array{Int64,1}:\n",
       "   1\n",
       "   2\n",
       "   6\n",
       "  24\n",
       " 120"
      ]
     },
     "execution_count": 64,
     "metadata": {},
     "output_type": "execute_result"
    }
   ],
   "source": [
    "accumulate(*,data)"
   ]
  },
  {
   "cell_type": "code",
   "execution_count": 65,
   "metadata": {},
   "outputs": [
    {
     "data": {
      "text/plain": [
       "120"
      ]
     },
     "execution_count": 65,
     "metadata": {},
     "output_type": "execute_result"
    }
   ],
   "source": [
    "factorial(5)"
   ]
  },
  {
   "cell_type": "code",
   "execution_count": 68,
   "metadata": {},
   "outputs": [],
   "source": [
    "using Statistics"
   ]
  },
  {
   "cell_type": "code",
   "execution_count": 70,
   "metadata": {},
   "outputs": [
    {
     "data": {
      "text/plain": [
       "5-element Array{Float64,1}:\n",
       " -2.0\n",
       " -1.0\n",
       "  0.0\n",
       "  1.0\n",
       "  2.0"
      ]
     },
     "execution_count": 70,
     "metadata": {},
     "output_type": "execute_result"
    }
   ],
   "source": [
    "dataC = data .- mean(data)"
   ]
  },
  {
   "cell_type": "code",
   "execution_count": 71,
   "metadata": {},
   "outputs": [
    {
     "data": {
      "text/plain": [
       "0.0"
      ]
     },
     "execution_count": 71,
     "metadata": {},
     "output_type": "execute_result"
    }
   ],
   "source": [
    "mean(dataC)"
   ]
  },
  {
   "cell_type": "code",
   "execution_count": 72,
   "metadata": {},
   "outputs": [
    {
     "data": {
      "text/plain": [
       "5×5 Array{Float64,2}:\n",
       "  0.8  -0.2  -0.2  -0.2  -0.2\n",
       " -0.2   0.8  -0.2  -0.2  -0.2\n",
       " -0.2  -0.2   0.8  -0.2  -0.2\n",
       " -0.2  -0.2  -0.2   0.8  -0.2\n",
       " -0.2  -0.2  -0.2  -0.2   0.8"
      ]
     },
     "execution_count": 72,
     "metadata": {},
     "output_type": "execute_result"
    }
   ],
   "source": [
    "dmA = I - (1/5)*ones(5,5)"
   ]
  },
  {
   "cell_type": "code",
   "execution_count": 73,
   "metadata": {},
   "outputs": [
    {
     "data": {
      "text/plain": [
       "5-element Array{Float64,1}:\n",
       " -2.0\n",
       " -1.0\n",
       "  0.0\n",
       "  1.0\n",
       "  2.0"
      ]
     },
     "execution_count": 73,
     "metadata": {},
     "output_type": "execute_result"
    }
   ],
   "source": [
    "dmA*data"
   ]
  },
  {
   "cell_type": "code",
   "execution_count": 74,
   "metadata": {},
   "outputs": [
    {
     "data": {
      "text/plain": [
       "5-element Array{Int64,1}:\n",
       " 1\n",
       " 2\n",
       " 3\n",
       " 4\n",
       " 5"
      ]
     },
     "execution_count": 74,
     "metadata": {},
     "output_type": "execute_result"
    }
   ],
   "source": [
    "sort(data)"
   ]
  },
  {
   "cell_type": "code",
   "execution_count": null,
   "metadata": {},
   "outputs": [],
   "source": []
  }
 ],
 "metadata": {
  "kernelspec": {
   "display_name": "Julia 1.1.1",
   "language": "julia",
   "name": "julia-1.1"
  },
  "language_info": {
   "file_extension": ".jl",
   "mimetype": "application/julia",
   "name": "julia",
   "version": "1.1.1"
  }
 },
 "nbformat": 4,
 "nbformat_minor": 2
}
